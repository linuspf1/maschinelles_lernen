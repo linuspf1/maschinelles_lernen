{
 "cells": [
  {
   "cell_type": "markdown",
   "metadata": {},
   "source": [
    "# Anwendung von maschinellem Lernen auf den KHK_Klassifikation.csv Datensatz\n",
    "\n",
    "## Praktische Demonstration für verschiedene machine Learning Modelle\n",
    "\n",
    "### Tim Bleicher, Linus Pfeifer\n",
    "\n",
    "Dieses Jupyter Notebook demonstriert die Anwendung von verschiedenen Machine Learning Modellen auf den KHK_Klassifikation.csv Datensatz. \n",
    "\n",
    "**Inhaltsverzeichnis:**\n",
    "- [1. Einbindung der Daten](#1-einbindung-der-daten)\n",
    "  - [1.1 explorative Analyse der Daten](#11-explorative-analyse-der-daten)\n",
    "- [2. PCA-Dimensionsreduzierung zur Visualisierung und Analyse der Daten](#2-pca-dimensionsreduzierung-zur-visualisierung-und-analyse-der-daten)\n",
    "  - [Funktionsweise von PCA](#funktionsweise-von-pca)\n",
    "  - [Lässt sich aus den PCA-Daten eine potentielle gute Separierbarkeit der Klassen ablesen?](#lässt-sich-aus-den-pca-daten-eine-potentielle-gute-separierbarkeit-der-klassen-ablesen)\n",
    "- [3. Anwendung verschiedener vorgestellter Klassifikationsverfahren](#3-anwendung-verschiedener-vorgestellter-klassifikationsverfahren)\n",
    "  - [Definition und Datenvorbereitung](#definition-und-datenvorbereitung)\n",
    "  - [3.1 logistische Regression](#31-logistische-regression)\n",
    "    - [Modell definieren und trainieren](#modell-definieren-und-trainieren)\n",
    "    - [Modell testen](#modell-testen)\n",
    "  - [3.2 Entscheidungsbäume](#32-entscheidungsbäume)\n",
    "    - [3.2.1 klassische Entscheidungsbäume](#321-klassische-entscheidungsbäume)\n",
    "    - [3.2.2 Bagging in Form von Random Forest](#322-bagging-in-form-von-random-forest)\n",
    "    - [3.2.3 Boosting in Form von AdaBoost](#323-boosting-in-form-von-adaboost)\n",
    "    - [3.2.4 Stacking](#324-stacking)\n",
    "  - [3.3 k-Nearest-Neighbor](#33-k-nearest-neighbor)\n",
    "    - [3.3.1 k-Nearest-Neighbor mit euklidischer Metrik](#331-k-nearest-neighbor-mit-euklidischer-metrik)\n",
    "    - [3.3.2 k-Nearest-Neighbor mit manhattan Metrik](#332-k-nearest-neighbor-mit-manhattan-metrik)\n",
    "    - [3.3.4 k-Nearest-Neighbor mit Minkowski Metrik und p = 3](#334-k-nearest-neighbor-mit-minkowski-metrik-und-p--3)\n",
    "  - [3.4 Support Vector Machine](#34-support-vector-machine)\n",
    "  - [3.5 Neuronales Netz](#35-neuronales-netz)"
   ]
  },
  {
   "cell_type": "markdown",
   "metadata": {},
   "source": [
    "## 1. Einbindung der Daten\n",
    "\n",
    "Zu beginn des Projekts werden die Daten zunächst geladen um diese im anschluss analysieren und nutzen zu können."
   ]
  },
  {
   "cell_type": "code",
   "execution_count": null,
   "metadata": {},
   "outputs": [],
   "source": [
    "pip install -r requirements.txt"
   ]
  },
  {
   "cell_type": "code",
   "execution_count": 1,
   "metadata": {},
   "outputs": [],
   "source": [
    "import pandas as pd\n",
    "import numpy as np\n",
    "import plotly.express as px\n",
    "import matplotlib.pyplot as plt\n",
    "from sklearn.preprocessing import LabelEncoder, StandardScaler, OneHotEncoder\n",
    "from sklearn.decomposition import PCA\n",
    "from sklearn.model_selection import train_test_split\n",
    "from sklearn.linear_model import LogisticRegression\n",
    "from sklearn.metrics import accuracy_score, classification_report\n",
    "from sklearn.compose import ColumnTransformer\n",
    "from sklearn.pipeline import Pipeline\n",
    "from sklearn.ensemble import RandomForestClassifier, AdaBoostClassifier, StackingClassifier\n",
    "from sklearn.tree import DecisionTreeClassifier\n",
    "from sklearn.svm import SVC\n",
    "from sklearn.neighbors import KNeighborsClassifier\n",
    "import tensorflow as tf\n",
    "from tensorflow.keras.models import Sequential\n",
    "from tensorflow.keras.layers import Dense"
   ]
  },
  {
   "cell_type": "code",
   "execution_count": 2,
   "metadata": {},
   "outputs": [],
   "source": [
    "data = pd.read_csv('KHK_Klassifikation.csv', sep=',')"
   ]
  },
  {
   "cell_type": "code",
   "execution_count": null,
   "metadata": {},
   "outputs": [],
   "source": [
    "print(data.head())"
   ]
  },
  {
   "cell_type": "markdown",
   "metadata": {},
   "source": [
    "### 1.1 explorative Analyse der Daten \n",
    "TODO"
   ]
  },
  {
   "cell_type": "markdown",
   "metadata": {},
   "source": [
    "## 2. PCA-Dimensionsreduzierung zur Visualisierung und Analyse der Daten "
   ]
  },
  {
   "cell_type": "markdown",
   "metadata": {},
   "source": [
    "### Funktionsweise von PCA\n",
    "Die Hauptkomponentenanalyse (PCA) dient der Dimensionsreduktion eines Datensatzes. Dies ermöglicht beispielsweise verschiedene Analyse des gesamten Datensatzes (mit mehr als 3 Dimensionen), wobei die Ergebnisse durch die Dimensionsreduktion weiterhin visualisiert werden können.\n",
    "Das Verfahren der PCA läuft nach folgendem Schema ab:\n",
    "\n",
    "1. Berechnung des Mittelwerts und Zentrierung der Daten\n",
    "2. Berechnung der Kovarianzmatrix\n",
    "3. Berechnung der Eigenwerte und Eigenvektoren\n",
    "4. Transformation der Daten\n",
    "\n",
    "Damit die PCA korrekt funktioniert, muss zunächst von jeder Dimension der Mittelwert subtrahiert werden. Dieser Mittelwert entspricht dem Durchschnittswert jeder Dimension. Beispielsweise wird von allen $x$-Werten der Mittelwert $\\overline{x}$ subtrahiert. Entsprechendes gilt für die anderen Dimensionen der Daten. Dadurch entsteht ein Datensatz mit einem Mittelwert von null.\n",
    "\n",
    "Im nächsten Schritt wird die Kovarianzmatrix berechnet, welche die wechselseitigen Zusammenhänge zwischen den Merkmalen quantifiziert. Falls zwei Merkmale stark korrelieren, können diese in einer neuen Achse kombiniert werden.\n",
    "\n",
    "Anschließend werden die Eigenwerte und Eigenvektoren der Kovarianzmatrix bestimmt. Die Eigenvektoren definieren die Richtungen der Hauptkomponenten, während die zugehörigen Eigenwerte die Bedeutung bzw. die Varianz der jeweiligen Eigenvektoren widerspiegeln.\n",
    "\n",
    "Es folgt die eigentliche Dimensionsreduktion, indem nur diejenigen Eigenvektoren mit den größten Eigenwerten ausgewählt werden. Diese Eigenvektoren entsprechen den neuen Hauptachsen des Datensatzes.\n",
    "\n",
    "Schließlich werden die Daten transformiert, indem die ursprüngliche Datenmatrix mit der Matrix der Eigenvektoren multipliziert wird. In dieser Matrix repräsentiert jede Spalte einen Eigenvektor.\n",
    "\n"
   ]
  },
  {
   "cell_type": "code",
   "execution_count": 7,
   "metadata": {},
   "outputs": [
    {
     "name": "stdout",
     "output_type": "stream",
     "text": [
      "   Alter  Geschlecht  Blutdruck  Chol  Blutzucker  EKG  HFmax  AP   RZ  KHK\n",
      "0     40           1        140   289           0    1    172   0  0.0    0\n",
      "1     49           0        160   180           0    1    156   0  1.0    1\n",
      "2     37           1        130   283           0    2     98   0  0.0    0\n",
      "3     48           0        138   214           0    1    108   1  1.5    1\n",
      "4     54           1        150   195           0    1    122   0  0.0    0\n"
     ]
    }
   ],
   "source": [
    "label_encoder = LabelEncoder()\n",
    "categorical_columns = ['Geschlecht', 'EKG', 'AP']\n",
    "for col in categorical_columns:\n",
    "    data[col] = label_encoder.fit_transform(data[col])\n",
    "print(data.head())"
   ]
  },
  {
   "cell_type": "code",
   "execution_count": 8,
   "metadata": {},
   "outputs": [
    {
     "data": {
      "application/vnd.plotly.v1+json": {
       "config": {
        "plotlyServerURL": "https://plot.ly"
       },
       "data": [
        {
         "hovertemplate": "PC1=%{x}<br>PC2=%{y}<extra></extra>",
         "legendgroup": "",
         "marker": {
          "color": "#636efa",
          "opacity": 0.5,
          "symbol": "circle"
         },
         "mode": "markers",
         "name": "",
         "orientation": "v",
         "showlegend": false,
         "type": "scatter",
         "x": {
          "bdata": "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",
          "dtype": "f8"
         },
         "xaxis": "x",
         "y": {
          "bdata": "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",
          "dtype": "f8"
         },
         "yaxis": "y"
        }
       ],
       "layout": {
        "legend": {
         "tracegroupgap": 0
        },
        "template": {
         "data": {
          "bar": [
           {
            "error_x": {
             "color": "#2a3f5f"
            },
            "error_y": {
             "color": "#2a3f5f"
            },
            "marker": {
             "line": {
              "color": "#E5ECF6",
              "width": 0.5
             },
             "pattern": {
              "fillmode": "overlay",
              "size": 10,
              "solidity": 0.2
             }
            },
            "type": "bar"
           }
          ],
          "barpolar": [
           {
            "marker": {
             "line": {
              "color": "#E5ECF6",
              "width": 0.5
             },
             "pattern": {
              "fillmode": "overlay",
              "size": 10,
              "solidity": 0.2
             }
            },
            "type": "barpolar"
           }
          ],
          "carpet": [
           {
            "aaxis": {
             "endlinecolor": "#2a3f5f",
             "gridcolor": "white",
             "linecolor": "white",
             "minorgridcolor": "white",
             "startlinecolor": "#2a3f5f"
            },
            "baxis": {
             "endlinecolor": "#2a3f5f",
             "gridcolor": "white",
             "linecolor": "white",
             "minorgridcolor": "white",
             "startlinecolor": "#2a3f5f"
            },
            "type": "carpet"
           }
          ],
          "choropleth": [
           {
            "colorbar": {
             "outlinewidth": 0,
             "ticks": ""
            },
            "type": "choropleth"
           }
          ],
          "contour": [
           {
            "colorbar": {
             "outlinewidth": 0,
             "ticks": ""
            },
            "colorscale": [
             [
              0,
              "#0d0887"
             ],
             [
              0.1111111111111111,
              "#46039f"
             ],
             [
              0.2222222222222222,
              "#7201a8"
             ],
             [
              0.3333333333333333,
              "#9c179e"
             ],
             [
              0.4444444444444444,
              "#bd3786"
             ],
             [
              0.5555555555555556,
              "#d8576b"
             ],
             [
              0.6666666666666666,
              "#ed7953"
             ],
             [
              0.7777777777777778,
              "#fb9f3a"
             ],
             [
              0.8888888888888888,
              "#fdca26"
             ],
             [
              1,
              "#f0f921"
             ]
            ],
            "type": "contour"
           }
          ],
          "contourcarpet": [
           {
            "colorbar": {
             "outlinewidth": 0,
             "ticks": ""
            },
            "type": "contourcarpet"
           }
          ],
          "heatmap": [
           {
            "colorbar": {
             "outlinewidth": 0,
             "ticks": ""
            },
            "colorscale": [
             [
              0,
              "#0d0887"
             ],
             [
              0.1111111111111111,
              "#46039f"
             ],
             [
              0.2222222222222222,
              "#7201a8"
             ],
             [
              0.3333333333333333,
              "#9c179e"
             ],
             [
              0.4444444444444444,
              "#bd3786"
             ],
             [
              0.5555555555555556,
              "#d8576b"
             ],
             [
              0.6666666666666666,
              "#ed7953"
             ],
             [
              0.7777777777777778,
              "#fb9f3a"
             ],
             [
              0.8888888888888888,
              "#fdca26"
             ],
             [
              1,
              "#f0f921"
             ]
            ],
            "type": "heatmap"
           }
          ],
          "histogram": [
           {
            "marker": {
             "pattern": {
              "fillmode": "overlay",
              "size": 10,
              "solidity": 0.2
             }
            },
            "type": "histogram"
           }
          ],
          "histogram2d": [
           {
            "colorbar": {
             "outlinewidth": 0,
             "ticks": ""
            },
            "colorscale": [
             [
              0,
              "#0d0887"
             ],
             [
              0.1111111111111111,
              "#46039f"
             ],
             [
              0.2222222222222222,
              "#7201a8"
             ],
             [
              0.3333333333333333,
              "#9c179e"
             ],
             [
              0.4444444444444444,
              "#bd3786"
             ],
             [
              0.5555555555555556,
              "#d8576b"
             ],
             [
              0.6666666666666666,
              "#ed7953"
             ],
             [
              0.7777777777777778,
              "#fb9f3a"
             ],
             [
              0.8888888888888888,
              "#fdca26"
             ],
             [
              1,
              "#f0f921"
             ]
            ],
            "type": "histogram2d"
           }
          ],
          "histogram2dcontour": [
           {
            "colorbar": {
             "outlinewidth": 0,
             "ticks": ""
            },
            "colorscale": [
             [
              0,
              "#0d0887"
             ],
             [
              0.1111111111111111,
              "#46039f"
             ],
             [
              0.2222222222222222,
              "#7201a8"
             ],
             [
              0.3333333333333333,
              "#9c179e"
             ],
             [
              0.4444444444444444,
              "#bd3786"
             ],
             [
              0.5555555555555556,
              "#d8576b"
             ],
             [
              0.6666666666666666,
              "#ed7953"
             ],
             [
              0.7777777777777778,
              "#fb9f3a"
             ],
             [
              0.8888888888888888,
              "#fdca26"
             ],
             [
              1,
              "#f0f921"
             ]
            ],
            "type": "histogram2dcontour"
           }
          ],
          "mesh3d": [
           {
            "colorbar": {
             "outlinewidth": 0,
             "ticks": ""
            },
            "type": "mesh3d"
           }
          ],
          "parcoords": [
           {
            "line": {
             "colorbar": {
              "outlinewidth": 0,
              "ticks": ""
             }
            },
            "type": "parcoords"
           }
          ],
          "pie": [
           {
            "automargin": true,
            "type": "pie"
           }
          ],
          "scatter": [
           {
            "fillpattern": {
             "fillmode": "overlay",
             "size": 10,
             "solidity": 0.2
            },
            "type": "scatter"
           }
          ],
          "scatter3d": [
           {
            "line": {
             "colorbar": {
              "outlinewidth": 0,
              "ticks": ""
             }
            },
            "marker": {
             "colorbar": {
              "outlinewidth": 0,
              "ticks": ""
             }
            },
            "type": "scatter3d"
           }
          ],
          "scattercarpet": [
           {
            "marker": {
             "colorbar": {
              "outlinewidth": 0,
              "ticks": ""
             }
            },
            "type": "scattercarpet"
           }
          ],
          "scattergeo": [
           {
            "marker": {
             "colorbar": {
              "outlinewidth": 0,
              "ticks": ""
             }
            },
            "type": "scattergeo"
           }
          ],
          "scattergl": [
           {
            "marker": {
             "colorbar": {
              "outlinewidth": 0,
              "ticks": ""
             }
            },
            "type": "scattergl"
           }
          ],
          "scattermap": [
           {
            "marker": {
             "colorbar": {
              "outlinewidth": 0,
              "ticks": ""
             }
            },
            "type": "scattermap"
           }
          ],
          "scattermapbox": [
           {
            "marker": {
             "colorbar": {
              "outlinewidth": 0,
              "ticks": ""
             }
            },
            "type": "scattermapbox"
           }
          ],
          "scatterpolar": [
           {
            "marker": {
             "colorbar": {
              "outlinewidth": 0,
              "ticks": ""
             }
            },
            "type": "scatterpolar"
           }
          ],
          "scatterpolargl": [
           {
            "marker": {
             "colorbar": {
              "outlinewidth": 0,
              "ticks": ""
             }
            },
            "type": "scatterpolargl"
           }
          ],
          "scatterternary": [
           {
            "marker": {
             "colorbar": {
              "outlinewidth": 0,
              "ticks": ""
             }
            },
            "type": "scatterternary"
           }
          ],
          "surface": [
           {
            "colorbar": {
             "outlinewidth": 0,
             "ticks": ""
            },
            "colorscale": [
             [
              0,
              "#0d0887"
             ],
             [
              0.1111111111111111,
              "#46039f"
             ],
             [
              0.2222222222222222,
              "#7201a8"
             ],
             [
              0.3333333333333333,
              "#9c179e"
             ],
             [
              0.4444444444444444,
              "#bd3786"
             ],
             [
              0.5555555555555556,
              "#d8576b"
             ],
             [
              0.6666666666666666,
              "#ed7953"
             ],
             [
              0.7777777777777778,
              "#fb9f3a"
             ],
             [
              0.8888888888888888,
              "#fdca26"
             ],
             [
              1,
              "#f0f921"
             ]
            ],
            "type": "surface"
           }
          ],
          "table": [
           {
            "cells": {
             "fill": {
              "color": "#EBF0F8"
             },
             "line": {
              "color": "white"
             }
            },
            "header": {
             "fill": {
              "color": "#C8D4E3"
             },
             "line": {
              "color": "white"
             }
            },
            "type": "table"
           }
          ]
         },
         "layout": {
          "annotationdefaults": {
           "arrowcolor": "#2a3f5f",
           "arrowhead": 0,
           "arrowwidth": 1
          },
          "autotypenumbers": "strict",
          "coloraxis": {
           "colorbar": {
            "outlinewidth": 0,
            "ticks": ""
           }
          },
          "colorscale": {
           "diverging": [
            [
             0,
             "#8e0152"
            ],
            [
             0.1,
             "#c51b7d"
            ],
            [
             0.2,
             "#de77ae"
            ],
            [
             0.3,
             "#f1b6da"
            ],
            [
             0.4,
             "#fde0ef"
            ],
            [
             0.5,
             "#f7f7f7"
            ],
            [
             0.6,
             "#e6f5d0"
            ],
            [
             0.7,
             "#b8e186"
            ],
            [
             0.8,
             "#7fbc41"
            ],
            [
             0.9,
             "#4d9221"
            ],
            [
             1,
             "#276419"
            ]
           ],
           "sequential": [
            [
             0,
             "#0d0887"
            ],
            [
             0.1111111111111111,
             "#46039f"
            ],
            [
             0.2222222222222222,
             "#7201a8"
            ],
            [
             0.3333333333333333,
             "#9c179e"
            ],
            [
             0.4444444444444444,
             "#bd3786"
            ],
            [
             0.5555555555555556,
             "#d8576b"
            ],
            [
             0.6666666666666666,
             "#ed7953"
            ],
            [
             0.7777777777777778,
             "#fb9f3a"
            ],
            [
             0.8888888888888888,
             "#fdca26"
            ],
            [
             1,
             "#f0f921"
            ]
           ],
           "sequentialminus": [
            [
             0,
             "#0d0887"
            ],
            [
             0.1111111111111111,
             "#46039f"
            ],
            [
             0.2222222222222222,
             "#7201a8"
            ],
            [
             0.3333333333333333,
             "#9c179e"
            ],
            [
             0.4444444444444444,
             "#bd3786"
            ],
            [
             0.5555555555555556,
             "#d8576b"
            ],
            [
             0.6666666666666666,
             "#ed7953"
            ],
            [
             0.7777777777777778,
             "#fb9f3a"
            ],
            [
             0.8888888888888888,
             "#fdca26"
            ],
            [
             1,
             "#f0f921"
            ]
           ]
          },
          "colorway": [
           "#636efa",
           "#EF553B",
           "#00cc96",
           "#ab63fa",
           "#FFA15A",
           "#19d3f3",
           "#FF6692",
           "#B6E880",
           "#FF97FF",
           "#FECB52"
          ],
          "font": {
           "color": "#2a3f5f"
          },
          "geo": {
           "bgcolor": "white",
           "lakecolor": "white",
           "landcolor": "#E5ECF6",
           "showlakes": true,
           "showland": true,
           "subunitcolor": "white"
          },
          "hoverlabel": {
           "align": "left"
          },
          "hovermode": "closest",
          "mapbox": {
           "style": "light"
          },
          "paper_bgcolor": "white",
          "plot_bgcolor": "#E5ECF6",
          "polar": {
           "angularaxis": {
            "gridcolor": "white",
            "linecolor": "white",
            "ticks": ""
           },
           "bgcolor": "#E5ECF6",
           "radialaxis": {
            "gridcolor": "white",
            "linecolor": "white",
            "ticks": ""
           }
          },
          "scene": {
           "xaxis": {
            "backgroundcolor": "#E5ECF6",
            "gridcolor": "white",
            "gridwidth": 2,
            "linecolor": "white",
            "showbackground": true,
            "ticks": "",
            "zerolinecolor": "white"
           },
           "yaxis": {
            "backgroundcolor": "#E5ECF6",
            "gridcolor": "white",
            "gridwidth": 2,
            "linecolor": "white",
            "showbackground": true,
            "ticks": "",
            "zerolinecolor": "white"
           },
           "zaxis": {
            "backgroundcolor": "#E5ECF6",
            "gridcolor": "white",
            "gridwidth": 2,
            "linecolor": "white",
            "showbackground": true,
            "ticks": "",
            "zerolinecolor": "white"
           }
          },
          "shapedefaults": {
           "line": {
            "color": "#2a3f5f"
           }
          },
          "ternary": {
           "aaxis": {
            "gridcolor": "white",
            "linecolor": "white",
            "ticks": ""
           },
           "baxis": {
            "gridcolor": "white",
            "linecolor": "white",
            "ticks": ""
           },
           "bgcolor": "#E5ECF6",
           "caxis": {
            "gridcolor": "white",
            "linecolor": "white",
            "ticks": ""
           }
          },
          "title": {
           "x": 0.05
          },
          "xaxis": {
           "automargin": true,
           "gridcolor": "white",
           "linecolor": "white",
           "ticks": "",
           "title": {
            "standoff": 15
           },
           "zerolinecolor": "white",
           "zerolinewidth": 2
          },
          "yaxis": {
           "automargin": true,
           "gridcolor": "white",
           "linecolor": "white",
           "ticks": "",
           "title": {
            "standoff": 15
           },
           "zerolinecolor": "white",
           "zerolinewidth": 2
          }
         }
        },
        "title": {
         "text": "PCA-Visualisierung der Daten"
        },
        "xaxis": {
         "anchor": "y",
         "domain": [
          0,
          1
         ],
         "title": {
          "text": "PC1"
         }
        },
        "yaxis": {
         "anchor": "x",
         "domain": [
          0,
          1
         ],
         "title": {
          "text": "PC2"
         }
        }
       }
      }
     },
     "metadata": {},
     "output_type": "display_data"
    }
   ],
   "source": [
    "# Entferne die Zielvariable \"KHK\" vor der Skalierung\n",
    "data_without_target = data.drop(columns=[\"KHK\"], errors=\"ignore\")\n",
    "\n",
    "# Skalierung der Daten\n",
    "scaler = StandardScaler()\n",
    "data_scaled = scaler.fit_transform(data_without_target)\n",
    "\n",
    "# PCA-Transformation mit zwei Hauptkomponenten\n",
    "pca = PCA(n_components=2)\n",
    "pca_result = pca.fit_transform(data_scaled)\n",
    "\n",
    "# Umwandlung der PCA-Ergebnisse in einen DataFrame\n",
    "df_pca = pd.DataFrame(pca_result, columns=['PC1', 'PC2'])\n",
    "\n",
    "# Interaktive Visualisierung\n",
    "fig = px.scatter(df_pca, x='PC1', y='PC2', title='PCA-Visualisierung der Daten', opacity=0.5)\n",
    "fig.show()\n"
   ]
  },
  {
   "cell_type": "markdown",
   "metadata": {},
   "source": [
    "### Lässt sich aus den PCA-Daten eine potentielle gute Separierbarkeit der Klassen ablesen? \n",
    "TODO\n",
    "--> Ich würde sagen nein, lass aber mal drüber quatschen "
   ]
  },
  {
   "cell_type": "markdown",
   "metadata": {},
   "source": [
    "## 3. Anwendung verschiedener vorgestellter Klassifikationsverfahren"
   ]
  },
  {
   "cell_type": "markdown",
   "metadata": {},
   "source": [
    "#### Definition und Datenvorbereitung"
   ]
  },
  {
   "cell_type": "code",
   "execution_count": 28,
   "metadata": {},
   "outputs": [],
   "source": [
    "# Kategorische und numerische Spalten definieren\n",
    "categorical_features = [\"Geschlecht\", \"EKG\", \"AP\"]\n",
    "numerical_features = [\"Alter\", \"Blutdruck\", \"Chol\", \"Blutzucker\", \"HFmax\", \"RZ\"]\n",
    "\n",
    "# Zielvariable und Features auswählen\n",
    "# Explizite Kopie erstellen, um die Warnung zu vermeiden\n",
    "X = data[categorical_features + numerical_features].copy()\n",
    "y = data[\"KHK\"]\n",
    "\n",
    "# Features in der gleichen Reihenfolge wie im PCA-Histogramm anordnen\n",
    "desired_order = [\"Alter\", \"Geschlecht\", \"Blutdruck\", \"Chol\", \"Blutzucker\", \"EKG\", \"HFmax\", \"AP\", \"RZ\"]\n",
    "X = X[desired_order]\n",
    "\n",
    "# Label-Encoding für kategorische Variablen\n",
    "label_encoders = {}  # Dictionary, um die LabelEncoder-Objekte zu speichern\n",
    "for col in categorical_features:\n",
    "    label_encoders[col] = LabelEncoder()\n",
    "    X[col] = label_encoders[col].fit_transform(X[col])\n",
    "\n",
    "# Standardisierung für numerische Variablen\n",
    "scaler = StandardScaler()\n",
    "X[numerical_features] = scaler.fit_transform(X[numerical_features])\n",
    "\n",
    "# Train-Test-Split\n",
    "X_train, X_test, y_train, y_test = train_test_split(X, y, test_size=0.2, random_state=42)"
   ]
  },
  {
   "cell_type": "markdown",
   "metadata": {},
   "source": [
    "### 3.1 logistische Regression "
   ]
  },
  {
   "cell_type": "markdown",
   "metadata": {},
   "source": [
    "#### Modell definieren und trainieren"
   ]
  },
  {
   "cell_type": "code",
   "execution_count": null,
   "metadata": {},
   "outputs": [],
   "source": [
    "# Logistic Regression für binäre Klassifikation\n",
    "\n",
    "# Pipeline mit Vorverarbeitung und logistische Regression\n",
    "model = LogisticRegression()\n",
    "# Modell trainieren\n",
    "model.fit(X_train, y_train)"
   ]
  },
  {
   "cell_type": "markdown",
   "metadata": {},
   "source": [
    "#### Modell testen"
   ]
  },
  {
   "cell_type": "code",
   "execution_count": null,
   "metadata": {},
   "outputs": [],
   "source": [
    "# Vorhersagen treffen\n",
    "y_pred_log_reg = model.predict(X_test)\n",
    "\n",
    "# Evaluierung\n",
    "accuracy = accuracy_score(y_test, y_pred_log_reg)\n",
    "classification_rep = classification_report(y_test, y_pred_log_reg)\n",
    "\n",
    "print(f\"Accuracy: {accuracy:.2f}\")\n",
    "print(classification_rep)"
   ]
  },
  {
   "cell_type": "markdown",
   "metadata": {},
   "source": [
    "### 3.2 Entscheidungsbäume"
   ]
  },
  {
   "cell_type": "markdown",
   "metadata": {},
   "source": [
    "#### 3.2.1 klassische Entscheidungsbäume"
   ]
  },
  {
   "cell_type": "code",
   "execution_count": null,
   "metadata": {},
   "outputs": [],
   "source": [
    "clf_tree = DecisionTreeClassifier(random_state=42)\n",
    "clf_tree.fit(X_train, y_train)\n",
    "\n",
    "# Vorhersagen treffen\n",
    "y_pred_tree = clf_tree.predict(X_test)\n",
    "\n",
    "# Genauigkeit berechnen\n",
    "accuracy_tree = accuracy_score(y_test, y_pred_tree)\n",
    "classification_rep_tree = classification_report(y_test, y_pred_tree)\n",
    "print(f\"Modellgenauigkeit: {accuracy_tree:.2f}\")\n",
    "print(classification_rep_tree)"
   ]
  },
  {
   "cell_type": "markdown",
   "metadata": {},
   "source": [
    "#### 3.2.2 Bagging in Form von Random Forest"
   ]
  },
  {
   "cell_type": "code",
   "execution_count": null,
   "metadata": {},
   "outputs": [
    {
     "name": "stdout",
     "output_type": "stream",
     "text": [
      "Modellgenauigkeit: 0.73\n",
      "              precision    recall  f1-score   support\n",
      "\n",
      "           0       0.68      0.70      0.69        77\n",
      "           1       0.78      0.76      0.77       107\n",
      "\n",
      "    accuracy                           0.73       184\n",
      "   macro avg       0.73      0.73      0.73       184\n",
      "weighted avg       0.74      0.73      0.73       184\n",
      "\n"
     ]
    }
   ],
   "source": [
    "# Random Forest Modell trainieren\n",
    "clf = RandomForestClassifier(n_estimators=100, random_state=42)\n",
    "clf.fit(X_train, y_train)\n",
    "\n",
    "# Vorhersagen treffen\n",
    "y_pred_random_forest = clf.predict(X_test)\n",
    "\n",
    "# Genauigkeit berechnen\n",
    "accuracy_random_forest = accuracy_score(y_test, y_pred_random_forest)\n",
    "classification_rep = classification_report(y_test, y_pred_random_forest)\n",
    "print(f\"Modellgenauigkeit: {accuracy_random_forest:.2f}\")\n",
    "print(classification_rep)"
   ]
  },
  {
   "cell_type": "markdown",
   "metadata": {},
   "source": [
    "#### 3.2.3 Boosting in Form von AdaBoost"
   ]
  },
  {
   "cell_type": "code",
   "execution_count": null,
   "metadata": {},
   "outputs": [],
   "source": [
    "base_estimator = DecisionTreeClassifier(max_depth=1)\n",
    "adaboost_model = AdaBoostClassifier(\n",
    "    estimator=base_estimator,\n",
    "    n_estimators=50,\n",
    "    learning_rate=0.3,\n",
    "    random_state=42\n",
    ")\n",
    "\n",
    "adaboost_model.fit(X_train, y_train)\n",
    "\n",
    "# Vorhersagen treffen\n",
    "y_pred_ada = adaboost_model.predict(X_test)\n",
    "\n",
    "# Genauigkeit berechnen\n",
    "accuracy_random_forest = accuracy_score(y_test, y_pred_ada)\n",
    "classification_rep = classification_report(y_test, y_pred_ada)\n",
    "print(f\"Modellgenauigkeit: {accuracy_random_forest:.2f}\")\n",
    "print(classification_rep)"
   ]
  },
  {
   "cell_type": "markdown",
   "metadata": {},
   "source": [
    "#### 3.2.4 Stacking"
   ]
  },
  {
   "cell_type": "code",
   "execution_count": null,
   "metadata": {},
   "outputs": [],
   "source": [
    "# Basismodelle: KNN, SVM und Logistische Regression\n",
    "base_estimators = [\n",
    "    ('knn', KNeighborsClassifier(n_neighbors=5)),  # KNN mit 5 Nachbarn\n",
    "    ('svc', SVC(kernel='linear', random_state=42)),  # SVM mit linearem Kernel\n",
    "    ('logreg', LogisticRegression(random_state=42))  # Logistische Regression\n",
    "]\n",
    "\n",
    "# Finales Modell (Meta-Modell)\n",
    "final_estimator = LogisticRegression()\n",
    "\n",
    "# StackingClassifier erstellen\n",
    "stacking_model = StackingClassifier(estimators=base_estimators, final_estimator=final_estimator)\n",
    "\n",
    "# Modell trainieren\n",
    "stacking_model.fit(X_train, y_train)\n",
    "\n",
    "# Vorhersagen treffen\n",
    "y_pred_stack = stacking_model.predict(X_test)\n",
    "\n",
    "# Genauigkeit berechnen\n",
    "accuracy_stack = accuracy_score(y_test, y_pred_stack)\n",
    "classification_rep = classification_report(y_test, y_pred_stack)\n",
    "\n",
    "print(f\"Modellgenauigkeit: {accuracy_stack:.2f}\")\n",
    "print(classification_rep)"
   ]
  },
  {
   "cell_type": "markdown",
   "metadata": {},
   "source": [
    "### 3.3 k-Nearest-Neighbor"
   ]
  },
  {
   "cell_type": "markdown",
   "metadata": {},
   "source": [
    "#### 3.3.1 k-Nearest-Neighbor mit euklidischer Metrik"
   ]
  },
  {
   "cell_type": "code",
   "execution_count": null,
   "metadata": {},
   "outputs": [],
   "source": [
    "# k-NN Modell mit k=10 erstellen\n",
    "knn_model = KNeighborsClassifier(n_neighbors=10, metric='euclidean')\n",
    "\n",
    "# Modell trainieren\n",
    "knn_model.fit(X_train, y_train)\n",
    "\n",
    "# Vorhersagen treffen\n",
    "y_pred_knn = knn_model.predict(X_test)\n",
    "\n",
    "# Genauigkeit berechnen\n",
    "accuracy_knn = accuracy_score(y_test, y_pred_knn)\n",
    "classification_rep_knn = classification_report(y_test, y_pred_knn)\n",
    "\n",
    "print(f\"Modellgenauigkeit: {accuracy_knn:.2f}\")\n",
    "print(classification_rep_knn)\n"
   ]
  },
  {
   "cell_type": "markdown",
   "metadata": {},
   "source": [
    "#### 3.3.2 k-Nearest-Neighbor mit manhattan Metrik"
   ]
  },
  {
   "cell_type": "code",
   "execution_count": null,
   "metadata": {},
   "outputs": [],
   "source": [
    "# k-NN Modell mit k=10 erstellen\n",
    "knn_model = KNeighborsClassifier(n_neighbors=10, metric='manhattan')\n",
    "\n",
    "# Modell trainieren\n",
    "knn_model.fit(X_train, y_train)\n",
    "\n",
    "# Vorhersagen treffen\n",
    "y_pred_knn = knn_model.predict(X_test)\n",
    "\n",
    "# Genauigkeit berechnen\n",
    "accuracy_knn = accuracy_score(y_test, y_pred_knn)\n",
    "classification_rep_knn = classification_report(y_test, y_pred_knn)\n",
    "\n",
    "print(f\"Modellgenauigkeit: {accuracy_knn:.2f}\")\n",
    "print(classification_rep_knn)\n"
   ]
  },
  {
   "cell_type": "markdown",
   "metadata": {},
   "source": [
    "#### 3.3.4 k-Nearest-Neighbor mit Minkowski Metrik und p = 3"
   ]
  },
  {
   "cell_type": "code",
   "execution_count": null,
   "metadata": {},
   "outputs": [],
   "source": [
    "# k-NN Modell mit k=10 erstellen\n",
    "knn_model = KNeighborsClassifier(n_neighbors=10, metric='minkowski', p=3)\n",
    "\n",
    "# Modell trainieren\n",
    "knn_model.fit(X_train, y_train)\n",
    "\n",
    "# Vorhersagen treffen\n",
    "y_pred_knn = knn_model.predict(X_test)\n",
    "\n",
    "# Genauigkeit berechnen\n",
    "accuracy_knn = accuracy_score(y_test, y_pred_knn)\n",
    "classification_rep_knn = classification_report(y_test, y_pred_knn)\n",
    "\n",
    "print(f\"Modellgenauigkeit: {accuracy_knn:.2f}\")\n",
    "print(classification_rep_knn)\n"
   ]
  },
  {
   "cell_type": "markdown",
   "metadata": {},
   "source": [
    "### 3.4 Support Vector Machine"
   ]
  },
  {
   "cell_type": "code",
   "execution_count": null,
   "metadata": {},
   "outputs": [],
   "source": [
    "# k-NN Modell mit k=10 erstellen\n",
    "svm_model = SVC(kernel='linear', random_state=42)\n",
    "\n",
    "# Modell trainieren\n",
    "svm_model.fit(X_train, y_train)\n",
    "\n",
    "# Vorhersagen treffen\n",
    "y_pred_svm = svm_model.predict(X_test)\n",
    "\n",
    "# Genauigkeit berechnen\n",
    "accuracy_svm = accuracy_score(y_test, y_pred_svm)\n",
    "classification_rep_svm = classification_report(y_test, y_pred_svm)\n",
    "\n",
    "print(f\"Modellgenauigkeit: {accuracy_svm:.2f}\")\n",
    "print(classification_rep_svm)\n"
   ]
  },
  {
   "cell_type": "markdown",
   "metadata": {},
   "source": [
    "### 3.5 Neuronales Netz"
   ]
  },
  {
   "cell_type": "code",
   "execution_count": null,
   "metadata": {},
   "outputs": [],
   "source": [
    "def create_model(optimizer):\n",
    "    model = Sequential([\n",
    "        Dense(64, activation='relu', input_shape=(X_train.shape[1],)),\n",
    "        Dense(32, activation='relu'),\n",
    "        Dense(16, activation='relu'),\n",
    "        Dense(1, activation='sigmoid')\n",
    "    ])\n",
    "\n",
    "    # Modell kompilieren\n",
    "    model.compile(optimizer=optimizer,\n",
    "                loss='binary_crossentropy',\n",
    "                metrics=['accuracy'])\n",
    "\n",
    "    # Modellübersicht anzeigen\n",
    "    model.summary()\n",
    "    return model"
   ]
  },
  {
   "cell_type": "code",
   "execution_count": null,
   "metadata": {},
   "outputs": [],
   "source": [
    "sgd_model = create_model(optimizer='sgd')\n",
    "# Modell trainieren\n",
    "history_sgd = sgd_model.fit(X_train, y_train,\n",
    "                    epochs=50,\n",
    "                    batch_size=32,\n",
    "                    validation_split=0.2,\n",
    "                    verbose=1)\n",
    "\n",
    "# Modell evaluieren\n",
    "test_loss_sgd, test_accuracy_sgd = sgd_model.evaluate(X_test, y_test)\n",
    "\n",
    "# Trainingsverlauf visualisieren\n",
    "plt.figure(figsize=(12, 4))\n",
    "\n",
    "# Plot Accuracy\n",
    "plt.subplot(1, 2, 1)\n",
    "plt.plot(history_sgd.history['accuracy'], label='Training Accuracy')\n",
    "plt.plot(history_sgd.history['val_accuracy'], label='Validation Accuracy')\n",
    "plt.title('Model Accuracy')\n",
    "plt.xlabel('Epoch')\n",
    "plt.ylabel('Accuracy')\n",
    "plt.legend()\n",
    "\n",
    "# Plot Loss\n",
    "plt.subplot(1, 2, 2)\n",
    "plt.plot(history_sgd.history['loss'], label='Training Loss')\n",
    "plt.plot(history_sgd.history['val_loss'], label='Validation Loss')\n",
    "plt.title('Model Loss')\n",
    "plt.xlabel('Epoch')\n",
    "plt.ylabel('Loss')\n",
    "plt.legend()\n",
    "\n",
    "plt.tight_layout()\n",
    "plt.show()\n",
    "\n",
    "# Vorhersagen machen\n",
    "y_pred_sgd = sgd_model.predict(X_test)\n",
    "y_pred_classes_sgd = (y_pred_sgd > 0.5).astype(int)\n",
    "\n",
    "# Confusion Matrix und Classification Report\n",
    "print(f\"\\nTest Accuracy: {test_accuracy_sgd:.4f}\")\n",
    "print(\"\\nClassification Report:\")\n",
    "print(classification_report(y_test, y_pred_classes_sgd))"
   ]
  },
  {
   "cell_type": "code",
   "execution_count": null,
   "metadata": {},
   "outputs": [],
   "source": [
    "adam_model = create_model(optimizer='adam')\n",
    "# Modell trainieren\n",
    "history_adam = adam_model.fit(X_train, y_train,\n",
    "                    epochs=50,\n",
    "                    batch_size=32,\n",
    "                    validation_split=0.2,\n",
    "                    verbose=1)\n",
    "\n",
    "# Modell evaluieren\n",
    "test_loss, test_accuracy_adam = adam_model.evaluate(X_test, y_test)\n",
    "\n",
    "# Trainingsverlauf visualisieren\n",
    "plt.figure(figsize=(12, 4))\n",
    "\n",
    "# Plot Accuracy\n",
    "plt.subplot(1, 2, 1)\n",
    "plt.plot(history_adam.history['accuracy'], label='Training Accuracy')\n",
    "plt.plot(history_adam.history['val_accuracy'], label='Validation Accuracy')\n",
    "plt.title('Model Accuracy')\n",
    "plt.xlabel('Epoch')\n",
    "plt.ylabel('Accuracy')\n",
    "plt.legend()\n",
    "\n",
    "# Plot Loss\n",
    "plt.subplot(1, 2, 2)\n",
    "plt.plot(history_adam.history['loss'], label='Training Loss')\n",
    "plt.plot(history_adam.history['val_loss'], label='Validation Loss')\n",
    "plt.title('Model Loss')\n",
    "plt.xlabel('Epoch')\n",
    "plt.ylabel('Loss')\n",
    "plt.legend()\n",
    "\n",
    "plt.tight_layout()\n",
    "plt.show()\n",
    "\n",
    "# Vorhersagen machen\n",
    "y_pred_adam = adam_model.predict(X_test)\n",
    "y_pred_classes_adam = (y_pred_adam > 0.5).astype(int)\n",
    "\n",
    "# Confusion Matrix und Classification Report\n",
    "print(f\"\\nTest Accuracy: {test_accuracy_adam:.4f}\")\n",
    "print(\"\\nClassification Report:\")\n",
    "print(classification_report(y_test, y_pred_classes_adam))"
   ]
  },
  {
   "cell_type": "markdown",
   "metadata": {},
   "source": [
    "## 4. Bedeutung der einzelnen Features"
   ]
  },
  {
   "cell_type": "markdown",
   "metadata": {},
   "source": [
    "### 4.1 Feature-Bedeutung von PCA"
   ]
  },
  {
   "cell_type": "code",
   "execution_count": 9,
   "metadata": {},
   "outputs": [
    {
     "data": {
      "application/vnd.plotly.v1+json": {
       "config": {
        "plotlyServerURL": "https://plot.ly"
       },
       "data": [
        {
         "hovertemplate": "Feature=%{x}<br>Feature-Wichtigkeit=%{y}<extra></extra>",
         "legendgroup": "",
         "marker": {
          "color": "#636efa",
          "pattern": {
           "shape": ""
          }
         },
         "name": "",
         "orientation": "v",
         "showlegend": false,
         "textposition": "auto",
         "type": "bar",
         "x": [
          "Alter",
          "Geschlecht",
          "Blutdruck",
          "Chol",
          "Blutzucker",
          "EKG",
          "HFmax",
          "AP",
          "RZ"
         ],
         "xaxis": "x",
         "y": {
          "bdata": "/xS/BlXG4j83QCCBOUvgP9/BUPj79uI/NqZ63u8m6j+IY1FTXz3iP0J+h0GgFeE/dAUF0ftu4j+AiIDZ6znlP1q+yJgcx+c/",
          "dtype": "f8"
         },
         "yaxis": "y"
        }
       ],
       "layout": {
        "barmode": "relative",
        "legend": {
         "tracegroupgap": 0
        },
        "template": {
         "data": {
          "bar": [
           {
            "error_x": {
             "color": "#2a3f5f"
            },
            "error_y": {
             "color": "#2a3f5f"
            },
            "marker": {
             "line": {
              "color": "#E5ECF6",
              "width": 0.5
             },
             "pattern": {
              "fillmode": "overlay",
              "size": 10,
              "solidity": 0.2
             }
            },
            "type": "bar"
           }
          ],
          "barpolar": [
           {
            "marker": {
             "line": {
              "color": "#E5ECF6",
              "width": 0.5
             },
             "pattern": {
              "fillmode": "overlay",
              "size": 10,
              "solidity": 0.2
             }
            },
            "type": "barpolar"
           }
          ],
          "carpet": [
           {
            "aaxis": {
             "endlinecolor": "#2a3f5f",
             "gridcolor": "white",
             "linecolor": "white",
             "minorgridcolor": "white",
             "startlinecolor": "#2a3f5f"
            },
            "baxis": {
             "endlinecolor": "#2a3f5f",
             "gridcolor": "white",
             "linecolor": "white",
             "minorgridcolor": "white",
             "startlinecolor": "#2a3f5f"
            },
            "type": "carpet"
           }
          ],
          "choropleth": [
           {
            "colorbar": {
             "outlinewidth": 0,
             "ticks": ""
            },
            "type": "choropleth"
           }
          ],
          "contour": [
           {
            "colorbar": {
             "outlinewidth": 0,
             "ticks": ""
            },
            "colorscale": [
             [
              0,
              "#0d0887"
             ],
             [
              0.1111111111111111,
              "#46039f"
             ],
             [
              0.2222222222222222,
              "#7201a8"
             ],
             [
              0.3333333333333333,
              "#9c179e"
             ],
             [
              0.4444444444444444,
              "#bd3786"
             ],
             [
              0.5555555555555556,
              "#d8576b"
             ],
             [
              0.6666666666666666,
              "#ed7953"
             ],
             [
              0.7777777777777778,
              "#fb9f3a"
             ],
             [
              0.8888888888888888,
              "#fdca26"
             ],
             [
              1,
              "#f0f921"
             ]
            ],
            "type": "contour"
           }
          ],
          "contourcarpet": [
           {
            "colorbar": {
             "outlinewidth": 0,
             "ticks": ""
            },
            "type": "contourcarpet"
           }
          ],
          "heatmap": [
           {
            "colorbar": {
             "outlinewidth": 0,
             "ticks": ""
            },
            "colorscale": [
             [
              0,
              "#0d0887"
             ],
             [
              0.1111111111111111,
              "#46039f"
             ],
             [
              0.2222222222222222,
              "#7201a8"
             ],
             [
              0.3333333333333333,
              "#9c179e"
             ],
             [
              0.4444444444444444,
              "#bd3786"
             ],
             [
              0.5555555555555556,
              "#d8576b"
             ],
             [
              0.6666666666666666,
              "#ed7953"
             ],
             [
              0.7777777777777778,
              "#fb9f3a"
             ],
             [
              0.8888888888888888,
              "#fdca26"
             ],
             [
              1,
              "#f0f921"
             ]
            ],
            "type": "heatmap"
           }
          ],
          "histogram": [
           {
            "marker": {
             "pattern": {
              "fillmode": "overlay",
              "size": 10,
              "solidity": 0.2
             }
            },
            "type": "histogram"
           }
          ],
          "histogram2d": [
           {
            "colorbar": {
             "outlinewidth": 0,
             "ticks": ""
            },
            "colorscale": [
             [
              0,
              "#0d0887"
             ],
             [
              0.1111111111111111,
              "#46039f"
             ],
             [
              0.2222222222222222,
              "#7201a8"
             ],
             [
              0.3333333333333333,
              "#9c179e"
             ],
             [
              0.4444444444444444,
              "#bd3786"
             ],
             [
              0.5555555555555556,
              "#d8576b"
             ],
             [
              0.6666666666666666,
              "#ed7953"
             ],
             [
              0.7777777777777778,
              "#fb9f3a"
             ],
             [
              0.8888888888888888,
              "#fdca26"
             ],
             [
              1,
              "#f0f921"
             ]
            ],
            "type": "histogram2d"
           }
          ],
          "histogram2dcontour": [
           {
            "colorbar": {
             "outlinewidth": 0,
             "ticks": ""
            },
            "colorscale": [
             [
              0,
              "#0d0887"
             ],
             [
              0.1111111111111111,
              "#46039f"
             ],
             [
              0.2222222222222222,
              "#7201a8"
             ],
             [
              0.3333333333333333,
              "#9c179e"
             ],
             [
              0.4444444444444444,
              "#bd3786"
             ],
             [
              0.5555555555555556,
              "#d8576b"
             ],
             [
              0.6666666666666666,
              "#ed7953"
             ],
             [
              0.7777777777777778,
              "#fb9f3a"
             ],
             [
              0.8888888888888888,
              "#fdca26"
             ],
             [
              1,
              "#f0f921"
             ]
            ],
            "type": "histogram2dcontour"
           }
          ],
          "mesh3d": [
           {
            "colorbar": {
             "outlinewidth": 0,
             "ticks": ""
            },
            "type": "mesh3d"
           }
          ],
          "parcoords": [
           {
            "line": {
             "colorbar": {
              "outlinewidth": 0,
              "ticks": ""
             }
            },
            "type": "parcoords"
           }
          ],
          "pie": [
           {
            "automargin": true,
            "type": "pie"
           }
          ],
          "scatter": [
           {
            "fillpattern": {
             "fillmode": "overlay",
             "size": 10,
             "solidity": 0.2
            },
            "type": "scatter"
           }
          ],
          "scatter3d": [
           {
            "line": {
             "colorbar": {
              "outlinewidth": 0,
              "ticks": ""
             }
            },
            "marker": {
             "colorbar": {
              "outlinewidth": 0,
              "ticks": ""
             }
            },
            "type": "scatter3d"
           }
          ],
          "scattercarpet": [
           {
            "marker": {
             "colorbar": {
              "outlinewidth": 0,
              "ticks": ""
             }
            },
            "type": "scattercarpet"
           }
          ],
          "scattergeo": [
           {
            "marker": {
             "colorbar": {
              "outlinewidth": 0,
              "ticks": ""
             }
            },
            "type": "scattergeo"
           }
          ],
          "scattergl": [
           {
            "marker": {
             "colorbar": {
              "outlinewidth": 0,
              "ticks": ""
             }
            },
            "type": "scattergl"
           }
          ],
          "scattermap": [
           {
            "marker": {
             "colorbar": {
              "outlinewidth": 0,
              "ticks": ""
             }
            },
            "type": "scattermap"
           }
          ],
          "scattermapbox": [
           {
            "marker": {
             "colorbar": {
              "outlinewidth": 0,
              "ticks": ""
             }
            },
            "type": "scattermapbox"
           }
          ],
          "scatterpolar": [
           {
            "marker": {
             "colorbar": {
              "outlinewidth": 0,
              "ticks": ""
             }
            },
            "type": "scatterpolar"
           }
          ],
          "scatterpolargl": [
           {
            "marker": {
             "colorbar": {
              "outlinewidth": 0,
              "ticks": ""
             }
            },
            "type": "scatterpolargl"
           }
          ],
          "scatterternary": [
           {
            "marker": {
             "colorbar": {
              "outlinewidth": 0,
              "ticks": ""
             }
            },
            "type": "scatterternary"
           }
          ],
          "surface": [
           {
            "colorbar": {
             "outlinewidth": 0,
             "ticks": ""
            },
            "colorscale": [
             [
              0,
              "#0d0887"
             ],
             [
              0.1111111111111111,
              "#46039f"
             ],
             [
              0.2222222222222222,
              "#7201a8"
             ],
             [
              0.3333333333333333,
              "#9c179e"
             ],
             [
              0.4444444444444444,
              "#bd3786"
             ],
             [
              0.5555555555555556,
              "#d8576b"
             ],
             [
              0.6666666666666666,
              "#ed7953"
             ],
             [
              0.7777777777777778,
              "#fb9f3a"
             ],
             [
              0.8888888888888888,
              "#fdca26"
             ],
             [
              1,
              "#f0f921"
             ]
            ],
            "type": "surface"
           }
          ],
          "table": [
           {
            "cells": {
             "fill": {
              "color": "#EBF0F8"
             },
             "line": {
              "color": "white"
             }
            },
            "header": {
             "fill": {
              "color": "#C8D4E3"
             },
             "line": {
              "color": "white"
             }
            },
            "type": "table"
           }
          ]
         },
         "layout": {
          "annotationdefaults": {
           "arrowcolor": "#2a3f5f",
           "arrowhead": 0,
           "arrowwidth": 1
          },
          "autotypenumbers": "strict",
          "coloraxis": {
           "colorbar": {
            "outlinewidth": 0,
            "ticks": ""
           }
          },
          "colorscale": {
           "diverging": [
            [
             0,
             "#8e0152"
            ],
            [
             0.1,
             "#c51b7d"
            ],
            [
             0.2,
             "#de77ae"
            ],
            [
             0.3,
             "#f1b6da"
            ],
            [
             0.4,
             "#fde0ef"
            ],
            [
             0.5,
             "#f7f7f7"
            ],
            [
             0.6,
             "#e6f5d0"
            ],
            [
             0.7,
             "#b8e186"
            ],
            [
             0.8,
             "#7fbc41"
            ],
            [
             0.9,
             "#4d9221"
            ],
            [
             1,
             "#276419"
            ]
           ],
           "sequential": [
            [
             0,
             "#0d0887"
            ],
            [
             0.1111111111111111,
             "#46039f"
            ],
            [
             0.2222222222222222,
             "#7201a8"
            ],
            [
             0.3333333333333333,
             "#9c179e"
            ],
            [
             0.4444444444444444,
             "#bd3786"
            ],
            [
             0.5555555555555556,
             "#d8576b"
            ],
            [
             0.6666666666666666,
             "#ed7953"
            ],
            [
             0.7777777777777778,
             "#fb9f3a"
            ],
            [
             0.8888888888888888,
             "#fdca26"
            ],
            [
             1,
             "#f0f921"
            ]
           ],
           "sequentialminus": [
            [
             0,
             "#0d0887"
            ],
            [
             0.1111111111111111,
             "#46039f"
            ],
            [
             0.2222222222222222,
             "#7201a8"
            ],
            [
             0.3333333333333333,
             "#9c179e"
            ],
            [
             0.4444444444444444,
             "#bd3786"
            ],
            [
             0.5555555555555556,
             "#d8576b"
            ],
            [
             0.6666666666666666,
             "#ed7953"
            ],
            [
             0.7777777777777778,
             "#fb9f3a"
            ],
            [
             0.8888888888888888,
             "#fdca26"
            ],
            [
             1,
             "#f0f921"
            ]
           ]
          },
          "colorway": [
           "#636efa",
           "#EF553B",
           "#00cc96",
           "#ab63fa",
           "#FFA15A",
           "#19d3f3",
           "#FF6692",
           "#B6E880",
           "#FF97FF",
           "#FECB52"
          ],
          "font": {
           "color": "#2a3f5f"
          },
          "geo": {
           "bgcolor": "white",
           "lakecolor": "white",
           "landcolor": "#E5ECF6",
           "showlakes": true,
           "showland": true,
           "subunitcolor": "white"
          },
          "hoverlabel": {
           "align": "left"
          },
          "hovermode": "closest",
          "mapbox": {
           "style": "light"
          },
          "paper_bgcolor": "white",
          "plot_bgcolor": "#E5ECF6",
          "polar": {
           "angularaxis": {
            "gridcolor": "white",
            "linecolor": "white",
            "ticks": ""
           },
           "bgcolor": "#E5ECF6",
           "radialaxis": {
            "gridcolor": "white",
            "linecolor": "white",
            "ticks": ""
           }
          },
          "scene": {
           "xaxis": {
            "backgroundcolor": "#E5ECF6",
            "gridcolor": "white",
            "gridwidth": 2,
            "linecolor": "white",
            "showbackground": true,
            "ticks": "",
            "zerolinecolor": "white"
           },
           "yaxis": {
            "backgroundcolor": "#E5ECF6",
            "gridcolor": "white",
            "gridwidth": 2,
            "linecolor": "white",
            "showbackground": true,
            "ticks": "",
            "zerolinecolor": "white"
           },
           "zaxis": {
            "backgroundcolor": "#E5ECF6",
            "gridcolor": "white",
            "gridwidth": 2,
            "linecolor": "white",
            "showbackground": true,
            "ticks": "",
            "zerolinecolor": "white"
           }
          },
          "shapedefaults": {
           "line": {
            "color": "#2a3f5f"
           }
          },
          "ternary": {
           "aaxis": {
            "gridcolor": "white",
            "linecolor": "white",
            "ticks": ""
           },
           "baxis": {
            "gridcolor": "white",
            "linecolor": "white",
            "ticks": ""
           },
           "bgcolor": "#E5ECF6",
           "caxis": {
            "gridcolor": "white",
            "linecolor": "white",
            "ticks": ""
           }
          },
          "title": {
           "x": 0.05
          },
          "xaxis": {
           "automargin": true,
           "gridcolor": "white",
           "linecolor": "white",
           "ticks": "",
           "title": {
            "standoff": 15
           },
           "zerolinecolor": "white",
           "zerolinewidth": 2
          },
          "yaxis": {
           "automargin": true,
           "gridcolor": "white",
           "linecolor": "white",
           "ticks": "",
           "title": {
            "standoff": 15
           },
           "zerolinecolor": "white",
           "zerolinewidth": 2
          }
         }
        },
        "title": {
         "text": "Feature-Bedeutung aus PCA"
        },
        "xaxis": {
         "anchor": "y",
         "domain": [
          0,
          1
         ],
         "title": {
          "text": "Feature"
         }
        },
        "yaxis": {
         "anchor": "x",
         "domain": [
          0,
          1
         ],
         "title": {
          "text": "Feature-Wichtigkeit"
         }
        }
       }
      }
     },
     "metadata": {},
     "output_type": "display_data"
    }
   ],
   "source": [
    "feature_names = data.columns.tolist()\n",
    "feature_names.remove(\"KHK\") \n",
    "# Bedeutung der ursprünglichen Features\n",
    "feature_importance = np.abs(pca.components_).sum(axis=0)\n",
    "# DataFrame für Plotly erstellen\n",
    "df_plot = pd.DataFrame({\"Feature\": feature_names, \"Wichtigkeit\": feature_importance})\n",
    "\n",
    "# Interaktive Visualisierung mit Plotly\n",
    "fig = px.bar(df_plot, x=\"Feature\", y=\"Wichtigkeit\", title=\"Feature-Bedeutung aus PCA\", labels={\"Feature\": \"Feature\", \"Wichtigkeit\": \"Feature-Wichtigkeit\"})\n",
    "fig.update_xaxes() \n",
    "fig.show()"
   ]
  },
  {
   "cell_type": "markdown",
   "metadata": {},
   "source": [
    "### 4.2 Feature-Bedeutung für Random Forest"
   ]
  },
  {
   "cell_type": "code",
   "execution_count": null,
   "metadata": {},
   "outputs": [
    {
     "name": "stdout",
     "output_type": "stream",
     "text": [
      "[0.12961358 0.04301963 0.09403582 0.17491876 0.03218152 0.03011758\n",
      " 0.15389165 0.18009136 0.16213011]\n"
     ]
    },
    {
     "data": {
      "application/vnd.plotly.v1+json": {
       "config": {
        "plotlyServerURL": "https://plot.ly"
       },
       "data": [
        {
         "hovertemplate": "Feature=%{x}<br>Feature-Wichtigkeit=%{y}<extra></extra>",
         "legendgroup": "",
         "marker": {
          "color": "#636efa",
          "pattern": {
           "shape": ""
          }
         },
         "name": "",
         "orientation": "v",
         "showlegend": false,
         "textposition": "auto",
         "type": "bar",
         "x": [
          "Alter",
          "Geschlecht",
          "Blutdruck",
          "Chol",
          "Blutzucker",
          "EKG",
          "HFmax",
          "AP",
          "RZ"
         ],
         "xaxis": "x",
         "y": {
          "bdata": "1oKEfC2XwD/R8+s5qwamP/TF5De7Erg/WIdE67xjxj/EqcaGGHqgP9Qi0kAk154/QmsNubiywz/svwTZOw3HP+x76/GtwMQ/",
          "dtype": "f8"
         },
         "yaxis": "y"
        }
       ],
       "layout": {
        "barmode": "relative",
        "legend": {
         "tracegroupgap": 0
        },
        "template": {
         "data": {
          "bar": [
           {
            "error_x": {
             "color": "#2a3f5f"
            },
            "error_y": {
             "color": "#2a3f5f"
            },
            "marker": {
             "line": {
              "color": "#E5ECF6",
              "width": 0.5
             },
             "pattern": {
              "fillmode": "overlay",
              "size": 10,
              "solidity": 0.2
             }
            },
            "type": "bar"
           }
          ],
          "barpolar": [
           {
            "marker": {
             "line": {
              "color": "#E5ECF6",
              "width": 0.5
             },
             "pattern": {
              "fillmode": "overlay",
              "size": 10,
              "solidity": 0.2
             }
            },
            "type": "barpolar"
           }
          ],
          "carpet": [
           {
            "aaxis": {
             "endlinecolor": "#2a3f5f",
             "gridcolor": "white",
             "linecolor": "white",
             "minorgridcolor": "white",
             "startlinecolor": "#2a3f5f"
            },
            "baxis": {
             "endlinecolor": "#2a3f5f",
             "gridcolor": "white",
             "linecolor": "white",
             "minorgridcolor": "white",
             "startlinecolor": "#2a3f5f"
            },
            "type": "carpet"
           }
          ],
          "choropleth": [
           {
            "colorbar": {
             "outlinewidth": 0,
             "ticks": ""
            },
            "type": "choropleth"
           }
          ],
          "contour": [
           {
            "colorbar": {
             "outlinewidth": 0,
             "ticks": ""
            },
            "colorscale": [
             [
              0,
              "#0d0887"
             ],
             [
              0.1111111111111111,
              "#46039f"
             ],
             [
              0.2222222222222222,
              "#7201a8"
             ],
             [
              0.3333333333333333,
              "#9c179e"
             ],
             [
              0.4444444444444444,
              "#bd3786"
             ],
             [
              0.5555555555555556,
              "#d8576b"
             ],
             [
              0.6666666666666666,
              "#ed7953"
             ],
             [
              0.7777777777777778,
              "#fb9f3a"
             ],
             [
              0.8888888888888888,
              "#fdca26"
             ],
             [
              1,
              "#f0f921"
             ]
            ],
            "type": "contour"
           }
          ],
          "contourcarpet": [
           {
            "colorbar": {
             "outlinewidth": 0,
             "ticks": ""
            },
            "type": "contourcarpet"
           }
          ],
          "heatmap": [
           {
            "colorbar": {
             "outlinewidth": 0,
             "ticks": ""
            },
            "colorscale": [
             [
              0,
              "#0d0887"
             ],
             [
              0.1111111111111111,
              "#46039f"
             ],
             [
              0.2222222222222222,
              "#7201a8"
             ],
             [
              0.3333333333333333,
              "#9c179e"
             ],
             [
              0.4444444444444444,
              "#bd3786"
             ],
             [
              0.5555555555555556,
              "#d8576b"
             ],
             [
              0.6666666666666666,
              "#ed7953"
             ],
             [
              0.7777777777777778,
              "#fb9f3a"
             ],
             [
              0.8888888888888888,
              "#fdca26"
             ],
             [
              1,
              "#f0f921"
             ]
            ],
            "type": "heatmap"
           }
          ],
          "histogram": [
           {
            "marker": {
             "pattern": {
              "fillmode": "overlay",
              "size": 10,
              "solidity": 0.2
             }
            },
            "type": "histogram"
           }
          ],
          "histogram2d": [
           {
            "colorbar": {
             "outlinewidth": 0,
             "ticks": ""
            },
            "colorscale": [
             [
              0,
              "#0d0887"
             ],
             [
              0.1111111111111111,
              "#46039f"
             ],
             [
              0.2222222222222222,
              "#7201a8"
             ],
             [
              0.3333333333333333,
              "#9c179e"
             ],
             [
              0.4444444444444444,
              "#bd3786"
             ],
             [
              0.5555555555555556,
              "#d8576b"
             ],
             [
              0.6666666666666666,
              "#ed7953"
             ],
             [
              0.7777777777777778,
              "#fb9f3a"
             ],
             [
              0.8888888888888888,
              "#fdca26"
             ],
             [
              1,
              "#f0f921"
             ]
            ],
            "type": "histogram2d"
           }
          ],
          "histogram2dcontour": [
           {
            "colorbar": {
             "outlinewidth": 0,
             "ticks": ""
            },
            "colorscale": [
             [
              0,
              "#0d0887"
             ],
             [
              0.1111111111111111,
              "#46039f"
             ],
             [
              0.2222222222222222,
              "#7201a8"
             ],
             [
              0.3333333333333333,
              "#9c179e"
             ],
             [
              0.4444444444444444,
              "#bd3786"
             ],
             [
              0.5555555555555556,
              "#d8576b"
             ],
             [
              0.6666666666666666,
              "#ed7953"
             ],
             [
              0.7777777777777778,
              "#fb9f3a"
             ],
             [
              0.8888888888888888,
              "#fdca26"
             ],
             [
              1,
              "#f0f921"
             ]
            ],
            "type": "histogram2dcontour"
           }
          ],
          "mesh3d": [
           {
            "colorbar": {
             "outlinewidth": 0,
             "ticks": ""
            },
            "type": "mesh3d"
           }
          ],
          "parcoords": [
           {
            "line": {
             "colorbar": {
              "outlinewidth": 0,
              "ticks": ""
             }
            },
            "type": "parcoords"
           }
          ],
          "pie": [
           {
            "automargin": true,
            "type": "pie"
           }
          ],
          "scatter": [
           {
            "fillpattern": {
             "fillmode": "overlay",
             "size": 10,
             "solidity": 0.2
            },
            "type": "scatter"
           }
          ],
          "scatter3d": [
           {
            "line": {
             "colorbar": {
              "outlinewidth": 0,
              "ticks": ""
             }
            },
            "marker": {
             "colorbar": {
              "outlinewidth": 0,
              "ticks": ""
             }
            },
            "type": "scatter3d"
           }
          ],
          "scattercarpet": [
           {
            "marker": {
             "colorbar": {
              "outlinewidth": 0,
              "ticks": ""
             }
            },
            "type": "scattercarpet"
           }
          ],
          "scattergeo": [
           {
            "marker": {
             "colorbar": {
              "outlinewidth": 0,
              "ticks": ""
             }
            },
            "type": "scattergeo"
           }
          ],
          "scattergl": [
           {
            "marker": {
             "colorbar": {
              "outlinewidth": 0,
              "ticks": ""
             }
            },
            "type": "scattergl"
           }
          ],
          "scattermap": [
           {
            "marker": {
             "colorbar": {
              "outlinewidth": 0,
              "ticks": ""
             }
            },
            "type": "scattermap"
           }
          ],
          "scattermapbox": [
           {
            "marker": {
             "colorbar": {
              "outlinewidth": 0,
              "ticks": ""
             }
            },
            "type": "scattermapbox"
           }
          ],
          "scatterpolar": [
           {
            "marker": {
             "colorbar": {
              "outlinewidth": 0,
              "ticks": ""
             }
            },
            "type": "scatterpolar"
           }
          ],
          "scatterpolargl": [
           {
            "marker": {
             "colorbar": {
              "outlinewidth": 0,
              "ticks": ""
             }
            },
            "type": "scatterpolargl"
           }
          ],
          "scatterternary": [
           {
            "marker": {
             "colorbar": {
              "outlinewidth": 0,
              "ticks": ""
             }
            },
            "type": "scatterternary"
           }
          ],
          "surface": [
           {
            "colorbar": {
             "outlinewidth": 0,
             "ticks": ""
            },
            "colorscale": [
             [
              0,
              "#0d0887"
             ],
             [
              0.1111111111111111,
              "#46039f"
             ],
             [
              0.2222222222222222,
              "#7201a8"
             ],
             [
              0.3333333333333333,
              "#9c179e"
             ],
             [
              0.4444444444444444,
              "#bd3786"
             ],
             [
              0.5555555555555556,
              "#d8576b"
             ],
             [
              0.6666666666666666,
              "#ed7953"
             ],
             [
              0.7777777777777778,
              "#fb9f3a"
             ],
             [
              0.8888888888888888,
              "#fdca26"
             ],
             [
              1,
              "#f0f921"
             ]
            ],
            "type": "surface"
           }
          ],
          "table": [
           {
            "cells": {
             "fill": {
              "color": "#EBF0F8"
             },
             "line": {
              "color": "white"
             }
            },
            "header": {
             "fill": {
              "color": "#C8D4E3"
             },
             "line": {
              "color": "white"
             }
            },
            "type": "table"
           }
          ]
         },
         "layout": {
          "annotationdefaults": {
           "arrowcolor": "#2a3f5f",
           "arrowhead": 0,
           "arrowwidth": 1
          },
          "autotypenumbers": "strict",
          "coloraxis": {
           "colorbar": {
            "outlinewidth": 0,
            "ticks": ""
           }
          },
          "colorscale": {
           "diverging": [
            [
             0,
             "#8e0152"
            ],
            [
             0.1,
             "#c51b7d"
            ],
            [
             0.2,
             "#de77ae"
            ],
            [
             0.3,
             "#f1b6da"
            ],
            [
             0.4,
             "#fde0ef"
            ],
            [
             0.5,
             "#f7f7f7"
            ],
            [
             0.6,
             "#e6f5d0"
            ],
            [
             0.7,
             "#b8e186"
            ],
            [
             0.8,
             "#7fbc41"
            ],
            [
             0.9,
             "#4d9221"
            ],
            [
             1,
             "#276419"
            ]
           ],
           "sequential": [
            [
             0,
             "#0d0887"
            ],
            [
             0.1111111111111111,
             "#46039f"
            ],
            [
             0.2222222222222222,
             "#7201a8"
            ],
            [
             0.3333333333333333,
             "#9c179e"
            ],
            [
             0.4444444444444444,
             "#bd3786"
            ],
            [
             0.5555555555555556,
             "#d8576b"
            ],
            [
             0.6666666666666666,
             "#ed7953"
            ],
            [
             0.7777777777777778,
             "#fb9f3a"
            ],
            [
             0.8888888888888888,
             "#fdca26"
            ],
            [
             1,
             "#f0f921"
            ]
           ],
           "sequentialminus": [
            [
             0,
             "#0d0887"
            ],
            [
             0.1111111111111111,
             "#46039f"
            ],
            [
             0.2222222222222222,
             "#7201a8"
            ],
            [
             0.3333333333333333,
             "#9c179e"
            ],
            [
             0.4444444444444444,
             "#bd3786"
            ],
            [
             0.5555555555555556,
             "#d8576b"
            ],
            [
             0.6666666666666666,
             "#ed7953"
            ],
            [
             0.7777777777777778,
             "#fb9f3a"
            ],
            [
             0.8888888888888888,
             "#fdca26"
            ],
            [
             1,
             "#f0f921"
            ]
           ]
          },
          "colorway": [
           "#636efa",
           "#EF553B",
           "#00cc96",
           "#ab63fa",
           "#FFA15A",
           "#19d3f3",
           "#FF6692",
           "#B6E880",
           "#FF97FF",
           "#FECB52"
          ],
          "font": {
           "color": "#2a3f5f"
          },
          "geo": {
           "bgcolor": "white",
           "lakecolor": "white",
           "landcolor": "#E5ECF6",
           "showlakes": true,
           "showland": true,
           "subunitcolor": "white"
          },
          "hoverlabel": {
           "align": "left"
          },
          "hovermode": "closest",
          "mapbox": {
           "style": "light"
          },
          "paper_bgcolor": "white",
          "plot_bgcolor": "#E5ECF6",
          "polar": {
           "angularaxis": {
            "gridcolor": "white",
            "linecolor": "white",
            "ticks": ""
           },
           "bgcolor": "#E5ECF6",
           "radialaxis": {
            "gridcolor": "white",
            "linecolor": "white",
            "ticks": ""
           }
          },
          "scene": {
           "xaxis": {
            "backgroundcolor": "#E5ECF6",
            "gridcolor": "white",
            "gridwidth": 2,
            "linecolor": "white",
            "showbackground": true,
            "ticks": "",
            "zerolinecolor": "white"
           },
           "yaxis": {
            "backgroundcolor": "#E5ECF6",
            "gridcolor": "white",
            "gridwidth": 2,
            "linecolor": "white",
            "showbackground": true,
            "ticks": "",
            "zerolinecolor": "white"
           },
           "zaxis": {
            "backgroundcolor": "#E5ECF6",
            "gridcolor": "white",
            "gridwidth": 2,
            "linecolor": "white",
            "showbackground": true,
            "ticks": "",
            "zerolinecolor": "white"
           }
          },
          "shapedefaults": {
           "line": {
            "color": "#2a3f5f"
           }
          },
          "ternary": {
           "aaxis": {
            "gridcolor": "white",
            "linecolor": "white",
            "ticks": ""
           },
           "baxis": {
            "gridcolor": "white",
            "linecolor": "white",
            "ticks": ""
           },
           "bgcolor": "#E5ECF6",
           "caxis": {
            "gridcolor": "white",
            "linecolor": "white",
            "ticks": ""
           }
          },
          "title": {
           "x": 0.05
          },
          "xaxis": {
           "automargin": true,
           "gridcolor": "white",
           "linecolor": "white",
           "ticks": "",
           "title": {
            "standoff": 15
           },
           "zerolinecolor": "white",
           "zerolinewidth": 2
          },
          "yaxis": {
           "automargin": true,
           "gridcolor": "white",
           "linecolor": "white",
           "ticks": "",
           "title": {
            "standoff": 15
           },
           "zerolinecolor": "white",
           "zerolinewidth": 2
          }
         }
        },
        "title": {
         "text": "Feature-Bedeutung aus Random Forest"
        },
        "xaxis": {
         "anchor": "y",
         "domain": [
          0,
          1
         ],
         "title": {
          "text": "Feature"
         }
        },
        "yaxis": {
         "anchor": "x",
         "domain": [
          0,
          1
         ],
         "title": {
          "text": "Feature-Wichtigkeit"
         }
        }
       }
      }
     },
     "metadata": {},
     "output_type": "display_data"
    }
   ],
   "source": [
    "# Feature-Wichtigkeit aus Random Forest\n",
    "feature_importance = clf.feature_importances_\n",
    "\n",
    "# DataFrame für Plotly erstellen\n",
    "df_plot = pd.DataFrame({\"Feature\": X.columns.tolist(), \"Wichtigkeit\": feature_importance})\n",
    "\n",
    "# Interaktive Visualisierung mit Plotly\n",
    "fig = px.bar(df_plot, x=\"Feature\", y=\"Wichtigkeit\", title=\"Feature-Bedeutung aus Random Forest\", labels={\"Feature\": \"Feature\", \"Wichtigkeit\": \"Feature-Wichtigkeit\"})\n",
    "fig.update_xaxes() \n",
    "fig.show()\n"
   ]
  }
 ],
 "metadata": {
  "kernelspec": {
   "display_name": "ML",
   "language": "python",
   "name": "python3"
  },
  "language_info": {
   "codemirror_mode": {
    "name": "ipython",
    "version": 3
   },
   "file_extension": ".py",
   "mimetype": "text/x-python",
   "name": "python",
   "nbconvert_exporter": "python",
   "pygments_lexer": "ipython3",
   "version": "3.12.9"
  }
 },
 "nbformat": 4,
 "nbformat_minor": 2
}
