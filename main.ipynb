{
 "cells": [
  {
   "cell_type": "markdown",
   "metadata": {},
   "source": [
    "# Anwendung von maschinellem Lernen auf den KHK_Klassifikation.csv Datensatz\n",
    "\n",
    "## Praktische Demonstration für verschiedene machine Learning Modelle\n",
    "\n",
    "### Tim Bleicher, Linus Pfeifer\n",
    "\n",
    "Dieses Jupyter Notebook demonstriert die Anwendung von verschiedenen Machine Learning Modellen auf den KHK_Klassifikation.csv Datensatz. \n",
    "\n",
    "# Inhaltsverzeichnis\n",
    "\n",
    "## 1. Einbindung der Daten\n",
    "- **1.1 Explorative Analyse der Daten**\n",
    "\n",
    "## 2. PCA-Dimensionsreduzierung zur Visualisierung und Analyse der Daten\n",
    "- **Funktionsweise von PCA**\n",
    "- **Lässt sich aus den PCA-Daten eine potentielle gute Separierbarkeit der Klassen ablesen?**\n",
    "\n",
    "## 3. Anwendung verschiedener Klassifikationsverfahren\n",
    "- **Definition und Datenvorbereitung**\n",
    "- **3.1 Logistische Regression**\n",
    "  - 3.1.1 Modell definieren und trainieren\n",
    "  - 3.1.2 Modell testen\n",
    "- **3.2 Entscheidungsbäume**\n",
    "  - 3.2.1 Klassische Entscheidungsbäume\n",
    "  - 3.2.2 Bagging in Form von Random Forest\n",
    "  - 3.2.3 Boosting in Form von AdaBoost\n",
    "  - 3.2.4 Stacking\n",
    "- **3.3 k-Nearest-Neighbor**\n",
    "  - 3.3.1 k-Nearest-Neighbor mit euklidischer Metrik\n",
    "  - 3.3.2 k-Nearest-Neighbor mit Manhattan Metrik\n",
    "  - 3.3.3 k-Nearest-Neighbor mit Minkowski Metrik (p = 3)\n",
    "- **3.4 Support Vector Machine**\n",
    "- **3.5 Neuronales Netz**\n",
    "  - 3.5.1 Aktivierungsfunktionen\n",
    "  - 3.5.2 Neuronales Netz mit SGD-Optimizer\n",
    "  - 3.5.3 Neuronales Netz mit Adam-Optimizer\n",
    "\n",
    "## 4. Bedeutung der einzelnen Features\n",
    "- **4.1 Feature-Bedeutung von PCA**\n",
    "- **4.2 Feature-Bedeutung für Random Forest**\n",
    "- **4.3 Feature-Bedeutung für SVM**\n",
    "\n",
    "## 5. Feature-Engineering\n",
    "- **5.1 Generieren der PCA-Hauptkomponenten-Daten**\n",
    "- **5.2 Testen des Feature-Engineering auf k-Nearest-Neighbor mit Manhattan Metrik**\n",
    "- **5.3 Testen des Feature-Engineering auf einem klassischen Entscheidungsbaum**\n",
    "\n",
    "## 6. Zusammentragung der Ergebnisse\n"
   ]
  },
  {
   "cell_type": "markdown",
   "metadata": {},
   "source": [
    "## 1. Einbindung der Daten\n",
    "\n",
    "Zu beginn des Projekts werden die Daten zunächst geladen um diese im anschluss analysieren und nutzen zu können."
   ]
  },
  {
   "cell_type": "code",
   "execution_count": 1,
   "metadata": {},
   "outputs": [
    {
     "name": "stdout",
     "output_type": "stream",
     "text": [
      "Requirement already satisfied: numpy in /opt/anaconda3/envs/ML/lib/python3.12/site-packages (from -r requirements.txt (line 1)) (2.1.3)\n",
      "Requirement already satisfied: pandas in /opt/anaconda3/envs/ML/lib/python3.12/site-packages (from -r requirements.txt (line 2)) (2.2.3)\n",
      "Requirement already satisfied: scikit-learn in /opt/anaconda3/envs/ML/lib/python3.12/site-packages (from -r requirements.txt (line 3)) (1.6.1)\n",
      "Requirement already satisfied: plotly in /opt/anaconda3/envs/ML/lib/python3.12/site-packages (from -r requirements.txt (line 4)) (6.0.1)\n",
      "Requirement already satisfied: tensorflow in /opt/anaconda3/envs/ML/lib/python3.12/site-packages (from -r requirements.txt (line 5)) (2.19.0)\n",
      "Requirement already satisfied: nbformat in /opt/anaconda3/envs/ML/lib/python3.12/site-packages (from -r requirements.txt (line 6)) (5.10.4)\n",
      "Requirement already satisfied: python-dateutil>=2.8.2 in /opt/anaconda3/envs/ML/lib/python3.12/site-packages (from pandas->-r requirements.txt (line 2)) (2.9.0.post0)\n",
      "Requirement already satisfied: pytz>=2020.1 in /opt/anaconda3/envs/ML/lib/python3.12/site-packages (from pandas->-r requirements.txt (line 2)) (2025.1)\n",
      "Requirement already satisfied: tzdata>=2022.7 in /opt/anaconda3/envs/ML/lib/python3.12/site-packages (from pandas->-r requirements.txt (line 2)) (2025.1)\n",
      "Requirement already satisfied: scipy>=1.6.0 in /opt/anaconda3/envs/ML/lib/python3.12/site-packages (from scikit-learn->-r requirements.txt (line 3)) (1.15.2)\n",
      "Requirement already satisfied: joblib>=1.2.0 in /opt/anaconda3/envs/ML/lib/python3.12/site-packages (from scikit-learn->-r requirements.txt (line 3)) (1.4.2)\n",
      "Requirement already satisfied: threadpoolctl>=3.1.0 in /opt/anaconda3/envs/ML/lib/python3.12/site-packages (from scikit-learn->-r requirements.txt (line 3)) (3.5.0)\n",
      "Requirement already satisfied: narwhals>=1.15.1 in /opt/anaconda3/envs/ML/lib/python3.12/site-packages (from plotly->-r requirements.txt (line 4)) (1.33.0)\n",
      "Requirement already satisfied: packaging in /opt/anaconda3/envs/ML/lib/python3.12/site-packages (from plotly->-r requirements.txt (line 4)) (24.2)\n",
      "Requirement already satisfied: absl-py>=1.0.0 in /opt/anaconda3/envs/ML/lib/python3.12/site-packages (from tensorflow->-r requirements.txt (line 5)) (2.2.2)\n",
      "Requirement already satisfied: astunparse>=1.6.0 in /opt/anaconda3/envs/ML/lib/python3.12/site-packages (from tensorflow->-r requirements.txt (line 5)) (1.6.3)\n",
      "Requirement already satisfied: flatbuffers>=24.3.25 in /opt/anaconda3/envs/ML/lib/python3.12/site-packages (from tensorflow->-r requirements.txt (line 5)) (25.2.10)\n",
      "Requirement already satisfied: gast!=0.5.0,!=0.5.1,!=0.5.2,>=0.2.1 in /opt/anaconda3/envs/ML/lib/python3.12/site-packages (from tensorflow->-r requirements.txt (line 5)) (0.6.0)\n",
      "Requirement already satisfied: google-pasta>=0.1.1 in /opt/anaconda3/envs/ML/lib/python3.12/site-packages (from tensorflow->-r requirements.txt (line 5)) (0.2.0)\n",
      "Requirement already satisfied: libclang>=13.0.0 in /opt/anaconda3/envs/ML/lib/python3.12/site-packages (from tensorflow->-r requirements.txt (line 5)) (18.1.1)\n",
      "Requirement already satisfied: opt-einsum>=2.3.2 in /opt/anaconda3/envs/ML/lib/python3.12/site-packages (from tensorflow->-r requirements.txt (line 5)) (3.4.0)\n",
      "Requirement already satisfied: protobuf!=4.21.0,!=4.21.1,!=4.21.2,!=4.21.3,!=4.21.4,!=4.21.5,<6.0.0dev,>=3.20.3 in /opt/anaconda3/envs/ML/lib/python3.12/site-packages (from tensorflow->-r requirements.txt (line 5)) (5.29.4)\n",
      "Requirement already satisfied: requests<3,>=2.21.0 in /opt/anaconda3/envs/ML/lib/python3.12/site-packages (from tensorflow->-r requirements.txt (line 5)) (2.32.3)\n",
      "Requirement already satisfied: setuptools in /opt/anaconda3/envs/ML/lib/python3.12/site-packages (from tensorflow->-r requirements.txt (line 5)) (75.8.0)\n",
      "Requirement already satisfied: six>=1.12.0 in /opt/anaconda3/envs/ML/lib/python3.12/site-packages (from tensorflow->-r requirements.txt (line 5)) (1.17.0)\n",
      "Requirement already satisfied: termcolor>=1.1.0 in /opt/anaconda3/envs/ML/lib/python3.12/site-packages (from tensorflow->-r requirements.txt (line 5)) (3.0.1)\n",
      "Requirement already satisfied: typing-extensions>=3.6.6 in /opt/anaconda3/envs/ML/lib/python3.12/site-packages (from tensorflow->-r requirements.txt (line 5)) (4.12.2)\n",
      "Requirement already satisfied: wrapt>=1.11.0 in /opt/anaconda3/envs/ML/lib/python3.12/site-packages (from tensorflow->-r requirements.txt (line 5)) (1.17.2)\n",
      "Requirement already satisfied: grpcio<2.0,>=1.24.3 in /opt/anaconda3/envs/ML/lib/python3.12/site-packages (from tensorflow->-r requirements.txt (line 5)) (1.71.0)\n",
      "Requirement already satisfied: tensorboard~=2.19.0 in /opt/anaconda3/envs/ML/lib/python3.12/site-packages (from tensorflow->-r requirements.txt (line 5)) (2.19.0)\n",
      "Requirement already satisfied: keras>=3.5.0 in /opt/anaconda3/envs/ML/lib/python3.12/site-packages (from tensorflow->-r requirements.txt (line 5)) (3.9.2)\n",
      "Requirement already satisfied: h5py>=3.11.0 in /opt/anaconda3/envs/ML/lib/python3.12/site-packages (from tensorflow->-r requirements.txt (line 5)) (3.13.0)\n",
      "Requirement already satisfied: ml-dtypes<1.0.0,>=0.5.1 in /opt/anaconda3/envs/ML/lib/python3.12/site-packages (from tensorflow->-r requirements.txt (line 5)) (0.5.1)\n",
      "Requirement already satisfied: fastjsonschema>=2.15 in /opt/anaconda3/envs/ML/lib/python3.12/site-packages (from nbformat->-r requirements.txt (line 6)) (2.21.1)\n",
      "Requirement already satisfied: jsonschema>=2.6 in /opt/anaconda3/envs/ML/lib/python3.12/site-packages (from nbformat->-r requirements.txt (line 6)) (4.23.0)\n",
      "Requirement already satisfied: jupyter-core!=5.0.*,>=4.12 in /opt/anaconda3/envs/ML/lib/python3.12/site-packages (from nbformat->-r requirements.txt (line 6)) (5.7.2)\n",
      "Requirement already satisfied: traitlets>=5.1 in /opt/anaconda3/envs/ML/lib/python3.12/site-packages (from nbformat->-r requirements.txt (line 6)) (5.14.3)\n",
      "Requirement already satisfied: wheel<1.0,>=0.23.0 in /opt/anaconda3/envs/ML/lib/python3.12/site-packages (from astunparse>=1.6.0->tensorflow->-r requirements.txt (line 5)) (0.45.1)\n",
      "Requirement already satisfied: attrs>=22.2.0 in /opt/anaconda3/envs/ML/lib/python3.12/site-packages (from jsonschema>=2.6->nbformat->-r requirements.txt (line 6)) (25.1.0)\n",
      "Requirement already satisfied: jsonschema-specifications>=2023.03.6 in /opt/anaconda3/envs/ML/lib/python3.12/site-packages (from jsonschema>=2.6->nbformat->-r requirements.txt (line 6)) (2024.10.1)\n",
      "Requirement already satisfied: referencing>=0.28.4 in /opt/anaconda3/envs/ML/lib/python3.12/site-packages (from jsonschema>=2.6->nbformat->-r requirements.txt (line 6)) (0.36.2)\n",
      "Requirement already satisfied: rpds-py>=0.7.1 in /opt/anaconda3/envs/ML/lib/python3.12/site-packages (from jsonschema>=2.6->nbformat->-r requirements.txt (line 6)) (0.23.1)\n",
      "Requirement already satisfied: platformdirs>=2.5 in /opt/anaconda3/envs/ML/lib/python3.12/site-packages (from jupyter-core!=5.0.*,>=4.12->nbformat->-r requirements.txt (line 6)) (4.3.6)\n",
      "Requirement already satisfied: rich in /opt/anaconda3/envs/ML/lib/python3.12/site-packages (from keras>=3.5.0->tensorflow->-r requirements.txt (line 5)) (14.0.0)\n",
      "Requirement already satisfied: namex in /opt/anaconda3/envs/ML/lib/python3.12/site-packages (from keras>=3.5.0->tensorflow->-r requirements.txt (line 5)) (0.0.8)\n",
      "Requirement already satisfied: optree in /opt/anaconda3/envs/ML/lib/python3.12/site-packages (from keras>=3.5.0->tensorflow->-r requirements.txt (line 5)) (0.14.1)\n",
      "Requirement already satisfied: charset-normalizer<4,>=2 in /opt/anaconda3/envs/ML/lib/python3.12/site-packages (from requests<3,>=2.21.0->tensorflow->-r requirements.txt (line 5)) (3.4.1)\n",
      "Requirement already satisfied: idna<4,>=2.5 in /opt/anaconda3/envs/ML/lib/python3.12/site-packages (from requests<3,>=2.21.0->tensorflow->-r requirements.txt (line 5)) (3.10)\n",
      "Requirement already satisfied: urllib3<3,>=1.21.1 in /opt/anaconda3/envs/ML/lib/python3.12/site-packages (from requests<3,>=2.21.0->tensorflow->-r requirements.txt (line 5)) (2.3.0)\n",
      "Requirement already satisfied: certifi>=2017.4.17 in /opt/anaconda3/envs/ML/lib/python3.12/site-packages (from requests<3,>=2.21.0->tensorflow->-r requirements.txt (line 5)) (2025.1.31)\n",
      "Requirement already satisfied: markdown>=2.6.8 in /opt/anaconda3/envs/ML/lib/python3.12/site-packages (from tensorboard~=2.19.0->tensorflow->-r requirements.txt (line 5)) (3.7)\n",
      "Requirement already satisfied: tensorboard-data-server<0.8.0,>=0.7.0 in /opt/anaconda3/envs/ML/lib/python3.12/site-packages (from tensorboard~=2.19.0->tensorflow->-r requirements.txt (line 5)) (0.7.2)\n",
      "Requirement already satisfied: werkzeug>=1.0.1 in /opt/anaconda3/envs/ML/lib/python3.12/site-packages (from tensorboard~=2.19.0->tensorflow->-r requirements.txt (line 5)) (3.1.3)\n",
      "Requirement already satisfied: MarkupSafe>=2.1.1 in /opt/anaconda3/envs/ML/lib/python3.12/site-packages (from werkzeug>=1.0.1->tensorboard~=2.19.0->tensorflow->-r requirements.txt (line 5)) (3.0.2)\n",
      "Requirement already satisfied: markdown-it-py>=2.2.0 in /opt/anaconda3/envs/ML/lib/python3.12/site-packages (from rich->keras>=3.5.0->tensorflow->-r requirements.txt (line 5)) (3.0.0)\n",
      "Requirement already satisfied: pygments<3.0.0,>=2.13.0 in /opt/anaconda3/envs/ML/lib/python3.12/site-packages (from rich->keras>=3.5.0->tensorflow->-r requirements.txt (line 5)) (2.19.1)\n",
      "Requirement already satisfied: mdurl~=0.1 in /opt/anaconda3/envs/ML/lib/python3.12/site-packages (from markdown-it-py>=2.2.0->rich->keras>=3.5.0->tensorflow->-r requirements.txt (line 5)) (0.1.2)\n",
      "Note: you may need to restart the kernel to use updated packages.\n"
     ]
    }
   ],
   "source": [
    "pip install -r requirements.txt"
   ]
  },
  {
   "cell_type": "code",
   "execution_count": 2,
   "metadata": {},
   "outputs": [],
   "source": [
    "import pandas as pd\n",
    "import numpy as np\n",
    "import plotly.express as px\n",
    "from sklearn.preprocessing import LabelEncoder, StandardScaler, OneHotEncoder\n",
    "from sklearn.decomposition import PCA\n",
    "from sklearn.model_selection import train_test_split\n",
    "from sklearn.linear_model import LogisticRegression\n",
    "from sklearn.metrics import accuracy_score, classification_report\n",
    "from sklearn.compose import ColumnTransformer\n",
    "from sklearn.pipeline import Pipeline\n",
    "from sklearn.ensemble import RandomForestClassifier, AdaBoostClassifier, StackingClassifier\n",
    "from sklearn.tree import DecisionTreeClassifier\n",
    "from sklearn.svm import SVC\n",
    "from sklearn.neighbors import KNeighborsClassifier\n",
    "import tensorflow as tf\n",
    "import plotly.graph_objects as go\n",
    "from tensorflow.keras.models import Sequential\n",
    "from tensorflow.keras.layers import Dense\n",
    "from IPython.display import FileLink\n",
    "from sklearn.inspection import permutation_importance"
   ]
  },
  {
   "cell_type": "code",
   "execution_count": 3,
   "metadata": {},
   "outputs": [],
   "source": [
    "data = pd.read_csv('KHK_Klassifikation.csv', sep=',')"
   ]
  },
  {
   "cell_type": "code",
   "execution_count": 4,
   "metadata": {},
   "outputs": [],
   "source": [
    "# Initialize list to collect classification results\n",
    "results = []\n",
    "\n",
    "\n",
    "def save_results(name, y_true, y_pred, results_list):\n",
    "    \"\"\"Stores accuracy and classification metrics in a list.\"\"\"\n",
    "    accuracy = round(accuracy_score(y_true, y_pred), 3)\n",
    "    report = classification_report(y_true, y_pred, output_dict=True)\n",
    "\n",
    "    results_list.append({\n",
    "        'Model': name,\n",
    "        'Accuracy': accuracy,\n",
    "        'Precision_0': round(report['0']['precision'], 3),\n",
    "        'Recall_0': round(report['0']['recall'], 3),\n",
    "        'F1_0': round(report['0']['f1-score'], 3),\n",
    "        'Precision_1': round(report['1']['precision'], 3),\n",
    "        'Recall_1': round(report['1']['recall'], 3),\n",
    "        'F1_1': round(report['1']['f1-score'], 3),\n",
    "        'Macro_F1': round(report['macro avg']['f1-score'], 3)\n",
    "    })\n",
    "\n",
    "    print(f\"Model accuracy: {accuracy:.3f}\")\n",
    "    print(classification_report(y_true, y_pred, digits=3))"
   ]
  },
  {
   "cell_type": "markdown",
   "metadata": {},
   "source": [
    "## 1.1 Explorative Analyse der Daten \n",
    "\n",
    "Die explorative Datenanalyse (EDA) ist ein Ansatz zur Untersuchung von Datensätzen, bei dem zunächst deren Hauptmerkmale visuell und statistisch beschrieben werden – oft noch ohne eine konkrete Hypothese. Ziel ist es, ein erstes Verständnis für Struktur, Muster, Ausreißer, Verteilungen und potenzielle Zusammenhänge in den Daten zu bekommen (vgl. https://www.ibm.com/think/topics/exploratory-data-analysis).\n",
    "\n",
    "### 📄 Beschreibung der Attribute im Datensatz\n",
    "\n",
    "| Attribut      | Beschreibung |\n",
    "|---------------|-------------|\n",
    "| **Alter** | Alter der Patientin oder des Patienten in Jahren. |\n",
    "| **Geschlecht** | Geschlecht der Person: <br>`M` steht für männlich, `F` für weiblich. |\n",
    "| **Blutdruck** | Systolischer Blutdruck in mmHg (Millimeter Quecksilbersäule), gemessen im Ruhezustand. Werte ab 140 gelten in der Regel als erhöhter Blutdruck. (vgl. https://www.visomat.de/blutdruck-normalwerte/)|\n",
    "| **Chol** | Gesamtcholesterin im Blut in mg/dL (Milligramm pro Deziliter). Erhöhte Werte (>190 mg/dL) können ein Risiko für Herz-Kreislauf-Erkrankungen darstellen. (vgl. https://www.cholesterinspiegel.de/auffaellige-cholesterinwerte/) |\n",
    "| **Blutzucker** | Nüchtern-Blutzuckerwert: <br>`0` = Normaler Blutzucker <br>`1` = Erhöhter Blutzucker (möglicher Hinweis auf Diabetes oder Prädiabetes). |\n",
    "| **EKG** | Ergebnis des Ruhe-EKGs. Mögliche Kategorien: <br>- `Normal` = unauffälliger Befund <br>- `ST` = ST-Streckensenkung (Hinweis auf Belastungsischämie) <br>- `LVH` = Linksventrikuläre Hypertrophie (Herzmuskelvergrößerung). |\n",
    "| **HFmax** | Maximale Herzfrequenz (in Schlägen pro Minute), die während eines Belastungstests erreicht wurde. Sehr grobe Faustregel: HFmax = 220 - Lebensalter (vgl. https://www.germanjournalsportsmedicine.com/archive/archive-2010/heft-12/die-maximale-herzfrequenz/) |\n",
    "| **AP** | Angina Pectoris bei Belastung: <br>`N` = Keine Symptome <br>`Y` = Auftreten von Angina Pectoris (Brustschmerzen unter Belastung), möglicher Hinweis auf Durchblutungsstörungen des Herzens. |\n",
    "| **RZ** | Rückgang (bzw. Veränderung) der ST-Strecke während eines Belastungs-EKGs in **mm**. <br> Positive Werte deuten auf eine **ST-Streckensenkung** hin, was auf eine mögliche **Ischämie des Herzmuskels** (z. B. bei KHK) hindeuten kann. <br> Negative Werte können als **ST-Streckenhebung** interpretiert werden – diese können je nach klinischem Zusammenhang normal, unspezifisch oder auch pathologisch sein (z. B. bei Infarkten oder Perikarditis). <br> In der Regel gilt: Je größer der **absolute Betrag**, desto auffälliger der Befund. |\n",
    "| **KHK** | **Zielvariable** – Diagnose einer koronaren Herzkrankheit: <br>`0` = Keine KHK <br>`1` = KHK nachgewiesen (positives Ergebnis). |\n",
    "\n"
   ]
  },
  {
   "cell_type": "markdown",
   "metadata": {},
   "source": [
    "**Erster Blick auf die Daten:**  \n",
    "Zuerst wird eine Kopie des Datensatzes erstellt und ein erster Blick auf die obersten Zeilen geworfen.\n",
    "Dies dient dazu einen ersten groben Überblick über die Daten zu bekommen. "
   ]
  },
  {
   "cell_type": "code",
   "execution_count": 5,
   "metadata": {},
   "outputs": [
    {
     "data": {
      "text/html": [
       "<div>\n",
       "<style scoped>\n",
       "    .dataframe tbody tr th:only-of-type {\n",
       "        vertical-align: middle;\n",
       "    }\n",
       "\n",
       "    .dataframe tbody tr th {\n",
       "        vertical-align: top;\n",
       "    }\n",
       "\n",
       "    .dataframe thead th {\n",
       "        text-align: right;\n",
       "    }\n",
       "</style>\n",
       "<table border=\"1\" class=\"dataframe\">\n",
       "  <thead>\n",
       "    <tr style=\"text-align: right;\">\n",
       "      <th></th>\n",
       "      <th>Alter</th>\n",
       "      <th>Geschlecht</th>\n",
       "      <th>Blutdruck</th>\n",
       "      <th>Chol</th>\n",
       "      <th>Blutzucker</th>\n",
       "      <th>EKG</th>\n",
       "      <th>HFmax</th>\n",
       "      <th>AP</th>\n",
       "      <th>RZ</th>\n",
       "      <th>KHK</th>\n",
       "    </tr>\n",
       "  </thead>\n",
       "  <tbody>\n",
       "    <tr>\n",
       "      <th>0</th>\n",
       "      <td>40</td>\n",
       "      <td>M</td>\n",
       "      <td>140</td>\n",
       "      <td>289</td>\n",
       "      <td>0</td>\n",
       "      <td>Normal</td>\n",
       "      <td>172</td>\n",
       "      <td>N</td>\n",
       "      <td>0.0</td>\n",
       "      <td>0</td>\n",
       "    </tr>\n",
       "    <tr>\n",
       "      <th>1</th>\n",
       "      <td>49</td>\n",
       "      <td>F</td>\n",
       "      <td>160</td>\n",
       "      <td>180</td>\n",
       "      <td>0</td>\n",
       "      <td>Normal</td>\n",
       "      <td>156</td>\n",
       "      <td>N</td>\n",
       "      <td>1.0</td>\n",
       "      <td>1</td>\n",
       "    </tr>\n",
       "    <tr>\n",
       "      <th>2</th>\n",
       "      <td>37</td>\n",
       "      <td>M</td>\n",
       "      <td>130</td>\n",
       "      <td>283</td>\n",
       "      <td>0</td>\n",
       "      <td>ST</td>\n",
       "      <td>98</td>\n",
       "      <td>N</td>\n",
       "      <td>0.0</td>\n",
       "      <td>0</td>\n",
       "    </tr>\n",
       "    <tr>\n",
       "      <th>3</th>\n",
       "      <td>48</td>\n",
       "      <td>F</td>\n",
       "      <td>138</td>\n",
       "      <td>214</td>\n",
       "      <td>0</td>\n",
       "      <td>Normal</td>\n",
       "      <td>108</td>\n",
       "      <td>Y</td>\n",
       "      <td>1.5</td>\n",
       "      <td>1</td>\n",
       "    </tr>\n",
       "    <tr>\n",
       "      <th>4</th>\n",
       "      <td>54</td>\n",
       "      <td>M</td>\n",
       "      <td>150</td>\n",
       "      <td>195</td>\n",
       "      <td>0</td>\n",
       "      <td>Normal</td>\n",
       "      <td>122</td>\n",
       "      <td>N</td>\n",
       "      <td>0.0</td>\n",
       "      <td>0</td>\n",
       "    </tr>\n",
       "  </tbody>\n",
       "</table>\n",
       "</div>"
      ],
      "text/plain": [
       "   Alter Geschlecht  Blutdruck  Chol  Blutzucker     EKG  HFmax AP   RZ  KHK\n",
       "0     40          M        140   289           0  Normal    172  N  0.0    0\n",
       "1     49          F        160   180           0  Normal    156  N  1.0    1\n",
       "2     37          M        130   283           0      ST     98  N  0.0    0\n",
       "3     48          F        138   214           0  Normal    108  Y  1.5    1\n",
       "4     54          M        150   195           0  Normal    122  N  0.0    0"
      ]
     },
     "metadata": {},
     "output_type": "display_data"
    }
   ],
   "source": [
    "# Copy of the original dataset\n",
    "df = data.copy()\n",
    "\n",
    "# Display the first few rows\n",
    "display(df.head())"
   ]
  },
  {
   "cell_type": "markdown",
   "metadata": {},
   "source": [
    "**Allgemeine Informationen:**  \n",
    "Mit `df.info()` erhält man einen Überblick über die Spalten, Datentypen und Anzahl fehlender Werte. Das ist wichtig, um zu verstehen, welche Features numerisch oder kategorisch sind."
   ]
  },
  {
   "cell_type": "code",
   "execution_count": 6,
   "metadata": {},
   "outputs": [
    {
     "name": "stdout",
     "output_type": "stream",
     "text": [
      "<class 'pandas.core.frame.DataFrame'>\n",
      "RangeIndex: 918 entries, 0 to 917\n",
      "Data columns (total 10 columns):\n",
      " #   Column      Non-Null Count  Dtype  \n",
      "---  ------      --------------  -----  \n",
      " 0   Alter       918 non-null    int64  \n",
      " 1   Geschlecht  918 non-null    object \n",
      " 2   Blutdruck   918 non-null    int64  \n",
      " 3   Chol        918 non-null    int64  \n",
      " 4   Blutzucker  918 non-null    int64  \n",
      " 5   EKG         918 non-null    object \n",
      " 6   HFmax       918 non-null    int64  \n",
      " 7   AP          918 non-null    object \n",
      " 8   RZ          918 non-null    float64\n",
      " 9   KHK         918 non-null    int64  \n",
      "dtypes: float64(1), int64(6), object(3)\n",
      "memory usage: 71.8+ KB\n"
     ]
    },
    {
     "data": {
      "text/plain": [
       "None"
      ]
     },
     "metadata": {},
     "output_type": "display_data"
    }
   ],
   "source": [
    "# General information about the dataset\n",
    "display(df.info())"
   ]
  },
  {
   "cell_type": "markdown",
   "metadata": {},
   "source": [
    "**Statistische Kennzahlen:**  \n",
    "Diese Übersicht zeigt zentrale Lage- und Streuungsmaße (z. B. Mittelwert, Standardabweichung) für alle numerischen Spalten. Das hilft, Ausreißer oder ungewöhnliche Verteilungen frühzeitig zu erkennen."
   ]
  },
  {
   "cell_type": "code",
   "execution_count": 7,
   "metadata": {},
   "outputs": [
    {
     "data": {
      "text/html": [
       "<div>\n",
       "<style scoped>\n",
       "    .dataframe tbody tr th:only-of-type {\n",
       "        vertical-align: middle;\n",
       "    }\n",
       "\n",
       "    .dataframe tbody tr th {\n",
       "        vertical-align: top;\n",
       "    }\n",
       "\n",
       "    .dataframe thead th {\n",
       "        text-align: right;\n",
       "    }\n",
       "</style>\n",
       "<table border=\"1\" class=\"dataframe\">\n",
       "  <thead>\n",
       "    <tr style=\"text-align: right;\">\n",
       "      <th></th>\n",
       "      <th>Alter</th>\n",
       "      <th>Blutdruck</th>\n",
       "      <th>Chol</th>\n",
       "      <th>Blutzucker</th>\n",
       "      <th>HFmax</th>\n",
       "      <th>RZ</th>\n",
       "      <th>KHK</th>\n",
       "    </tr>\n",
       "  </thead>\n",
       "  <tbody>\n",
       "    <tr>\n",
       "      <th>count</th>\n",
       "      <td>918.000000</td>\n",
       "      <td>918.000000</td>\n",
       "      <td>918.000000</td>\n",
       "      <td>918.000000</td>\n",
       "      <td>918.000000</td>\n",
       "      <td>918.000000</td>\n",
       "      <td>918.000000</td>\n",
       "    </tr>\n",
       "    <tr>\n",
       "      <th>mean</th>\n",
       "      <td>53.510893</td>\n",
       "      <td>132.396514</td>\n",
       "      <td>198.799564</td>\n",
       "      <td>0.233115</td>\n",
       "      <td>136.809368</td>\n",
       "      <td>0.887364</td>\n",
       "      <td>0.553377</td>\n",
       "    </tr>\n",
       "    <tr>\n",
       "      <th>std</th>\n",
       "      <td>9.432617</td>\n",
       "      <td>18.514154</td>\n",
       "      <td>109.384145</td>\n",
       "      <td>0.423046</td>\n",
       "      <td>25.460334</td>\n",
       "      <td>1.066570</td>\n",
       "      <td>0.497414</td>\n",
       "    </tr>\n",
       "    <tr>\n",
       "      <th>min</th>\n",
       "      <td>28.000000</td>\n",
       "      <td>0.000000</td>\n",
       "      <td>0.000000</td>\n",
       "      <td>0.000000</td>\n",
       "      <td>60.000000</td>\n",
       "      <td>-2.600000</td>\n",
       "      <td>0.000000</td>\n",
       "    </tr>\n",
       "    <tr>\n",
       "      <th>25%</th>\n",
       "      <td>47.000000</td>\n",
       "      <td>120.000000</td>\n",
       "      <td>173.250000</td>\n",
       "      <td>0.000000</td>\n",
       "      <td>120.000000</td>\n",
       "      <td>0.000000</td>\n",
       "      <td>0.000000</td>\n",
       "    </tr>\n",
       "    <tr>\n",
       "      <th>50%</th>\n",
       "      <td>54.000000</td>\n",
       "      <td>130.000000</td>\n",
       "      <td>223.000000</td>\n",
       "      <td>0.000000</td>\n",
       "      <td>138.000000</td>\n",
       "      <td>0.600000</td>\n",
       "      <td>1.000000</td>\n",
       "    </tr>\n",
       "    <tr>\n",
       "      <th>75%</th>\n",
       "      <td>60.000000</td>\n",
       "      <td>140.000000</td>\n",
       "      <td>267.000000</td>\n",
       "      <td>0.000000</td>\n",
       "      <td>156.000000</td>\n",
       "      <td>1.500000</td>\n",
       "      <td>1.000000</td>\n",
       "    </tr>\n",
       "    <tr>\n",
       "      <th>max</th>\n",
       "      <td>77.000000</td>\n",
       "      <td>200.000000</td>\n",
       "      <td>603.000000</td>\n",
       "      <td>1.000000</td>\n",
       "      <td>202.000000</td>\n",
       "      <td>6.200000</td>\n",
       "      <td>1.000000</td>\n",
       "    </tr>\n",
       "  </tbody>\n",
       "</table>\n",
       "</div>"
      ],
      "text/plain": [
       "            Alter   Blutdruck        Chol  Blutzucker       HFmax          RZ  \\\n",
       "count  918.000000  918.000000  918.000000  918.000000  918.000000  918.000000   \n",
       "mean    53.510893  132.396514  198.799564    0.233115  136.809368    0.887364   \n",
       "std      9.432617   18.514154  109.384145    0.423046   25.460334    1.066570   \n",
       "min     28.000000    0.000000    0.000000    0.000000   60.000000   -2.600000   \n",
       "25%     47.000000  120.000000  173.250000    0.000000  120.000000    0.000000   \n",
       "50%     54.000000  130.000000  223.000000    0.000000  138.000000    0.600000   \n",
       "75%     60.000000  140.000000  267.000000    0.000000  156.000000    1.500000   \n",
       "max     77.000000  200.000000  603.000000    1.000000  202.000000    6.200000   \n",
       "\n",
       "              KHK  \n",
       "count  918.000000  \n",
       "mean     0.553377  \n",
       "std      0.497414  \n",
       "min      0.000000  \n",
       "25%      0.000000  \n",
       "50%      1.000000  \n",
       "75%      1.000000  \n",
       "max      1.000000  "
      ]
     },
     "metadata": {},
     "output_type": "display_data"
    }
   ],
   "source": [
    "# Statistical overview of numerical features\n",
    "display(df.describe())"
   ]
  },
  {
   "cell_type": "markdown",
   "metadata": {},
   "source": [
    "**Kategoriale Merkmale analysieren:**  \n",
    "Nun wird die Häufigkeit der Werte in allen kategorialen Spalten angesehen. So erkennt man dominante Klassen und mögliche Ungleichgewichte."
   ]
  },
  {
   "cell_type": "code",
   "execution_count": 8,
   "metadata": {},
   "outputs": [
    {
     "name": "stdout",
     "output_type": "stream",
     "text": [
      "\n",
      "Value distribution for 'Geschlecht':\n",
      "Geschlecht\n",
      "M    725\n",
      "F    193\n",
      "Name: count, dtype: int64\n",
      "\n",
      "Value distribution for 'EKG':\n",
      "EKG\n",
      "Normal    552\n",
      "LVH       188\n",
      "ST        178\n",
      "Name: count, dtype: int64\n",
      "\n",
      "Value distribution for 'AP':\n",
      "AP\n",
      "N    547\n",
      "Y    371\n",
      "Name: count, dtype: int64\n"
     ]
    }
   ],
   "source": [
    "# Frequency of values for categorical features\n",
    "for col in df.select_dtypes(include=['object']).columns:\n",
    "    print(f\"\\nValue distribution for '{col}':\")\n",
    "    print(df[col].value_counts())"
   ]
  },
  {
   "cell_type": "markdown",
   "metadata": {},
   "source": [
    "**Fehlende Werte prüfen:**  \n",
    "Hier wird analysiert, in welchen Spalten Daten fehlen. Dies ist entscheidend für die spätere Datenbereinigung oder Modellierung.\n"
   ]
  },
  {
   "cell_type": "code",
   "execution_count": 9,
   "metadata": {},
   "outputs": [
    {
     "name": "stdout",
     "output_type": "stream",
     "text": [
      "\n",
      "Missing values per column:\n",
      "Alter         0\n",
      "Geschlecht    0\n",
      "Blutdruck     0\n",
      "Chol          0\n",
      "Blutzucker    0\n",
      "EKG           0\n",
      "HFmax         0\n",
      "AP            0\n",
      "RZ            0\n",
      "KHK           0\n",
      "dtype: int64\n"
     ]
    }
   ],
   "source": [
    "# Missing values\n",
    "print(\"\\nMissing values per column:\")\n",
    "print(df.isnull().sum())"
   ]
  },
  {
   "cell_type": "markdown",
   "metadata": {},
   "source": [
    "**Doppelte Einträge identifizieren:**  \n",
    "Es wird geprüft, ob es doppelte Zeilen gibt – diese sollten bei Bedarf entfernt werden, um Verzerrungen zu vermeiden.\n"
   ]
  },
  {
   "cell_type": "code",
   "execution_count": 10,
   "metadata": {},
   "outputs": [
    {
     "name": "stdout",
     "output_type": "stream",
     "text": [
      "\n",
      "Number of duplicate rows: 0\n"
     ]
    }
   ],
   "source": [
    "# Check for duplicates\n",
    "print(\"\\nNumber of duplicate rows:\", df.duplicated().sum())"
   ]
  },
  {
   "cell_type": "markdown",
   "metadata": {},
   "source": [
    "**Zielvariable analysieren:**  \n",
    "Ein schneller Blick auf die Verteilung der Zielgröße (KHK: koronare Herzkrankheit). So sieht man z. B., ob die Klassen unausgeglichen sind.\n"
   ]
  },
  {
   "cell_type": "code",
   "execution_count": 11,
   "metadata": {},
   "outputs": [
    {
     "name": "stdout",
     "output_type": "stream",
     "text": [
      "\n",
      "Distribution of the target variable 'CHD':\n",
      "KHK\n",
      "1    508\n",
      "0    410\n",
      "Name: count, dtype: int64\n"
     ]
    }
   ],
   "source": [
    "# Distribution of the target variable (CHD)\n",
    "print(\"\\nDistribution of the target variable 'CHD':\")\n",
    "print(df[\"KHK\"].value_counts())"
   ]
  },
  {
   "cell_type": "markdown",
   "metadata": {},
   "source": [
    "**Boxplots zur Übersicht:**  \n",
    "Boxplots geben einen schnellen Überblick über die Verteilung numerischer Merkmale inkl. Ausreißer. Dies ist besonders hilfreich zum Erkennen von Extremwerten.\n"
   ]
  },
  {
   "cell_type": "code",
   "execution_count": 12,
   "metadata": {},
   "outputs": [
    {
     "data": {
      "application/vnd.plotly.v1+json": {
       "config": {
        "plotlyServerURL": "https://plot.ly"
       },
       "data": [
        {
         "alignmentgroup": "True",
         "boxpoints": "all",
         "hovertemplate": "Alter=%{y}<extra></extra>",
         "legendgroup": "",
         "marker": {
          "color": "#636efa"
         },
         "name": "",
         "notched": false,
         "offsetgroup": "",
         "orientation": "v",
         "showlegend": false,
         "type": "box",
         "x0": " ",
         "xaxis": "x",
         "y": {
          "bdata": "KDElMDYnLTYlMCU6JzEqNiYrPCQrLDEsKCQ1NDUzNTg2KSsgQSkwMDY2IzQrOyUyJCkyLy0pNDMfOjY0MSstLjIlLSA0LDksNCw3LiAjNDE3Nj80OEJBNSs3MSc0MCc6Kyc4KUEzKCguOTAiMic7OS8mMSEmOyMiLzQuOjo2IjA2KiYuODg9MSsnNis0Mi81OCcqKzI2JzAoNyk4JjEsNjsxLyo0LjIwOjodKDUxNCs2OyUuNDM0LjY6OikyNS4yMC0pPjEqNTkvLiofODIjIxw2MDI4OC8eJzY3HS4zMCE3MjUmKSUlKCYpNicpNzAwNzY3KzA2NjAtMSwwPT43NTckMzcuNi47LzY0IjYvLSA3Ny07MzQ5NjwxMzcqMzs1MCQwLzVBID0yOTMvPDc1PjMzNzU6OUE8KSI1Sjk4PUQ7PyY+LiotOzQ8PDgmKDM+SD8/QCtAPTQzRTswRSQ1Kzg6N0MuNSY1Pi84ODhAPUQ5PzxCPzs9SS9BRjI8MismNj0qNTc9M0Y9JjkmPjo0PTIzQTQvIzk+OzU+Njg4NkI/LDw3QkJBPDw8ODs+Pzk+Py4/PDpAP0o0RTM8ODc2TT83NEA8PDo7PSg9KTk/OzM7Kjc/Pjg1RDU8PjszPTk4OkVDOkE/NzlBNkhLMTM8QDo9Qz5BP0UzPjdLKEM6PD8jPis/REEwP0A9Mjs3LUE9MUgyQDc/Ozg+SjY5Pkw2Rj0wMD1CRDc+R0o1Oks4OkA2Njs3OT0pRyY3OEVASEU4PkM5RTMwRUVAOTUlQ0o/Oj1AOjw5Nzc4OT09SkQzPjU+LjY+Nzo+RkM5QEpBODs8Pzs1LD05Ry41QChDMCsvNjAuMzpHOUIlOzIwPTsqMCg+LC47OjEsQkEqNEE/LSk9PDs+OTMsPD85MzosLz05RkxDLS0nKjg6IzopOSo+OykyOz02NjQvQjpAMixDMTk/MDM8Oy03KTw2KjEuOEI4MTY5QTY2PjQ0PD9CKkA2LkM4IjlAOzIzNjU0KDopKTI2QDMuNy04QiY+NzorQDI1LUFFRUNEIj4zLkMyKjgpKjUrODQ+RjZGNiMwNzo2RU1EOjwzNzQ8OkAlOzMrOh0pPzM2LDZBOT8jKT4rOjQ9Jy00Pj41Ky80RCc1PjM8QUE8PDYsLDM7Rz03QCs6PDoxMDQsODlDNTQrNDtAQic5OjkvNyM9Ojo6ODhDNyw/Pyk7OS1EOTkm",
          "dtype": "i1"
         },
         "y0": " ",
         "yaxis": "y"
        }
       ],
       "layout": {
        "boxmode": "group",
        "legend": {
         "tracegroupgap": 0
        },
        "template": {
         "data": {
          "bar": [
           {
            "error_x": {
             "color": "#2a3f5f"
            },
            "error_y": {
             "color": "#2a3f5f"
            },
            "marker": {
             "line": {
              "color": "white",
              "width": 0.5
             },
             "pattern": {
              "fillmode": "overlay",
              "size": 10,
              "solidity": 0.2
             }
            },
            "type": "bar"
           }
          ],
          "barpolar": [
           {
            "marker": {
             "line": {
              "color": "white",
              "width": 0.5
             },
             "pattern": {
              "fillmode": "overlay",
              "size": 10,
              "solidity": 0.2
             }
            },
            "type": "barpolar"
           }
          ],
          "carpet": [
           {
            "aaxis": {
             "endlinecolor": "#2a3f5f",
             "gridcolor": "#C8D4E3",
             "linecolor": "#C8D4E3",
             "minorgridcolor": "#C8D4E3",
             "startlinecolor": "#2a3f5f"
            },
            "baxis": {
             "endlinecolor": "#2a3f5f",
             "gridcolor": "#C8D4E3",
             "linecolor": "#C8D4E3",
             "minorgridcolor": "#C8D4E3",
             "startlinecolor": "#2a3f5f"
            },
            "type": "carpet"
           }
          ],
          "choropleth": [
           {
            "colorbar": {
             "outlinewidth": 0,
             "ticks": ""
            },
            "type": "choropleth"
           }
          ],
          "contour": [
           {
            "colorbar": {
             "outlinewidth": 0,
             "ticks": ""
            },
            "colorscale": [
             [
              0,
              "#0d0887"
             ],
             [
              0.1111111111111111,
              "#46039f"
             ],
             [
              0.2222222222222222,
              "#7201a8"
             ],
             [
              0.3333333333333333,
              "#9c179e"
             ],
             [
              0.4444444444444444,
              "#bd3786"
             ],
             [
              0.5555555555555556,
              "#d8576b"
             ],
             [
              0.6666666666666666,
              "#ed7953"
             ],
             [
              0.7777777777777778,
              "#fb9f3a"
             ],
             [
              0.8888888888888888,
              "#fdca26"
             ],
             [
              1,
              "#f0f921"
             ]
            ],
            "type": "contour"
           }
          ],
          "contourcarpet": [
           {
            "colorbar": {
             "outlinewidth": 0,
             "ticks": ""
            },
            "type": "contourcarpet"
           }
          ],
          "heatmap": [
           {
            "colorbar": {
             "outlinewidth": 0,
             "ticks": ""
            },
            "colorscale": [
             [
              0,
              "#0d0887"
             ],
             [
              0.1111111111111111,
              "#46039f"
             ],
             [
              0.2222222222222222,
              "#7201a8"
             ],
             [
              0.3333333333333333,
              "#9c179e"
             ],
             [
              0.4444444444444444,
              "#bd3786"
             ],
             [
              0.5555555555555556,
              "#d8576b"
             ],
             [
              0.6666666666666666,
              "#ed7953"
             ],
             [
              0.7777777777777778,
              "#fb9f3a"
             ],
             [
              0.8888888888888888,
              "#fdca26"
             ],
             [
              1,
              "#f0f921"
             ]
            ],
            "type": "heatmap"
           }
          ],
          "histogram": [
           {
            "marker": {
             "pattern": {
              "fillmode": "overlay",
              "size": 10,
              "solidity": 0.2
             }
            },
            "type": "histogram"
           }
          ],
          "histogram2d": [
           {
            "colorbar": {
             "outlinewidth": 0,
             "ticks": ""
            },
            "colorscale": [
             [
              0,
              "#0d0887"
             ],
             [
              0.1111111111111111,
              "#46039f"
             ],
             [
              0.2222222222222222,
              "#7201a8"
             ],
             [
              0.3333333333333333,
              "#9c179e"
             ],
             [
              0.4444444444444444,
              "#bd3786"
             ],
             [
              0.5555555555555556,
              "#d8576b"
             ],
             [
              0.6666666666666666,
              "#ed7953"
             ],
             [
              0.7777777777777778,
              "#fb9f3a"
             ],
             [
              0.8888888888888888,
              "#fdca26"
             ],
             [
              1,
              "#f0f921"
             ]
            ],
            "type": "histogram2d"
           }
          ],
          "histogram2dcontour": [
           {
            "colorbar": {
             "outlinewidth": 0,
             "ticks": ""
            },
            "colorscale": [
             [
              0,
              "#0d0887"
             ],
             [
              0.1111111111111111,
              "#46039f"
             ],
             [
              0.2222222222222222,
              "#7201a8"
             ],
             [
              0.3333333333333333,
              "#9c179e"
             ],
             [
              0.4444444444444444,
              "#bd3786"
             ],
             [
              0.5555555555555556,
              "#d8576b"
             ],
             [
              0.6666666666666666,
              "#ed7953"
             ],
             [
              0.7777777777777778,
              "#fb9f3a"
             ],
             [
              0.8888888888888888,
              "#fdca26"
             ],
             [
              1,
              "#f0f921"
             ]
            ],
            "type": "histogram2dcontour"
           }
          ],
          "mesh3d": [
           {
            "colorbar": {
             "outlinewidth": 0,
             "ticks": ""
            },
            "type": "mesh3d"
           }
          ],
          "parcoords": [
           {
            "line": {
             "colorbar": {
              "outlinewidth": 0,
              "ticks": ""
             }
            },
            "type": "parcoords"
           }
          ],
          "pie": [
           {
            "automargin": true,
            "type": "pie"
           }
          ],
          "scatter": [
           {
            "fillpattern": {
             "fillmode": "overlay",
             "size": 10,
             "solidity": 0.2
            },
            "type": "scatter"
           }
          ],
          "scatter3d": [
           {
            "line": {
             "colorbar": {
              "outlinewidth": 0,
              "ticks": ""
             }
            },
            "marker": {
             "colorbar": {
              "outlinewidth": 0,
              "ticks": ""
             }
            },
            "type": "scatter3d"
           }
          ],
          "scattercarpet": [
           {
            "marker": {
             "colorbar": {
              "outlinewidth": 0,
              "ticks": ""
             }
            },
            "type": "scattercarpet"
           }
          ],
          "scattergeo": [
           {
            "marker": {
             "colorbar": {
              "outlinewidth": 0,
              "ticks": ""
             }
            },
            "type": "scattergeo"
           }
          ],
          "scattergl": [
           {
            "marker": {
             "colorbar": {
              "outlinewidth": 0,
              "ticks": ""
             }
            },
            "type": "scattergl"
           }
          ],
          "scattermap": [
           {
            "marker": {
             "colorbar": {
              "outlinewidth": 0,
              "ticks": ""
             }
            },
            "type": "scattermap"
           }
          ],
          "scattermapbox": [
           {
            "marker": {
             "colorbar": {
              "outlinewidth": 0,
              "ticks": ""
             }
            },
            "type": "scattermapbox"
           }
          ],
          "scatterpolar": [
           {
            "marker": {
             "colorbar": {
              "outlinewidth": 0,
              "ticks": ""
             }
            },
            "type": "scatterpolar"
           }
          ],
          "scatterpolargl": [
           {
            "marker": {
             "colorbar": {
              "outlinewidth": 0,
              "ticks": ""
             }
            },
            "type": "scatterpolargl"
           }
          ],
          "scatterternary": [
           {
            "marker": {
             "colorbar": {
              "outlinewidth": 0,
              "ticks": ""
             }
            },
            "type": "scatterternary"
           }
          ],
          "surface": [
           {
            "colorbar": {
             "outlinewidth": 0,
             "ticks": ""
            },
            "colorscale": [
             [
              0,
              "#0d0887"
             ],
             [
              0.1111111111111111,
              "#46039f"
             ],
             [
              0.2222222222222222,
              "#7201a8"
             ],
             [
              0.3333333333333333,
              "#9c179e"
             ],
             [
              0.4444444444444444,
              "#bd3786"
             ],
             [
              0.5555555555555556,
              "#d8576b"
             ],
             [
              0.6666666666666666,
              "#ed7953"
             ],
             [
              0.7777777777777778,
              "#fb9f3a"
             ],
             [
              0.8888888888888888,
              "#fdca26"
             ],
             [
              1,
              "#f0f921"
             ]
            ],
            "type": "surface"
           }
          ],
          "table": [
           {
            "cells": {
             "fill": {
              "color": "#EBF0F8"
             },
             "line": {
              "color": "white"
             }
            },
            "header": {
             "fill": {
              "color": "#C8D4E3"
             },
             "line": {
              "color": "white"
             }
            },
            "type": "table"
           }
          ]
         },
         "layout": {
          "annotationdefaults": {
           "arrowcolor": "#2a3f5f",
           "arrowhead": 0,
           "arrowwidth": 1
          },
          "autotypenumbers": "strict",
          "coloraxis": {
           "colorbar": {
            "outlinewidth": 0,
            "ticks": ""
           }
          },
          "colorscale": {
           "diverging": [
            [
             0,
             "#8e0152"
            ],
            [
             0.1,
             "#c51b7d"
            ],
            [
             0.2,
             "#de77ae"
            ],
            [
             0.3,
             "#f1b6da"
            ],
            [
             0.4,
             "#fde0ef"
            ],
            [
             0.5,
             "#f7f7f7"
            ],
            [
             0.6,
             "#e6f5d0"
            ],
            [
             0.7,
             "#b8e186"
            ],
            [
             0.8,
             "#7fbc41"
            ],
            [
             0.9,
             "#4d9221"
            ],
            [
             1,
             "#276419"
            ]
           ],
           "sequential": [
            [
             0,
             "#0d0887"
            ],
            [
             0.1111111111111111,
             "#46039f"
            ],
            [
             0.2222222222222222,
             "#7201a8"
            ],
            [
             0.3333333333333333,
             "#9c179e"
            ],
            [
             0.4444444444444444,
             "#bd3786"
            ],
            [
             0.5555555555555556,
             "#d8576b"
            ],
            [
             0.6666666666666666,
             "#ed7953"
            ],
            [
             0.7777777777777778,
             "#fb9f3a"
            ],
            [
             0.8888888888888888,
             "#fdca26"
            ],
            [
             1,
             "#f0f921"
            ]
           ],
           "sequentialminus": [
            [
             0,
             "#0d0887"
            ],
            [
             0.1111111111111111,
             "#46039f"
            ],
            [
             0.2222222222222222,
             "#7201a8"
            ],
            [
             0.3333333333333333,
             "#9c179e"
            ],
            [
             0.4444444444444444,
             "#bd3786"
            ],
            [
             0.5555555555555556,
             "#d8576b"
            ],
            [
             0.6666666666666666,
             "#ed7953"
            ],
            [
             0.7777777777777778,
             "#fb9f3a"
            ],
            [
             0.8888888888888888,
             "#fdca26"
            ],
            [
             1,
             "#f0f921"
            ]
           ]
          },
          "colorway": [
           "#636efa",
           "#EF553B",
           "#00cc96",
           "#ab63fa",
           "#FFA15A",
           "#19d3f3",
           "#FF6692",
           "#B6E880",
           "#FF97FF",
           "#FECB52"
          ],
          "font": {
           "color": "#2a3f5f"
          },
          "geo": {
           "bgcolor": "white",
           "lakecolor": "white",
           "landcolor": "white",
           "showlakes": true,
           "showland": true,
           "subunitcolor": "#C8D4E3"
          },
          "hoverlabel": {
           "align": "left"
          },
          "hovermode": "closest",
          "mapbox": {
           "style": "light"
          },
          "paper_bgcolor": "white",
          "plot_bgcolor": "white",
          "polar": {
           "angularaxis": {
            "gridcolor": "#EBF0F8",
            "linecolor": "#EBF0F8",
            "ticks": ""
           },
           "bgcolor": "white",
           "radialaxis": {
            "gridcolor": "#EBF0F8",
            "linecolor": "#EBF0F8",
            "ticks": ""
           }
          },
          "scene": {
           "xaxis": {
            "backgroundcolor": "white",
            "gridcolor": "#DFE8F3",
            "gridwidth": 2,
            "linecolor": "#EBF0F8",
            "showbackground": true,
            "ticks": "",
            "zerolinecolor": "#EBF0F8"
           },
           "yaxis": {
            "backgroundcolor": "white",
            "gridcolor": "#DFE8F3",
            "gridwidth": 2,
            "linecolor": "#EBF0F8",
            "showbackground": true,
            "ticks": "",
            "zerolinecolor": "#EBF0F8"
           },
           "zaxis": {
            "backgroundcolor": "white",
            "gridcolor": "#DFE8F3",
            "gridwidth": 2,
            "linecolor": "#EBF0F8",
            "showbackground": true,
            "ticks": "",
            "zerolinecolor": "#EBF0F8"
           }
          },
          "shapedefaults": {
           "line": {
            "color": "#2a3f5f"
           }
          },
          "ternary": {
           "aaxis": {
            "gridcolor": "#DFE8F3",
            "linecolor": "#A2B1C6",
            "ticks": ""
           },
           "baxis": {
            "gridcolor": "#DFE8F3",
            "linecolor": "#A2B1C6",
            "ticks": ""
           },
           "bgcolor": "white",
           "caxis": {
            "gridcolor": "#DFE8F3",
            "linecolor": "#A2B1C6",
            "ticks": ""
           }
          },
          "title": {
           "x": 0.05
          },
          "xaxis": {
           "automargin": true,
           "gridcolor": "#EBF0F8",
           "linecolor": "#EBF0F8",
           "ticks": "",
           "title": {
            "standoff": 15
           },
           "zerolinecolor": "#EBF0F8",
           "zerolinewidth": 2
          },
          "yaxis": {
           "automargin": true,
           "gridcolor": "#EBF0F8",
           "linecolor": "#EBF0F8",
           "ticks": "",
           "title": {
            "standoff": 15
           },
           "zerolinecolor": "#EBF0F8",
           "zerolinewidth": 2
          }
         }
        },
        "title": {
         "text": "Boxplot: Alter"
        },
        "xaxis": {
         "anchor": "y",
         "domain": [
          0,
          1
         ]
        },
        "yaxis": {
         "anchor": "x",
         "domain": [
          0,
          1
         ],
         "title": {
          "text": "Alter"
         }
        }
       }
      }
     },
     "metadata": {},
     "output_type": "display_data"
    },
    {
     "data": {
      "application/vnd.plotly.v1+json": {
       "config": {
        "plotlyServerURL": "https://plot.ly"
       },
       "data": [
        {
         "alignmentgroup": "True",
         "boxpoints": "all",
         "hovertemplate": "Blutdruck=%{y}<extra></extra>",
         "legendgroup": "",
         "marker": {
          "color": "#636efa"
         },
         "name": "",
         "notched": false,
         "offsetgroup": "",
         "orientation": "v",
         "showlegend": false,
         "type": "box",
         "x0": " ",
         "xaxis": "x",
         "y": {
          "bdata": "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",
          "dtype": "i2"
         },
         "y0": " ",
         "yaxis": "y"
        }
       ],
       "layout": {
        "boxmode": "group",
        "legend": {
         "tracegroupgap": 0
        },
        "template": {
         "data": {
          "bar": [
           {
            "error_x": {
             "color": "#2a3f5f"
            },
            "error_y": {
             "color": "#2a3f5f"
            },
            "marker": {
             "line": {
              "color": "white",
              "width": 0.5
             },
             "pattern": {
              "fillmode": "overlay",
              "size": 10,
              "solidity": 0.2
             }
            },
            "type": "bar"
           }
          ],
          "barpolar": [
           {
            "marker": {
             "line": {
              "color": "white",
              "width": 0.5
             },
             "pattern": {
              "fillmode": "overlay",
              "size": 10,
              "solidity": 0.2
             }
            },
            "type": "barpolar"
           }
          ],
          "carpet": [
           {
            "aaxis": {
             "endlinecolor": "#2a3f5f",
             "gridcolor": "#C8D4E3",
             "linecolor": "#C8D4E3",
             "minorgridcolor": "#C8D4E3",
             "startlinecolor": "#2a3f5f"
            },
            "baxis": {
             "endlinecolor": "#2a3f5f",
             "gridcolor": "#C8D4E3",
             "linecolor": "#C8D4E3",
             "minorgridcolor": "#C8D4E3",
             "startlinecolor": "#2a3f5f"
            },
            "type": "carpet"
           }
          ],
          "choropleth": [
           {
            "colorbar": {
             "outlinewidth": 0,
             "ticks": ""
            },
            "type": "choropleth"
           }
          ],
          "contour": [
           {
            "colorbar": {
             "outlinewidth": 0,
             "ticks": ""
            },
            "colorscale": [
             [
              0,
              "#0d0887"
             ],
             [
              0.1111111111111111,
              "#46039f"
             ],
             [
              0.2222222222222222,
              "#7201a8"
             ],
             [
              0.3333333333333333,
              "#9c179e"
             ],
             [
              0.4444444444444444,
              "#bd3786"
             ],
             [
              0.5555555555555556,
              "#d8576b"
             ],
             [
              0.6666666666666666,
              "#ed7953"
             ],
             [
              0.7777777777777778,
              "#fb9f3a"
             ],
             [
              0.8888888888888888,
              "#fdca26"
             ],
             [
              1,
              "#f0f921"
             ]
            ],
            "type": "contour"
           }
          ],
          "contourcarpet": [
           {
            "colorbar": {
             "outlinewidth": 0,
             "ticks": ""
            },
            "type": "contourcarpet"
           }
          ],
          "heatmap": [
           {
            "colorbar": {
             "outlinewidth": 0,
             "ticks": ""
            },
            "colorscale": [
             [
              0,
              "#0d0887"
             ],
             [
              0.1111111111111111,
              "#46039f"
             ],
             [
              0.2222222222222222,
              "#7201a8"
             ],
             [
              0.3333333333333333,
              "#9c179e"
             ],
             [
              0.4444444444444444,
              "#bd3786"
             ],
             [
              0.5555555555555556,
              "#d8576b"
             ],
             [
              0.6666666666666666,
              "#ed7953"
             ],
             [
              0.7777777777777778,
              "#fb9f3a"
             ],
             [
              0.8888888888888888,
              "#fdca26"
             ],
             [
              1,
              "#f0f921"
             ]
            ],
            "type": "heatmap"
           }
          ],
          "histogram": [
           {
            "marker": {
             "pattern": {
              "fillmode": "overlay",
              "size": 10,
              "solidity": 0.2
             }
            },
            "type": "histogram"
           }
          ],
          "histogram2d": [
           {
            "colorbar": {
             "outlinewidth": 0,
             "ticks": ""
            },
            "colorscale": [
             [
              0,
              "#0d0887"
             ],
             [
              0.1111111111111111,
              "#46039f"
             ],
             [
              0.2222222222222222,
              "#7201a8"
             ],
             [
              0.3333333333333333,
              "#9c179e"
             ],
             [
              0.4444444444444444,
              "#bd3786"
             ],
             [
              0.5555555555555556,
              "#d8576b"
             ],
             [
              0.6666666666666666,
              "#ed7953"
             ],
             [
              0.7777777777777778,
              "#fb9f3a"
             ],
             [
              0.8888888888888888,
              "#fdca26"
             ],
             [
              1,
              "#f0f921"
             ]
            ],
            "type": "histogram2d"
           }
          ],
          "histogram2dcontour": [
           {
            "colorbar": {
             "outlinewidth": 0,
             "ticks": ""
            },
            "colorscale": [
             [
              0,
              "#0d0887"
             ],
             [
              0.1111111111111111,
              "#46039f"
             ],
             [
              0.2222222222222222,
              "#7201a8"
             ],
             [
              0.3333333333333333,
              "#9c179e"
             ],
             [
              0.4444444444444444,
              "#bd3786"
             ],
             [
              0.5555555555555556,
              "#d8576b"
             ],
             [
              0.6666666666666666,
              "#ed7953"
             ],
             [
              0.7777777777777778,
              "#fb9f3a"
             ],
             [
              0.8888888888888888,
              "#fdca26"
             ],
             [
              1,
              "#f0f921"
             ]
            ],
            "type": "histogram2dcontour"
           }
          ],
          "mesh3d": [
           {
            "colorbar": {
             "outlinewidth": 0,
             "ticks": ""
            },
            "type": "mesh3d"
           }
          ],
          "parcoords": [
           {
            "line": {
             "colorbar": {
              "outlinewidth": 0,
              "ticks": ""
             }
            },
            "type": "parcoords"
           }
          ],
          "pie": [
           {
            "automargin": true,
            "type": "pie"
           }
          ],
          "scatter": [
           {
            "fillpattern": {
             "fillmode": "overlay",
             "size": 10,
             "solidity": 0.2
            },
            "type": "scatter"
           }
          ],
          "scatter3d": [
           {
            "line": {
             "colorbar": {
              "outlinewidth": 0,
              "ticks": ""
             }
            },
            "marker": {
             "colorbar": {
              "outlinewidth": 0,
              "ticks": ""
             }
            },
            "type": "scatter3d"
           }
          ],
          "scattercarpet": [
           {
            "marker": {
             "colorbar": {
              "outlinewidth": 0,
              "ticks": ""
             }
            },
            "type": "scattercarpet"
           }
          ],
          "scattergeo": [
           {
            "marker": {
             "colorbar": {
              "outlinewidth": 0,
              "ticks": ""
             }
            },
            "type": "scattergeo"
           }
          ],
          "scattergl": [
           {
            "marker": {
             "colorbar": {
              "outlinewidth": 0,
              "ticks": ""
             }
            },
            "type": "scattergl"
           }
          ],
          "scattermap": [
           {
            "marker": {
             "colorbar": {
              "outlinewidth": 0,
              "ticks": ""
             }
            },
            "type": "scattermap"
           }
          ],
          "scattermapbox": [
           {
            "marker": {
             "colorbar": {
              "outlinewidth": 0,
              "ticks": ""
             }
            },
            "type": "scattermapbox"
           }
          ],
          "scatterpolar": [
           {
            "marker": {
             "colorbar": {
              "outlinewidth": 0,
              "ticks": ""
             }
            },
            "type": "scatterpolar"
           }
          ],
          "scatterpolargl": [
           {
            "marker": {
             "colorbar": {
              "outlinewidth": 0,
              "ticks": ""
             }
            },
            "type": "scatterpolargl"
           }
          ],
          "scatterternary": [
           {
            "marker": {
             "colorbar": {
              "outlinewidth": 0,
              "ticks": ""
             }
            },
            "type": "scatterternary"
           }
          ],
          "surface": [
           {
            "colorbar": {
             "outlinewidth": 0,
             "ticks": ""
            },
            "colorscale": [
             [
              0,
              "#0d0887"
             ],
             [
              0.1111111111111111,
              "#46039f"
             ],
             [
              0.2222222222222222,
              "#7201a8"
             ],
             [
              0.3333333333333333,
              "#9c179e"
             ],
             [
              0.4444444444444444,
              "#bd3786"
             ],
             [
              0.5555555555555556,
              "#d8576b"
             ],
             [
              0.6666666666666666,
              "#ed7953"
             ],
             [
              0.7777777777777778,
              "#fb9f3a"
             ],
             [
              0.8888888888888888,
              "#fdca26"
             ],
             [
              1,
              "#f0f921"
             ]
            ],
            "type": "surface"
           }
          ],
          "table": [
           {
            "cells": {
             "fill": {
              "color": "#EBF0F8"
             },
             "line": {
              "color": "white"
             }
            },
            "header": {
             "fill": {
              "color": "#C8D4E3"
             },
             "line": {
              "color": "white"
             }
            },
            "type": "table"
           }
          ]
         },
         "layout": {
          "annotationdefaults": {
           "arrowcolor": "#2a3f5f",
           "arrowhead": 0,
           "arrowwidth": 1
          },
          "autotypenumbers": "strict",
          "coloraxis": {
           "colorbar": {
            "outlinewidth": 0,
            "ticks": ""
           }
          },
          "colorscale": {
           "diverging": [
            [
             0,
             "#8e0152"
            ],
            [
             0.1,
             "#c51b7d"
            ],
            [
             0.2,
             "#de77ae"
            ],
            [
             0.3,
             "#f1b6da"
            ],
            [
             0.4,
             "#fde0ef"
            ],
            [
             0.5,
             "#f7f7f7"
            ],
            [
             0.6,
             "#e6f5d0"
            ],
            [
             0.7,
             "#b8e186"
            ],
            [
             0.8,
             "#7fbc41"
            ],
            [
             0.9,
             "#4d9221"
            ],
            [
             1,
             "#276419"
            ]
           ],
           "sequential": [
            [
             0,
             "#0d0887"
            ],
            [
             0.1111111111111111,
             "#46039f"
            ],
            [
             0.2222222222222222,
             "#7201a8"
            ],
            [
             0.3333333333333333,
             "#9c179e"
            ],
            [
             0.4444444444444444,
             "#bd3786"
            ],
            [
             0.5555555555555556,
             "#d8576b"
            ],
            [
             0.6666666666666666,
             "#ed7953"
            ],
            [
             0.7777777777777778,
             "#fb9f3a"
            ],
            [
             0.8888888888888888,
             "#fdca26"
            ],
            [
             1,
             "#f0f921"
            ]
           ],
           "sequentialminus": [
            [
             0,
             "#0d0887"
            ],
            [
             0.1111111111111111,
             "#46039f"
            ],
            [
             0.2222222222222222,
             "#7201a8"
            ],
            [
             0.3333333333333333,
             "#9c179e"
            ],
            [
             0.4444444444444444,
             "#bd3786"
            ],
            [
             0.5555555555555556,
             "#d8576b"
            ],
            [
             0.6666666666666666,
             "#ed7953"
            ],
            [
             0.7777777777777778,
             "#fb9f3a"
            ],
            [
             0.8888888888888888,
             "#fdca26"
            ],
            [
             1,
             "#f0f921"
            ]
           ]
          },
          "colorway": [
           "#636efa",
           "#EF553B",
           "#00cc96",
           "#ab63fa",
           "#FFA15A",
           "#19d3f3",
           "#FF6692",
           "#B6E880",
           "#FF97FF",
           "#FECB52"
          ],
          "font": {
           "color": "#2a3f5f"
          },
          "geo": {
           "bgcolor": "white",
           "lakecolor": "white",
           "landcolor": "white",
           "showlakes": true,
           "showland": true,
           "subunitcolor": "#C8D4E3"
          },
          "hoverlabel": {
           "align": "left"
          },
          "hovermode": "closest",
          "mapbox": {
           "style": "light"
          },
          "paper_bgcolor": "white",
          "plot_bgcolor": "white",
          "polar": {
           "angularaxis": {
            "gridcolor": "#EBF0F8",
            "linecolor": "#EBF0F8",
            "ticks": ""
           },
           "bgcolor": "white",
           "radialaxis": {
            "gridcolor": "#EBF0F8",
            "linecolor": "#EBF0F8",
            "ticks": ""
           }
          },
          "scene": {
           "xaxis": {
            "backgroundcolor": "white",
            "gridcolor": "#DFE8F3",
            "gridwidth": 2,
            "linecolor": "#EBF0F8",
            "showbackground": true,
            "ticks": "",
            "zerolinecolor": "#EBF0F8"
           },
           "yaxis": {
            "backgroundcolor": "white",
            "gridcolor": "#DFE8F3",
            "gridwidth": 2,
            "linecolor": "#EBF0F8",
            "showbackground": true,
            "ticks": "",
            "zerolinecolor": "#EBF0F8"
           },
           "zaxis": {
            "backgroundcolor": "white",
            "gridcolor": "#DFE8F3",
            "gridwidth": 2,
            "linecolor": "#EBF0F8",
            "showbackground": true,
            "ticks": "",
            "zerolinecolor": "#EBF0F8"
           }
          },
          "shapedefaults": {
           "line": {
            "color": "#2a3f5f"
           }
          },
          "ternary": {
           "aaxis": {
            "gridcolor": "#DFE8F3",
            "linecolor": "#A2B1C6",
            "ticks": ""
           },
           "baxis": {
            "gridcolor": "#DFE8F3",
            "linecolor": "#A2B1C6",
            "ticks": ""
           },
           "bgcolor": "white",
           "caxis": {
            "gridcolor": "#DFE8F3",
            "linecolor": "#A2B1C6",
            "ticks": ""
           }
          },
          "title": {
           "x": 0.05
          },
          "xaxis": {
           "automargin": true,
           "gridcolor": "#EBF0F8",
           "linecolor": "#EBF0F8",
           "ticks": "",
           "title": {
            "standoff": 15
           },
           "zerolinecolor": "#EBF0F8",
           "zerolinewidth": 2
          },
          "yaxis": {
           "automargin": true,
           "gridcolor": "#EBF0F8",
           "linecolor": "#EBF0F8",
           "ticks": "",
           "title": {
            "standoff": 15
           },
           "zerolinecolor": "#EBF0F8",
           "zerolinewidth": 2
          }
         }
        },
        "title": {
         "text": "Boxplot: Blutdruck"
        },
        "xaxis": {
         "anchor": "y",
         "domain": [
          0,
          1
         ]
        },
        "yaxis": {
         "anchor": "x",
         "domain": [
          0,
          1
         ],
         "title": {
          "text": "Blutdruck"
         }
        }
       }
      }
     },
     "metadata": {},
     "output_type": "display_data"
    },
    {
     "data": {
      "application/vnd.plotly.v1+json": {
       "config": {
        "plotlyServerURL": "https://plot.ly"
       },
       "data": [
        {
         "alignmentgroup": "True",
         "boxpoints": "all",
         "hovertemplate": "Chol=%{y}<extra></extra>",
         "legendgroup": "",
         "marker": {
          "color": "#636efa"
         },
         "name": "",
         "notched": false,
         "offsetgroup": "",
         "orientation": "v",
         "showlegend": false,
         "type": "box",
         "x0": " ",
         "xaxis": "x",
         "y": {
          "bdata": "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",
          "dtype": "i2"
         },
         "y0": " ",
         "yaxis": "y"
        }
       ],
       "layout": {
        "boxmode": "group",
        "legend": {
         "tracegroupgap": 0
        },
        "template": {
         "data": {
          "bar": [
           {
            "error_x": {
             "color": "#2a3f5f"
            },
            "error_y": {
             "color": "#2a3f5f"
            },
            "marker": {
             "line": {
              "color": "white",
              "width": 0.5
             },
             "pattern": {
              "fillmode": "overlay",
              "size": 10,
              "solidity": 0.2
             }
            },
            "type": "bar"
           }
          ],
          "barpolar": [
           {
            "marker": {
             "line": {
              "color": "white",
              "width": 0.5
             },
             "pattern": {
              "fillmode": "overlay",
              "size": 10,
              "solidity": 0.2
             }
            },
            "type": "barpolar"
           }
          ],
          "carpet": [
           {
            "aaxis": {
             "endlinecolor": "#2a3f5f",
             "gridcolor": "#C8D4E3",
             "linecolor": "#C8D4E3",
             "minorgridcolor": "#C8D4E3",
             "startlinecolor": "#2a3f5f"
            },
            "baxis": {
             "endlinecolor": "#2a3f5f",
             "gridcolor": "#C8D4E3",
             "linecolor": "#C8D4E3",
             "minorgridcolor": "#C8D4E3",
             "startlinecolor": "#2a3f5f"
            },
            "type": "carpet"
           }
          ],
          "choropleth": [
           {
            "colorbar": {
             "outlinewidth": 0,
             "ticks": ""
            },
            "type": "choropleth"
           }
          ],
          "contour": [
           {
            "colorbar": {
             "outlinewidth": 0,
             "ticks": ""
            },
            "colorscale": [
             [
              0,
              "#0d0887"
             ],
             [
              0.1111111111111111,
              "#46039f"
             ],
             [
              0.2222222222222222,
              "#7201a8"
             ],
             [
              0.3333333333333333,
              "#9c179e"
             ],
             [
              0.4444444444444444,
              "#bd3786"
             ],
             [
              0.5555555555555556,
              "#d8576b"
             ],
             [
              0.6666666666666666,
              "#ed7953"
             ],
             [
              0.7777777777777778,
              "#fb9f3a"
             ],
             [
              0.8888888888888888,
              "#fdca26"
             ],
             [
              1,
              "#f0f921"
             ]
            ],
            "type": "contour"
           }
          ],
          "contourcarpet": [
           {
            "colorbar": {
             "outlinewidth": 0,
             "ticks": ""
            },
            "type": "contourcarpet"
           }
          ],
          "heatmap": [
           {
            "colorbar": {
             "outlinewidth": 0,
             "ticks": ""
            },
            "colorscale": [
             [
              0,
              "#0d0887"
             ],
             [
              0.1111111111111111,
              "#46039f"
             ],
             [
              0.2222222222222222,
              "#7201a8"
             ],
             [
              0.3333333333333333,
              "#9c179e"
             ],
             [
              0.4444444444444444,
              "#bd3786"
             ],
             [
              0.5555555555555556,
              "#d8576b"
             ],
             [
              0.6666666666666666,
              "#ed7953"
             ],
             [
              0.7777777777777778,
              "#fb9f3a"
             ],
             [
              0.8888888888888888,
              "#fdca26"
             ],
             [
              1,
              "#f0f921"
             ]
            ],
            "type": "heatmap"
           }
          ],
          "histogram": [
           {
            "marker": {
             "pattern": {
              "fillmode": "overlay",
              "size": 10,
              "solidity": 0.2
             }
            },
            "type": "histogram"
           }
          ],
          "histogram2d": [
           {
            "colorbar": {
             "outlinewidth": 0,
             "ticks": ""
            },
            "colorscale": [
             [
              0,
              "#0d0887"
             ],
             [
              0.1111111111111111,
              "#46039f"
             ],
             [
              0.2222222222222222,
              "#7201a8"
             ],
             [
              0.3333333333333333,
              "#9c179e"
             ],
             [
              0.4444444444444444,
              "#bd3786"
             ],
             [
              0.5555555555555556,
              "#d8576b"
             ],
             [
              0.6666666666666666,
              "#ed7953"
             ],
             [
              0.7777777777777778,
              "#fb9f3a"
             ],
             [
              0.8888888888888888,
              "#fdca26"
             ],
             [
              1,
              "#f0f921"
             ]
            ],
            "type": "histogram2d"
           }
          ],
          "histogram2dcontour": [
           {
            "colorbar": {
             "outlinewidth": 0,
             "ticks": ""
            },
            "colorscale": [
             [
              0,
              "#0d0887"
             ],
             [
              0.1111111111111111,
              "#46039f"
             ],
             [
              0.2222222222222222,
              "#7201a8"
             ],
             [
              0.3333333333333333,
              "#9c179e"
             ],
             [
              0.4444444444444444,
              "#bd3786"
             ],
             [
              0.5555555555555556,
              "#d8576b"
             ],
             [
              0.6666666666666666,
              "#ed7953"
             ],
             [
              0.7777777777777778,
              "#fb9f3a"
             ],
             [
              0.8888888888888888,
              "#fdca26"
             ],
             [
              1,
              "#f0f921"
             ]
            ],
            "type": "histogram2dcontour"
           }
          ],
          "mesh3d": [
           {
            "colorbar": {
             "outlinewidth": 0,
             "ticks": ""
            },
            "type": "mesh3d"
           }
          ],
          "parcoords": [
           {
            "line": {
             "colorbar": {
              "outlinewidth": 0,
              "ticks": ""
             }
            },
            "type": "parcoords"
           }
          ],
          "pie": [
           {
            "automargin": true,
            "type": "pie"
           }
          ],
          "scatter": [
           {
            "fillpattern": {
             "fillmode": "overlay",
             "size": 10,
             "solidity": 0.2
            },
            "type": "scatter"
           }
          ],
          "scatter3d": [
           {
            "line": {
             "colorbar": {
              "outlinewidth": 0,
              "ticks": ""
             }
            },
            "marker": {
             "colorbar": {
              "outlinewidth": 0,
              "ticks": ""
             }
            },
            "type": "scatter3d"
           }
          ],
          "scattercarpet": [
           {
            "marker": {
             "colorbar": {
              "outlinewidth": 0,
              "ticks": ""
             }
            },
            "type": "scattercarpet"
           }
          ],
          "scattergeo": [
           {
            "marker": {
             "colorbar": {
              "outlinewidth": 0,
              "ticks": ""
             }
            },
            "type": "scattergeo"
           }
          ],
          "scattergl": [
           {
            "marker": {
             "colorbar": {
              "outlinewidth": 0,
              "ticks": ""
             }
            },
            "type": "scattergl"
           }
          ],
          "scattermap": [
           {
            "marker": {
             "colorbar": {
              "outlinewidth": 0,
              "ticks": ""
             }
            },
            "type": "scattermap"
           }
          ],
          "scattermapbox": [
           {
            "marker": {
             "colorbar": {
              "outlinewidth": 0,
              "ticks": ""
             }
            },
            "type": "scattermapbox"
           }
          ],
          "scatterpolar": [
           {
            "marker": {
             "colorbar": {
              "outlinewidth": 0,
              "ticks": ""
             }
            },
            "type": "scatterpolar"
           }
          ],
          "scatterpolargl": [
           {
            "marker": {
             "colorbar": {
              "outlinewidth": 0,
              "ticks": ""
             }
            },
            "type": "scatterpolargl"
           }
          ],
          "scatterternary": [
           {
            "marker": {
             "colorbar": {
              "outlinewidth": 0,
              "ticks": ""
             }
            },
            "type": "scatterternary"
           }
          ],
          "surface": [
           {
            "colorbar": {
             "outlinewidth": 0,
             "ticks": ""
            },
            "colorscale": [
             [
              0,
              "#0d0887"
             ],
             [
              0.1111111111111111,
              "#46039f"
             ],
             [
              0.2222222222222222,
              "#7201a8"
             ],
             [
              0.3333333333333333,
              "#9c179e"
             ],
             [
              0.4444444444444444,
              "#bd3786"
             ],
             [
              0.5555555555555556,
              "#d8576b"
             ],
             [
              0.6666666666666666,
              "#ed7953"
             ],
             [
              0.7777777777777778,
              "#fb9f3a"
             ],
             [
              0.8888888888888888,
              "#fdca26"
             ],
             [
              1,
              "#f0f921"
             ]
            ],
            "type": "surface"
           }
          ],
          "table": [
           {
            "cells": {
             "fill": {
              "color": "#EBF0F8"
             },
             "line": {
              "color": "white"
             }
            },
            "header": {
             "fill": {
              "color": "#C8D4E3"
             },
             "line": {
              "color": "white"
             }
            },
            "type": "table"
           }
          ]
         },
         "layout": {
          "annotationdefaults": {
           "arrowcolor": "#2a3f5f",
           "arrowhead": 0,
           "arrowwidth": 1
          },
          "autotypenumbers": "strict",
          "coloraxis": {
           "colorbar": {
            "outlinewidth": 0,
            "ticks": ""
           }
          },
          "colorscale": {
           "diverging": [
            [
             0,
             "#8e0152"
            ],
            [
             0.1,
             "#c51b7d"
            ],
            [
             0.2,
             "#de77ae"
            ],
            [
             0.3,
             "#f1b6da"
            ],
            [
             0.4,
             "#fde0ef"
            ],
            [
             0.5,
             "#f7f7f7"
            ],
            [
             0.6,
             "#e6f5d0"
            ],
            [
             0.7,
             "#b8e186"
            ],
            [
             0.8,
             "#7fbc41"
            ],
            [
             0.9,
             "#4d9221"
            ],
            [
             1,
             "#276419"
            ]
           ],
           "sequential": [
            [
             0,
             "#0d0887"
            ],
            [
             0.1111111111111111,
             "#46039f"
            ],
            [
             0.2222222222222222,
             "#7201a8"
            ],
            [
             0.3333333333333333,
             "#9c179e"
            ],
            [
             0.4444444444444444,
             "#bd3786"
            ],
            [
             0.5555555555555556,
             "#d8576b"
            ],
            [
             0.6666666666666666,
             "#ed7953"
            ],
            [
             0.7777777777777778,
             "#fb9f3a"
            ],
            [
             0.8888888888888888,
             "#fdca26"
            ],
            [
             1,
             "#f0f921"
            ]
           ],
           "sequentialminus": [
            [
             0,
             "#0d0887"
            ],
            [
             0.1111111111111111,
             "#46039f"
            ],
            [
             0.2222222222222222,
             "#7201a8"
            ],
            [
             0.3333333333333333,
             "#9c179e"
            ],
            [
             0.4444444444444444,
             "#bd3786"
            ],
            [
             0.5555555555555556,
             "#d8576b"
            ],
            [
             0.6666666666666666,
             "#ed7953"
            ],
            [
             0.7777777777777778,
             "#fb9f3a"
            ],
            [
             0.8888888888888888,
             "#fdca26"
            ],
            [
             1,
             "#f0f921"
            ]
           ]
          },
          "colorway": [
           "#636efa",
           "#EF553B",
           "#00cc96",
           "#ab63fa",
           "#FFA15A",
           "#19d3f3",
           "#FF6692",
           "#B6E880",
           "#FF97FF",
           "#FECB52"
          ],
          "font": {
           "color": "#2a3f5f"
          },
          "geo": {
           "bgcolor": "white",
           "lakecolor": "white",
           "landcolor": "white",
           "showlakes": true,
           "showland": true,
           "subunitcolor": "#C8D4E3"
          },
          "hoverlabel": {
           "align": "left"
          },
          "hovermode": "closest",
          "mapbox": {
           "style": "light"
          },
          "paper_bgcolor": "white",
          "plot_bgcolor": "white",
          "polar": {
           "angularaxis": {
            "gridcolor": "#EBF0F8",
            "linecolor": "#EBF0F8",
            "ticks": ""
           },
           "bgcolor": "white",
           "radialaxis": {
            "gridcolor": "#EBF0F8",
            "linecolor": "#EBF0F8",
            "ticks": ""
           }
          },
          "scene": {
           "xaxis": {
            "backgroundcolor": "white",
            "gridcolor": "#DFE8F3",
            "gridwidth": 2,
            "linecolor": "#EBF0F8",
            "showbackground": true,
            "ticks": "",
            "zerolinecolor": "#EBF0F8"
           },
           "yaxis": {
            "backgroundcolor": "white",
            "gridcolor": "#DFE8F3",
            "gridwidth": 2,
            "linecolor": "#EBF0F8",
            "showbackground": true,
            "ticks": "",
            "zerolinecolor": "#EBF0F8"
           },
           "zaxis": {
            "backgroundcolor": "white",
            "gridcolor": "#DFE8F3",
            "gridwidth": 2,
            "linecolor": "#EBF0F8",
            "showbackground": true,
            "ticks": "",
            "zerolinecolor": "#EBF0F8"
           }
          },
          "shapedefaults": {
           "line": {
            "color": "#2a3f5f"
           }
          },
          "ternary": {
           "aaxis": {
            "gridcolor": "#DFE8F3",
            "linecolor": "#A2B1C6",
            "ticks": ""
           },
           "baxis": {
            "gridcolor": "#DFE8F3",
            "linecolor": "#A2B1C6",
            "ticks": ""
           },
           "bgcolor": "white",
           "caxis": {
            "gridcolor": "#DFE8F3",
            "linecolor": "#A2B1C6",
            "ticks": ""
           }
          },
          "title": {
           "x": 0.05
          },
          "xaxis": {
           "automargin": true,
           "gridcolor": "#EBF0F8",
           "linecolor": "#EBF0F8",
           "ticks": "",
           "title": {
            "standoff": 15
           },
           "zerolinecolor": "#EBF0F8",
           "zerolinewidth": 2
          },
          "yaxis": {
           "automargin": true,
           "gridcolor": "#EBF0F8",
           "linecolor": "#EBF0F8",
           "ticks": "",
           "title": {
            "standoff": 15
           },
           "zerolinecolor": "#EBF0F8",
           "zerolinewidth": 2
          }
         }
        },
        "title": {
         "text": "Boxplot: Chol"
        },
        "xaxis": {
         "anchor": "y",
         "domain": [
          0,
          1
         ]
        },
        "yaxis": {
         "anchor": "x",
         "domain": [
          0,
          1
         ],
         "title": {
          "text": "Chol"
         }
        }
       }
      }
     },
     "metadata": {},
     "output_type": "display_data"
    },
    {
     "data": {
      "application/vnd.plotly.v1+json": {
       "config": {
        "plotlyServerURL": "https://plot.ly"
       },
       "data": [
        {
         "alignmentgroup": "True",
         "boxpoints": "all",
         "hovertemplate": "HFmax=%{y}<extra></extra>",
         "legendgroup": "",
         "marker": {
          "color": "#636efa"
         },
         "name": "",
         "notched": false,
         "offsetgroup": "",
         "orientation": "v",
         "showlegend": false,
         "type": "box",
         "x0": " ",
         "xaxis": "x",
         "y": {
          "bdata": "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",
          "dtype": "i2"
         },
         "y0": " ",
         "yaxis": "y"
        }
       ],
       "layout": {
        "boxmode": "group",
        "legend": {
         "tracegroupgap": 0
        },
        "template": {
         "data": {
          "bar": [
           {
            "error_x": {
             "color": "#2a3f5f"
            },
            "error_y": {
             "color": "#2a3f5f"
            },
            "marker": {
             "line": {
              "color": "white",
              "width": 0.5
             },
             "pattern": {
              "fillmode": "overlay",
              "size": 10,
              "solidity": 0.2
             }
            },
            "type": "bar"
           }
          ],
          "barpolar": [
           {
            "marker": {
             "line": {
              "color": "white",
              "width": 0.5
             },
             "pattern": {
              "fillmode": "overlay",
              "size": 10,
              "solidity": 0.2
             }
            },
            "type": "barpolar"
           }
          ],
          "carpet": [
           {
            "aaxis": {
             "endlinecolor": "#2a3f5f",
             "gridcolor": "#C8D4E3",
             "linecolor": "#C8D4E3",
             "minorgridcolor": "#C8D4E3",
             "startlinecolor": "#2a3f5f"
            },
            "baxis": {
             "endlinecolor": "#2a3f5f",
             "gridcolor": "#C8D4E3",
             "linecolor": "#C8D4E3",
             "minorgridcolor": "#C8D4E3",
             "startlinecolor": "#2a3f5f"
            },
            "type": "carpet"
           }
          ],
          "choropleth": [
           {
            "colorbar": {
             "outlinewidth": 0,
             "ticks": ""
            },
            "type": "choropleth"
           }
          ],
          "contour": [
           {
            "colorbar": {
             "outlinewidth": 0,
             "ticks": ""
            },
            "colorscale": [
             [
              0,
              "#0d0887"
             ],
             [
              0.1111111111111111,
              "#46039f"
             ],
             [
              0.2222222222222222,
              "#7201a8"
             ],
             [
              0.3333333333333333,
              "#9c179e"
             ],
             [
              0.4444444444444444,
              "#bd3786"
             ],
             [
              0.5555555555555556,
              "#d8576b"
             ],
             [
              0.6666666666666666,
              "#ed7953"
             ],
             [
              0.7777777777777778,
              "#fb9f3a"
             ],
             [
              0.8888888888888888,
              "#fdca26"
             ],
             [
              1,
              "#f0f921"
             ]
            ],
            "type": "contour"
           }
          ],
          "contourcarpet": [
           {
            "colorbar": {
             "outlinewidth": 0,
             "ticks": ""
            },
            "type": "contourcarpet"
           }
          ],
          "heatmap": [
           {
            "colorbar": {
             "outlinewidth": 0,
             "ticks": ""
            },
            "colorscale": [
             [
              0,
              "#0d0887"
             ],
             [
              0.1111111111111111,
              "#46039f"
             ],
             [
              0.2222222222222222,
              "#7201a8"
             ],
             [
              0.3333333333333333,
              "#9c179e"
             ],
             [
              0.4444444444444444,
              "#bd3786"
             ],
             [
              0.5555555555555556,
              "#d8576b"
             ],
             [
              0.6666666666666666,
              "#ed7953"
             ],
             [
              0.7777777777777778,
              "#fb9f3a"
             ],
             [
              0.8888888888888888,
              "#fdca26"
             ],
             [
              1,
              "#f0f921"
             ]
            ],
            "type": "heatmap"
           }
          ],
          "histogram": [
           {
            "marker": {
             "pattern": {
              "fillmode": "overlay",
              "size": 10,
              "solidity": 0.2
             }
            },
            "type": "histogram"
           }
          ],
          "histogram2d": [
           {
            "colorbar": {
             "outlinewidth": 0,
             "ticks": ""
            },
            "colorscale": [
             [
              0,
              "#0d0887"
             ],
             [
              0.1111111111111111,
              "#46039f"
             ],
             [
              0.2222222222222222,
              "#7201a8"
             ],
             [
              0.3333333333333333,
              "#9c179e"
             ],
             [
              0.4444444444444444,
              "#bd3786"
             ],
             [
              0.5555555555555556,
              "#d8576b"
             ],
             [
              0.6666666666666666,
              "#ed7953"
             ],
             [
              0.7777777777777778,
              "#fb9f3a"
             ],
             [
              0.8888888888888888,
              "#fdca26"
             ],
             [
              1,
              "#f0f921"
             ]
            ],
            "type": "histogram2d"
           }
          ],
          "histogram2dcontour": [
           {
            "colorbar": {
             "outlinewidth": 0,
             "ticks": ""
            },
            "colorscale": [
             [
              0,
              "#0d0887"
             ],
             [
              0.1111111111111111,
              "#46039f"
             ],
             [
              0.2222222222222222,
              "#7201a8"
             ],
             [
              0.3333333333333333,
              "#9c179e"
             ],
             [
              0.4444444444444444,
              "#bd3786"
             ],
             [
              0.5555555555555556,
              "#d8576b"
             ],
             [
              0.6666666666666666,
              "#ed7953"
             ],
             [
              0.7777777777777778,
              "#fb9f3a"
             ],
             [
              0.8888888888888888,
              "#fdca26"
             ],
             [
              1,
              "#f0f921"
             ]
            ],
            "type": "histogram2dcontour"
           }
          ],
          "mesh3d": [
           {
            "colorbar": {
             "outlinewidth": 0,
             "ticks": ""
            },
            "type": "mesh3d"
           }
          ],
          "parcoords": [
           {
            "line": {
             "colorbar": {
              "outlinewidth": 0,
              "ticks": ""
             }
            },
            "type": "parcoords"
           }
          ],
          "pie": [
           {
            "automargin": true,
            "type": "pie"
           }
          ],
          "scatter": [
           {
            "fillpattern": {
             "fillmode": "overlay",
             "size": 10,
             "solidity": 0.2
            },
            "type": "scatter"
           }
          ],
          "scatter3d": [
           {
            "line": {
             "colorbar": {
              "outlinewidth": 0,
              "ticks": ""
             }
            },
            "marker": {
             "colorbar": {
              "outlinewidth": 0,
              "ticks": ""
             }
            },
            "type": "scatter3d"
           }
          ],
          "scattercarpet": [
           {
            "marker": {
             "colorbar": {
              "outlinewidth": 0,
              "ticks": ""
             }
            },
            "type": "scattercarpet"
           }
          ],
          "scattergeo": [
           {
            "marker": {
             "colorbar": {
              "outlinewidth": 0,
              "ticks": ""
             }
            },
            "type": "scattergeo"
           }
          ],
          "scattergl": [
           {
            "marker": {
             "colorbar": {
              "outlinewidth": 0,
              "ticks": ""
             }
            },
            "type": "scattergl"
           }
          ],
          "scattermap": [
           {
            "marker": {
             "colorbar": {
              "outlinewidth": 0,
              "ticks": ""
             }
            },
            "type": "scattermap"
           }
          ],
          "scattermapbox": [
           {
            "marker": {
             "colorbar": {
              "outlinewidth": 0,
              "ticks": ""
             }
            },
            "type": "scattermapbox"
           }
          ],
          "scatterpolar": [
           {
            "marker": {
             "colorbar": {
              "outlinewidth": 0,
              "ticks": ""
             }
            },
            "type": "scatterpolar"
           }
          ],
          "scatterpolargl": [
           {
            "marker": {
             "colorbar": {
              "outlinewidth": 0,
              "ticks": ""
             }
            },
            "type": "scatterpolargl"
           }
          ],
          "scatterternary": [
           {
            "marker": {
             "colorbar": {
              "outlinewidth": 0,
              "ticks": ""
             }
            },
            "type": "scatterternary"
           }
          ],
          "surface": [
           {
            "colorbar": {
             "outlinewidth": 0,
             "ticks": ""
            },
            "colorscale": [
             [
              0,
              "#0d0887"
             ],
             [
              0.1111111111111111,
              "#46039f"
             ],
             [
              0.2222222222222222,
              "#7201a8"
             ],
             [
              0.3333333333333333,
              "#9c179e"
             ],
             [
              0.4444444444444444,
              "#bd3786"
             ],
             [
              0.5555555555555556,
              "#d8576b"
             ],
             [
              0.6666666666666666,
              "#ed7953"
             ],
             [
              0.7777777777777778,
              "#fb9f3a"
             ],
             [
              0.8888888888888888,
              "#fdca26"
             ],
             [
              1,
              "#f0f921"
             ]
            ],
            "type": "surface"
           }
          ],
          "table": [
           {
            "cells": {
             "fill": {
              "color": "#EBF0F8"
             },
             "line": {
              "color": "white"
             }
            },
            "header": {
             "fill": {
              "color": "#C8D4E3"
             },
             "line": {
              "color": "white"
             }
            },
            "type": "table"
           }
          ]
         },
         "layout": {
          "annotationdefaults": {
           "arrowcolor": "#2a3f5f",
           "arrowhead": 0,
           "arrowwidth": 1
          },
          "autotypenumbers": "strict",
          "coloraxis": {
           "colorbar": {
            "outlinewidth": 0,
            "ticks": ""
           }
          },
          "colorscale": {
           "diverging": [
            [
             0,
             "#8e0152"
            ],
            [
             0.1,
             "#c51b7d"
            ],
            [
             0.2,
             "#de77ae"
            ],
            [
             0.3,
             "#f1b6da"
            ],
            [
             0.4,
             "#fde0ef"
            ],
            [
             0.5,
             "#f7f7f7"
            ],
            [
             0.6,
             "#e6f5d0"
            ],
            [
             0.7,
             "#b8e186"
            ],
            [
             0.8,
             "#7fbc41"
            ],
            [
             0.9,
             "#4d9221"
            ],
            [
             1,
             "#276419"
            ]
           ],
           "sequential": [
            [
             0,
             "#0d0887"
            ],
            [
             0.1111111111111111,
             "#46039f"
            ],
            [
             0.2222222222222222,
             "#7201a8"
            ],
            [
             0.3333333333333333,
             "#9c179e"
            ],
            [
             0.4444444444444444,
             "#bd3786"
            ],
            [
             0.5555555555555556,
             "#d8576b"
            ],
            [
             0.6666666666666666,
             "#ed7953"
            ],
            [
             0.7777777777777778,
             "#fb9f3a"
            ],
            [
             0.8888888888888888,
             "#fdca26"
            ],
            [
             1,
             "#f0f921"
            ]
           ],
           "sequentialminus": [
            [
             0,
             "#0d0887"
            ],
            [
             0.1111111111111111,
             "#46039f"
            ],
            [
             0.2222222222222222,
             "#7201a8"
            ],
            [
             0.3333333333333333,
             "#9c179e"
            ],
            [
             0.4444444444444444,
             "#bd3786"
            ],
            [
             0.5555555555555556,
             "#d8576b"
            ],
            [
             0.6666666666666666,
             "#ed7953"
            ],
            [
             0.7777777777777778,
             "#fb9f3a"
            ],
            [
             0.8888888888888888,
             "#fdca26"
            ],
            [
             1,
             "#f0f921"
            ]
           ]
          },
          "colorway": [
           "#636efa",
           "#EF553B",
           "#00cc96",
           "#ab63fa",
           "#FFA15A",
           "#19d3f3",
           "#FF6692",
           "#B6E880",
           "#FF97FF",
           "#FECB52"
          ],
          "font": {
           "color": "#2a3f5f"
          },
          "geo": {
           "bgcolor": "white",
           "lakecolor": "white",
           "landcolor": "white",
           "showlakes": true,
           "showland": true,
           "subunitcolor": "#C8D4E3"
          },
          "hoverlabel": {
           "align": "left"
          },
          "hovermode": "closest",
          "mapbox": {
           "style": "light"
          },
          "paper_bgcolor": "white",
          "plot_bgcolor": "white",
          "polar": {
           "angularaxis": {
            "gridcolor": "#EBF0F8",
            "linecolor": "#EBF0F8",
            "ticks": ""
           },
           "bgcolor": "white",
           "radialaxis": {
            "gridcolor": "#EBF0F8",
            "linecolor": "#EBF0F8",
            "ticks": ""
           }
          },
          "scene": {
           "xaxis": {
            "backgroundcolor": "white",
            "gridcolor": "#DFE8F3",
            "gridwidth": 2,
            "linecolor": "#EBF0F8",
            "showbackground": true,
            "ticks": "",
            "zerolinecolor": "#EBF0F8"
           },
           "yaxis": {
            "backgroundcolor": "white",
            "gridcolor": "#DFE8F3",
            "gridwidth": 2,
            "linecolor": "#EBF0F8",
            "showbackground": true,
            "ticks": "",
            "zerolinecolor": "#EBF0F8"
           },
           "zaxis": {
            "backgroundcolor": "white",
            "gridcolor": "#DFE8F3",
            "gridwidth": 2,
            "linecolor": "#EBF0F8",
            "showbackground": true,
            "ticks": "",
            "zerolinecolor": "#EBF0F8"
           }
          },
          "shapedefaults": {
           "line": {
            "color": "#2a3f5f"
           }
          },
          "ternary": {
           "aaxis": {
            "gridcolor": "#DFE8F3",
            "linecolor": "#A2B1C6",
            "ticks": ""
           },
           "baxis": {
            "gridcolor": "#DFE8F3",
            "linecolor": "#A2B1C6",
            "ticks": ""
           },
           "bgcolor": "white",
           "caxis": {
            "gridcolor": "#DFE8F3",
            "linecolor": "#A2B1C6",
            "ticks": ""
           }
          },
          "title": {
           "x": 0.05
          },
          "xaxis": {
           "automargin": true,
           "gridcolor": "#EBF0F8",
           "linecolor": "#EBF0F8",
           "ticks": "",
           "title": {
            "standoff": 15
           },
           "zerolinecolor": "#EBF0F8",
           "zerolinewidth": 2
          },
          "yaxis": {
           "automargin": true,
           "gridcolor": "#EBF0F8",
           "linecolor": "#EBF0F8",
           "ticks": "",
           "title": {
            "standoff": 15
           },
           "zerolinecolor": "#EBF0F8",
           "zerolinewidth": 2
          }
         }
        },
        "title": {
         "text": "Boxplot: HFmax"
        },
        "xaxis": {
         "anchor": "y",
         "domain": [
          0,
          1
         ]
        },
        "yaxis": {
         "anchor": "x",
         "domain": [
          0,
          1
         ],
         "title": {
          "text": "HFmax"
         }
        }
       }
      }
     },
     "metadata": {},
     "output_type": "display_data"
    },
    {
     "data": {
      "application/vnd.plotly.v1+json": {
       "config": {
        "plotlyServerURL": "https://plot.ly"
       },
       "data": [
        {
         "alignmentgroup": "True",
         "boxpoints": "all",
         "hovertemplate": "RZ=%{y}<extra></extra>",
         "legendgroup": "",
         "marker": {
          "color": "#636efa"
         },
         "name": "",
         "notched": false,
         "offsetgroup": "",
         "orientation": "v",
         "showlegend": false,
         "type": "box",
         "x0": " ",
         "xaxis": "x",
         "y": {
          "bdata": "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",
          "dtype": "f8"
         },
         "y0": " ",
         "yaxis": "y"
        }
       ],
       "layout": {
        "boxmode": "group",
        "legend": {
         "tracegroupgap": 0
        },
        "template": {
         "data": {
          "bar": [
           {
            "error_x": {
             "color": "#2a3f5f"
            },
            "error_y": {
             "color": "#2a3f5f"
            },
            "marker": {
             "line": {
              "color": "white",
              "width": 0.5
             },
             "pattern": {
              "fillmode": "overlay",
              "size": 10,
              "solidity": 0.2
             }
            },
            "type": "bar"
           }
          ],
          "barpolar": [
           {
            "marker": {
             "line": {
              "color": "white",
              "width": 0.5
             },
             "pattern": {
              "fillmode": "overlay",
              "size": 10,
              "solidity": 0.2
             }
            },
            "type": "barpolar"
           }
          ],
          "carpet": [
           {
            "aaxis": {
             "endlinecolor": "#2a3f5f",
             "gridcolor": "#C8D4E3",
             "linecolor": "#C8D4E3",
             "minorgridcolor": "#C8D4E3",
             "startlinecolor": "#2a3f5f"
            },
            "baxis": {
             "endlinecolor": "#2a3f5f",
             "gridcolor": "#C8D4E3",
             "linecolor": "#C8D4E3",
             "minorgridcolor": "#C8D4E3",
             "startlinecolor": "#2a3f5f"
            },
            "type": "carpet"
           }
          ],
          "choropleth": [
           {
            "colorbar": {
             "outlinewidth": 0,
             "ticks": ""
            },
            "type": "choropleth"
           }
          ],
          "contour": [
           {
            "colorbar": {
             "outlinewidth": 0,
             "ticks": ""
            },
            "colorscale": [
             [
              0,
              "#0d0887"
             ],
             [
              0.1111111111111111,
              "#46039f"
             ],
             [
              0.2222222222222222,
              "#7201a8"
             ],
             [
              0.3333333333333333,
              "#9c179e"
             ],
             [
              0.4444444444444444,
              "#bd3786"
             ],
             [
              0.5555555555555556,
              "#d8576b"
             ],
             [
              0.6666666666666666,
              "#ed7953"
             ],
             [
              0.7777777777777778,
              "#fb9f3a"
             ],
             [
              0.8888888888888888,
              "#fdca26"
             ],
             [
              1,
              "#f0f921"
             ]
            ],
            "type": "contour"
           }
          ],
          "contourcarpet": [
           {
            "colorbar": {
             "outlinewidth": 0,
             "ticks": ""
            },
            "type": "contourcarpet"
           }
          ],
          "heatmap": [
           {
            "colorbar": {
             "outlinewidth": 0,
             "ticks": ""
            },
            "colorscale": [
             [
              0,
              "#0d0887"
             ],
             [
              0.1111111111111111,
              "#46039f"
             ],
             [
              0.2222222222222222,
              "#7201a8"
             ],
             [
              0.3333333333333333,
              "#9c179e"
             ],
             [
              0.4444444444444444,
              "#bd3786"
             ],
             [
              0.5555555555555556,
              "#d8576b"
             ],
             [
              0.6666666666666666,
              "#ed7953"
             ],
             [
              0.7777777777777778,
              "#fb9f3a"
             ],
             [
              0.8888888888888888,
              "#fdca26"
             ],
             [
              1,
              "#f0f921"
             ]
            ],
            "type": "heatmap"
           }
          ],
          "histogram": [
           {
            "marker": {
             "pattern": {
              "fillmode": "overlay",
              "size": 10,
              "solidity": 0.2
             }
            },
            "type": "histogram"
           }
          ],
          "histogram2d": [
           {
            "colorbar": {
             "outlinewidth": 0,
             "ticks": ""
            },
            "colorscale": [
             [
              0,
              "#0d0887"
             ],
             [
              0.1111111111111111,
              "#46039f"
             ],
             [
              0.2222222222222222,
              "#7201a8"
             ],
             [
              0.3333333333333333,
              "#9c179e"
             ],
             [
              0.4444444444444444,
              "#bd3786"
             ],
             [
              0.5555555555555556,
              "#d8576b"
             ],
             [
              0.6666666666666666,
              "#ed7953"
             ],
             [
              0.7777777777777778,
              "#fb9f3a"
             ],
             [
              0.8888888888888888,
              "#fdca26"
             ],
             [
              1,
              "#f0f921"
             ]
            ],
            "type": "histogram2d"
           }
          ],
          "histogram2dcontour": [
           {
            "colorbar": {
             "outlinewidth": 0,
             "ticks": ""
            },
            "colorscale": [
             [
              0,
              "#0d0887"
             ],
             [
              0.1111111111111111,
              "#46039f"
             ],
             [
              0.2222222222222222,
              "#7201a8"
             ],
             [
              0.3333333333333333,
              "#9c179e"
             ],
             [
              0.4444444444444444,
              "#bd3786"
             ],
             [
              0.5555555555555556,
              "#d8576b"
             ],
             [
              0.6666666666666666,
              "#ed7953"
             ],
             [
              0.7777777777777778,
              "#fb9f3a"
             ],
             [
              0.8888888888888888,
              "#fdca26"
             ],
             [
              1,
              "#f0f921"
             ]
            ],
            "type": "histogram2dcontour"
           }
          ],
          "mesh3d": [
           {
            "colorbar": {
             "outlinewidth": 0,
             "ticks": ""
            },
            "type": "mesh3d"
           }
          ],
          "parcoords": [
           {
            "line": {
             "colorbar": {
              "outlinewidth": 0,
              "ticks": ""
             }
            },
            "type": "parcoords"
           }
          ],
          "pie": [
           {
            "automargin": true,
            "type": "pie"
           }
          ],
          "scatter": [
           {
            "fillpattern": {
             "fillmode": "overlay",
             "size": 10,
             "solidity": 0.2
            },
            "type": "scatter"
           }
          ],
          "scatter3d": [
           {
            "line": {
             "colorbar": {
              "outlinewidth": 0,
              "ticks": ""
             }
            },
            "marker": {
             "colorbar": {
              "outlinewidth": 0,
              "ticks": ""
             }
            },
            "type": "scatter3d"
           }
          ],
          "scattercarpet": [
           {
            "marker": {
             "colorbar": {
              "outlinewidth": 0,
              "ticks": ""
             }
            },
            "type": "scattercarpet"
           }
          ],
          "scattergeo": [
           {
            "marker": {
             "colorbar": {
              "outlinewidth": 0,
              "ticks": ""
             }
            },
            "type": "scattergeo"
           }
          ],
          "scattergl": [
           {
            "marker": {
             "colorbar": {
              "outlinewidth": 0,
              "ticks": ""
             }
            },
            "type": "scattergl"
           }
          ],
          "scattermap": [
           {
            "marker": {
             "colorbar": {
              "outlinewidth": 0,
              "ticks": ""
             }
            },
            "type": "scattermap"
           }
          ],
          "scattermapbox": [
           {
            "marker": {
             "colorbar": {
              "outlinewidth": 0,
              "ticks": ""
             }
            },
            "type": "scattermapbox"
           }
          ],
          "scatterpolar": [
           {
            "marker": {
             "colorbar": {
              "outlinewidth": 0,
              "ticks": ""
             }
            },
            "type": "scatterpolar"
           }
          ],
          "scatterpolargl": [
           {
            "marker": {
             "colorbar": {
              "outlinewidth": 0,
              "ticks": ""
             }
            },
            "type": "scatterpolargl"
           }
          ],
          "scatterternary": [
           {
            "marker": {
             "colorbar": {
              "outlinewidth": 0,
              "ticks": ""
             }
            },
            "type": "scatterternary"
           }
          ],
          "surface": [
           {
            "colorbar": {
             "outlinewidth": 0,
             "ticks": ""
            },
            "colorscale": [
             [
              0,
              "#0d0887"
             ],
             [
              0.1111111111111111,
              "#46039f"
             ],
             [
              0.2222222222222222,
              "#7201a8"
             ],
             [
              0.3333333333333333,
              "#9c179e"
             ],
             [
              0.4444444444444444,
              "#bd3786"
             ],
             [
              0.5555555555555556,
              "#d8576b"
             ],
             [
              0.6666666666666666,
              "#ed7953"
             ],
             [
              0.7777777777777778,
              "#fb9f3a"
             ],
             [
              0.8888888888888888,
              "#fdca26"
             ],
             [
              1,
              "#f0f921"
             ]
            ],
            "type": "surface"
           }
          ],
          "table": [
           {
            "cells": {
             "fill": {
              "color": "#EBF0F8"
             },
             "line": {
              "color": "white"
             }
            },
            "header": {
             "fill": {
              "color": "#C8D4E3"
             },
             "line": {
              "color": "white"
             }
            },
            "type": "table"
           }
          ]
         },
         "layout": {
          "annotationdefaults": {
           "arrowcolor": "#2a3f5f",
           "arrowhead": 0,
           "arrowwidth": 1
          },
          "autotypenumbers": "strict",
          "coloraxis": {
           "colorbar": {
            "outlinewidth": 0,
            "ticks": ""
           }
          },
          "colorscale": {
           "diverging": [
            [
             0,
             "#8e0152"
            ],
            [
             0.1,
             "#c51b7d"
            ],
            [
             0.2,
             "#de77ae"
            ],
            [
             0.3,
             "#f1b6da"
            ],
            [
             0.4,
             "#fde0ef"
            ],
            [
             0.5,
             "#f7f7f7"
            ],
            [
             0.6,
             "#e6f5d0"
            ],
            [
             0.7,
             "#b8e186"
            ],
            [
             0.8,
             "#7fbc41"
            ],
            [
             0.9,
             "#4d9221"
            ],
            [
             1,
             "#276419"
            ]
           ],
           "sequential": [
            [
             0,
             "#0d0887"
            ],
            [
             0.1111111111111111,
             "#46039f"
            ],
            [
             0.2222222222222222,
             "#7201a8"
            ],
            [
             0.3333333333333333,
             "#9c179e"
            ],
            [
             0.4444444444444444,
             "#bd3786"
            ],
            [
             0.5555555555555556,
             "#d8576b"
            ],
            [
             0.6666666666666666,
             "#ed7953"
            ],
            [
             0.7777777777777778,
             "#fb9f3a"
            ],
            [
             0.8888888888888888,
             "#fdca26"
            ],
            [
             1,
             "#f0f921"
            ]
           ],
           "sequentialminus": [
            [
             0,
             "#0d0887"
            ],
            [
             0.1111111111111111,
             "#46039f"
            ],
            [
             0.2222222222222222,
             "#7201a8"
            ],
            [
             0.3333333333333333,
             "#9c179e"
            ],
            [
             0.4444444444444444,
             "#bd3786"
            ],
            [
             0.5555555555555556,
             "#d8576b"
            ],
            [
             0.6666666666666666,
             "#ed7953"
            ],
            [
             0.7777777777777778,
             "#fb9f3a"
            ],
            [
             0.8888888888888888,
             "#fdca26"
            ],
            [
             1,
             "#f0f921"
            ]
           ]
          },
          "colorway": [
           "#636efa",
           "#EF553B",
           "#00cc96",
           "#ab63fa",
           "#FFA15A",
           "#19d3f3",
           "#FF6692",
           "#B6E880",
           "#FF97FF",
           "#FECB52"
          ],
          "font": {
           "color": "#2a3f5f"
          },
          "geo": {
           "bgcolor": "white",
           "lakecolor": "white",
           "landcolor": "white",
           "showlakes": true,
           "showland": true,
           "subunitcolor": "#C8D4E3"
          },
          "hoverlabel": {
           "align": "left"
          },
          "hovermode": "closest",
          "mapbox": {
           "style": "light"
          },
          "paper_bgcolor": "white",
          "plot_bgcolor": "white",
          "polar": {
           "angularaxis": {
            "gridcolor": "#EBF0F8",
            "linecolor": "#EBF0F8",
            "ticks": ""
           },
           "bgcolor": "white",
           "radialaxis": {
            "gridcolor": "#EBF0F8",
            "linecolor": "#EBF0F8",
            "ticks": ""
           }
          },
          "scene": {
           "xaxis": {
            "backgroundcolor": "white",
            "gridcolor": "#DFE8F3",
            "gridwidth": 2,
            "linecolor": "#EBF0F8",
            "showbackground": true,
            "ticks": "",
            "zerolinecolor": "#EBF0F8"
           },
           "yaxis": {
            "backgroundcolor": "white",
            "gridcolor": "#DFE8F3",
            "gridwidth": 2,
            "linecolor": "#EBF0F8",
            "showbackground": true,
            "ticks": "",
            "zerolinecolor": "#EBF0F8"
           },
           "zaxis": {
            "backgroundcolor": "white",
            "gridcolor": "#DFE8F3",
            "gridwidth": 2,
            "linecolor": "#EBF0F8",
            "showbackground": true,
            "ticks": "",
            "zerolinecolor": "#EBF0F8"
           }
          },
          "shapedefaults": {
           "line": {
            "color": "#2a3f5f"
           }
          },
          "ternary": {
           "aaxis": {
            "gridcolor": "#DFE8F3",
            "linecolor": "#A2B1C6",
            "ticks": ""
           },
           "baxis": {
            "gridcolor": "#DFE8F3",
            "linecolor": "#A2B1C6",
            "ticks": ""
           },
           "bgcolor": "white",
           "caxis": {
            "gridcolor": "#DFE8F3",
            "linecolor": "#A2B1C6",
            "ticks": ""
           }
          },
          "title": {
           "x": 0.05
          },
          "xaxis": {
           "automargin": true,
           "gridcolor": "#EBF0F8",
           "linecolor": "#EBF0F8",
           "ticks": "",
           "title": {
            "standoff": 15
           },
           "zerolinecolor": "#EBF0F8",
           "zerolinewidth": 2
          },
          "yaxis": {
           "automargin": true,
           "gridcolor": "#EBF0F8",
           "linecolor": "#EBF0F8",
           "ticks": "",
           "title": {
            "standoff": 15
           },
           "zerolinecolor": "#EBF0F8",
           "zerolinewidth": 2
          }
         }
        },
        "title": {
         "text": "Boxplot: RZ"
        },
        "xaxis": {
         "anchor": "y",
         "domain": [
          0,
          1
         ]
        },
        "yaxis": {
         "anchor": "x",
         "domain": [
          0,
          1
         ],
         "title": {
          "text": "RZ"
         }
        }
       }
      }
     },
     "metadata": {},
     "output_type": "display_data"
    }
   ],
   "source": [
    "numerical_cols = df.select_dtypes(include=['int64', 'float64']).columns\n",
    "numerical_cols_filtered = [\n",
    "    col for col in numerical_cols if df[col].nunique() > 2]\n",
    "\n",
    "for col in numerical_cols_filtered:\n",
    "    fig = px.box(df, y=col, points=\"all\",\n",
    "                 title=f\"Boxplot: {col}\", template=\"plotly_white\")\n",
    "    fig.update_layout(yaxis_title=col)\n",
    "    fig.show()"
   ]
  },
  {
   "cell_type": "markdown",
   "metadata": {},
   "source": [
    "**Histogramme zur Dichteverteilung:**  \n",
    "Diese Plots zeigen, wie sich die Werte in den numerischen Spalten verteilen. Zusätzlich ist oben ein Boxplot integriert."
   ]
  },
  {
   "cell_type": "code",
   "execution_count": 13,
   "metadata": {},
   "outputs": [
    {
     "data": {
      "application/vnd.plotly.v1+json": {
       "config": {
        "plotlyServerURL": "https://plot.ly"
       },
       "data": [
        {
         "bingroup": "x",
         "hovertemplate": "Alter=%{x}<br>count=%{y}<extra></extra>",
         "legendgroup": "",
         "marker": {
          "color": "steelblue",
          "pattern": {
           "shape": ""
          }
         },
         "name": "",
         "nbinsx": 20,
         "orientation": "v",
         "showlegend": false,
         "type": "histogram",
         "x": {
          "bdata": "KDElMDYnLTYlMCU6JzEqNiYrPCQrLDEsKCQ1NDUzNTg2KSsgQSkwMDY2IzQrOyUyJCkyLy0pNDMfOjY0MSstLjIlLSA0LDksNCw3LiAjNDE3Nj80OEJBNSs3MSc0MCc6Kyc4KUEzKCguOTAiMic7OS8mMSEmOyMiLzQuOjo2IjA2KiYuODg9MSsnNis0Mi81OCcqKzI2JzAoNyk4JjEsNjsxLyo0LjIwOjodKDUxNCs2OyUuNDM0LjY6OikyNS4yMC0pPjEqNTkvLiofODIjIxw2MDI4OC8eJzY3HS4zMCE3MjUmKSUlKCYpNicpNzAwNzY3KzA2NjAtMSwwPT43NTckMzcuNi47LzY0IjYvLSA3Ny07MzQ5NjwxMzcqMzs1MCQwLzVBID0yOTMvPDc1PjMzNzU6OUE8KSI1Sjk4PUQ7PyY+LiotOzQ8PDgmKDM+SD8/QCtAPTQzRTswRSQ1Kzg6N0MuNSY1Pi84ODhAPUQ5PzxCPzs9SS9BRjI8MismNj0qNTc9M0Y9JjkmPjo0PTIzQTQvIzk+OzU+Njg4NkI/LDw3QkJBPDw8ODs+Pzk+Py4/PDpAP0o0RTM8ODc2TT83NEA8PDo7PSg9KTk/OzM7Kjc/Pjg1RDU8PjszPTk4OkVDOkE/NzlBNkhLMTM8QDo9Qz5BP0UzPjdLKEM6PD8jPis/REEwP0A9Mjs3LUE9MUgyQDc/Ozg+SjY5Pkw2Rj0wMD1CRDc+R0o1Oks4OkA2Njs3OT0pRyY3OEVASEU4PkM5RTMwRUVAOTUlQ0o/Oj1AOjw5Nzc4OT09SkQzPjU+LjY+Nzo+RkM5QEpBODs8Pzs1LD05Ry41QChDMCsvNjAuMzpHOUIlOzIwPTsqMCg+LC47OjEsQkEqNEE/LSk9PDs+OTMsPD85MzosLz05RkxDLS0nKjg6IzopOSo+OykyOz02NjQvQjpAMixDMTk/MDM8Oy03KTw2KjEuOEI4MTY5QTY2PjQ0PD9CKkA2LkM4IjlAOzIzNjU0KDopKTI2QDMuNy04QiY+NzorQDI1LUFFRUNEIj4zLkMyKjgpKjUrODQ+RjZGNiMwNzo2RU1EOjwzNzQ8OkAlOzMrOh0pPzM2LDZBOT8jKT4rOjQ9Jy00Pj41Ky80RCc1PjM8QUE8PDYsLDM7Rz03QCs6PDoxMDQsODlDNTQrNDtAQic5OjkvNyM9Ojo6ODhDNyw/Pyk7OS1EOTkm",
          "dtype": "i1"
         },
         "xaxis": "x",
         "yaxis": "y"
        },
        {
         "hovertemplate": "Alter=%{x}<extra></extra>",
         "legendgroup": "",
         "marker": {
          "color": "steelblue"
         },
         "name": "",
         "notched": true,
         "showlegend": false,
         "type": "box",
         "x": {
          "bdata": "KDElMDYnLTYlMCU6JzEqNiYrPCQrLDEsKCQ1NDUzNTg2KSsgQSkwMDY2IzQrOyUyJCkyLy0pNDMfOjY0MSstLjIlLSA0LDksNCw3LiAjNDE3Nj80OEJBNSs3MSc0MCc6Kyc4KUEzKCguOTAiMic7OS8mMSEmOyMiLzQuOjo2IjA2KiYuODg9MSsnNis0Mi81OCcqKzI2JzAoNyk4JjEsNjsxLyo0LjIwOjodKDUxNCs2OyUuNDM0LjY6OikyNS4yMC0pPjEqNTkvLiofODIjIxw2MDI4OC8eJzY3HS4zMCE3MjUmKSUlKCYpNicpNzAwNzY3KzA2NjAtMSwwPT43NTckMzcuNi47LzY0IjYvLSA3Ny07MzQ5NjwxMzcqMzs1MCQwLzVBID0yOTMvPDc1PjMzNzU6OUE8KSI1Sjk4PUQ7PyY+LiotOzQ8PDgmKDM+SD8/QCtAPTQzRTswRSQ1Kzg6N0MuNSY1Pi84ODhAPUQ5PzxCPzs9SS9BRjI8MismNj0qNTc9M0Y9JjkmPjo0PTIzQTQvIzk+OzU+Njg4NkI/LDw3QkJBPDw8ODs+Pzk+Py4/PDpAP0o0RTM8ODc2TT83NEA8PDo7PSg9KTk/OzM7Kjc/Pjg1RDU8PjszPTk4OkVDOkE/NzlBNkhLMTM8QDo9Qz5BP0UzPjdLKEM6PD8jPis/REEwP0A9Mjs3LUE9MUgyQDc/Ozg+SjY5Pkw2Rj0wMD1CRDc+R0o1Oks4OkA2Njs3OT0pRyY3OEVASEU4PkM5RTMwRUVAOTUlQ0o/Oj1AOjw5Nzc4OT09SkQzPjU+LjY+Nzo+RkM5QEpBODs8Pzs1LD05Ry41QChDMCsvNjAuMzpHOUIlOzIwPTsqMCg+LC47OjEsQkEqNEE/LSk9PDs+OTMsPD85MzosLz05RkxDLS0nKjg6IzopOSo+OykyOz02NjQvQjpAMixDMTk/MDM8Oy03KTw2KjEuOEI4MTY5QTY2PjQ0PD9CKkA2LkM4IjlAOzIzNjU0KDopKTI2QDMuNy04QiY+NzorQDI1LUFFRUNEIj4zLkMyKjgpKjUrODQ+RjZGNiMwNzo2RU1EOjwzNzQ8OkAlOzMrOh0pPzM2LDZBOT8jKT4rOjQ9Jy00Pj41Ky80RCc1PjM8QUE8PDYsLDM7Rz03QCs6PDoxMDQsODlDNTQrNDtAQic5OjkvNyM9Ojo6ODhDNyw/Pyk7OS1EOTkm",
          "dtype": "i1"
         },
         "xaxis": "x2",
         "yaxis": "y2"
        }
       ],
       "layout": {
        "barmode": "relative",
        "legend": {
         "tracegroupgap": 0
        },
        "template": {
         "data": {
          "bar": [
           {
            "error_x": {
             "color": "#2a3f5f"
            },
            "error_y": {
             "color": "#2a3f5f"
            },
            "marker": {
             "line": {
              "color": "white",
              "width": 0.5
             },
             "pattern": {
              "fillmode": "overlay",
              "size": 10,
              "solidity": 0.2
             }
            },
            "type": "bar"
           }
          ],
          "barpolar": [
           {
            "marker": {
             "line": {
              "color": "white",
              "width": 0.5
             },
             "pattern": {
              "fillmode": "overlay",
              "size": 10,
              "solidity": 0.2
             }
            },
            "type": "barpolar"
           }
          ],
          "carpet": [
           {
            "aaxis": {
             "endlinecolor": "#2a3f5f",
             "gridcolor": "#C8D4E3",
             "linecolor": "#C8D4E3",
             "minorgridcolor": "#C8D4E3",
             "startlinecolor": "#2a3f5f"
            },
            "baxis": {
             "endlinecolor": "#2a3f5f",
             "gridcolor": "#C8D4E3",
             "linecolor": "#C8D4E3",
             "minorgridcolor": "#C8D4E3",
             "startlinecolor": "#2a3f5f"
            },
            "type": "carpet"
           }
          ],
          "choropleth": [
           {
            "colorbar": {
             "outlinewidth": 0,
             "ticks": ""
            },
            "type": "choropleth"
           }
          ],
          "contour": [
           {
            "colorbar": {
             "outlinewidth": 0,
             "ticks": ""
            },
            "colorscale": [
             [
              0,
              "#0d0887"
             ],
             [
              0.1111111111111111,
              "#46039f"
             ],
             [
              0.2222222222222222,
              "#7201a8"
             ],
             [
              0.3333333333333333,
              "#9c179e"
             ],
             [
              0.4444444444444444,
              "#bd3786"
             ],
             [
              0.5555555555555556,
              "#d8576b"
             ],
             [
              0.6666666666666666,
              "#ed7953"
             ],
             [
              0.7777777777777778,
              "#fb9f3a"
             ],
             [
              0.8888888888888888,
              "#fdca26"
             ],
             [
              1,
              "#f0f921"
             ]
            ],
            "type": "contour"
           }
          ],
          "contourcarpet": [
           {
            "colorbar": {
             "outlinewidth": 0,
             "ticks": ""
            },
            "type": "contourcarpet"
           }
          ],
          "heatmap": [
           {
            "colorbar": {
             "outlinewidth": 0,
             "ticks": ""
            },
            "colorscale": [
             [
              0,
              "#0d0887"
             ],
             [
              0.1111111111111111,
              "#46039f"
             ],
             [
              0.2222222222222222,
              "#7201a8"
             ],
             [
              0.3333333333333333,
              "#9c179e"
             ],
             [
              0.4444444444444444,
              "#bd3786"
             ],
             [
              0.5555555555555556,
              "#d8576b"
             ],
             [
              0.6666666666666666,
              "#ed7953"
             ],
             [
              0.7777777777777778,
              "#fb9f3a"
             ],
             [
              0.8888888888888888,
              "#fdca26"
             ],
             [
              1,
              "#f0f921"
             ]
            ],
            "type": "heatmap"
           }
          ],
          "histogram": [
           {
            "marker": {
             "pattern": {
              "fillmode": "overlay",
              "size": 10,
              "solidity": 0.2
             }
            },
            "type": "histogram"
           }
          ],
          "histogram2d": [
           {
            "colorbar": {
             "outlinewidth": 0,
             "ticks": ""
            },
            "colorscale": [
             [
              0,
              "#0d0887"
             ],
             [
              0.1111111111111111,
              "#46039f"
             ],
             [
              0.2222222222222222,
              "#7201a8"
             ],
             [
              0.3333333333333333,
              "#9c179e"
             ],
             [
              0.4444444444444444,
              "#bd3786"
             ],
             [
              0.5555555555555556,
              "#d8576b"
             ],
             [
              0.6666666666666666,
              "#ed7953"
             ],
             [
              0.7777777777777778,
              "#fb9f3a"
             ],
             [
              0.8888888888888888,
              "#fdca26"
             ],
             [
              1,
              "#f0f921"
             ]
            ],
            "type": "histogram2d"
           }
          ],
          "histogram2dcontour": [
           {
            "colorbar": {
             "outlinewidth": 0,
             "ticks": ""
            },
            "colorscale": [
             [
              0,
              "#0d0887"
             ],
             [
              0.1111111111111111,
              "#46039f"
             ],
             [
              0.2222222222222222,
              "#7201a8"
             ],
             [
              0.3333333333333333,
              "#9c179e"
             ],
             [
              0.4444444444444444,
              "#bd3786"
             ],
             [
              0.5555555555555556,
              "#d8576b"
             ],
             [
              0.6666666666666666,
              "#ed7953"
             ],
             [
              0.7777777777777778,
              "#fb9f3a"
             ],
             [
              0.8888888888888888,
              "#fdca26"
             ],
             [
              1,
              "#f0f921"
             ]
            ],
            "type": "histogram2dcontour"
           }
          ],
          "mesh3d": [
           {
            "colorbar": {
             "outlinewidth": 0,
             "ticks": ""
            },
            "type": "mesh3d"
           }
          ],
          "parcoords": [
           {
            "line": {
             "colorbar": {
              "outlinewidth": 0,
              "ticks": ""
             }
            },
            "type": "parcoords"
           }
          ],
          "pie": [
           {
            "automargin": true,
            "type": "pie"
           }
          ],
          "scatter": [
           {
            "fillpattern": {
             "fillmode": "overlay",
             "size": 10,
             "solidity": 0.2
            },
            "type": "scatter"
           }
          ],
          "scatter3d": [
           {
            "line": {
             "colorbar": {
              "outlinewidth": 0,
              "ticks": ""
             }
            },
            "marker": {
             "colorbar": {
              "outlinewidth": 0,
              "ticks": ""
             }
            },
            "type": "scatter3d"
           }
          ],
          "scattercarpet": [
           {
            "marker": {
             "colorbar": {
              "outlinewidth": 0,
              "ticks": ""
             }
            },
            "type": "scattercarpet"
           }
          ],
          "scattergeo": [
           {
            "marker": {
             "colorbar": {
              "outlinewidth": 0,
              "ticks": ""
             }
            },
            "type": "scattergeo"
           }
          ],
          "scattergl": [
           {
            "marker": {
             "colorbar": {
              "outlinewidth": 0,
              "ticks": ""
             }
            },
            "type": "scattergl"
           }
          ],
          "scattermap": [
           {
            "marker": {
             "colorbar": {
              "outlinewidth": 0,
              "ticks": ""
             }
            },
            "type": "scattermap"
           }
          ],
          "scattermapbox": [
           {
            "marker": {
             "colorbar": {
              "outlinewidth": 0,
              "ticks": ""
             }
            },
            "type": "scattermapbox"
           }
          ],
          "scatterpolar": [
           {
            "marker": {
             "colorbar": {
              "outlinewidth": 0,
              "ticks": ""
             }
            },
            "type": "scatterpolar"
           }
          ],
          "scatterpolargl": [
           {
            "marker": {
             "colorbar": {
              "outlinewidth": 0,
              "ticks": ""
             }
            },
            "type": "scatterpolargl"
           }
          ],
          "scatterternary": [
           {
            "marker": {
             "colorbar": {
              "outlinewidth": 0,
              "ticks": ""
             }
            },
            "type": "scatterternary"
           }
          ],
          "surface": [
           {
            "colorbar": {
             "outlinewidth": 0,
             "ticks": ""
            },
            "colorscale": [
             [
              0,
              "#0d0887"
             ],
             [
              0.1111111111111111,
              "#46039f"
             ],
             [
              0.2222222222222222,
              "#7201a8"
             ],
             [
              0.3333333333333333,
              "#9c179e"
             ],
             [
              0.4444444444444444,
              "#bd3786"
             ],
             [
              0.5555555555555556,
              "#d8576b"
             ],
             [
              0.6666666666666666,
              "#ed7953"
             ],
             [
              0.7777777777777778,
              "#fb9f3a"
             ],
             [
              0.8888888888888888,
              "#fdca26"
             ],
             [
              1,
              "#f0f921"
             ]
            ],
            "type": "surface"
           }
          ],
          "table": [
           {
            "cells": {
             "fill": {
              "color": "#EBF0F8"
             },
             "line": {
              "color": "white"
             }
            },
            "header": {
             "fill": {
              "color": "#C8D4E3"
             },
             "line": {
              "color": "white"
             }
            },
            "type": "table"
           }
          ]
         },
         "layout": {
          "annotationdefaults": {
           "arrowcolor": "#2a3f5f",
           "arrowhead": 0,
           "arrowwidth": 1
          },
          "autotypenumbers": "strict",
          "coloraxis": {
           "colorbar": {
            "outlinewidth": 0,
            "ticks": ""
           }
          },
          "colorscale": {
           "diverging": [
            [
             0,
             "#8e0152"
            ],
            [
             0.1,
             "#c51b7d"
            ],
            [
             0.2,
             "#de77ae"
            ],
            [
             0.3,
             "#f1b6da"
            ],
            [
             0.4,
             "#fde0ef"
            ],
            [
             0.5,
             "#f7f7f7"
            ],
            [
             0.6,
             "#e6f5d0"
            ],
            [
             0.7,
             "#b8e186"
            ],
            [
             0.8,
             "#7fbc41"
            ],
            [
             0.9,
             "#4d9221"
            ],
            [
             1,
             "#276419"
            ]
           ],
           "sequential": [
            [
             0,
             "#0d0887"
            ],
            [
             0.1111111111111111,
             "#46039f"
            ],
            [
             0.2222222222222222,
             "#7201a8"
            ],
            [
             0.3333333333333333,
             "#9c179e"
            ],
            [
             0.4444444444444444,
             "#bd3786"
            ],
            [
             0.5555555555555556,
             "#d8576b"
            ],
            [
             0.6666666666666666,
             "#ed7953"
            ],
            [
             0.7777777777777778,
             "#fb9f3a"
            ],
            [
             0.8888888888888888,
             "#fdca26"
            ],
            [
             1,
             "#f0f921"
            ]
           ],
           "sequentialminus": [
            [
             0,
             "#0d0887"
            ],
            [
             0.1111111111111111,
             "#46039f"
            ],
            [
             0.2222222222222222,
             "#7201a8"
            ],
            [
             0.3333333333333333,
             "#9c179e"
            ],
            [
             0.4444444444444444,
             "#bd3786"
            ],
            [
             0.5555555555555556,
             "#d8576b"
            ],
            [
             0.6666666666666666,
             "#ed7953"
            ],
            [
             0.7777777777777778,
             "#fb9f3a"
            ],
            [
             0.8888888888888888,
             "#fdca26"
            ],
            [
             1,
             "#f0f921"
            ]
           ]
          },
          "colorway": [
           "#636efa",
           "#EF553B",
           "#00cc96",
           "#ab63fa",
           "#FFA15A",
           "#19d3f3",
           "#FF6692",
           "#B6E880",
           "#FF97FF",
           "#FECB52"
          ],
          "font": {
           "color": "#2a3f5f"
          },
          "geo": {
           "bgcolor": "white",
           "lakecolor": "white",
           "landcolor": "white",
           "showlakes": true,
           "showland": true,
           "subunitcolor": "#C8D4E3"
          },
          "hoverlabel": {
           "align": "left"
          },
          "hovermode": "closest",
          "mapbox": {
           "style": "light"
          },
          "paper_bgcolor": "white",
          "plot_bgcolor": "white",
          "polar": {
           "angularaxis": {
            "gridcolor": "#EBF0F8",
            "linecolor": "#EBF0F8",
            "ticks": ""
           },
           "bgcolor": "white",
           "radialaxis": {
            "gridcolor": "#EBF0F8",
            "linecolor": "#EBF0F8",
            "ticks": ""
           }
          },
          "scene": {
           "xaxis": {
            "backgroundcolor": "white",
            "gridcolor": "#DFE8F3",
            "gridwidth": 2,
            "linecolor": "#EBF0F8",
            "showbackground": true,
            "ticks": "",
            "zerolinecolor": "#EBF0F8"
           },
           "yaxis": {
            "backgroundcolor": "white",
            "gridcolor": "#DFE8F3",
            "gridwidth": 2,
            "linecolor": "#EBF0F8",
            "showbackground": true,
            "ticks": "",
            "zerolinecolor": "#EBF0F8"
           },
           "zaxis": {
            "backgroundcolor": "white",
            "gridcolor": "#DFE8F3",
            "gridwidth": 2,
            "linecolor": "#EBF0F8",
            "showbackground": true,
            "ticks": "",
            "zerolinecolor": "#EBF0F8"
           }
          },
          "shapedefaults": {
           "line": {
            "color": "#2a3f5f"
           }
          },
          "ternary": {
           "aaxis": {
            "gridcolor": "#DFE8F3",
            "linecolor": "#A2B1C6",
            "ticks": ""
           },
           "baxis": {
            "gridcolor": "#DFE8F3",
            "linecolor": "#A2B1C6",
            "ticks": ""
           },
           "bgcolor": "white",
           "caxis": {
            "gridcolor": "#DFE8F3",
            "linecolor": "#A2B1C6",
            "ticks": ""
           }
          },
          "title": {
           "x": 0.05
          },
          "xaxis": {
           "automargin": true,
           "gridcolor": "#EBF0F8",
           "linecolor": "#EBF0F8",
           "ticks": "",
           "title": {
            "standoff": 15
           },
           "zerolinecolor": "#EBF0F8",
           "zerolinewidth": 2
          },
          "yaxis": {
           "automargin": true,
           "gridcolor": "#EBF0F8",
           "linecolor": "#EBF0F8",
           "ticks": "",
           "title": {
            "standoff": 15
           },
           "zerolinecolor": "#EBF0F8",
           "zerolinewidth": 2
          }
         }
        },
        "title": {
         "text": "Histogramm: Alter"
        },
        "xaxis": {
         "anchor": "y",
         "domain": [
          0,
          1
         ],
         "title": {
          "text": "Alter"
         }
        },
        "xaxis2": {
         "anchor": "y2",
         "domain": [
          0,
          1
         ],
         "matches": "x",
         "showgrid": true,
         "showticklabels": false
        },
        "yaxis": {
         "anchor": "x",
         "domain": [
          0,
          0.8316
         ],
         "title": {
          "text": "Häufigkeit"
         }
        },
        "yaxis2": {
         "anchor": "x2",
         "domain": [
          0.8416,
          1
         ],
         "matches": "y2",
         "showgrid": false,
         "showline": false,
         "showticklabels": false,
         "ticks": ""
        }
       }
      }
     },
     "metadata": {},
     "output_type": "display_data"
    },
    {
     "data": {
      "application/vnd.plotly.v1+json": {
       "config": {
        "plotlyServerURL": "https://plot.ly"
       },
       "data": [
        {
         "bingroup": "x",
         "hovertemplate": "Blutdruck=%{x}<br>count=%{y}<extra></extra>",
         "legendgroup": "",
         "marker": {
          "color": "steelblue",
          "pattern": {
           "shape": ""
          }
         },
         "name": "",
         "nbinsx": 20,
         "orientation": "v",
         "showlegend": false,
         "type": "histogram",
         "x": {
          "bdata": "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",
          "dtype": "i2"
         },
         "xaxis": "x",
         "yaxis": "y"
        },
        {
         "hovertemplate": "Blutdruck=%{x}<extra></extra>",
         "legendgroup": "",
         "marker": {
          "color": "steelblue"
         },
         "name": "",
         "notched": true,
         "showlegend": false,
         "type": "box",
         "x": {
          "bdata": "jACgAIIAigCWAHgAggBuAIwAeACCAIgAeACMAHMAeABuAHgAZAB4AGQAeAB8AJYAggCCAHwAeABxAH0AkQCCAH0AggCWAH0AjABuAHgAlgCWAIIAlgCMAHgAggB4AIwAcABuAIIAeACMAIIAggCgAHgAggCWAHAAZACWAIwAeABuAHgAhABuAKAAlgCMAIIAeAB4AIwAlgB2AIwAjACCAG4AeACWAKAAlgCMAKoAjAB4AIwAbgCCAHgAoABuAIIAjgCgAHgAfQCCAIIAlgB4AHYAjAB4AJYAjAC+AIIAlgCMAIwAggBkAHgAggB4AIwAhwB9AG4AtACCAHgAggBsAHgAeACRAG4AqgCWAIIAcwB4AHgAjACWAKAAjACgAIwAeABuAHgAeAB4AIIAggBkAIIAeAB4AJsAbgCMAIIAoACMAIAAoAB4AIwAjACMAIwAhwCMAHgAjACMAIwAjACMAIwAjACCAIIAggCCAIwAbgCgAKAAggB4AHgAtAC0AKoAggCHAH0AoAB4AJYAeACCAG4AeACgAGQAggCWAHgAbgCCAH0AagCMAIIAggCWAKoAbgB4AIwAjACCAKAAeAB4AHgAkQB4AFwAeACCAIIAggB4AHAAjAB4AHgAjACgAKAAkQDIAKAAeACgAHgAeAB6AIIAggCHAHgAfQCMAJEAeACCAJYAlgB6AIwAeAB4AIIAjACgAIIAYgCCAIIAeABpAIwAeAC0ALQAhwCqALQAggB4AJYAggBuAIwAbgCMAHgAhQB4AG4AjACCAHMAXwBpAJEAbgBuAG4AoACMAH0AeABfAHgAcwCCAHMAXwCbAH0AfQBzAFAAkQBpAIwAggCRAH0AZABpAHMAZABpAG4AfQBfAIIAcwBzAGQAXwCCAHgAoACWAIwAXwBkAG4AbgCCAHgAhwB4AHMAiQBuAHgAjAB4AIIAeACRAHMAeABzAGkAoACgAJsAeAB4AMgAlgCHAIwAlgCHAJYAuQCHAH0AoACbAKAAjAB4AKAAcwBzAG4AeACWAJEAggCMAKAAjABzAIIAlgCgAIcAjACqAKUAyACgAIIAkQCHAG4AeACMAHMAbgCgAJYAtAB9AH0AggCbAIwAggCEAI4AbgB4AJYAtAB4AKAAfgCMAG4AhQCAAHgAqgBuAH4AmAB0AHgAggCKAIAAggCAAIIAeACIAIIAfACgAAAAegCQAIwAeACIAJoAeAB9AIYAaACLAIgAegCAAIMAhgB4AIQAmAB8AH4AigCaAI0AgwCyAIQAbgCCAKoAfgCMAI4AeACGAIsAbgCMAIwAiAB4AKoAggCJAI4AjgCEAJIAoACHAIgAggCMAIQAngCIAIgAagB4AG4AiACgAHsAcAB6AIIAlgCWAGYAYACCAHgAkAB8AJYAggCQAIsAgwCPAIUAjwB0AG4AfQCCAIUAlgCCAG4AigBoAIoAqgCMAIQAhACOAHAAiwCsAHgAkACRAJsAlgCgAIkAiQCGAIUAhACMAIcAkACNAJYAggBuAJ4AgACMAJYAoACOAIkAiwCSAJwAkQCDAIwAegCOAI0AtAB8AHYAjACMAIgAZAC+AIIAoACCAHoAhQB4AIIAggCMAHgAmwCGAHIAoACQAJ4AhgB/AIcAegCMAHgAggBzAHwAgAB4AHgAggBuAIwAlgCHAI4AjACGAIAAcACMAIwAbgCMAHgAggBzAHAAhACCAIoAeABwAG4AgACgAHgAqgCQAIIAjACgAIIAegCYAHwAggBlAH4AjAB2AG4AoACWAIgAgACMAIwAggBpAIoAeACuAHgAlgCCAHgAlgCRAJYAjACIAHYAbAB4AHgAnACMAGoAjgBoAF4AeAB4AJIAeACWAIIAbgCUAIAAsgB+AJYAjACCAHwAbgB9AG4AeABkAIwAeABsAHgAggClAIIAfABkAJYAjABwALQAbgCeAIcAeACGAHgAyACWAIIAeAB6AJgAoAB9AKAAeACIAIYAdQBsAHAAjAB4AJYAjgCYAH0AdgCEAJEAigCMAH0AwAB7AHAAbgCEAHAAcAB4AGwAggCCAGkAjACAAHgAsgB4AJYAggCAAG4AtABuAIIAigCKAKAAjABkAHgAdgCKAIwAlgB9AIEAeACGAG4AZgCCAIIAhABsAIwAoACMAJEAbAB+AHwAhwBkAG4AjAB9AHYAfQB9AIwAoACYAGYAaQB9AIIAqgB9AHoAgACCAIIAhwBeAHgAeABuAIcAlgCCAIoAhwCCAIQAlgB2AJEAdgBzAIAAggCgAIoAeACKAHgAtACMAIIAjACMAIIAbgCbAIwAkQB4AIIAcABuAJYAoACWAIQAjACWAHgAggB4AIIAbgCsAHgAjACMAKAAgACKAIQAgACGAKoAkgCKAJoAggBuAIIAgAB6AJQAcgCqAH0AggB4AJgAhAB4AIwAfAB4AKQAjABuAJAAggCCAIoA",
          "dtype": "i2"
         },
         "xaxis": "x2",
         "yaxis": "y2"
        }
       ],
       "layout": {
        "barmode": "relative",
        "legend": {
         "tracegroupgap": 0
        },
        "template": {
         "data": {
          "bar": [
           {
            "error_x": {
             "color": "#2a3f5f"
            },
            "error_y": {
             "color": "#2a3f5f"
            },
            "marker": {
             "line": {
              "color": "white",
              "width": 0.5
             },
             "pattern": {
              "fillmode": "overlay",
              "size": 10,
              "solidity": 0.2
             }
            },
            "type": "bar"
           }
          ],
          "barpolar": [
           {
            "marker": {
             "line": {
              "color": "white",
              "width": 0.5
             },
             "pattern": {
              "fillmode": "overlay",
              "size": 10,
              "solidity": 0.2
             }
            },
            "type": "barpolar"
           }
          ],
          "carpet": [
           {
            "aaxis": {
             "endlinecolor": "#2a3f5f",
             "gridcolor": "#C8D4E3",
             "linecolor": "#C8D4E3",
             "minorgridcolor": "#C8D4E3",
             "startlinecolor": "#2a3f5f"
            },
            "baxis": {
             "endlinecolor": "#2a3f5f",
             "gridcolor": "#C8D4E3",
             "linecolor": "#C8D4E3",
             "minorgridcolor": "#C8D4E3",
             "startlinecolor": "#2a3f5f"
            },
            "type": "carpet"
           }
          ],
          "choropleth": [
           {
            "colorbar": {
             "outlinewidth": 0,
             "ticks": ""
            },
            "type": "choropleth"
           }
          ],
          "contour": [
           {
            "colorbar": {
             "outlinewidth": 0,
             "ticks": ""
            },
            "colorscale": [
             [
              0,
              "#0d0887"
             ],
             [
              0.1111111111111111,
              "#46039f"
             ],
             [
              0.2222222222222222,
              "#7201a8"
             ],
             [
              0.3333333333333333,
              "#9c179e"
             ],
             [
              0.4444444444444444,
              "#bd3786"
             ],
             [
              0.5555555555555556,
              "#d8576b"
             ],
             [
              0.6666666666666666,
              "#ed7953"
             ],
             [
              0.7777777777777778,
              "#fb9f3a"
             ],
             [
              0.8888888888888888,
              "#fdca26"
             ],
             [
              1,
              "#f0f921"
             ]
            ],
            "type": "contour"
           }
          ],
          "contourcarpet": [
           {
            "colorbar": {
             "outlinewidth": 0,
             "ticks": ""
            },
            "type": "contourcarpet"
           }
          ],
          "heatmap": [
           {
            "colorbar": {
             "outlinewidth": 0,
             "ticks": ""
            },
            "colorscale": [
             [
              0,
              "#0d0887"
             ],
             [
              0.1111111111111111,
              "#46039f"
             ],
             [
              0.2222222222222222,
              "#7201a8"
             ],
             [
              0.3333333333333333,
              "#9c179e"
             ],
             [
              0.4444444444444444,
              "#bd3786"
             ],
             [
              0.5555555555555556,
              "#d8576b"
             ],
             [
              0.6666666666666666,
              "#ed7953"
             ],
             [
              0.7777777777777778,
              "#fb9f3a"
             ],
             [
              0.8888888888888888,
              "#fdca26"
             ],
             [
              1,
              "#f0f921"
             ]
            ],
            "type": "heatmap"
           }
          ],
          "histogram": [
           {
            "marker": {
             "pattern": {
              "fillmode": "overlay",
              "size": 10,
              "solidity": 0.2
             }
            },
            "type": "histogram"
           }
          ],
          "histogram2d": [
           {
            "colorbar": {
             "outlinewidth": 0,
             "ticks": ""
            },
            "colorscale": [
             [
              0,
              "#0d0887"
             ],
             [
              0.1111111111111111,
              "#46039f"
             ],
             [
              0.2222222222222222,
              "#7201a8"
             ],
             [
              0.3333333333333333,
              "#9c179e"
             ],
             [
              0.4444444444444444,
              "#bd3786"
             ],
             [
              0.5555555555555556,
              "#d8576b"
             ],
             [
              0.6666666666666666,
              "#ed7953"
             ],
             [
              0.7777777777777778,
              "#fb9f3a"
             ],
             [
              0.8888888888888888,
              "#fdca26"
             ],
             [
              1,
              "#f0f921"
             ]
            ],
            "type": "histogram2d"
           }
          ],
          "histogram2dcontour": [
           {
            "colorbar": {
             "outlinewidth": 0,
             "ticks": ""
            },
            "colorscale": [
             [
              0,
              "#0d0887"
             ],
             [
              0.1111111111111111,
              "#46039f"
             ],
             [
              0.2222222222222222,
              "#7201a8"
             ],
             [
              0.3333333333333333,
              "#9c179e"
             ],
             [
              0.4444444444444444,
              "#bd3786"
             ],
             [
              0.5555555555555556,
              "#d8576b"
             ],
             [
              0.6666666666666666,
              "#ed7953"
             ],
             [
              0.7777777777777778,
              "#fb9f3a"
             ],
             [
              0.8888888888888888,
              "#fdca26"
             ],
             [
              1,
              "#f0f921"
             ]
            ],
            "type": "histogram2dcontour"
           }
          ],
          "mesh3d": [
           {
            "colorbar": {
             "outlinewidth": 0,
             "ticks": ""
            },
            "type": "mesh3d"
           }
          ],
          "parcoords": [
           {
            "line": {
             "colorbar": {
              "outlinewidth": 0,
              "ticks": ""
             }
            },
            "type": "parcoords"
           }
          ],
          "pie": [
           {
            "automargin": true,
            "type": "pie"
           }
          ],
          "scatter": [
           {
            "fillpattern": {
             "fillmode": "overlay",
             "size": 10,
             "solidity": 0.2
            },
            "type": "scatter"
           }
          ],
          "scatter3d": [
           {
            "line": {
             "colorbar": {
              "outlinewidth": 0,
              "ticks": ""
             }
            },
            "marker": {
             "colorbar": {
              "outlinewidth": 0,
              "ticks": ""
             }
            },
            "type": "scatter3d"
           }
          ],
          "scattercarpet": [
           {
            "marker": {
             "colorbar": {
              "outlinewidth": 0,
              "ticks": ""
             }
            },
            "type": "scattercarpet"
           }
          ],
          "scattergeo": [
           {
            "marker": {
             "colorbar": {
              "outlinewidth": 0,
              "ticks": ""
             }
            },
            "type": "scattergeo"
           }
          ],
          "scattergl": [
           {
            "marker": {
             "colorbar": {
              "outlinewidth": 0,
              "ticks": ""
             }
            },
            "type": "scattergl"
           }
          ],
          "scattermap": [
           {
            "marker": {
             "colorbar": {
              "outlinewidth": 0,
              "ticks": ""
             }
            },
            "type": "scattermap"
           }
          ],
          "scattermapbox": [
           {
            "marker": {
             "colorbar": {
              "outlinewidth": 0,
              "ticks": ""
             }
            },
            "type": "scattermapbox"
           }
          ],
          "scatterpolar": [
           {
            "marker": {
             "colorbar": {
              "outlinewidth": 0,
              "ticks": ""
             }
            },
            "type": "scatterpolar"
           }
          ],
          "scatterpolargl": [
           {
            "marker": {
             "colorbar": {
              "outlinewidth": 0,
              "ticks": ""
             }
            },
            "type": "scatterpolargl"
           }
          ],
          "scatterternary": [
           {
            "marker": {
             "colorbar": {
              "outlinewidth": 0,
              "ticks": ""
             }
            },
            "type": "scatterternary"
           }
          ],
          "surface": [
           {
            "colorbar": {
             "outlinewidth": 0,
             "ticks": ""
            },
            "colorscale": [
             [
              0,
              "#0d0887"
             ],
             [
              0.1111111111111111,
              "#46039f"
             ],
             [
              0.2222222222222222,
              "#7201a8"
             ],
             [
              0.3333333333333333,
              "#9c179e"
             ],
             [
              0.4444444444444444,
              "#bd3786"
             ],
             [
              0.5555555555555556,
              "#d8576b"
             ],
             [
              0.6666666666666666,
              "#ed7953"
             ],
             [
              0.7777777777777778,
              "#fb9f3a"
             ],
             [
              0.8888888888888888,
              "#fdca26"
             ],
             [
              1,
              "#f0f921"
             ]
            ],
            "type": "surface"
           }
          ],
          "table": [
           {
            "cells": {
             "fill": {
              "color": "#EBF0F8"
             },
             "line": {
              "color": "white"
             }
            },
            "header": {
             "fill": {
              "color": "#C8D4E3"
             },
             "line": {
              "color": "white"
             }
            },
            "type": "table"
           }
          ]
         },
         "layout": {
          "annotationdefaults": {
           "arrowcolor": "#2a3f5f",
           "arrowhead": 0,
           "arrowwidth": 1
          },
          "autotypenumbers": "strict",
          "coloraxis": {
           "colorbar": {
            "outlinewidth": 0,
            "ticks": ""
           }
          },
          "colorscale": {
           "diverging": [
            [
             0,
             "#8e0152"
            ],
            [
             0.1,
             "#c51b7d"
            ],
            [
             0.2,
             "#de77ae"
            ],
            [
             0.3,
             "#f1b6da"
            ],
            [
             0.4,
             "#fde0ef"
            ],
            [
             0.5,
             "#f7f7f7"
            ],
            [
             0.6,
             "#e6f5d0"
            ],
            [
             0.7,
             "#b8e186"
            ],
            [
             0.8,
             "#7fbc41"
            ],
            [
             0.9,
             "#4d9221"
            ],
            [
             1,
             "#276419"
            ]
           ],
           "sequential": [
            [
             0,
             "#0d0887"
            ],
            [
             0.1111111111111111,
             "#46039f"
            ],
            [
             0.2222222222222222,
             "#7201a8"
            ],
            [
             0.3333333333333333,
             "#9c179e"
            ],
            [
             0.4444444444444444,
             "#bd3786"
            ],
            [
             0.5555555555555556,
             "#d8576b"
            ],
            [
             0.6666666666666666,
             "#ed7953"
            ],
            [
             0.7777777777777778,
             "#fb9f3a"
            ],
            [
             0.8888888888888888,
             "#fdca26"
            ],
            [
             1,
             "#f0f921"
            ]
           ],
           "sequentialminus": [
            [
             0,
             "#0d0887"
            ],
            [
             0.1111111111111111,
             "#46039f"
            ],
            [
             0.2222222222222222,
             "#7201a8"
            ],
            [
             0.3333333333333333,
             "#9c179e"
            ],
            [
             0.4444444444444444,
             "#bd3786"
            ],
            [
             0.5555555555555556,
             "#d8576b"
            ],
            [
             0.6666666666666666,
             "#ed7953"
            ],
            [
             0.7777777777777778,
             "#fb9f3a"
            ],
            [
             0.8888888888888888,
             "#fdca26"
            ],
            [
             1,
             "#f0f921"
            ]
           ]
          },
          "colorway": [
           "#636efa",
           "#EF553B",
           "#00cc96",
           "#ab63fa",
           "#FFA15A",
           "#19d3f3",
           "#FF6692",
           "#B6E880",
           "#FF97FF",
           "#FECB52"
          ],
          "font": {
           "color": "#2a3f5f"
          },
          "geo": {
           "bgcolor": "white",
           "lakecolor": "white",
           "landcolor": "white",
           "showlakes": true,
           "showland": true,
           "subunitcolor": "#C8D4E3"
          },
          "hoverlabel": {
           "align": "left"
          },
          "hovermode": "closest",
          "mapbox": {
           "style": "light"
          },
          "paper_bgcolor": "white",
          "plot_bgcolor": "white",
          "polar": {
           "angularaxis": {
            "gridcolor": "#EBF0F8",
            "linecolor": "#EBF0F8",
            "ticks": ""
           },
           "bgcolor": "white",
           "radialaxis": {
            "gridcolor": "#EBF0F8",
            "linecolor": "#EBF0F8",
            "ticks": ""
           }
          },
          "scene": {
           "xaxis": {
            "backgroundcolor": "white",
            "gridcolor": "#DFE8F3",
            "gridwidth": 2,
            "linecolor": "#EBF0F8",
            "showbackground": true,
            "ticks": "",
            "zerolinecolor": "#EBF0F8"
           },
           "yaxis": {
            "backgroundcolor": "white",
            "gridcolor": "#DFE8F3",
            "gridwidth": 2,
            "linecolor": "#EBF0F8",
            "showbackground": true,
            "ticks": "",
            "zerolinecolor": "#EBF0F8"
           },
           "zaxis": {
            "backgroundcolor": "white",
            "gridcolor": "#DFE8F3",
            "gridwidth": 2,
            "linecolor": "#EBF0F8",
            "showbackground": true,
            "ticks": "",
            "zerolinecolor": "#EBF0F8"
           }
          },
          "shapedefaults": {
           "line": {
            "color": "#2a3f5f"
           }
          },
          "ternary": {
           "aaxis": {
            "gridcolor": "#DFE8F3",
            "linecolor": "#A2B1C6",
            "ticks": ""
           },
           "baxis": {
            "gridcolor": "#DFE8F3",
            "linecolor": "#A2B1C6",
            "ticks": ""
           },
           "bgcolor": "white",
           "caxis": {
            "gridcolor": "#DFE8F3",
            "linecolor": "#A2B1C6",
            "ticks": ""
           }
          },
          "title": {
           "x": 0.05
          },
          "xaxis": {
           "automargin": true,
           "gridcolor": "#EBF0F8",
           "linecolor": "#EBF0F8",
           "ticks": "",
           "title": {
            "standoff": 15
           },
           "zerolinecolor": "#EBF0F8",
           "zerolinewidth": 2
          },
          "yaxis": {
           "automargin": true,
           "gridcolor": "#EBF0F8",
           "linecolor": "#EBF0F8",
           "ticks": "",
           "title": {
            "standoff": 15
           },
           "zerolinecolor": "#EBF0F8",
           "zerolinewidth": 2
          }
         }
        },
        "title": {
         "text": "Histogramm: Blutdruck"
        },
        "xaxis": {
         "anchor": "y",
         "domain": [
          0,
          1
         ],
         "title": {
          "text": "Blutdruck"
         }
        },
        "xaxis2": {
         "anchor": "y2",
         "domain": [
          0,
          1
         ],
         "matches": "x",
         "showgrid": true,
         "showticklabels": false
        },
        "yaxis": {
         "anchor": "x",
         "domain": [
          0,
          0.8316
         ],
         "title": {
          "text": "Häufigkeit"
         }
        },
        "yaxis2": {
         "anchor": "x2",
         "domain": [
          0.8416,
          1
         ],
         "matches": "y2",
         "showgrid": false,
         "showline": false,
         "showticklabels": false,
         "ticks": ""
        }
       }
      }
     },
     "metadata": {},
     "output_type": "display_data"
    },
    {
     "data": {
      "application/vnd.plotly.v1+json": {
       "config": {
        "plotlyServerURL": "https://plot.ly"
       },
       "data": [
        {
         "bingroup": "x",
         "hovertemplate": "Chol=%{x}<br>count=%{y}<extra></extra>",
         "legendgroup": "",
         "marker": {
          "color": "steelblue",
          "pattern": {
           "shape": ""
          }
         },
         "name": "",
         "nbinsx": 20,
         "orientation": "v",
         "showlegend": false,
         "type": "histogram",
         "x": {
          "bdata": "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",
          "dtype": "i2"
         },
         "xaxis": "x",
         "yaxis": "y"
        },
        {
         "hovertemplate": "Chol=%{x}<extra></extra>",
         "legendgroup": "",
         "marker": {
          "color": "steelblue"
         },
         "name": "",
         "notched": true,
         "showlegend": false,
         "type": "box",
         "x": {
          "bdata": "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",
          "dtype": "i2"
         },
         "xaxis": "x2",
         "yaxis": "y2"
        }
       ],
       "layout": {
        "barmode": "relative",
        "legend": {
         "tracegroupgap": 0
        },
        "template": {
         "data": {
          "bar": [
           {
            "error_x": {
             "color": "#2a3f5f"
            },
            "error_y": {
             "color": "#2a3f5f"
            },
            "marker": {
             "line": {
              "color": "white",
              "width": 0.5
             },
             "pattern": {
              "fillmode": "overlay",
              "size": 10,
              "solidity": 0.2
             }
            },
            "type": "bar"
           }
          ],
          "barpolar": [
           {
            "marker": {
             "line": {
              "color": "white",
              "width": 0.5
             },
             "pattern": {
              "fillmode": "overlay",
              "size": 10,
              "solidity": 0.2
             }
            },
            "type": "barpolar"
           }
          ],
          "carpet": [
           {
            "aaxis": {
             "endlinecolor": "#2a3f5f",
             "gridcolor": "#C8D4E3",
             "linecolor": "#C8D4E3",
             "minorgridcolor": "#C8D4E3",
             "startlinecolor": "#2a3f5f"
            },
            "baxis": {
             "endlinecolor": "#2a3f5f",
             "gridcolor": "#C8D4E3",
             "linecolor": "#C8D4E3",
             "minorgridcolor": "#C8D4E3",
             "startlinecolor": "#2a3f5f"
            },
            "type": "carpet"
           }
          ],
          "choropleth": [
           {
            "colorbar": {
             "outlinewidth": 0,
             "ticks": ""
            },
            "type": "choropleth"
           }
          ],
          "contour": [
           {
            "colorbar": {
             "outlinewidth": 0,
             "ticks": ""
            },
            "colorscale": [
             [
              0,
              "#0d0887"
             ],
             [
              0.1111111111111111,
              "#46039f"
             ],
             [
              0.2222222222222222,
              "#7201a8"
             ],
             [
              0.3333333333333333,
              "#9c179e"
             ],
             [
              0.4444444444444444,
              "#bd3786"
             ],
             [
              0.5555555555555556,
              "#d8576b"
             ],
             [
              0.6666666666666666,
              "#ed7953"
             ],
             [
              0.7777777777777778,
              "#fb9f3a"
             ],
             [
              0.8888888888888888,
              "#fdca26"
             ],
             [
              1,
              "#f0f921"
             ]
            ],
            "type": "contour"
           }
          ],
          "contourcarpet": [
           {
            "colorbar": {
             "outlinewidth": 0,
             "ticks": ""
            },
            "type": "contourcarpet"
           }
          ],
          "heatmap": [
           {
            "colorbar": {
             "outlinewidth": 0,
             "ticks": ""
            },
            "colorscale": [
             [
              0,
              "#0d0887"
             ],
             [
              0.1111111111111111,
              "#46039f"
             ],
             [
              0.2222222222222222,
              "#7201a8"
             ],
             [
              0.3333333333333333,
              "#9c179e"
             ],
             [
              0.4444444444444444,
              "#bd3786"
             ],
             [
              0.5555555555555556,
              "#d8576b"
             ],
             [
              0.6666666666666666,
              "#ed7953"
             ],
             [
              0.7777777777777778,
              "#fb9f3a"
             ],
             [
              0.8888888888888888,
              "#fdca26"
             ],
             [
              1,
              "#f0f921"
             ]
            ],
            "type": "heatmap"
           }
          ],
          "histogram": [
           {
            "marker": {
             "pattern": {
              "fillmode": "overlay",
              "size": 10,
              "solidity": 0.2
             }
            },
            "type": "histogram"
           }
          ],
          "histogram2d": [
           {
            "colorbar": {
             "outlinewidth": 0,
             "ticks": ""
            },
            "colorscale": [
             [
              0,
              "#0d0887"
             ],
             [
              0.1111111111111111,
              "#46039f"
             ],
             [
              0.2222222222222222,
              "#7201a8"
             ],
             [
              0.3333333333333333,
              "#9c179e"
             ],
             [
              0.4444444444444444,
              "#bd3786"
             ],
             [
              0.5555555555555556,
              "#d8576b"
             ],
             [
              0.6666666666666666,
              "#ed7953"
             ],
             [
              0.7777777777777778,
              "#fb9f3a"
             ],
             [
              0.8888888888888888,
              "#fdca26"
             ],
             [
              1,
              "#f0f921"
             ]
            ],
            "type": "histogram2d"
           }
          ],
          "histogram2dcontour": [
           {
            "colorbar": {
             "outlinewidth": 0,
             "ticks": ""
            },
            "colorscale": [
             [
              0,
              "#0d0887"
             ],
             [
              0.1111111111111111,
              "#46039f"
             ],
             [
              0.2222222222222222,
              "#7201a8"
             ],
             [
              0.3333333333333333,
              "#9c179e"
             ],
             [
              0.4444444444444444,
              "#bd3786"
             ],
             [
              0.5555555555555556,
              "#d8576b"
             ],
             [
              0.6666666666666666,
              "#ed7953"
             ],
             [
              0.7777777777777778,
              "#fb9f3a"
             ],
             [
              0.8888888888888888,
              "#fdca26"
             ],
             [
              1,
              "#f0f921"
             ]
            ],
            "type": "histogram2dcontour"
           }
          ],
          "mesh3d": [
           {
            "colorbar": {
             "outlinewidth": 0,
             "ticks": ""
            },
            "type": "mesh3d"
           }
          ],
          "parcoords": [
           {
            "line": {
             "colorbar": {
              "outlinewidth": 0,
              "ticks": ""
             }
            },
            "type": "parcoords"
           }
          ],
          "pie": [
           {
            "automargin": true,
            "type": "pie"
           }
          ],
          "scatter": [
           {
            "fillpattern": {
             "fillmode": "overlay",
             "size": 10,
             "solidity": 0.2
            },
            "type": "scatter"
           }
          ],
          "scatter3d": [
           {
            "line": {
             "colorbar": {
              "outlinewidth": 0,
              "ticks": ""
             }
            },
            "marker": {
             "colorbar": {
              "outlinewidth": 0,
              "ticks": ""
             }
            },
            "type": "scatter3d"
           }
          ],
          "scattercarpet": [
           {
            "marker": {
             "colorbar": {
              "outlinewidth": 0,
              "ticks": ""
             }
            },
            "type": "scattercarpet"
           }
          ],
          "scattergeo": [
           {
            "marker": {
             "colorbar": {
              "outlinewidth": 0,
              "ticks": ""
             }
            },
            "type": "scattergeo"
           }
          ],
          "scattergl": [
           {
            "marker": {
             "colorbar": {
              "outlinewidth": 0,
              "ticks": ""
             }
            },
            "type": "scattergl"
           }
          ],
          "scattermap": [
           {
            "marker": {
             "colorbar": {
              "outlinewidth": 0,
              "ticks": ""
             }
            },
            "type": "scattermap"
           }
          ],
          "scattermapbox": [
           {
            "marker": {
             "colorbar": {
              "outlinewidth": 0,
              "ticks": ""
             }
            },
            "type": "scattermapbox"
           }
          ],
          "scatterpolar": [
           {
            "marker": {
             "colorbar": {
              "outlinewidth": 0,
              "ticks": ""
             }
            },
            "type": "scatterpolar"
           }
          ],
          "scatterpolargl": [
           {
            "marker": {
             "colorbar": {
              "outlinewidth": 0,
              "ticks": ""
             }
            },
            "type": "scatterpolargl"
           }
          ],
          "scatterternary": [
           {
            "marker": {
             "colorbar": {
              "outlinewidth": 0,
              "ticks": ""
             }
            },
            "type": "scatterternary"
           }
          ],
          "surface": [
           {
            "colorbar": {
             "outlinewidth": 0,
             "ticks": ""
            },
            "colorscale": [
             [
              0,
              "#0d0887"
             ],
             [
              0.1111111111111111,
              "#46039f"
             ],
             [
              0.2222222222222222,
              "#7201a8"
             ],
             [
              0.3333333333333333,
              "#9c179e"
             ],
             [
              0.4444444444444444,
              "#bd3786"
             ],
             [
              0.5555555555555556,
              "#d8576b"
             ],
             [
              0.6666666666666666,
              "#ed7953"
             ],
             [
              0.7777777777777778,
              "#fb9f3a"
             ],
             [
              0.8888888888888888,
              "#fdca26"
             ],
             [
              1,
              "#f0f921"
             ]
            ],
            "type": "surface"
           }
          ],
          "table": [
           {
            "cells": {
             "fill": {
              "color": "#EBF0F8"
             },
             "line": {
              "color": "white"
             }
            },
            "header": {
             "fill": {
              "color": "#C8D4E3"
             },
             "line": {
              "color": "white"
             }
            },
            "type": "table"
           }
          ]
         },
         "layout": {
          "annotationdefaults": {
           "arrowcolor": "#2a3f5f",
           "arrowhead": 0,
           "arrowwidth": 1
          },
          "autotypenumbers": "strict",
          "coloraxis": {
           "colorbar": {
            "outlinewidth": 0,
            "ticks": ""
           }
          },
          "colorscale": {
           "diverging": [
            [
             0,
             "#8e0152"
            ],
            [
             0.1,
             "#c51b7d"
            ],
            [
             0.2,
             "#de77ae"
            ],
            [
             0.3,
             "#f1b6da"
            ],
            [
             0.4,
             "#fde0ef"
            ],
            [
             0.5,
             "#f7f7f7"
            ],
            [
             0.6,
             "#e6f5d0"
            ],
            [
             0.7,
             "#b8e186"
            ],
            [
             0.8,
             "#7fbc41"
            ],
            [
             0.9,
             "#4d9221"
            ],
            [
             1,
             "#276419"
            ]
           ],
           "sequential": [
            [
             0,
             "#0d0887"
            ],
            [
             0.1111111111111111,
             "#46039f"
            ],
            [
             0.2222222222222222,
             "#7201a8"
            ],
            [
             0.3333333333333333,
             "#9c179e"
            ],
            [
             0.4444444444444444,
             "#bd3786"
            ],
            [
             0.5555555555555556,
             "#d8576b"
            ],
            [
             0.6666666666666666,
             "#ed7953"
            ],
            [
             0.7777777777777778,
             "#fb9f3a"
            ],
            [
             0.8888888888888888,
             "#fdca26"
            ],
            [
             1,
             "#f0f921"
            ]
           ],
           "sequentialminus": [
            [
             0,
             "#0d0887"
            ],
            [
             0.1111111111111111,
             "#46039f"
            ],
            [
             0.2222222222222222,
             "#7201a8"
            ],
            [
             0.3333333333333333,
             "#9c179e"
            ],
            [
             0.4444444444444444,
             "#bd3786"
            ],
            [
             0.5555555555555556,
             "#d8576b"
            ],
            [
             0.6666666666666666,
             "#ed7953"
            ],
            [
             0.7777777777777778,
             "#fb9f3a"
            ],
            [
             0.8888888888888888,
             "#fdca26"
            ],
            [
             1,
             "#f0f921"
            ]
           ]
          },
          "colorway": [
           "#636efa",
           "#EF553B",
           "#00cc96",
           "#ab63fa",
           "#FFA15A",
           "#19d3f3",
           "#FF6692",
           "#B6E880",
           "#FF97FF",
           "#FECB52"
          ],
          "font": {
           "color": "#2a3f5f"
          },
          "geo": {
           "bgcolor": "white",
           "lakecolor": "white",
           "landcolor": "white",
           "showlakes": true,
           "showland": true,
           "subunitcolor": "#C8D4E3"
          },
          "hoverlabel": {
           "align": "left"
          },
          "hovermode": "closest",
          "mapbox": {
           "style": "light"
          },
          "paper_bgcolor": "white",
          "plot_bgcolor": "white",
          "polar": {
           "angularaxis": {
            "gridcolor": "#EBF0F8",
            "linecolor": "#EBF0F8",
            "ticks": ""
           },
           "bgcolor": "white",
           "radialaxis": {
            "gridcolor": "#EBF0F8",
            "linecolor": "#EBF0F8",
            "ticks": ""
           }
          },
          "scene": {
           "xaxis": {
            "backgroundcolor": "white",
            "gridcolor": "#DFE8F3",
            "gridwidth": 2,
            "linecolor": "#EBF0F8",
            "showbackground": true,
            "ticks": "",
            "zerolinecolor": "#EBF0F8"
           },
           "yaxis": {
            "backgroundcolor": "white",
            "gridcolor": "#DFE8F3",
            "gridwidth": 2,
            "linecolor": "#EBF0F8",
            "showbackground": true,
            "ticks": "",
            "zerolinecolor": "#EBF0F8"
           },
           "zaxis": {
            "backgroundcolor": "white",
            "gridcolor": "#DFE8F3",
            "gridwidth": 2,
            "linecolor": "#EBF0F8",
            "showbackground": true,
            "ticks": "",
            "zerolinecolor": "#EBF0F8"
           }
          },
          "shapedefaults": {
           "line": {
            "color": "#2a3f5f"
           }
          },
          "ternary": {
           "aaxis": {
            "gridcolor": "#DFE8F3",
            "linecolor": "#A2B1C6",
            "ticks": ""
           },
           "baxis": {
            "gridcolor": "#DFE8F3",
            "linecolor": "#A2B1C6",
            "ticks": ""
           },
           "bgcolor": "white",
           "caxis": {
            "gridcolor": "#DFE8F3",
            "linecolor": "#A2B1C6",
            "ticks": ""
           }
          },
          "title": {
           "x": 0.05
          },
          "xaxis": {
           "automargin": true,
           "gridcolor": "#EBF0F8",
           "linecolor": "#EBF0F8",
           "ticks": "",
           "title": {
            "standoff": 15
           },
           "zerolinecolor": "#EBF0F8",
           "zerolinewidth": 2
          },
          "yaxis": {
           "automargin": true,
           "gridcolor": "#EBF0F8",
           "linecolor": "#EBF0F8",
           "ticks": "",
           "title": {
            "standoff": 15
           },
           "zerolinecolor": "#EBF0F8",
           "zerolinewidth": 2
          }
         }
        },
        "title": {
         "text": "Histogramm: Chol"
        },
        "xaxis": {
         "anchor": "y",
         "domain": [
          0,
          1
         ],
         "title": {
          "text": "Chol"
         }
        },
        "xaxis2": {
         "anchor": "y2",
         "domain": [
          0,
          1
         ],
         "matches": "x",
         "showgrid": true,
         "showticklabels": false
        },
        "yaxis": {
         "anchor": "x",
         "domain": [
          0,
          0.8316
         ],
         "title": {
          "text": "Häufigkeit"
         }
        },
        "yaxis2": {
         "anchor": "x2",
         "domain": [
          0.8416,
          1
         ],
         "matches": "y2",
         "showgrid": false,
         "showline": false,
         "showticklabels": false,
         "ticks": ""
        }
       }
      }
     },
     "metadata": {},
     "output_type": "display_data"
    },
    {
     "data": {
      "application/vnd.plotly.v1+json": {
       "config": {
        "plotlyServerURL": "https://plot.ly"
       },
       "data": [
        {
         "bingroup": "x",
         "hovertemplate": "HFmax=%{x}<br>count=%{y}<extra></extra>",
         "legendgroup": "",
         "marker": {
          "color": "steelblue",
          "pattern": {
           "shape": ""
          }
         },
         "name": "",
         "nbinsx": 20,
         "orientation": "v",
         "showlegend": false,
         "type": "histogram",
         "x": {
          "bdata": "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",
          "dtype": "i2"
         },
         "xaxis": "x",
         "yaxis": "y"
        },
        {
         "hovertemplate": "HFmax=%{x}<extra></extra>",
         "legendgroup": "",
         "marker": {
          "color": "steelblue"
         },
         "name": "",
         "notched": true,
         "showlegend": false,
         "type": "box",
         "x": {
          "bdata": "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",
          "dtype": "i2"
         },
         "xaxis": "x2",
         "yaxis": "y2"
        }
       ],
       "layout": {
        "barmode": "relative",
        "legend": {
         "tracegroupgap": 0
        },
        "template": {
         "data": {
          "bar": [
           {
            "error_x": {
             "color": "#2a3f5f"
            },
            "error_y": {
             "color": "#2a3f5f"
            },
            "marker": {
             "line": {
              "color": "white",
              "width": 0.5
             },
             "pattern": {
              "fillmode": "overlay",
              "size": 10,
              "solidity": 0.2
             }
            },
            "type": "bar"
           }
          ],
          "barpolar": [
           {
            "marker": {
             "line": {
              "color": "white",
              "width": 0.5
             },
             "pattern": {
              "fillmode": "overlay",
              "size": 10,
              "solidity": 0.2
             }
            },
            "type": "barpolar"
           }
          ],
          "carpet": [
           {
            "aaxis": {
             "endlinecolor": "#2a3f5f",
             "gridcolor": "#C8D4E3",
             "linecolor": "#C8D4E3",
             "minorgridcolor": "#C8D4E3",
             "startlinecolor": "#2a3f5f"
            },
            "baxis": {
             "endlinecolor": "#2a3f5f",
             "gridcolor": "#C8D4E3",
             "linecolor": "#C8D4E3",
             "minorgridcolor": "#C8D4E3",
             "startlinecolor": "#2a3f5f"
            },
            "type": "carpet"
           }
          ],
          "choropleth": [
           {
            "colorbar": {
             "outlinewidth": 0,
             "ticks": ""
            },
            "type": "choropleth"
           }
          ],
          "contour": [
           {
            "colorbar": {
             "outlinewidth": 0,
             "ticks": ""
            },
            "colorscale": [
             [
              0,
              "#0d0887"
             ],
             [
              0.1111111111111111,
              "#46039f"
             ],
             [
              0.2222222222222222,
              "#7201a8"
             ],
             [
              0.3333333333333333,
              "#9c179e"
             ],
             [
              0.4444444444444444,
              "#bd3786"
             ],
             [
              0.5555555555555556,
              "#d8576b"
             ],
             [
              0.6666666666666666,
              "#ed7953"
             ],
             [
              0.7777777777777778,
              "#fb9f3a"
             ],
             [
              0.8888888888888888,
              "#fdca26"
             ],
             [
              1,
              "#f0f921"
             ]
            ],
            "type": "contour"
           }
          ],
          "contourcarpet": [
           {
            "colorbar": {
             "outlinewidth": 0,
             "ticks": ""
            },
            "type": "contourcarpet"
           }
          ],
          "heatmap": [
           {
            "colorbar": {
             "outlinewidth": 0,
             "ticks": ""
            },
            "colorscale": [
             [
              0,
              "#0d0887"
             ],
             [
              0.1111111111111111,
              "#46039f"
             ],
             [
              0.2222222222222222,
              "#7201a8"
             ],
             [
              0.3333333333333333,
              "#9c179e"
             ],
             [
              0.4444444444444444,
              "#bd3786"
             ],
             [
              0.5555555555555556,
              "#d8576b"
             ],
             [
              0.6666666666666666,
              "#ed7953"
             ],
             [
              0.7777777777777778,
              "#fb9f3a"
             ],
             [
              0.8888888888888888,
              "#fdca26"
             ],
             [
              1,
              "#f0f921"
             ]
            ],
            "type": "heatmap"
           }
          ],
          "histogram": [
           {
            "marker": {
             "pattern": {
              "fillmode": "overlay",
              "size": 10,
              "solidity": 0.2
             }
            },
            "type": "histogram"
           }
          ],
          "histogram2d": [
           {
            "colorbar": {
             "outlinewidth": 0,
             "ticks": ""
            },
            "colorscale": [
             [
              0,
              "#0d0887"
             ],
             [
              0.1111111111111111,
              "#46039f"
             ],
             [
              0.2222222222222222,
              "#7201a8"
             ],
             [
              0.3333333333333333,
              "#9c179e"
             ],
             [
              0.4444444444444444,
              "#bd3786"
             ],
             [
              0.5555555555555556,
              "#d8576b"
             ],
             [
              0.6666666666666666,
              "#ed7953"
             ],
             [
              0.7777777777777778,
              "#fb9f3a"
             ],
             [
              0.8888888888888888,
              "#fdca26"
             ],
             [
              1,
              "#f0f921"
             ]
            ],
            "type": "histogram2d"
           }
          ],
          "histogram2dcontour": [
           {
            "colorbar": {
             "outlinewidth": 0,
             "ticks": ""
            },
            "colorscale": [
             [
              0,
              "#0d0887"
             ],
             [
              0.1111111111111111,
              "#46039f"
             ],
             [
              0.2222222222222222,
              "#7201a8"
             ],
             [
              0.3333333333333333,
              "#9c179e"
             ],
             [
              0.4444444444444444,
              "#bd3786"
             ],
             [
              0.5555555555555556,
              "#d8576b"
             ],
             [
              0.6666666666666666,
              "#ed7953"
             ],
             [
              0.7777777777777778,
              "#fb9f3a"
             ],
             [
              0.8888888888888888,
              "#fdca26"
             ],
             [
              1,
              "#f0f921"
             ]
            ],
            "type": "histogram2dcontour"
           }
          ],
          "mesh3d": [
           {
            "colorbar": {
             "outlinewidth": 0,
             "ticks": ""
            },
            "type": "mesh3d"
           }
          ],
          "parcoords": [
           {
            "line": {
             "colorbar": {
              "outlinewidth": 0,
              "ticks": ""
             }
            },
            "type": "parcoords"
           }
          ],
          "pie": [
           {
            "automargin": true,
            "type": "pie"
           }
          ],
          "scatter": [
           {
            "fillpattern": {
             "fillmode": "overlay",
             "size": 10,
             "solidity": 0.2
            },
            "type": "scatter"
           }
          ],
          "scatter3d": [
           {
            "line": {
             "colorbar": {
              "outlinewidth": 0,
              "ticks": ""
             }
            },
            "marker": {
             "colorbar": {
              "outlinewidth": 0,
              "ticks": ""
             }
            },
            "type": "scatter3d"
           }
          ],
          "scattercarpet": [
           {
            "marker": {
             "colorbar": {
              "outlinewidth": 0,
              "ticks": ""
             }
            },
            "type": "scattercarpet"
           }
          ],
          "scattergeo": [
           {
            "marker": {
             "colorbar": {
              "outlinewidth": 0,
              "ticks": ""
             }
            },
            "type": "scattergeo"
           }
          ],
          "scattergl": [
           {
            "marker": {
             "colorbar": {
              "outlinewidth": 0,
              "ticks": ""
             }
            },
            "type": "scattergl"
           }
          ],
          "scattermap": [
           {
            "marker": {
             "colorbar": {
              "outlinewidth": 0,
              "ticks": ""
             }
            },
            "type": "scattermap"
           }
          ],
          "scattermapbox": [
           {
            "marker": {
             "colorbar": {
              "outlinewidth": 0,
              "ticks": ""
             }
            },
            "type": "scattermapbox"
           }
          ],
          "scatterpolar": [
           {
            "marker": {
             "colorbar": {
              "outlinewidth": 0,
              "ticks": ""
             }
            },
            "type": "scatterpolar"
           }
          ],
          "scatterpolargl": [
           {
            "marker": {
             "colorbar": {
              "outlinewidth": 0,
              "ticks": ""
             }
            },
            "type": "scatterpolargl"
           }
          ],
          "scatterternary": [
           {
            "marker": {
             "colorbar": {
              "outlinewidth": 0,
              "ticks": ""
             }
            },
            "type": "scatterternary"
           }
          ],
          "surface": [
           {
            "colorbar": {
             "outlinewidth": 0,
             "ticks": ""
            },
            "colorscale": [
             [
              0,
              "#0d0887"
             ],
             [
              0.1111111111111111,
              "#46039f"
             ],
             [
              0.2222222222222222,
              "#7201a8"
             ],
             [
              0.3333333333333333,
              "#9c179e"
             ],
             [
              0.4444444444444444,
              "#bd3786"
             ],
             [
              0.5555555555555556,
              "#d8576b"
             ],
             [
              0.6666666666666666,
              "#ed7953"
             ],
             [
              0.7777777777777778,
              "#fb9f3a"
             ],
             [
              0.8888888888888888,
              "#fdca26"
             ],
             [
              1,
              "#f0f921"
             ]
            ],
            "type": "surface"
           }
          ],
          "table": [
           {
            "cells": {
             "fill": {
              "color": "#EBF0F8"
             },
             "line": {
              "color": "white"
             }
            },
            "header": {
             "fill": {
              "color": "#C8D4E3"
             },
             "line": {
              "color": "white"
             }
            },
            "type": "table"
           }
          ]
         },
         "layout": {
          "annotationdefaults": {
           "arrowcolor": "#2a3f5f",
           "arrowhead": 0,
           "arrowwidth": 1
          },
          "autotypenumbers": "strict",
          "coloraxis": {
           "colorbar": {
            "outlinewidth": 0,
            "ticks": ""
           }
          },
          "colorscale": {
           "diverging": [
            [
             0,
             "#8e0152"
            ],
            [
             0.1,
             "#c51b7d"
            ],
            [
             0.2,
             "#de77ae"
            ],
            [
             0.3,
             "#f1b6da"
            ],
            [
             0.4,
             "#fde0ef"
            ],
            [
             0.5,
             "#f7f7f7"
            ],
            [
             0.6,
             "#e6f5d0"
            ],
            [
             0.7,
             "#b8e186"
            ],
            [
             0.8,
             "#7fbc41"
            ],
            [
             0.9,
             "#4d9221"
            ],
            [
             1,
             "#276419"
            ]
           ],
           "sequential": [
            [
             0,
             "#0d0887"
            ],
            [
             0.1111111111111111,
             "#46039f"
            ],
            [
             0.2222222222222222,
             "#7201a8"
            ],
            [
             0.3333333333333333,
             "#9c179e"
            ],
            [
             0.4444444444444444,
             "#bd3786"
            ],
            [
             0.5555555555555556,
             "#d8576b"
            ],
            [
             0.6666666666666666,
             "#ed7953"
            ],
            [
             0.7777777777777778,
             "#fb9f3a"
            ],
            [
             0.8888888888888888,
             "#fdca26"
            ],
            [
             1,
             "#f0f921"
            ]
           ],
           "sequentialminus": [
            [
             0,
             "#0d0887"
            ],
            [
             0.1111111111111111,
             "#46039f"
            ],
            [
             0.2222222222222222,
             "#7201a8"
            ],
            [
             0.3333333333333333,
             "#9c179e"
            ],
            [
             0.4444444444444444,
             "#bd3786"
            ],
            [
             0.5555555555555556,
             "#d8576b"
            ],
            [
             0.6666666666666666,
             "#ed7953"
            ],
            [
             0.7777777777777778,
             "#fb9f3a"
            ],
            [
             0.8888888888888888,
             "#fdca26"
            ],
            [
             1,
             "#f0f921"
            ]
           ]
          },
          "colorway": [
           "#636efa",
           "#EF553B",
           "#00cc96",
           "#ab63fa",
           "#FFA15A",
           "#19d3f3",
           "#FF6692",
           "#B6E880",
           "#FF97FF",
           "#FECB52"
          ],
          "font": {
           "color": "#2a3f5f"
          },
          "geo": {
           "bgcolor": "white",
           "lakecolor": "white",
           "landcolor": "white",
           "showlakes": true,
           "showland": true,
           "subunitcolor": "#C8D4E3"
          },
          "hoverlabel": {
           "align": "left"
          },
          "hovermode": "closest",
          "mapbox": {
           "style": "light"
          },
          "paper_bgcolor": "white",
          "plot_bgcolor": "white",
          "polar": {
           "angularaxis": {
            "gridcolor": "#EBF0F8",
            "linecolor": "#EBF0F8",
            "ticks": ""
           },
           "bgcolor": "white",
           "radialaxis": {
            "gridcolor": "#EBF0F8",
            "linecolor": "#EBF0F8",
            "ticks": ""
           }
          },
          "scene": {
           "xaxis": {
            "backgroundcolor": "white",
            "gridcolor": "#DFE8F3",
            "gridwidth": 2,
            "linecolor": "#EBF0F8",
            "showbackground": true,
            "ticks": "",
            "zerolinecolor": "#EBF0F8"
           },
           "yaxis": {
            "backgroundcolor": "white",
            "gridcolor": "#DFE8F3",
            "gridwidth": 2,
            "linecolor": "#EBF0F8",
            "showbackground": true,
            "ticks": "",
            "zerolinecolor": "#EBF0F8"
           },
           "zaxis": {
            "backgroundcolor": "white",
            "gridcolor": "#DFE8F3",
            "gridwidth": 2,
            "linecolor": "#EBF0F8",
            "showbackground": true,
            "ticks": "",
            "zerolinecolor": "#EBF0F8"
           }
          },
          "shapedefaults": {
           "line": {
            "color": "#2a3f5f"
           }
          },
          "ternary": {
           "aaxis": {
            "gridcolor": "#DFE8F3",
            "linecolor": "#A2B1C6",
            "ticks": ""
           },
           "baxis": {
            "gridcolor": "#DFE8F3",
            "linecolor": "#A2B1C6",
            "ticks": ""
           },
           "bgcolor": "white",
           "caxis": {
            "gridcolor": "#DFE8F3",
            "linecolor": "#A2B1C6",
            "ticks": ""
           }
          },
          "title": {
           "x": 0.05
          },
          "xaxis": {
           "automargin": true,
           "gridcolor": "#EBF0F8",
           "linecolor": "#EBF0F8",
           "ticks": "",
           "title": {
            "standoff": 15
           },
           "zerolinecolor": "#EBF0F8",
           "zerolinewidth": 2
          },
          "yaxis": {
           "automargin": true,
           "gridcolor": "#EBF0F8",
           "linecolor": "#EBF0F8",
           "ticks": "",
           "title": {
            "standoff": 15
           },
           "zerolinecolor": "#EBF0F8",
           "zerolinewidth": 2
          }
         }
        },
        "title": {
         "text": "Histogramm: HFmax"
        },
        "xaxis": {
         "anchor": "y",
         "domain": [
          0,
          1
         ],
         "title": {
          "text": "HFmax"
         }
        },
        "xaxis2": {
         "anchor": "y2",
         "domain": [
          0,
          1
         ],
         "matches": "x",
         "showgrid": true,
         "showticklabels": false
        },
        "yaxis": {
         "anchor": "x",
         "domain": [
          0,
          0.8316
         ],
         "title": {
          "text": "Häufigkeit"
         }
        },
        "yaxis2": {
         "anchor": "x2",
         "domain": [
          0.8416,
          1
         ],
         "matches": "y2",
         "showgrid": false,
         "showline": false,
         "showticklabels": false,
         "ticks": ""
        }
       }
      }
     },
     "metadata": {},
     "output_type": "display_data"
    },
    {
     "data": {
      "application/vnd.plotly.v1+json": {
       "config": {
        "plotlyServerURL": "https://plot.ly"
       },
       "data": [
        {
         "bingroup": "x",
         "hovertemplate": "RZ=%{x}<br>count=%{y}<extra></extra>",
         "legendgroup": "",
         "marker": {
          "color": "steelblue",
          "pattern": {
           "shape": ""
          }
         },
         "name": "",
         "nbinsx": 20,
         "orientation": "v",
         "showlegend": false,
         "type": "histogram",
         "x": {
          "bdata": "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",
          "dtype": "f8"
         },
         "xaxis": "x",
         "yaxis": "y"
        },
        {
         "hovertemplate": "RZ=%{x}<extra></extra>",
         "legendgroup": "",
         "marker": {
          "color": "steelblue"
         },
         "name": "",
         "notched": true,
         "showlegend": false,
         "type": "box",
         "x": {
          "bdata": "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",
          "dtype": "f8"
         },
         "xaxis": "x2",
         "yaxis": "y2"
        }
       ],
       "layout": {
        "barmode": "relative",
        "legend": {
         "tracegroupgap": 0
        },
        "template": {
         "data": {
          "bar": [
           {
            "error_x": {
             "color": "#2a3f5f"
            },
            "error_y": {
             "color": "#2a3f5f"
            },
            "marker": {
             "line": {
              "color": "white",
              "width": 0.5
             },
             "pattern": {
              "fillmode": "overlay",
              "size": 10,
              "solidity": 0.2
             }
            },
            "type": "bar"
           }
          ],
          "barpolar": [
           {
            "marker": {
             "line": {
              "color": "white",
              "width": 0.5
             },
             "pattern": {
              "fillmode": "overlay",
              "size": 10,
              "solidity": 0.2
             }
            },
            "type": "barpolar"
           }
          ],
          "carpet": [
           {
            "aaxis": {
             "endlinecolor": "#2a3f5f",
             "gridcolor": "#C8D4E3",
             "linecolor": "#C8D4E3",
             "minorgridcolor": "#C8D4E3",
             "startlinecolor": "#2a3f5f"
            },
            "baxis": {
             "endlinecolor": "#2a3f5f",
             "gridcolor": "#C8D4E3",
             "linecolor": "#C8D4E3",
             "minorgridcolor": "#C8D4E3",
             "startlinecolor": "#2a3f5f"
            },
            "type": "carpet"
           }
          ],
          "choropleth": [
           {
            "colorbar": {
             "outlinewidth": 0,
             "ticks": ""
            },
            "type": "choropleth"
           }
          ],
          "contour": [
           {
            "colorbar": {
             "outlinewidth": 0,
             "ticks": ""
            },
            "colorscale": [
             [
              0,
              "#0d0887"
             ],
             [
              0.1111111111111111,
              "#46039f"
             ],
             [
              0.2222222222222222,
              "#7201a8"
             ],
             [
              0.3333333333333333,
              "#9c179e"
             ],
             [
              0.4444444444444444,
              "#bd3786"
             ],
             [
              0.5555555555555556,
              "#d8576b"
             ],
             [
              0.6666666666666666,
              "#ed7953"
             ],
             [
              0.7777777777777778,
              "#fb9f3a"
             ],
             [
              0.8888888888888888,
              "#fdca26"
             ],
             [
              1,
              "#f0f921"
             ]
            ],
            "type": "contour"
           }
          ],
          "contourcarpet": [
           {
            "colorbar": {
             "outlinewidth": 0,
             "ticks": ""
            },
            "type": "contourcarpet"
           }
          ],
          "heatmap": [
           {
            "colorbar": {
             "outlinewidth": 0,
             "ticks": ""
            },
            "colorscale": [
             [
              0,
              "#0d0887"
             ],
             [
              0.1111111111111111,
              "#46039f"
             ],
             [
              0.2222222222222222,
              "#7201a8"
             ],
             [
              0.3333333333333333,
              "#9c179e"
             ],
             [
              0.4444444444444444,
              "#bd3786"
             ],
             [
              0.5555555555555556,
              "#d8576b"
             ],
             [
              0.6666666666666666,
              "#ed7953"
             ],
             [
              0.7777777777777778,
              "#fb9f3a"
             ],
             [
              0.8888888888888888,
              "#fdca26"
             ],
             [
              1,
              "#f0f921"
             ]
            ],
            "type": "heatmap"
           }
          ],
          "histogram": [
           {
            "marker": {
             "pattern": {
              "fillmode": "overlay",
              "size": 10,
              "solidity": 0.2
             }
            },
            "type": "histogram"
           }
          ],
          "histogram2d": [
           {
            "colorbar": {
             "outlinewidth": 0,
             "ticks": ""
            },
            "colorscale": [
             [
              0,
              "#0d0887"
             ],
             [
              0.1111111111111111,
              "#46039f"
             ],
             [
              0.2222222222222222,
              "#7201a8"
             ],
             [
              0.3333333333333333,
              "#9c179e"
             ],
             [
              0.4444444444444444,
              "#bd3786"
             ],
             [
              0.5555555555555556,
              "#d8576b"
             ],
             [
              0.6666666666666666,
              "#ed7953"
             ],
             [
              0.7777777777777778,
              "#fb9f3a"
             ],
             [
              0.8888888888888888,
              "#fdca26"
             ],
             [
              1,
              "#f0f921"
             ]
            ],
            "type": "histogram2d"
           }
          ],
          "histogram2dcontour": [
           {
            "colorbar": {
             "outlinewidth": 0,
             "ticks": ""
            },
            "colorscale": [
             [
              0,
              "#0d0887"
             ],
             [
              0.1111111111111111,
              "#46039f"
             ],
             [
              0.2222222222222222,
              "#7201a8"
             ],
             [
              0.3333333333333333,
              "#9c179e"
             ],
             [
              0.4444444444444444,
              "#bd3786"
             ],
             [
              0.5555555555555556,
              "#d8576b"
             ],
             [
              0.6666666666666666,
              "#ed7953"
             ],
             [
              0.7777777777777778,
              "#fb9f3a"
             ],
             [
              0.8888888888888888,
              "#fdca26"
             ],
             [
              1,
              "#f0f921"
             ]
            ],
            "type": "histogram2dcontour"
           }
          ],
          "mesh3d": [
           {
            "colorbar": {
             "outlinewidth": 0,
             "ticks": ""
            },
            "type": "mesh3d"
           }
          ],
          "parcoords": [
           {
            "line": {
             "colorbar": {
              "outlinewidth": 0,
              "ticks": ""
             }
            },
            "type": "parcoords"
           }
          ],
          "pie": [
           {
            "automargin": true,
            "type": "pie"
           }
          ],
          "scatter": [
           {
            "fillpattern": {
             "fillmode": "overlay",
             "size": 10,
             "solidity": 0.2
            },
            "type": "scatter"
           }
          ],
          "scatter3d": [
           {
            "line": {
             "colorbar": {
              "outlinewidth": 0,
              "ticks": ""
             }
            },
            "marker": {
             "colorbar": {
              "outlinewidth": 0,
              "ticks": ""
             }
            },
            "type": "scatter3d"
           }
          ],
          "scattercarpet": [
           {
            "marker": {
             "colorbar": {
              "outlinewidth": 0,
              "ticks": ""
             }
            },
            "type": "scattercarpet"
           }
          ],
          "scattergeo": [
           {
            "marker": {
             "colorbar": {
              "outlinewidth": 0,
              "ticks": ""
             }
            },
            "type": "scattergeo"
           }
          ],
          "scattergl": [
           {
            "marker": {
             "colorbar": {
              "outlinewidth": 0,
              "ticks": ""
             }
            },
            "type": "scattergl"
           }
          ],
          "scattermap": [
           {
            "marker": {
             "colorbar": {
              "outlinewidth": 0,
              "ticks": ""
             }
            },
            "type": "scattermap"
           }
          ],
          "scattermapbox": [
           {
            "marker": {
             "colorbar": {
              "outlinewidth": 0,
              "ticks": ""
             }
            },
            "type": "scattermapbox"
           }
          ],
          "scatterpolar": [
           {
            "marker": {
             "colorbar": {
              "outlinewidth": 0,
              "ticks": ""
             }
            },
            "type": "scatterpolar"
           }
          ],
          "scatterpolargl": [
           {
            "marker": {
             "colorbar": {
              "outlinewidth": 0,
              "ticks": ""
             }
            },
            "type": "scatterpolargl"
           }
          ],
          "scatterternary": [
           {
            "marker": {
             "colorbar": {
              "outlinewidth": 0,
              "ticks": ""
             }
            },
            "type": "scatterternary"
           }
          ],
          "surface": [
           {
            "colorbar": {
             "outlinewidth": 0,
             "ticks": ""
            },
            "colorscale": [
             [
              0,
              "#0d0887"
             ],
             [
              0.1111111111111111,
              "#46039f"
             ],
             [
              0.2222222222222222,
              "#7201a8"
             ],
             [
              0.3333333333333333,
              "#9c179e"
             ],
             [
              0.4444444444444444,
              "#bd3786"
             ],
             [
              0.5555555555555556,
              "#d8576b"
             ],
             [
              0.6666666666666666,
              "#ed7953"
             ],
             [
              0.7777777777777778,
              "#fb9f3a"
             ],
             [
              0.8888888888888888,
              "#fdca26"
             ],
             [
              1,
              "#f0f921"
             ]
            ],
            "type": "surface"
           }
          ],
          "table": [
           {
            "cells": {
             "fill": {
              "color": "#EBF0F8"
             },
             "line": {
              "color": "white"
             }
            },
            "header": {
             "fill": {
              "color": "#C8D4E3"
             },
             "line": {
              "color": "white"
             }
            },
            "type": "table"
           }
          ]
         },
         "layout": {
          "annotationdefaults": {
           "arrowcolor": "#2a3f5f",
           "arrowhead": 0,
           "arrowwidth": 1
          },
          "autotypenumbers": "strict",
          "coloraxis": {
           "colorbar": {
            "outlinewidth": 0,
            "ticks": ""
           }
          },
          "colorscale": {
           "diverging": [
            [
             0,
             "#8e0152"
            ],
            [
             0.1,
             "#c51b7d"
            ],
            [
             0.2,
             "#de77ae"
            ],
            [
             0.3,
             "#f1b6da"
            ],
            [
             0.4,
             "#fde0ef"
            ],
            [
             0.5,
             "#f7f7f7"
            ],
            [
             0.6,
             "#e6f5d0"
            ],
            [
             0.7,
             "#b8e186"
            ],
            [
             0.8,
             "#7fbc41"
            ],
            [
             0.9,
             "#4d9221"
            ],
            [
             1,
             "#276419"
            ]
           ],
           "sequential": [
            [
             0,
             "#0d0887"
            ],
            [
             0.1111111111111111,
             "#46039f"
            ],
            [
             0.2222222222222222,
             "#7201a8"
            ],
            [
             0.3333333333333333,
             "#9c179e"
            ],
            [
             0.4444444444444444,
             "#bd3786"
            ],
            [
             0.5555555555555556,
             "#d8576b"
            ],
            [
             0.6666666666666666,
             "#ed7953"
            ],
            [
             0.7777777777777778,
             "#fb9f3a"
            ],
            [
             0.8888888888888888,
             "#fdca26"
            ],
            [
             1,
             "#f0f921"
            ]
           ],
           "sequentialminus": [
            [
             0,
             "#0d0887"
            ],
            [
             0.1111111111111111,
             "#46039f"
            ],
            [
             0.2222222222222222,
             "#7201a8"
            ],
            [
             0.3333333333333333,
             "#9c179e"
            ],
            [
             0.4444444444444444,
             "#bd3786"
            ],
            [
             0.5555555555555556,
             "#d8576b"
            ],
            [
             0.6666666666666666,
             "#ed7953"
            ],
            [
             0.7777777777777778,
             "#fb9f3a"
            ],
            [
             0.8888888888888888,
             "#fdca26"
            ],
            [
             1,
             "#f0f921"
            ]
           ]
          },
          "colorway": [
           "#636efa",
           "#EF553B",
           "#00cc96",
           "#ab63fa",
           "#FFA15A",
           "#19d3f3",
           "#FF6692",
           "#B6E880",
           "#FF97FF",
           "#FECB52"
          ],
          "font": {
           "color": "#2a3f5f"
          },
          "geo": {
           "bgcolor": "white",
           "lakecolor": "white",
           "landcolor": "white",
           "showlakes": true,
           "showland": true,
           "subunitcolor": "#C8D4E3"
          },
          "hoverlabel": {
           "align": "left"
          },
          "hovermode": "closest",
          "mapbox": {
           "style": "light"
          },
          "paper_bgcolor": "white",
          "plot_bgcolor": "white",
          "polar": {
           "angularaxis": {
            "gridcolor": "#EBF0F8",
            "linecolor": "#EBF0F8",
            "ticks": ""
           },
           "bgcolor": "white",
           "radialaxis": {
            "gridcolor": "#EBF0F8",
            "linecolor": "#EBF0F8",
            "ticks": ""
           }
          },
          "scene": {
           "xaxis": {
            "backgroundcolor": "white",
            "gridcolor": "#DFE8F3",
            "gridwidth": 2,
            "linecolor": "#EBF0F8",
            "showbackground": true,
            "ticks": "",
            "zerolinecolor": "#EBF0F8"
           },
           "yaxis": {
            "backgroundcolor": "white",
            "gridcolor": "#DFE8F3",
            "gridwidth": 2,
            "linecolor": "#EBF0F8",
            "showbackground": true,
            "ticks": "",
            "zerolinecolor": "#EBF0F8"
           },
           "zaxis": {
            "backgroundcolor": "white",
            "gridcolor": "#DFE8F3",
            "gridwidth": 2,
            "linecolor": "#EBF0F8",
            "showbackground": true,
            "ticks": "",
            "zerolinecolor": "#EBF0F8"
           }
          },
          "shapedefaults": {
           "line": {
            "color": "#2a3f5f"
           }
          },
          "ternary": {
           "aaxis": {
            "gridcolor": "#DFE8F3",
            "linecolor": "#A2B1C6",
            "ticks": ""
           },
           "baxis": {
            "gridcolor": "#DFE8F3",
            "linecolor": "#A2B1C6",
            "ticks": ""
           },
           "bgcolor": "white",
           "caxis": {
            "gridcolor": "#DFE8F3",
            "linecolor": "#A2B1C6",
            "ticks": ""
           }
          },
          "title": {
           "x": 0.05
          },
          "xaxis": {
           "automargin": true,
           "gridcolor": "#EBF0F8",
           "linecolor": "#EBF0F8",
           "ticks": "",
           "title": {
            "standoff": 15
           },
           "zerolinecolor": "#EBF0F8",
           "zerolinewidth": 2
          },
          "yaxis": {
           "automargin": true,
           "gridcolor": "#EBF0F8",
           "linecolor": "#EBF0F8",
           "ticks": "",
           "title": {
            "standoff": 15
           },
           "zerolinecolor": "#EBF0F8",
           "zerolinewidth": 2
          }
         }
        },
        "title": {
         "text": "Histogramm: RZ"
        },
        "xaxis": {
         "anchor": "y",
         "domain": [
          0,
          1
         ],
         "title": {
          "text": "RZ"
         }
        },
        "xaxis2": {
         "anchor": "y2",
         "domain": [
          0,
          1
         ],
         "matches": "x",
         "showgrid": true,
         "showticklabels": false
        },
        "yaxis": {
         "anchor": "x",
         "domain": [
          0,
          0.8316
         ],
         "title": {
          "text": "Häufigkeit"
         }
        },
        "yaxis2": {
         "anchor": "x2",
         "domain": [
          0.8416,
          1
         ],
         "matches": "y2",
         "showgrid": false,
         "showline": false,
         "showticklabels": false,
         "ticks": ""
        }
       }
      }
     },
     "metadata": {},
     "output_type": "display_data"
    }
   ],
   "source": [
    "for col in numerical_cols_filtered:\n",
    "    fig = px.histogram(df, x=col, nbins=20, marginal=\"box\",\n",
    "                       title=f\"Histogramm: {col}\", template=\"plotly_white\", color_discrete_sequence=[\"steelblue\"])\n",
    "    fig.update_layout(xaxis_title=col, yaxis_title=\"Häufigkeit\")\n",
    "    fig.show()"
   ]
  },
  {
   "cell_type": "markdown",
   "metadata": {},
   "source": [
    "**Boxplots nach KHK-Klassen:**  \n",
    "Hier wird analysiert, ob sich bestimmte numerische Merkmale in Abhängigkeit von der Zielvariable signifikant unterscheiden. Das kann Hinweise auf relevante Prädiktoren liefern.\n",
    "\n",
    "Wichtig zu erwähnen ist, dass viele Chol Werte 0 sind, was auf fehlende Daten hinweist. Daher wurden diese Werte herausgefiltert, um die Statistiken nicht zu verfälschen.\n"
   ]
  },
  {
   "cell_type": "code",
   "execution_count": 14,
   "metadata": {},
   "outputs": [
    {
     "data": {
      "application/vnd.plotly.v1+json": {
       "config": {
        "plotlyServerURL": "https://plot.ly"
       },
       "data": [
        {
         "alignmentgroup": "True",
         "boxpoints": "all",
         "hovertemplate": "KHK=%{x}<br>Alter=%{y}<extra></extra>",
         "legendgroup": "0",
         "marker": {
          "color": "#636efa"
         },
         "name": "0",
         "notched": false,
         "offsetgroup": "0",
         "orientation": "v",
         "showlegend": true,
         "type": "box",
         "x": {
          "bdata": "AAAAAAAAAAAAAAAAAAAAAAAAAAAAAAAAAAAAAAAAAAAAAAAAAAAAAAAAAAAAAAAAAAAAAAAAAAAAAAAAAAAAAAAAAAAAAAAAAAAAAAAAAAAAAAAAAAAAAAAAAAAAAAAAAAAAAAAAAAAAAAAAAAAAAAAAAAAAAAAAAAAAAAAAAAAAAAAAAAAAAAAAAAAAAAAAAAAAAAAAAAAAAAAAAAAAAAAAAAAAAAAAAAAAAAAAAAAAAAAAAAAAAAAAAAAAAAAAAAAAAAAAAAAAAAAAAAAAAAAAAAAAAAAAAAAAAAAAAAAAAAAAAAAAAAAAAAAAAAAAAAAAAAAAAAAAAAAAAAAAAAAAAAAAAAAAAAAAAAAAAAAAAAAAAAAAAAAAAAAAAAAAAAAAAAAAAAAAAAAAAAAAAAAAAAAAAAAAAAAAAAAAAAAAAAAAAAAAAAAAAAAAAAAAAAAAAAAAAAAAAAAAAAAAAAAAAAAAAAAAAAAAAAAAAAAAAAAAAAAAAAAAAAAAAAAAAAAAAAAAAAAAAAAAAAAAAAAAAAAAAAAAAAA=",
          "dtype": "i1"
         },
         "x0": " ",
         "xaxis": "x",
         "y": {
          "bdata": "KCU2Jy02MCUnKjYrKywxKCQ1NDUzOCsgKTAwNiM0OyUyJC0pNDM2MSstMiUtICwsLC4jNDc2NDU3MSc0JysnOCkzOTAiMic7LyYxIzQuOjYiMDYqJj0rJzUnKisyJzAoNykxNi8qNDA6Oh0oNTE7JS4zLjY6Mi4yMC0pPjEqOS8uKh84MiMcODgeNjcdMCE3NSklJSgmKTYnNys2PT41NyQzNy42NiIvLSA3LTs5NjwzNyozOzUwJDAvNTc1QTUtJkg4LEJCPDg+PzxKPDspMyo/OD4zN0E6Myg8Iz9ANy09OT0wRD41SzY2OylFJT86NzlEMz46Q0BKQTs1LDlHQCgwKy82MC4zR0IlKjA+LC46NEE/LSk8OSw8PzMsOUZMQy0nKjgpOSo+Oyk7QkAyLDEzLSk2KjFCQTY2NDQqNi5DIjk7MykpMjZAMy4tODcrQDI1LUVEIjIqKjUrND42NjA3OjZFRDQ8OiUzKx0pPzM2LDkjKTo0LT41LzQnNTNBLDM7Rz0rOjE0LDg5NTRAQic6LyM6ODg3KSY=",
          "dtype": "i1"
         },
         "y0": " ",
         "yaxis": "y"
        },
        {
         "alignmentgroup": "True",
         "boxpoints": "all",
         "hovertemplate": "KHK=%{x}<br>Alter=%{y}<extra></extra>",
         "legendgroup": "1",
         "marker": {
          "color": "#EF553B"
         },
         "name": "1",
         "notched": false,
         "offsetgroup": "1",
         "orientation": "v",
         "showlegend": true,
         "type": "box",
         "x": {
          "bdata": "AQEBAQEBAQEBAQEBAQEBAQEBAQEBAQEBAQEBAQEBAQEBAQEBAQEBAQEBAQEBAQEBAQEBAQEBAQEBAQEBAQEBAQEBAQEBAQEBAQEBAQEBAQEBAQEBAQEBAQEBAQEBAQEBAQEBAQEBAQEBAQEBAQEBAQEBAQEBAQEBAQEBAQEBAQEBAQEBAQEBAQEBAQEBAQEBAQEBAQEBAQEBAQEBAQEBAQEBAQEBAQEBAQEBAQEBAQEBAQEBAQEBAQEBAQEBAQEBAQEBAQEBAQEBAQEBAQEBAQEBAQEBAQEBAQEBAQEBAQEBAQEBAQEBAQEBAQEBAQEBAQEBAQEBAQEBAQEBAQEBAQEBAQEBAQEBAQEBAQEBAQEBAQEBAQEBAQEBAQEBAQEBAQEBAQEBAQEBAQEBAQEBAQEBAQEBAQEBAQEBAQEBAQEBAQEBAQEBAQEBAQEBAQEBAQEBAQEBAQEBAQEBAQEBAQEBAQEBAQEBAQEBAQEBAQEBAQEBAQEBAQEBAQEBAQEBAQEBAQEBAQEBAQEBAQEBAQEBAQEBAQEBAQEBAQEBAQEBAQEBAQEBAQEBAQEBAQEBAQEBAQEBAQEBAQEBAQEBAQEBAQEBAQEBAQEBAQEBAQEBAQEBAQEBAQEBAQEBAQEBAQEBAQEBAQEBAQEBAQEBAQEBAQEBAQEBAQEBAQ==",
          "dtype": "i1"
         },
         "x0": " ",
         "xaxis": "x",
         "y": {
          "bdata": "MTAlOjEmPCQsNTYpQTYrKTIvHzo0LjQ5NDcgMT84QkErMDpBKCguOSEmOyIvOi44ODE2KzQyLzg2OCYsOzEuMjQrNjQ0Oik1NSM2MDIvJy4zMiYpNzAwNjcwNjAtMSwwNy47LzQ2NzM0MUEgPTI5My88NT4zMzc6OTwpIko5OD1EOz8mPi4qOzQ8PDgoMz4/P0ArQD00M0U7MEUkNSs4OjdDLjUmNT4vODhAPUQ5PzxCPzs9SS9BRjI8MismNj0qNTc9M0Y9JjkmPjo0PTIzQTQvIzk+OzU+Njg4NkI/PDdBPDw7Pj85Py46QD80RTM8ODc2TT83NEA8Oj0oPTk/Ozs3PjVENTw7PTk4OkVDOkE/OTZISzEzPEA9Qz5BP0U+N0tDOj8+K0RBMD89MjtBMUgyQDc/Ozg+SjY+TDZGMD1CN0dKOjg6QDc5PUcmNzhFQEhFOD5DOUUzMEVAOTVDSj1AOjw5Nzg9PUo+NT4uNjc+Rjk4Ozw/PS41Qzo5OzIwPTsoOzEsQkEqPTs+Mzk6Lz0tOiM6Mj02NjQvOkM5PzA8Ozc8Ljg4MTY5Pjw/QkA4QDI2NTQoOjdCJj46QUVDPjMuQzgpOEZGI006PDM3QDs6NkE/Pis9JzQ+K0Q+PEE8PDYsN0A8OjBDKzQ7OTk3PTo6Qyw/Pzs5LUQ5OQ==",
          "dtype": "i1"
         },
         "y0": " ",
         "yaxis": "y"
        }
       ],
       "layout": {
        "boxmode": "overlay",
        "legend": {
         "title": {
          "text": "KHK"
         },
         "tracegroupgap": 0
        },
        "template": {
         "data": {
          "bar": [
           {
            "error_x": {
             "color": "#2a3f5f"
            },
            "error_y": {
             "color": "#2a3f5f"
            },
            "marker": {
             "line": {
              "color": "white",
              "width": 0.5
             },
             "pattern": {
              "fillmode": "overlay",
              "size": 10,
              "solidity": 0.2
             }
            },
            "type": "bar"
           }
          ],
          "barpolar": [
           {
            "marker": {
             "line": {
              "color": "white",
              "width": 0.5
             },
             "pattern": {
              "fillmode": "overlay",
              "size": 10,
              "solidity": 0.2
             }
            },
            "type": "barpolar"
           }
          ],
          "carpet": [
           {
            "aaxis": {
             "endlinecolor": "#2a3f5f",
             "gridcolor": "#C8D4E3",
             "linecolor": "#C8D4E3",
             "minorgridcolor": "#C8D4E3",
             "startlinecolor": "#2a3f5f"
            },
            "baxis": {
             "endlinecolor": "#2a3f5f",
             "gridcolor": "#C8D4E3",
             "linecolor": "#C8D4E3",
             "minorgridcolor": "#C8D4E3",
             "startlinecolor": "#2a3f5f"
            },
            "type": "carpet"
           }
          ],
          "choropleth": [
           {
            "colorbar": {
             "outlinewidth": 0,
             "ticks": ""
            },
            "type": "choropleth"
           }
          ],
          "contour": [
           {
            "colorbar": {
             "outlinewidth": 0,
             "ticks": ""
            },
            "colorscale": [
             [
              0,
              "#0d0887"
             ],
             [
              0.1111111111111111,
              "#46039f"
             ],
             [
              0.2222222222222222,
              "#7201a8"
             ],
             [
              0.3333333333333333,
              "#9c179e"
             ],
             [
              0.4444444444444444,
              "#bd3786"
             ],
             [
              0.5555555555555556,
              "#d8576b"
             ],
             [
              0.6666666666666666,
              "#ed7953"
             ],
             [
              0.7777777777777778,
              "#fb9f3a"
             ],
             [
              0.8888888888888888,
              "#fdca26"
             ],
             [
              1,
              "#f0f921"
             ]
            ],
            "type": "contour"
           }
          ],
          "contourcarpet": [
           {
            "colorbar": {
             "outlinewidth": 0,
             "ticks": ""
            },
            "type": "contourcarpet"
           }
          ],
          "heatmap": [
           {
            "colorbar": {
             "outlinewidth": 0,
             "ticks": ""
            },
            "colorscale": [
             [
              0,
              "#0d0887"
             ],
             [
              0.1111111111111111,
              "#46039f"
             ],
             [
              0.2222222222222222,
              "#7201a8"
             ],
             [
              0.3333333333333333,
              "#9c179e"
             ],
             [
              0.4444444444444444,
              "#bd3786"
             ],
             [
              0.5555555555555556,
              "#d8576b"
             ],
             [
              0.6666666666666666,
              "#ed7953"
             ],
             [
              0.7777777777777778,
              "#fb9f3a"
             ],
             [
              0.8888888888888888,
              "#fdca26"
             ],
             [
              1,
              "#f0f921"
             ]
            ],
            "type": "heatmap"
           }
          ],
          "histogram": [
           {
            "marker": {
             "pattern": {
              "fillmode": "overlay",
              "size": 10,
              "solidity": 0.2
             }
            },
            "type": "histogram"
           }
          ],
          "histogram2d": [
           {
            "colorbar": {
             "outlinewidth": 0,
             "ticks": ""
            },
            "colorscale": [
             [
              0,
              "#0d0887"
             ],
             [
              0.1111111111111111,
              "#46039f"
             ],
             [
              0.2222222222222222,
              "#7201a8"
             ],
             [
              0.3333333333333333,
              "#9c179e"
             ],
             [
              0.4444444444444444,
              "#bd3786"
             ],
             [
              0.5555555555555556,
              "#d8576b"
             ],
             [
              0.6666666666666666,
              "#ed7953"
             ],
             [
              0.7777777777777778,
              "#fb9f3a"
             ],
             [
              0.8888888888888888,
              "#fdca26"
             ],
             [
              1,
              "#f0f921"
             ]
            ],
            "type": "histogram2d"
           }
          ],
          "histogram2dcontour": [
           {
            "colorbar": {
             "outlinewidth": 0,
             "ticks": ""
            },
            "colorscale": [
             [
              0,
              "#0d0887"
             ],
             [
              0.1111111111111111,
              "#46039f"
             ],
             [
              0.2222222222222222,
              "#7201a8"
             ],
             [
              0.3333333333333333,
              "#9c179e"
             ],
             [
              0.4444444444444444,
              "#bd3786"
             ],
             [
              0.5555555555555556,
              "#d8576b"
             ],
             [
              0.6666666666666666,
              "#ed7953"
             ],
             [
              0.7777777777777778,
              "#fb9f3a"
             ],
             [
              0.8888888888888888,
              "#fdca26"
             ],
             [
              1,
              "#f0f921"
             ]
            ],
            "type": "histogram2dcontour"
           }
          ],
          "mesh3d": [
           {
            "colorbar": {
             "outlinewidth": 0,
             "ticks": ""
            },
            "type": "mesh3d"
           }
          ],
          "parcoords": [
           {
            "line": {
             "colorbar": {
              "outlinewidth": 0,
              "ticks": ""
             }
            },
            "type": "parcoords"
           }
          ],
          "pie": [
           {
            "automargin": true,
            "type": "pie"
           }
          ],
          "scatter": [
           {
            "fillpattern": {
             "fillmode": "overlay",
             "size": 10,
             "solidity": 0.2
            },
            "type": "scatter"
           }
          ],
          "scatter3d": [
           {
            "line": {
             "colorbar": {
              "outlinewidth": 0,
              "ticks": ""
             }
            },
            "marker": {
             "colorbar": {
              "outlinewidth": 0,
              "ticks": ""
             }
            },
            "type": "scatter3d"
           }
          ],
          "scattercarpet": [
           {
            "marker": {
             "colorbar": {
              "outlinewidth": 0,
              "ticks": ""
             }
            },
            "type": "scattercarpet"
           }
          ],
          "scattergeo": [
           {
            "marker": {
             "colorbar": {
              "outlinewidth": 0,
              "ticks": ""
             }
            },
            "type": "scattergeo"
           }
          ],
          "scattergl": [
           {
            "marker": {
             "colorbar": {
              "outlinewidth": 0,
              "ticks": ""
             }
            },
            "type": "scattergl"
           }
          ],
          "scattermap": [
           {
            "marker": {
             "colorbar": {
              "outlinewidth": 0,
              "ticks": ""
             }
            },
            "type": "scattermap"
           }
          ],
          "scattermapbox": [
           {
            "marker": {
             "colorbar": {
              "outlinewidth": 0,
              "ticks": ""
             }
            },
            "type": "scattermapbox"
           }
          ],
          "scatterpolar": [
           {
            "marker": {
             "colorbar": {
              "outlinewidth": 0,
              "ticks": ""
             }
            },
            "type": "scatterpolar"
           }
          ],
          "scatterpolargl": [
           {
            "marker": {
             "colorbar": {
              "outlinewidth": 0,
              "ticks": ""
             }
            },
            "type": "scatterpolargl"
           }
          ],
          "scatterternary": [
           {
            "marker": {
             "colorbar": {
              "outlinewidth": 0,
              "ticks": ""
             }
            },
            "type": "scatterternary"
           }
          ],
          "surface": [
           {
            "colorbar": {
             "outlinewidth": 0,
             "ticks": ""
            },
            "colorscale": [
             [
              0,
              "#0d0887"
             ],
             [
              0.1111111111111111,
              "#46039f"
             ],
             [
              0.2222222222222222,
              "#7201a8"
             ],
             [
              0.3333333333333333,
              "#9c179e"
             ],
             [
              0.4444444444444444,
              "#bd3786"
             ],
             [
              0.5555555555555556,
              "#d8576b"
             ],
             [
              0.6666666666666666,
              "#ed7953"
             ],
             [
              0.7777777777777778,
              "#fb9f3a"
             ],
             [
              0.8888888888888888,
              "#fdca26"
             ],
             [
              1,
              "#f0f921"
             ]
            ],
            "type": "surface"
           }
          ],
          "table": [
           {
            "cells": {
             "fill": {
              "color": "#EBF0F8"
             },
             "line": {
              "color": "white"
             }
            },
            "header": {
             "fill": {
              "color": "#C8D4E3"
             },
             "line": {
              "color": "white"
             }
            },
            "type": "table"
           }
          ]
         },
         "layout": {
          "annotationdefaults": {
           "arrowcolor": "#2a3f5f",
           "arrowhead": 0,
           "arrowwidth": 1
          },
          "autotypenumbers": "strict",
          "coloraxis": {
           "colorbar": {
            "outlinewidth": 0,
            "ticks": ""
           }
          },
          "colorscale": {
           "diverging": [
            [
             0,
             "#8e0152"
            ],
            [
             0.1,
             "#c51b7d"
            ],
            [
             0.2,
             "#de77ae"
            ],
            [
             0.3,
             "#f1b6da"
            ],
            [
             0.4,
             "#fde0ef"
            ],
            [
             0.5,
             "#f7f7f7"
            ],
            [
             0.6,
             "#e6f5d0"
            ],
            [
             0.7,
             "#b8e186"
            ],
            [
             0.8,
             "#7fbc41"
            ],
            [
             0.9,
             "#4d9221"
            ],
            [
             1,
             "#276419"
            ]
           ],
           "sequential": [
            [
             0,
             "#0d0887"
            ],
            [
             0.1111111111111111,
             "#46039f"
            ],
            [
             0.2222222222222222,
             "#7201a8"
            ],
            [
             0.3333333333333333,
             "#9c179e"
            ],
            [
             0.4444444444444444,
             "#bd3786"
            ],
            [
             0.5555555555555556,
             "#d8576b"
            ],
            [
             0.6666666666666666,
             "#ed7953"
            ],
            [
             0.7777777777777778,
             "#fb9f3a"
            ],
            [
             0.8888888888888888,
             "#fdca26"
            ],
            [
             1,
             "#f0f921"
            ]
           ],
           "sequentialminus": [
            [
             0,
             "#0d0887"
            ],
            [
             0.1111111111111111,
             "#46039f"
            ],
            [
             0.2222222222222222,
             "#7201a8"
            ],
            [
             0.3333333333333333,
             "#9c179e"
            ],
            [
             0.4444444444444444,
             "#bd3786"
            ],
            [
             0.5555555555555556,
             "#d8576b"
            ],
            [
             0.6666666666666666,
             "#ed7953"
            ],
            [
             0.7777777777777778,
             "#fb9f3a"
            ],
            [
             0.8888888888888888,
             "#fdca26"
            ],
            [
             1,
             "#f0f921"
            ]
           ]
          },
          "colorway": [
           "#636efa",
           "#EF553B",
           "#00cc96",
           "#ab63fa",
           "#FFA15A",
           "#19d3f3",
           "#FF6692",
           "#B6E880",
           "#FF97FF",
           "#FECB52"
          ],
          "font": {
           "color": "#2a3f5f"
          },
          "geo": {
           "bgcolor": "white",
           "lakecolor": "white",
           "landcolor": "white",
           "showlakes": true,
           "showland": true,
           "subunitcolor": "#C8D4E3"
          },
          "hoverlabel": {
           "align": "left"
          },
          "hovermode": "closest",
          "mapbox": {
           "style": "light"
          },
          "paper_bgcolor": "white",
          "plot_bgcolor": "white",
          "polar": {
           "angularaxis": {
            "gridcolor": "#EBF0F8",
            "linecolor": "#EBF0F8",
            "ticks": ""
           },
           "bgcolor": "white",
           "radialaxis": {
            "gridcolor": "#EBF0F8",
            "linecolor": "#EBF0F8",
            "ticks": ""
           }
          },
          "scene": {
           "xaxis": {
            "backgroundcolor": "white",
            "gridcolor": "#DFE8F3",
            "gridwidth": 2,
            "linecolor": "#EBF0F8",
            "showbackground": true,
            "ticks": "",
            "zerolinecolor": "#EBF0F8"
           },
           "yaxis": {
            "backgroundcolor": "white",
            "gridcolor": "#DFE8F3",
            "gridwidth": 2,
            "linecolor": "#EBF0F8",
            "showbackground": true,
            "ticks": "",
            "zerolinecolor": "#EBF0F8"
           },
           "zaxis": {
            "backgroundcolor": "white",
            "gridcolor": "#DFE8F3",
            "gridwidth": 2,
            "linecolor": "#EBF0F8",
            "showbackground": true,
            "ticks": "",
            "zerolinecolor": "#EBF0F8"
           }
          },
          "shapedefaults": {
           "line": {
            "color": "#2a3f5f"
           }
          },
          "ternary": {
           "aaxis": {
            "gridcolor": "#DFE8F3",
            "linecolor": "#A2B1C6",
            "ticks": ""
           },
           "baxis": {
            "gridcolor": "#DFE8F3",
            "linecolor": "#A2B1C6",
            "ticks": ""
           },
           "bgcolor": "white",
           "caxis": {
            "gridcolor": "#DFE8F3",
            "linecolor": "#A2B1C6",
            "ticks": ""
           }
          },
          "title": {
           "x": 0.05
          },
          "xaxis": {
           "automargin": true,
           "gridcolor": "#EBF0F8",
           "linecolor": "#EBF0F8",
           "ticks": "",
           "title": {
            "standoff": 15
           },
           "zerolinecolor": "#EBF0F8",
           "zerolinewidth": 2
          },
          "yaxis": {
           "automargin": true,
           "gridcolor": "#EBF0F8",
           "linecolor": "#EBF0F8",
           "ticks": "",
           "title": {
            "standoff": 15
           },
           "zerolinecolor": "#EBF0F8",
           "zerolinewidth": 2
          }
         }
        },
        "title": {
         "text": "Alter by CHD class"
        },
        "xaxis": {
         "anchor": "y",
         "categoryarray": [
          0,
          1
         ],
         "categoryorder": "array",
         "domain": [
          0,
          1
         ],
         "title": {
          "text": "CHD (0 = No, 1 = Yes)"
         }
        },
        "yaxis": {
         "anchor": "x",
         "domain": [
          0,
          1
         ],
         "title": {
          "text": "Alter"
         }
        }
       }
      }
     },
     "metadata": {},
     "output_type": "display_data"
    },
    {
     "data": {
      "application/vnd.plotly.v1+json": {
       "config": {
        "plotlyServerURL": "https://plot.ly"
       },
       "data": [
        {
         "alignmentgroup": "True",
         "boxpoints": "all",
         "hovertemplate": "KHK=%{x}<br>Blutdruck=%{y}<extra></extra>",
         "legendgroup": "0",
         "marker": {
          "color": "#636efa"
         },
         "name": "0",
         "notched": false,
         "offsetgroup": "0",
         "orientation": "v",
         "showlegend": true,
         "type": "box",
         "x": {
          "bdata": "AAAAAAAAAAAAAAAAAAAAAAAAAAAAAAAAAAAAAAAAAAAAAAAAAAAAAAAAAAAAAAAAAAAAAAAAAAAAAAAAAAAAAAAAAAAAAAAAAAAAAAAAAAAAAAAAAAAAAAAAAAAAAAAAAAAAAAAAAAAAAAAAAAAAAAAAAAAAAAAAAAAAAAAAAAAAAAAAAAAAAAAAAAAAAAAAAAAAAAAAAAAAAAAAAAAAAAAAAAAAAAAAAAAAAAAAAAAAAAAAAAAAAAAAAAAAAAAAAAAAAAAAAAAAAAAAAAAAAAAAAAAAAAAAAAAAAAAAAAAAAAAAAAAAAAAAAAAAAAAAAAAAAAAAAAAAAAAAAAAAAAAAAAAAAAAAAAAAAAAAAAAAAAAAAAAAAAAAAAAAAAAAAAAAAAAAAAAAAAAAAAAAAAAAAAAAAAAAAAAAAAAAAAAAAAAAAAAAAAAAAAAAAAAAAAAAAAAAAAAAAAAAAAAAAAAAAAAAAAAAAAAAAAAAAAAAAAAAAAAAAAAAAAAAAAAAAAAAAAAAAAAAAAAAAAAAAAAAAAAAAAAAAAA=",
          "dtype": "i1"
         },
         "x0": " ",
         "xaxis": "x",
         "y": {
          "bdata": "jACCAJYAeACCAG4AeACCAHgAcwB4AHgAZAB4AHwAggCCAHwAeABxAH0AggCWAH0AbgB4AJYAlgCWAIwAggB4AIwAcACMAIIAggCgAJYAZACWAIwAbgB4AIQAbgCWAIIAeACWAIwAjABuAHgAoACMAIwAbgCCAHgAbgCOAKAAeAB9AIIAjAB4AJYAjAC+AIIAjACMAIIAeAB9AG4AggB4AIIAbAB4AHgAkQCCAHgAeACMAG4AeAB4AHgAggBkAIIAeAB4AIwAoACgAHgAjACMAIcAjAB4AIwAjACMAIwAggCCAIIAbgCgAIIAeAC0AKoAggCHAH0AoAB4AJYAggBuAHgAoABkAIIAlgB4AIIAggCCAKoAeACMAIwAeAB4AHgAeAB4AIIAggCCAHgAcACMAHgAkQB4AHgAfQCMAHgAggCWAJYAegCMAHgAoABiAIIAeABpAHgAtAC0ALQAggB4AIIAbgCMAG4AjAB4AIUAeABuAIwAggCMAIIAmwBQAG4AZACgAHgAggBuAHgAtAB+AHgAfgCYAIoAeACaAGgAgACGAIQAfACDAIQAbgCMAIQAhABqAIgAewCCAIIAlgCCAIsAbgCMAIQAiwB4AJsAoACFAIQAjACWAI4AdgCIAGQAhQCCAIYAcgCHAIwAcwCAAHgAeACHAI4AjACAAHAAbgCMAIIAcwBwAIQAggCKAHgAbgCgAHgAggB6AHwAggBlAIwAgACMAIwAggBpAHgAlgB4AJYAkQCMAHYAeACcAIwAagBoAF4AeAB4AIIAbgCUAIAAsgB+AIwAeACMAHgAbACCAGQAcABuAIcAeACGAJYAoAB9AKAAiACGAIwAlgCOAJgAdgCEAIoAfQBwAHAAeABsAIIAggBpAIAAeACCAG4AtABuAIIAigCgAHgAdgCBAHgAZgCCAIIAbACMAIwAbAB8AIcAZABuAIwAdgCYAGYAaQCCAH0AegCCAIIAhwBeAHgAeACWAIoAhwCWAHYAcwCCAIoAigB4AIwAggCMAJsAggBuAJYAoACWAJYAeACCAKwAeACMAIwAgACKAKoAkgCKAIIAggB6AH0AggB4AIQAeACKAA==",
          "dtype": "i2"
         },
         "y0": " ",
         "yaxis": "y"
        },
        {
         "alignmentgroup": "True",
         "boxpoints": "all",
         "hovertemplate": "KHK=%{x}<br>Blutdruck=%{y}<extra></extra>",
         "legendgroup": "1",
         "marker": {
          "color": "#EF553B"
         },
         "name": "1",
         "notched": false,
         "offsetgroup": "1",
         "orientation": "v",
         "showlegend": true,
         "type": "box",
         "x": {
          "bdata": "AQEBAQEBAQEBAQEBAQEBAQEBAQEBAQEBAQEBAQEBAQEBAQEBAQEBAQEBAQEBAQEBAQEBAQEBAQEBAQEBAQEBAQEBAQEBAQEBAQEBAQEBAQEBAQEBAQEBAQEBAQEBAQEBAQEBAQEBAQEBAQEBAQEBAQEBAQEBAQEBAQEBAQEBAQEBAQEBAQEBAQEBAQEBAQEBAQEBAQEBAQEBAQEBAQEBAQEBAQEBAQEBAQEBAQEBAQEBAQEBAQEBAQEBAQEBAQEBAQEBAQEBAQEBAQEBAQEBAQEBAQEBAQEBAQEBAQEBAQEBAQEBAQEBAQEBAQEBAQEBAQEBAQEBAQEBAQEBAQEBAQEBAQEBAQEBAQEBAQEBAQEBAQEBAQEBAQEBAQEBAQEBAQEBAQEBAQEBAQEBAQEBAQEBAQEBAQEBAQEBAQEBAQEBAQEBAQEBAQEBAQEBAQEBAQEBAQEBAQEBAQEBAQEBAQEBAQEBAQEBAQEBAQEBAQEBAQEBAQEBAQEBAQEBAQEBAQEBAQEBAQEBAQEBAQEBAQEBAQEBAQEBAQEBAQEBAQEBAQEBAQEBAQEBAQEBAQEBAQEBAQEBAQEBAQEBAQEBAQEBAQEBAQEBAQEBAQEBAQEBAQEBAQEBAQEBAQEBAQEBAQEBAQEBAQEBAQEBAQEBAQEBAQEBAQEBAQEBAQ==",
          "dtype": "i1"
         },
         "x0": " ",
         "xaxis": "x",
         "y": {
          "bdata": "oACKAIwAiACMAG4AZAB4AJYAkQB9AIIAjACCAHgAbgCCAHgAeACCAHAAeACgAIwAeACMAHYAggCWAJYAjACqAHgAoACCAIIAlgB4AHYAlgBkAHgAggCMAIcAtABuAKoAlgBzAIwAlgCgAIwAoAB4AIIAmwBuAIIAjACAAIwAjACMAIwAjACCAIwAoAB4ALQAeABuAH0AagCMAJYAbgCCAKAAkQBcAHgAjACgAKAAyACgAKAAeAB6AIIAggCHAHgAkQB4AIIAjACCAIIAjACHAKoAlgBzAF8AaQCRAG4AbgBuAKAAfQB4AF8AeABzAHMAXwB9AH0AcwCRAGkAjACCAJEAfQBkAGkAcwBkAGkAfQBfAIIAcwBzAF8AggB4AJYAjABfAGQAbgBuAIIAeACHAHgAcwCJAG4AeACMAHgAggB4AJEAcwB4AHMAaQCgAKAAmwB4AMgAlgCHAIwAlgCHAJYAuQCHAH0AoACbAKAAjAB4AKAAcwBzAG4AeACWAJEAggCMAKAAjABzAIIAlgCgAIcAjACqAKUAyACgAIIAkQCHAG4AeACMAHMAbgCgAJYAtAB9AH0AggCbAIwAhACOAJYAeACgAIwAbgCFAIAAqgBuAHQAeACCAIAAggCAAIIAeACIAIIAfACgAAAAegCQAIwAiAB4AH0AhgCLAIgAegCDAHgAmAB+AIoAmgCNALIAbgCCAKoAfgCMAI4AeACGAIsAjACIAHgAqgCCAIkAjgCOAJIAoACHAIgAggCMAJ4AiACIAHgAbgCgAHAAegCWAJYAZgBgAHgAkAB8AJAAgwCPAIUAjwB0AG4AfQCCAIUAlgCCAIoAaACKAKoAhACOAHAArACQAJEAlgCJAIkAhgCHAJAAjQCCAG4AngCAAIwAlgCgAI4AiQCLAJIAnACRAIMAjAB6AI0AtAB8AIwAjAC+AIIAoACCAHoAeACCAIwAeACbAKAAkACeAIYAfwB6AHgAggB8AIIAbgCMAJYAhgCMAIwAeABwAIAAqgCQAIIAjACgAJgAfgB2AG4AoACWAIgAigCuAHgAggCWAIgAbAB4AI4AkgB4AJYAlgCCAHwAbgB9AG4AZAB4AKUAggB8AJYAjAC0AJ4AeADIAIIAeAB6AJgAeAB1AGwAcAB4AH0AkQCMAMAAewBwAG4AhACMALIAeACWAIAAigCMAGQAigCMAJYAfQCGAG4AhACgAJEAfgB9AH0AfQCMAKAAfQCqAIAAbgCHAIIAggCEAJEAdgCAAKAAeAC0AIwAggBuAIwAkQB4AHAAhACMAIIAeABuAKAAhACAAIYAmgBuAIAAlAByAKoAmAB4AIwAfACkAIwAbgCQAIIAggA=",
          "dtype": "i2"
         },
         "y0": " ",
         "yaxis": "y"
        }
       ],
       "layout": {
        "boxmode": "overlay",
        "legend": {
         "title": {
          "text": "KHK"
         },
         "tracegroupgap": 0
        },
        "template": {
         "data": {
          "bar": [
           {
            "error_x": {
             "color": "#2a3f5f"
            },
            "error_y": {
             "color": "#2a3f5f"
            },
            "marker": {
             "line": {
              "color": "white",
              "width": 0.5
             },
             "pattern": {
              "fillmode": "overlay",
              "size": 10,
              "solidity": 0.2
             }
            },
            "type": "bar"
           }
          ],
          "barpolar": [
           {
            "marker": {
             "line": {
              "color": "white",
              "width": 0.5
             },
             "pattern": {
              "fillmode": "overlay",
              "size": 10,
              "solidity": 0.2
             }
            },
            "type": "barpolar"
           }
          ],
          "carpet": [
           {
            "aaxis": {
             "endlinecolor": "#2a3f5f",
             "gridcolor": "#C8D4E3",
             "linecolor": "#C8D4E3",
             "minorgridcolor": "#C8D4E3",
             "startlinecolor": "#2a3f5f"
            },
            "baxis": {
             "endlinecolor": "#2a3f5f",
             "gridcolor": "#C8D4E3",
             "linecolor": "#C8D4E3",
             "minorgridcolor": "#C8D4E3",
             "startlinecolor": "#2a3f5f"
            },
            "type": "carpet"
           }
          ],
          "choropleth": [
           {
            "colorbar": {
             "outlinewidth": 0,
             "ticks": ""
            },
            "type": "choropleth"
           }
          ],
          "contour": [
           {
            "colorbar": {
             "outlinewidth": 0,
             "ticks": ""
            },
            "colorscale": [
             [
              0,
              "#0d0887"
             ],
             [
              0.1111111111111111,
              "#46039f"
             ],
             [
              0.2222222222222222,
              "#7201a8"
             ],
             [
              0.3333333333333333,
              "#9c179e"
             ],
             [
              0.4444444444444444,
              "#bd3786"
             ],
             [
              0.5555555555555556,
              "#d8576b"
             ],
             [
              0.6666666666666666,
              "#ed7953"
             ],
             [
              0.7777777777777778,
              "#fb9f3a"
             ],
             [
              0.8888888888888888,
              "#fdca26"
             ],
             [
              1,
              "#f0f921"
             ]
            ],
            "type": "contour"
           }
          ],
          "contourcarpet": [
           {
            "colorbar": {
             "outlinewidth": 0,
             "ticks": ""
            },
            "type": "contourcarpet"
           }
          ],
          "heatmap": [
           {
            "colorbar": {
             "outlinewidth": 0,
             "ticks": ""
            },
            "colorscale": [
             [
              0,
              "#0d0887"
             ],
             [
              0.1111111111111111,
              "#46039f"
             ],
             [
              0.2222222222222222,
              "#7201a8"
             ],
             [
              0.3333333333333333,
              "#9c179e"
             ],
             [
              0.4444444444444444,
              "#bd3786"
             ],
             [
              0.5555555555555556,
              "#d8576b"
             ],
             [
              0.6666666666666666,
              "#ed7953"
             ],
             [
              0.7777777777777778,
              "#fb9f3a"
             ],
             [
              0.8888888888888888,
              "#fdca26"
             ],
             [
              1,
              "#f0f921"
             ]
            ],
            "type": "heatmap"
           }
          ],
          "histogram": [
           {
            "marker": {
             "pattern": {
              "fillmode": "overlay",
              "size": 10,
              "solidity": 0.2
             }
            },
            "type": "histogram"
           }
          ],
          "histogram2d": [
           {
            "colorbar": {
             "outlinewidth": 0,
             "ticks": ""
            },
            "colorscale": [
             [
              0,
              "#0d0887"
             ],
             [
              0.1111111111111111,
              "#46039f"
             ],
             [
              0.2222222222222222,
              "#7201a8"
             ],
             [
              0.3333333333333333,
              "#9c179e"
             ],
             [
              0.4444444444444444,
              "#bd3786"
             ],
             [
              0.5555555555555556,
              "#d8576b"
             ],
             [
              0.6666666666666666,
              "#ed7953"
             ],
             [
              0.7777777777777778,
              "#fb9f3a"
             ],
             [
              0.8888888888888888,
              "#fdca26"
             ],
             [
              1,
              "#f0f921"
             ]
            ],
            "type": "histogram2d"
           }
          ],
          "histogram2dcontour": [
           {
            "colorbar": {
             "outlinewidth": 0,
             "ticks": ""
            },
            "colorscale": [
             [
              0,
              "#0d0887"
             ],
             [
              0.1111111111111111,
              "#46039f"
             ],
             [
              0.2222222222222222,
              "#7201a8"
             ],
             [
              0.3333333333333333,
              "#9c179e"
             ],
             [
              0.4444444444444444,
              "#bd3786"
             ],
             [
              0.5555555555555556,
              "#d8576b"
             ],
             [
              0.6666666666666666,
              "#ed7953"
             ],
             [
              0.7777777777777778,
              "#fb9f3a"
             ],
             [
              0.8888888888888888,
              "#fdca26"
             ],
             [
              1,
              "#f0f921"
             ]
            ],
            "type": "histogram2dcontour"
           }
          ],
          "mesh3d": [
           {
            "colorbar": {
             "outlinewidth": 0,
             "ticks": ""
            },
            "type": "mesh3d"
           }
          ],
          "parcoords": [
           {
            "line": {
             "colorbar": {
              "outlinewidth": 0,
              "ticks": ""
             }
            },
            "type": "parcoords"
           }
          ],
          "pie": [
           {
            "automargin": true,
            "type": "pie"
           }
          ],
          "scatter": [
           {
            "fillpattern": {
             "fillmode": "overlay",
             "size": 10,
             "solidity": 0.2
            },
            "type": "scatter"
           }
          ],
          "scatter3d": [
           {
            "line": {
             "colorbar": {
              "outlinewidth": 0,
              "ticks": ""
             }
            },
            "marker": {
             "colorbar": {
              "outlinewidth": 0,
              "ticks": ""
             }
            },
            "type": "scatter3d"
           }
          ],
          "scattercarpet": [
           {
            "marker": {
             "colorbar": {
              "outlinewidth": 0,
              "ticks": ""
             }
            },
            "type": "scattercarpet"
           }
          ],
          "scattergeo": [
           {
            "marker": {
             "colorbar": {
              "outlinewidth": 0,
              "ticks": ""
             }
            },
            "type": "scattergeo"
           }
          ],
          "scattergl": [
           {
            "marker": {
             "colorbar": {
              "outlinewidth": 0,
              "ticks": ""
             }
            },
            "type": "scattergl"
           }
          ],
          "scattermap": [
           {
            "marker": {
             "colorbar": {
              "outlinewidth": 0,
              "ticks": ""
             }
            },
            "type": "scattermap"
           }
          ],
          "scattermapbox": [
           {
            "marker": {
             "colorbar": {
              "outlinewidth": 0,
              "ticks": ""
             }
            },
            "type": "scattermapbox"
           }
          ],
          "scatterpolar": [
           {
            "marker": {
             "colorbar": {
              "outlinewidth": 0,
              "ticks": ""
             }
            },
            "type": "scatterpolar"
           }
          ],
          "scatterpolargl": [
           {
            "marker": {
             "colorbar": {
              "outlinewidth": 0,
              "ticks": ""
             }
            },
            "type": "scatterpolargl"
           }
          ],
          "scatterternary": [
           {
            "marker": {
             "colorbar": {
              "outlinewidth": 0,
              "ticks": ""
             }
            },
            "type": "scatterternary"
           }
          ],
          "surface": [
           {
            "colorbar": {
             "outlinewidth": 0,
             "ticks": ""
            },
            "colorscale": [
             [
              0,
              "#0d0887"
             ],
             [
              0.1111111111111111,
              "#46039f"
             ],
             [
              0.2222222222222222,
              "#7201a8"
             ],
             [
              0.3333333333333333,
              "#9c179e"
             ],
             [
              0.4444444444444444,
              "#bd3786"
             ],
             [
              0.5555555555555556,
              "#d8576b"
             ],
             [
              0.6666666666666666,
              "#ed7953"
             ],
             [
              0.7777777777777778,
              "#fb9f3a"
             ],
             [
              0.8888888888888888,
              "#fdca26"
             ],
             [
              1,
              "#f0f921"
             ]
            ],
            "type": "surface"
           }
          ],
          "table": [
           {
            "cells": {
             "fill": {
              "color": "#EBF0F8"
             },
             "line": {
              "color": "white"
             }
            },
            "header": {
             "fill": {
              "color": "#C8D4E3"
             },
             "line": {
              "color": "white"
             }
            },
            "type": "table"
           }
          ]
         },
         "layout": {
          "annotationdefaults": {
           "arrowcolor": "#2a3f5f",
           "arrowhead": 0,
           "arrowwidth": 1
          },
          "autotypenumbers": "strict",
          "coloraxis": {
           "colorbar": {
            "outlinewidth": 0,
            "ticks": ""
           }
          },
          "colorscale": {
           "diverging": [
            [
             0,
             "#8e0152"
            ],
            [
             0.1,
             "#c51b7d"
            ],
            [
             0.2,
             "#de77ae"
            ],
            [
             0.3,
             "#f1b6da"
            ],
            [
             0.4,
             "#fde0ef"
            ],
            [
             0.5,
             "#f7f7f7"
            ],
            [
             0.6,
             "#e6f5d0"
            ],
            [
             0.7,
             "#b8e186"
            ],
            [
             0.8,
             "#7fbc41"
            ],
            [
             0.9,
             "#4d9221"
            ],
            [
             1,
             "#276419"
            ]
           ],
           "sequential": [
            [
             0,
             "#0d0887"
            ],
            [
             0.1111111111111111,
             "#46039f"
            ],
            [
             0.2222222222222222,
             "#7201a8"
            ],
            [
             0.3333333333333333,
             "#9c179e"
            ],
            [
             0.4444444444444444,
             "#bd3786"
            ],
            [
             0.5555555555555556,
             "#d8576b"
            ],
            [
             0.6666666666666666,
             "#ed7953"
            ],
            [
             0.7777777777777778,
             "#fb9f3a"
            ],
            [
             0.8888888888888888,
             "#fdca26"
            ],
            [
             1,
             "#f0f921"
            ]
           ],
           "sequentialminus": [
            [
             0,
             "#0d0887"
            ],
            [
             0.1111111111111111,
             "#46039f"
            ],
            [
             0.2222222222222222,
             "#7201a8"
            ],
            [
             0.3333333333333333,
             "#9c179e"
            ],
            [
             0.4444444444444444,
             "#bd3786"
            ],
            [
             0.5555555555555556,
             "#d8576b"
            ],
            [
             0.6666666666666666,
             "#ed7953"
            ],
            [
             0.7777777777777778,
             "#fb9f3a"
            ],
            [
             0.8888888888888888,
             "#fdca26"
            ],
            [
             1,
             "#f0f921"
            ]
           ]
          },
          "colorway": [
           "#636efa",
           "#EF553B",
           "#00cc96",
           "#ab63fa",
           "#FFA15A",
           "#19d3f3",
           "#FF6692",
           "#B6E880",
           "#FF97FF",
           "#FECB52"
          ],
          "font": {
           "color": "#2a3f5f"
          },
          "geo": {
           "bgcolor": "white",
           "lakecolor": "white",
           "landcolor": "white",
           "showlakes": true,
           "showland": true,
           "subunitcolor": "#C8D4E3"
          },
          "hoverlabel": {
           "align": "left"
          },
          "hovermode": "closest",
          "mapbox": {
           "style": "light"
          },
          "paper_bgcolor": "white",
          "plot_bgcolor": "white",
          "polar": {
           "angularaxis": {
            "gridcolor": "#EBF0F8",
            "linecolor": "#EBF0F8",
            "ticks": ""
           },
           "bgcolor": "white",
           "radialaxis": {
            "gridcolor": "#EBF0F8",
            "linecolor": "#EBF0F8",
            "ticks": ""
           }
          },
          "scene": {
           "xaxis": {
            "backgroundcolor": "white",
            "gridcolor": "#DFE8F3",
            "gridwidth": 2,
            "linecolor": "#EBF0F8",
            "showbackground": true,
            "ticks": "",
            "zerolinecolor": "#EBF0F8"
           },
           "yaxis": {
            "backgroundcolor": "white",
            "gridcolor": "#DFE8F3",
            "gridwidth": 2,
            "linecolor": "#EBF0F8",
            "showbackground": true,
            "ticks": "",
            "zerolinecolor": "#EBF0F8"
           },
           "zaxis": {
            "backgroundcolor": "white",
            "gridcolor": "#DFE8F3",
            "gridwidth": 2,
            "linecolor": "#EBF0F8",
            "showbackground": true,
            "ticks": "",
            "zerolinecolor": "#EBF0F8"
           }
          },
          "shapedefaults": {
           "line": {
            "color": "#2a3f5f"
           }
          },
          "ternary": {
           "aaxis": {
            "gridcolor": "#DFE8F3",
            "linecolor": "#A2B1C6",
            "ticks": ""
           },
           "baxis": {
            "gridcolor": "#DFE8F3",
            "linecolor": "#A2B1C6",
            "ticks": ""
           },
           "bgcolor": "white",
           "caxis": {
            "gridcolor": "#DFE8F3",
            "linecolor": "#A2B1C6",
            "ticks": ""
           }
          },
          "title": {
           "x": 0.05
          },
          "xaxis": {
           "automargin": true,
           "gridcolor": "#EBF0F8",
           "linecolor": "#EBF0F8",
           "ticks": "",
           "title": {
            "standoff": 15
           },
           "zerolinecolor": "#EBF0F8",
           "zerolinewidth": 2
          },
          "yaxis": {
           "automargin": true,
           "gridcolor": "#EBF0F8",
           "linecolor": "#EBF0F8",
           "ticks": "",
           "title": {
            "standoff": 15
           },
           "zerolinecolor": "#EBF0F8",
           "zerolinewidth": 2
          }
         }
        },
        "title": {
         "text": "Blutdruck by CHD class"
        },
        "xaxis": {
         "anchor": "y",
         "categoryarray": [
          0,
          1
         ],
         "categoryorder": "array",
         "domain": [
          0,
          1
         ],
         "title": {
          "text": "CHD (0 = No, 1 = Yes)"
         }
        },
        "yaxis": {
         "anchor": "x",
         "domain": [
          0,
          1
         ],
         "title": {
          "text": "Blutdruck"
         }
        }
       }
      }
     },
     "metadata": {},
     "output_type": "display_data"
    },
    {
     "data": {
      "application/vnd.plotly.v1+json": {
       "config": {
        "plotlyServerURL": "https://plot.ly"
       },
       "data": [
        {
         "alignmentgroup": "True",
         "boxpoints": "all",
         "hovertemplate": "KHK=%{x}<br>Chol=%{y}<extra></extra>",
         "legendgroup": "0",
         "marker": {
          "color": "#636efa"
         },
         "name": "0",
         "notched": false,
         "offsetgroup": "0",
         "orientation": "v",
         "showlegend": true,
         "type": "box",
         "x": {
          "bdata": "AAAAAAAAAAAAAAAAAAAAAAAAAAAAAAAAAAAAAAAAAAAAAAAAAAAAAAAAAAAAAAAAAAAAAAAAAAAAAAAAAAAAAAAAAAAAAAAAAAAAAAAAAAAAAAAAAAAAAAAAAAAAAAAAAAAAAAAAAAAAAAAAAAAAAAAAAAAAAAAAAAAAAAAAAAAAAAAAAAAAAAAAAAAAAAAAAAAAAAAAAAAAAAAAAAAAAAAAAAAAAAAAAAAAAAAAAAAAAAAAAAAAAAAAAAAAAAAAAAAAAAAAAAAAAAAAAAAAAAAAAAAAAAAAAAAAAAAAAAAAAAAAAAAAAAAAAAAAAAAAAAAAAAAAAAAAAAAAAAAAAAAAAAAAAAAAAAAAAAAAAAAAAAAAAAAAAAAAAAAAAAAAAAAAAAAAAAAAAAAAAAAAAAAAAAAAAAAAAAAAAAAAAAAAAAAAAAAAAAAAAAAAAAAAAAAAAAAAAAAAAAAAAAAAAAAAAAAAAAAAAAAAAAAAAAAAAAAAAAAAAAAAAAAAAAAAAAAAAAAA",
          "dtype": "i1"
         },
         "x0": " ",
         "xaxis": "x",
         "y": {
          "bdata": "IQEbAcMAUwHtANAAHAHTAMwA0wARAckA3wC4AMkA1wDRAAQBHAHUAbwApwC6AP4A+gCxAOMA5gAIAQMBPgHfANgAVAHgAPUAtADCAG0B/QD+AOAAygAEASkB4QCcAdcA2gCjAKcAZAAVAe4AxADYAOUA0AAzAdIAtgDPAJMAVQANAbMABAH+ANYAgQDxALwAFAEpAc8AoAAQAfAA5gD2AKEAowDmAOQAJAEmAdcA8QDzABEBxgD5AKgA1wCfABMBDgEjAbkAwwAHAcQA4QDuAN4AswDzAOsAQAG7AB8BwgDuAOAA7gA4AfsASAEYAdEA9QDAALgAwQApAQwBNAH5AOYAkwDbALgA1wA0AYQAFAHbAO0A2QDEAAcBwwAqAQABwwAnAa0AOwEZARMB+gA1AcgARgEKAasAJAEPARIBigGgAMgAQAETAd0AMQHcAOsA4QDGANwAJwHVAFsB/QD2ANwAWAFmAb4AqQC1ADQBpgDTAAEBtgDRANUApgDcAPAA4ADaANYA/ADKAeMA8ADDAKEA3wCgAOwAGwHFACoBEAG1ANwArwA2AcsAtgASAasADwHwAKUA1QC5AM8A/gACAYsAgQE0AgcBDQGxAOoA4gDrAC8BlQDTAMcA9QAvAcwAIAETAfMAJwEJAeQA1wC0AN4A0QDpAMUA0wDNAKEBwwDqAMYAsgB+AOIA8ADpAAUB8gBiAfUAxQDfANAAxwDRAOwA1gDJAPQA0AAOATIB3QAuATkB9ACNAA0B3gCgAOsAMAEnAQ8B4gBoAREByQDEAMkA4gDoALEAFQHSAM8ADwHVAAwB+gDbAAsBLwEAAcwANAHBAAYB0wBFAf4AxQDsAOoA0wC2AMQA8AAJAfYAOwHpAIoB7wA1Af8A+gD4ANYA7wAVASoBPgHwAPoA9QDVAMwAzAD8AOMAAgHcAKgAtwDLABsBugAEAecA6gABAUUBQQEIATQBDQHbAK8A1AAuAfMA9wBUAQoBxwAHASYBwADYAN8A4wAWAdwAxQD9AMAA3ADdAPAAVgGdAK8A",
          "dtype": "i2"
         },
         "y0": " ",
         "yaxis": "y"
        },
        {
         "alignmentgroup": "True",
         "boxpoints": "all",
         "hovertemplate": "KHK=%{x}<br>Chol=%{y}<extra></extra>",
         "legendgroup": "1",
         "marker": {
          "color": "#EF553B"
         },
         "name": "1",
         "notched": false,
         "offsetgroup": "1",
         "orientation": "v",
         "showlegend": true,
         "type": "box",
         "x": {
          "bdata": "AQEBAQEBAQEBAQEBAQEBAQEBAQEBAQEBAQEBAQEBAQEBAQEBAQEBAQEBAQEBAQEBAQEBAQEBAQEBAQEBAQEBAQEBAQEBAQEBAQEBAQEBAQEBAQEBAQEBAQEBAQEBAQEBAQEBAQEBAQEBAQEBAQEBAQEBAQEBAQEBAQEBAQEBAQEBAQEBAQEBAQEBAQEBAQEBAQEBAQEBAQEBAQEBAQEBAQEBAQEBAQEBAQEBAQEBAQEBAQEBAQEBAQEBAQEBAQEBAQEBAQEBAQEBAQEBAQEBAQEBAQEBAQEBAQEBAQEBAQEBAQEBAQEBAQEBAQEBAQEBAQEBAQEBAQEBAQEBAQEBAQEBAQEBAQEBAQEBAQEBAQEBAQEBAQEBAQEBAQEBAQEBAQEBAQEBAQEBAQEBAQEBAQEBAQEBAQEBAQEBAQEBAQEBAQEBAQEBAQEBAQEBAQEBAQEBAQEBAQEBAQEBAQEBAQEBAQE=",
          "dtype": "i1"
         },
         "x0": " ",
         "xaxis": "x",
         "y": {
          "bdata": "tADWAM8ApADqAMQA+AALASABBgLgAKwAMgEmAa8AIQHpAM0ADgHVAFYBFQH2AAkBtgAMARECzgDfANUAiwAHASMBSQEHARMBiAHSAboA/wD2ABoBUgGcAPgAiQHKAIQB5gAJAaYA9wBLAVUBIwEXAVsCVgG+ACIBCAHUABAB5wAKASAB2ADhAJQB0wDtAB0B9gABAdgABwEgAeIAGAHeAC8BCAF1AFABJwFjAcEAxgAkAQwB7QATAdsAVQHrAQQB+ADnAH4AwQAqAfIAyQCgAN8A3gAEAdoA5ADsAAsBsQDsALoAZADkAKsA5gAZAcsAFQHpAJkAPAE3AQ4B2QDWANwA1gDLAFMB2AAUAfEAgAEpAfgANAHQANIA9QDhAMYACwECAcMA6wAxARoBXQGgADgBjgDTANoAMgG6APwA3gACAcoAzABxABIBwADcAMgABQEEAd0A2ADbANAA6AARAcwADgEkAd0AIQHZAN8AbgDBAHsA0gAaAaoAcQGtACEBmADQANgA9AAdAfMA2wDtAB8BAgEAAboACAHiAMsAHAFRATYB/gAsAaoANgFNAd8A/gBCAQUBAAHvACUBlwHqADcBywDlAOYA5QBGAcgAAAHPABEB3wDaAJUAxQD2AOEAOwGmAPkAGQExARQBPwHzAAQBNQHaAMYADgHzAEoBCgHOANQAEwHqAO0AIQH+ABIBAgGxAEcBMQH5ACABGwG8AB4BEgELAeYADQHUAPYA+QDUAOkAGwEaAeYApwDgANkA5ADnAPQAAwEaAf4AKwEmASoB5wD+AJkBrAC4AA0BrgAaATABLAECASsBIQE1ASAB2ADvAP4ASgEHAVUBMwHbAP8ApACxABIBDAH9APgAuQAaAbwAIgFhAU8BzgAcAeUAHgH3AMwAzADoAE8BzQDLAD4B4QDUAKkAuwDFALAA8QAIAcEAgwDsAA==",
          "dtype": "i2"
         },
         "y0": " ",
         "yaxis": "y"
        }
       ],
       "layout": {
        "boxmode": "overlay",
        "legend": {
         "title": {
          "text": "KHK"
         },
         "tracegroupgap": 0
        },
        "template": {
         "data": {
          "bar": [
           {
            "error_x": {
             "color": "#2a3f5f"
            },
            "error_y": {
             "color": "#2a3f5f"
            },
            "marker": {
             "line": {
              "color": "white",
              "width": 0.5
             },
             "pattern": {
              "fillmode": "overlay",
              "size": 10,
              "solidity": 0.2
             }
            },
            "type": "bar"
           }
          ],
          "barpolar": [
           {
            "marker": {
             "line": {
              "color": "white",
              "width": 0.5
             },
             "pattern": {
              "fillmode": "overlay",
              "size": 10,
              "solidity": 0.2
             }
            },
            "type": "barpolar"
           }
          ],
          "carpet": [
           {
            "aaxis": {
             "endlinecolor": "#2a3f5f",
             "gridcolor": "#C8D4E3",
             "linecolor": "#C8D4E3",
             "minorgridcolor": "#C8D4E3",
             "startlinecolor": "#2a3f5f"
            },
            "baxis": {
             "endlinecolor": "#2a3f5f",
             "gridcolor": "#C8D4E3",
             "linecolor": "#C8D4E3",
             "minorgridcolor": "#C8D4E3",
             "startlinecolor": "#2a3f5f"
            },
            "type": "carpet"
           }
          ],
          "choropleth": [
           {
            "colorbar": {
             "outlinewidth": 0,
             "ticks": ""
            },
            "type": "choropleth"
           }
          ],
          "contour": [
           {
            "colorbar": {
             "outlinewidth": 0,
             "ticks": ""
            },
            "colorscale": [
             [
              0,
              "#0d0887"
             ],
             [
              0.1111111111111111,
              "#46039f"
             ],
             [
              0.2222222222222222,
              "#7201a8"
             ],
             [
              0.3333333333333333,
              "#9c179e"
             ],
             [
              0.4444444444444444,
              "#bd3786"
             ],
             [
              0.5555555555555556,
              "#d8576b"
             ],
             [
              0.6666666666666666,
              "#ed7953"
             ],
             [
              0.7777777777777778,
              "#fb9f3a"
             ],
             [
              0.8888888888888888,
              "#fdca26"
             ],
             [
              1,
              "#f0f921"
             ]
            ],
            "type": "contour"
           }
          ],
          "contourcarpet": [
           {
            "colorbar": {
             "outlinewidth": 0,
             "ticks": ""
            },
            "type": "contourcarpet"
           }
          ],
          "heatmap": [
           {
            "colorbar": {
             "outlinewidth": 0,
             "ticks": ""
            },
            "colorscale": [
             [
              0,
              "#0d0887"
             ],
             [
              0.1111111111111111,
              "#46039f"
             ],
             [
              0.2222222222222222,
              "#7201a8"
             ],
             [
              0.3333333333333333,
              "#9c179e"
             ],
             [
              0.4444444444444444,
              "#bd3786"
             ],
             [
              0.5555555555555556,
              "#d8576b"
             ],
             [
              0.6666666666666666,
              "#ed7953"
             ],
             [
              0.7777777777777778,
              "#fb9f3a"
             ],
             [
              0.8888888888888888,
              "#fdca26"
             ],
             [
              1,
              "#f0f921"
             ]
            ],
            "type": "heatmap"
           }
          ],
          "histogram": [
           {
            "marker": {
             "pattern": {
              "fillmode": "overlay",
              "size": 10,
              "solidity": 0.2
             }
            },
            "type": "histogram"
           }
          ],
          "histogram2d": [
           {
            "colorbar": {
             "outlinewidth": 0,
             "ticks": ""
            },
            "colorscale": [
             [
              0,
              "#0d0887"
             ],
             [
              0.1111111111111111,
              "#46039f"
             ],
             [
              0.2222222222222222,
              "#7201a8"
             ],
             [
              0.3333333333333333,
              "#9c179e"
             ],
             [
              0.4444444444444444,
              "#bd3786"
             ],
             [
              0.5555555555555556,
              "#d8576b"
             ],
             [
              0.6666666666666666,
              "#ed7953"
             ],
             [
              0.7777777777777778,
              "#fb9f3a"
             ],
             [
              0.8888888888888888,
              "#fdca26"
             ],
             [
              1,
              "#f0f921"
             ]
            ],
            "type": "histogram2d"
           }
          ],
          "histogram2dcontour": [
           {
            "colorbar": {
             "outlinewidth": 0,
             "ticks": ""
            },
            "colorscale": [
             [
              0,
              "#0d0887"
             ],
             [
              0.1111111111111111,
              "#46039f"
             ],
             [
              0.2222222222222222,
              "#7201a8"
             ],
             [
              0.3333333333333333,
              "#9c179e"
             ],
             [
              0.4444444444444444,
              "#bd3786"
             ],
             [
              0.5555555555555556,
              "#d8576b"
             ],
             [
              0.6666666666666666,
              "#ed7953"
             ],
             [
              0.7777777777777778,
              "#fb9f3a"
             ],
             [
              0.8888888888888888,
              "#fdca26"
             ],
             [
              1,
              "#f0f921"
             ]
            ],
            "type": "histogram2dcontour"
           }
          ],
          "mesh3d": [
           {
            "colorbar": {
             "outlinewidth": 0,
             "ticks": ""
            },
            "type": "mesh3d"
           }
          ],
          "parcoords": [
           {
            "line": {
             "colorbar": {
              "outlinewidth": 0,
              "ticks": ""
             }
            },
            "type": "parcoords"
           }
          ],
          "pie": [
           {
            "automargin": true,
            "type": "pie"
           }
          ],
          "scatter": [
           {
            "fillpattern": {
             "fillmode": "overlay",
             "size": 10,
             "solidity": 0.2
            },
            "type": "scatter"
           }
          ],
          "scatter3d": [
           {
            "line": {
             "colorbar": {
              "outlinewidth": 0,
              "ticks": ""
             }
            },
            "marker": {
             "colorbar": {
              "outlinewidth": 0,
              "ticks": ""
             }
            },
            "type": "scatter3d"
           }
          ],
          "scattercarpet": [
           {
            "marker": {
             "colorbar": {
              "outlinewidth": 0,
              "ticks": ""
             }
            },
            "type": "scattercarpet"
           }
          ],
          "scattergeo": [
           {
            "marker": {
             "colorbar": {
              "outlinewidth": 0,
              "ticks": ""
             }
            },
            "type": "scattergeo"
           }
          ],
          "scattergl": [
           {
            "marker": {
             "colorbar": {
              "outlinewidth": 0,
              "ticks": ""
             }
            },
            "type": "scattergl"
           }
          ],
          "scattermap": [
           {
            "marker": {
             "colorbar": {
              "outlinewidth": 0,
              "ticks": ""
             }
            },
            "type": "scattermap"
           }
          ],
          "scattermapbox": [
           {
            "marker": {
             "colorbar": {
              "outlinewidth": 0,
              "ticks": ""
             }
            },
            "type": "scattermapbox"
           }
          ],
          "scatterpolar": [
           {
            "marker": {
             "colorbar": {
              "outlinewidth": 0,
              "ticks": ""
             }
            },
            "type": "scatterpolar"
           }
          ],
          "scatterpolargl": [
           {
            "marker": {
             "colorbar": {
              "outlinewidth": 0,
              "ticks": ""
             }
            },
            "type": "scatterpolargl"
           }
          ],
          "scatterternary": [
           {
            "marker": {
             "colorbar": {
              "outlinewidth": 0,
              "ticks": ""
             }
            },
            "type": "scatterternary"
           }
          ],
          "surface": [
           {
            "colorbar": {
             "outlinewidth": 0,
             "ticks": ""
            },
            "colorscale": [
             [
              0,
              "#0d0887"
             ],
             [
              0.1111111111111111,
              "#46039f"
             ],
             [
              0.2222222222222222,
              "#7201a8"
             ],
             [
              0.3333333333333333,
              "#9c179e"
             ],
             [
              0.4444444444444444,
              "#bd3786"
             ],
             [
              0.5555555555555556,
              "#d8576b"
             ],
             [
              0.6666666666666666,
              "#ed7953"
             ],
             [
              0.7777777777777778,
              "#fb9f3a"
             ],
             [
              0.8888888888888888,
              "#fdca26"
             ],
             [
              1,
              "#f0f921"
             ]
            ],
            "type": "surface"
           }
          ],
          "table": [
           {
            "cells": {
             "fill": {
              "color": "#EBF0F8"
             },
             "line": {
              "color": "white"
             }
            },
            "header": {
             "fill": {
              "color": "#C8D4E3"
             },
             "line": {
              "color": "white"
             }
            },
            "type": "table"
           }
          ]
         },
         "layout": {
          "annotationdefaults": {
           "arrowcolor": "#2a3f5f",
           "arrowhead": 0,
           "arrowwidth": 1
          },
          "autotypenumbers": "strict",
          "coloraxis": {
           "colorbar": {
            "outlinewidth": 0,
            "ticks": ""
           }
          },
          "colorscale": {
           "diverging": [
            [
             0,
             "#8e0152"
            ],
            [
             0.1,
             "#c51b7d"
            ],
            [
             0.2,
             "#de77ae"
            ],
            [
             0.3,
             "#f1b6da"
            ],
            [
             0.4,
             "#fde0ef"
            ],
            [
             0.5,
             "#f7f7f7"
            ],
            [
             0.6,
             "#e6f5d0"
            ],
            [
             0.7,
             "#b8e186"
            ],
            [
             0.8,
             "#7fbc41"
            ],
            [
             0.9,
             "#4d9221"
            ],
            [
             1,
             "#276419"
            ]
           ],
           "sequential": [
            [
             0,
             "#0d0887"
            ],
            [
             0.1111111111111111,
             "#46039f"
            ],
            [
             0.2222222222222222,
             "#7201a8"
            ],
            [
             0.3333333333333333,
             "#9c179e"
            ],
            [
             0.4444444444444444,
             "#bd3786"
            ],
            [
             0.5555555555555556,
             "#d8576b"
            ],
            [
             0.6666666666666666,
             "#ed7953"
            ],
            [
             0.7777777777777778,
             "#fb9f3a"
            ],
            [
             0.8888888888888888,
             "#fdca26"
            ],
            [
             1,
             "#f0f921"
            ]
           ],
           "sequentialminus": [
            [
             0,
             "#0d0887"
            ],
            [
             0.1111111111111111,
             "#46039f"
            ],
            [
             0.2222222222222222,
             "#7201a8"
            ],
            [
             0.3333333333333333,
             "#9c179e"
            ],
            [
             0.4444444444444444,
             "#bd3786"
            ],
            [
             0.5555555555555556,
             "#d8576b"
            ],
            [
             0.6666666666666666,
             "#ed7953"
            ],
            [
             0.7777777777777778,
             "#fb9f3a"
            ],
            [
             0.8888888888888888,
             "#fdca26"
            ],
            [
             1,
             "#f0f921"
            ]
           ]
          },
          "colorway": [
           "#636efa",
           "#EF553B",
           "#00cc96",
           "#ab63fa",
           "#FFA15A",
           "#19d3f3",
           "#FF6692",
           "#B6E880",
           "#FF97FF",
           "#FECB52"
          ],
          "font": {
           "color": "#2a3f5f"
          },
          "geo": {
           "bgcolor": "white",
           "lakecolor": "white",
           "landcolor": "white",
           "showlakes": true,
           "showland": true,
           "subunitcolor": "#C8D4E3"
          },
          "hoverlabel": {
           "align": "left"
          },
          "hovermode": "closest",
          "mapbox": {
           "style": "light"
          },
          "paper_bgcolor": "white",
          "plot_bgcolor": "white",
          "polar": {
           "angularaxis": {
            "gridcolor": "#EBF0F8",
            "linecolor": "#EBF0F8",
            "ticks": ""
           },
           "bgcolor": "white",
           "radialaxis": {
            "gridcolor": "#EBF0F8",
            "linecolor": "#EBF0F8",
            "ticks": ""
           }
          },
          "scene": {
           "xaxis": {
            "backgroundcolor": "white",
            "gridcolor": "#DFE8F3",
            "gridwidth": 2,
            "linecolor": "#EBF0F8",
            "showbackground": true,
            "ticks": "",
            "zerolinecolor": "#EBF0F8"
           },
           "yaxis": {
            "backgroundcolor": "white",
            "gridcolor": "#DFE8F3",
            "gridwidth": 2,
            "linecolor": "#EBF0F8",
            "showbackground": true,
            "ticks": "",
            "zerolinecolor": "#EBF0F8"
           },
           "zaxis": {
            "backgroundcolor": "white",
            "gridcolor": "#DFE8F3",
            "gridwidth": 2,
            "linecolor": "#EBF0F8",
            "showbackground": true,
            "ticks": "",
            "zerolinecolor": "#EBF0F8"
           }
          },
          "shapedefaults": {
           "line": {
            "color": "#2a3f5f"
           }
          },
          "ternary": {
           "aaxis": {
            "gridcolor": "#DFE8F3",
            "linecolor": "#A2B1C6",
            "ticks": ""
           },
           "baxis": {
            "gridcolor": "#DFE8F3",
            "linecolor": "#A2B1C6",
            "ticks": ""
           },
           "bgcolor": "white",
           "caxis": {
            "gridcolor": "#DFE8F3",
            "linecolor": "#A2B1C6",
            "ticks": ""
           }
          },
          "title": {
           "x": 0.05
          },
          "xaxis": {
           "automargin": true,
           "gridcolor": "#EBF0F8",
           "linecolor": "#EBF0F8",
           "ticks": "",
           "title": {
            "standoff": 15
           },
           "zerolinecolor": "#EBF0F8",
           "zerolinewidth": 2
          },
          "yaxis": {
           "automargin": true,
           "gridcolor": "#EBF0F8",
           "linecolor": "#EBF0F8",
           "ticks": "",
           "title": {
            "standoff": 15
           },
           "zerolinecolor": "#EBF0F8",
           "zerolinewidth": 2
          }
         }
        },
        "title": {
         "text": "Chol by CHD class"
        },
        "xaxis": {
         "anchor": "y",
         "categoryarray": [
          0,
          1
         ],
         "categoryorder": "array",
         "domain": [
          0,
          1
         ],
         "title": {
          "text": "CHD (0 = No, 1 = Yes)"
         }
        },
        "yaxis": {
         "anchor": "x",
         "domain": [
          0,
          1
         ],
         "title": {
          "text": "Chol"
         }
        }
       }
      }
     },
     "metadata": {},
     "output_type": "display_data"
    },
    {
     "data": {
      "application/vnd.plotly.v1+json": {
       "config": {
        "plotlyServerURL": "https://plot.ly"
       },
       "data": [
        {
         "alignmentgroup": "True",
         "boxpoints": "all",
         "hovertemplate": "KHK=%{x}<br>HFmax=%{y}<extra></extra>",
         "legendgroup": "0",
         "marker": {
          "color": "#636efa"
         },
         "name": "0",
         "notched": false,
         "offsetgroup": "0",
         "orientation": "v",
         "showlegend": true,
         "type": "box",
         "x": {
          "bdata": "AAAAAAAAAAAAAAAAAAAAAAAAAAAAAAAAAAAAAAAAAAAAAAAAAAAAAAAAAAAAAAAAAAAAAAAAAAAAAAAAAAAAAAAAAAAAAAAAAAAAAAAAAAAAAAAAAAAAAAAAAAAAAAAAAAAAAAAAAAAAAAAAAAAAAAAAAAAAAAAAAAAAAAAAAAAAAAAAAAAAAAAAAAAAAAAAAAAAAAAAAAAAAAAAAAAAAAAAAAAAAAAAAAAAAAAAAAAAAAAAAAAAAAAAAAAAAAAAAAAAAAAAAAAAAAAAAAAAAAAAAAAAAAAAAAAAAAAAAAAAAAAAAAAAAAAAAAAAAAAAAAAAAAAAAAAAAAAAAAAAAAAAAAAAAAAAAAAAAAAAAAAAAAAAAAAAAAAAAAAAAAAAAAAAAAAAAAAAAAAAAAAAAAAAAAAAAAAAAAAAAAAAAAAAAAAAAAAAAAAAAAAAAAAAAAAAAAAAAAAAAAAAAAAAAAAAAAAAAAAAAAAAAAAAAAAAAAAAAAAAAAAAAAAAAAAAAAAAAAAAAAAAAAAAAAAAAAAAAAAAAAAAAAA=",
          "dtype": "i1"
         },
         "x0": " ",
         "xaxis": "x",
         "y": {
          "bdata": "rABiAHoAqgCqAI4AeACOAJEAiQCWAKUAjgCOAKQAigCyAHAAdgB/AJEAcgCaAJsAjgCUAIIAggCoAKoAeACoAKoAuAB6AJYAjACqAIYArgCvAJAAkQCCAJAAuACqAIcAcwB0AJYAigCgAJoApQCOAG4AoACMAJQAtACKAKAAjACQAGQAjABuAKgAhwBqAHwAfQCWAIcAuQCLAIwAlgBuAL4ArwCMAJgAggB4AK8AkgCbAIQAmwCwAKAAeABkAJYAjACgAIIAggCuAJYAjAB2AGQAoACgALwAogCsAJYAlgBaAJYAjACCAG4AbgB4AHQAoABuALQAdACEAIgAYgCWAJYAkgCWAGQAjAC0ALkAgACkAKoAiQCWAKoAfQC5AIkAjACqALgAngCnAIEAjgCMAKAAmwB2AIkAcwCYAIIAlgCsAHgAmwClAIoArwCWAJEAjAClAIYAtABkAH4AmwCHAKAAoACqAHgAjACEAJwAtACKAIcAlACWAHgAmgCNAIoAswByAGEAfwBjAHgAjACMAFYAeAB2AHQAhQCDAG8AawCgAIIAoQCCAIsAtACHAEUAigBQAH4AmQCgAIAAlgCQAIcAZAB4AIsAhwBWAKAAcACJAI0AmgCAAH4ApQCFAG4AiABgAJcAYACJAIcAoABpAHkAjAChAG8AtACfAH0AkACyALQAtQCPAJ8AiwCYAJ0AggCKAKoAlgC6AKMAswCcAKUAuACdALMArwCoAGAArQCpAKsAlgC6AJUAowCPAHQAjgCUALMArQCyAKgAfgCyAIwAkQCjAKQAlwCFAKIArwCjAI8AigCZAKoAogCiAHIAlwCYAKMAqQCeALIApQCgAKwAwACoALYAfQCsALMAngCnAHoAlQCsAKoAogCbAKEAmgCfAJgAmACDAHMArgCjAMIAegCtAKIAkwCdAKAAnACvAKEAegCeAJcAlwCyAKAAmgC7AKYApQDKAKwArACaAJMAqgCuALYAhACiAL4AuQCSAKAAnACsALYAjwCOAJQAvAB7AJ0AogCJAKsArACrAKIArQCZAJQAcwCpAJsAmACYAIMAswCuAJAAowCpAKYAtgCtAA==",
          "dtype": "i2"
         },
         "y0": " ",
         "yaxis": "y"
        },
        {
         "alignmentgroup": "True",
         "boxpoints": "all",
         "hovertemplate": "KHK=%{x}<br>HFmax=%{y}<extra></extra>",
         "legendgroup": "1",
         "marker": {
          "color": "#EF553B"
         },
         "name": "1",
         "notched": false,
         "offsetgroup": "1",
         "orientation": "v",
         "showlegend": true,
         "type": "box",
         "x": {
          "bdata": "AQEBAQEBAQEBAQEBAQEBAQEBAQEBAQEBAQEBAQEBAQEBAQEBAQEBAQEBAQEBAQEBAQEBAQEBAQEBAQEBAQEBAQEBAQEBAQEBAQEBAQEBAQEBAQEBAQEBAQEBAQEBAQEBAQEBAQEBAQEBAQEBAQEBAQEBAQEBAQEBAQEBAQEBAQEBAQEBAQEBAQEBAQEBAQEBAQEBAQEBAQEBAQEBAQEBAQEBAQEBAQEBAQEBAQEBAQEBAQEBAQEBAQEBAQEBAQEBAQEBAQEBAQEBAQEBAQEBAQEBAQEBAQEBAQEBAQEBAQEBAQEBAQEBAQEBAQEBAQEBAQEBAQEBAQEBAQEBAQEBAQEBAQEBAQEBAQEBAQEBAQEBAQEBAQEBAQEBAQEBAQEBAQEBAQEBAQEBAQEBAQEBAQEBAQEBAQEBAQEBAQEBAQEBAQEBAQEBAQEBAQEBAQEBAQEBAQEBAQEBAQEBAQEBAQEBAQEBAQEBAQEBAQEBAQEBAQEBAQEBAQEBAQEBAQEBAQEBAQEBAQEBAQEBAQEBAQEBAQEBAQEBAQEBAQEBAQEBAQEBAQEBAQEBAQEBAQEBAQEBAQEBAQEBAQEBAQEBAQEBAQEBAQEBAQEBAQEBAQEBAQEBAQEBAQEBAQEBAQEBAQEBAQEBAQEBAQEBAQEBAQEBAQEBAQEBAQEBAQ==",
          "dtype": "i1"
         },
         "x0": " ",
         "xaxis": "x",
         "y": {
          "bdata": "nABsAIIAYwCMAKYAfQCgAJYAggB6AIIAVwBkAHgAqgB5AGIAmQCMAGAAfQBSAJEAlgCAAIIAqgBzAH0AXgBwAJsAXACMAHMAggCYAHwAXACWAKoAggC0AKoAbgCWAHoAfACvAHYAggBeAH0AngCWAH0AlgCWAGQAdwBgAK8AjACGAIcAaQB4AHwAXACKAHgAdACMAIwAbgCMAGIAlgBwAJYAlgCGAHYAiABjAGYAjgCPAGcAlgCWAIIAeACHAHMAYABzAH0AkQBuAFsAggCWAH4AegBdAH8AbgCLAIMAXACVAJUAeAB7AH4AfwCbAIoAtgBuALAAmgB7AJQAeQBNAIgArwBtAKYAgACFAIAAdwBSAIIAjwBSAJAAqgCGAJoAlQCRAHoAcgBxAHgAaACCAHMAgABoAH0AeACMAGQAZABcAH0AcQBfAIAAcwBIAHwAYwCUAIwAdQB4AHgAVgA/AGwAYgBzAGkAeQB2AHoAnQCcAGMAeACRAJwAmwBpAGMAhwBTAJEAPABcAHMAeABiAJYAjwBpAHoARgBuAKMAQwCAAHgAggBkAEgAXgB6AE4AlgBnAGIAbgBaAHAAjACVAGkAjQCdAHUAeAB4AJQAVAB9AHwAagBvALQAgQB9AIwAeAB8AHUAbgBpAJsAbgB6AHYAewBQAKUAVgB2AFQAdQCAAH0AYQBqAIIAjAB6AHgAbACUAHsAbgB2AH0AagBwAIAAkACMAGYAbACRAH8AbgCMAJQAggCCAIwAigCMAHAAgwBwAJYAbgBYAJYAeACEAHgAbgB5AIcAeAB1AHEAfwBtAIAAcwBmAIwAhwB6AHcAggBwAHoAeABpAIEAogBkAIwASQBsAHQAdgB6AHwAZgB+AKAAcwBzAGkAbgB3AG0AhwCCAHAAfgB4AG4AdwBuAIIAnwBUAHQAeAB6AHoAXgCWAIIAcQCMAGQAfwBiAHsAYgBwAGwAgACKAH4AmgBkAF0AbQCNAI4AjgCqAJoAkQB4AJsAgQClAJYAjAB+AJYAigB9ALUAhgB+ALEAeAByAH0AfQCPAGcAjgBwAJgAmACMAJMAaQCCAG8AgACpAG0AbACoAHYAnABHAHwAkwCmAJ0AogB1AKEAkACFAGcAiwB0AFgAYwCgAKkAhABgAJAAhACjAMMAXwCgAHIArQBvAKUAtgCaAIIArgCSAH0AagB6AJMAowCWAJ4AaQBwAH0AnACiAKsAjQCtAJEAgwCfAIMAfgB/AIQAYQCIAJIAjAChAJEAeACWAKAAkACeAJsAjgBxAJkAhACeAIQAoACoAGwAjwCcAKIApACPAIIAoQCMAJIAlgCQAJAAiABaAHsAhACNAHMArgA=",
          "dtype": "i2"
         },
         "y0": " ",
         "yaxis": "y"
        }
       ],
       "layout": {
        "boxmode": "overlay",
        "legend": {
         "title": {
          "text": "KHK"
         },
         "tracegroupgap": 0
        },
        "template": {
         "data": {
          "bar": [
           {
            "error_x": {
             "color": "#2a3f5f"
            },
            "error_y": {
             "color": "#2a3f5f"
            },
            "marker": {
             "line": {
              "color": "white",
              "width": 0.5
             },
             "pattern": {
              "fillmode": "overlay",
              "size": 10,
              "solidity": 0.2
             }
            },
            "type": "bar"
           }
          ],
          "barpolar": [
           {
            "marker": {
             "line": {
              "color": "white",
              "width": 0.5
             },
             "pattern": {
              "fillmode": "overlay",
              "size": 10,
              "solidity": 0.2
             }
            },
            "type": "barpolar"
           }
          ],
          "carpet": [
           {
            "aaxis": {
             "endlinecolor": "#2a3f5f",
             "gridcolor": "#C8D4E3",
             "linecolor": "#C8D4E3",
             "minorgridcolor": "#C8D4E3",
             "startlinecolor": "#2a3f5f"
            },
            "baxis": {
             "endlinecolor": "#2a3f5f",
             "gridcolor": "#C8D4E3",
             "linecolor": "#C8D4E3",
             "minorgridcolor": "#C8D4E3",
             "startlinecolor": "#2a3f5f"
            },
            "type": "carpet"
           }
          ],
          "choropleth": [
           {
            "colorbar": {
             "outlinewidth": 0,
             "ticks": ""
            },
            "type": "choropleth"
           }
          ],
          "contour": [
           {
            "colorbar": {
             "outlinewidth": 0,
             "ticks": ""
            },
            "colorscale": [
             [
              0,
              "#0d0887"
             ],
             [
              0.1111111111111111,
              "#46039f"
             ],
             [
              0.2222222222222222,
              "#7201a8"
             ],
             [
              0.3333333333333333,
              "#9c179e"
             ],
             [
              0.4444444444444444,
              "#bd3786"
             ],
             [
              0.5555555555555556,
              "#d8576b"
             ],
             [
              0.6666666666666666,
              "#ed7953"
             ],
             [
              0.7777777777777778,
              "#fb9f3a"
             ],
             [
              0.8888888888888888,
              "#fdca26"
             ],
             [
              1,
              "#f0f921"
             ]
            ],
            "type": "contour"
           }
          ],
          "contourcarpet": [
           {
            "colorbar": {
             "outlinewidth": 0,
             "ticks": ""
            },
            "type": "contourcarpet"
           }
          ],
          "heatmap": [
           {
            "colorbar": {
             "outlinewidth": 0,
             "ticks": ""
            },
            "colorscale": [
             [
              0,
              "#0d0887"
             ],
             [
              0.1111111111111111,
              "#46039f"
             ],
             [
              0.2222222222222222,
              "#7201a8"
             ],
             [
              0.3333333333333333,
              "#9c179e"
             ],
             [
              0.4444444444444444,
              "#bd3786"
             ],
             [
              0.5555555555555556,
              "#d8576b"
             ],
             [
              0.6666666666666666,
              "#ed7953"
             ],
             [
              0.7777777777777778,
              "#fb9f3a"
             ],
             [
              0.8888888888888888,
              "#fdca26"
             ],
             [
              1,
              "#f0f921"
             ]
            ],
            "type": "heatmap"
           }
          ],
          "histogram": [
           {
            "marker": {
             "pattern": {
              "fillmode": "overlay",
              "size": 10,
              "solidity": 0.2
             }
            },
            "type": "histogram"
           }
          ],
          "histogram2d": [
           {
            "colorbar": {
             "outlinewidth": 0,
             "ticks": ""
            },
            "colorscale": [
             [
              0,
              "#0d0887"
             ],
             [
              0.1111111111111111,
              "#46039f"
             ],
             [
              0.2222222222222222,
              "#7201a8"
             ],
             [
              0.3333333333333333,
              "#9c179e"
             ],
             [
              0.4444444444444444,
              "#bd3786"
             ],
             [
              0.5555555555555556,
              "#d8576b"
             ],
             [
              0.6666666666666666,
              "#ed7953"
             ],
             [
              0.7777777777777778,
              "#fb9f3a"
             ],
             [
              0.8888888888888888,
              "#fdca26"
             ],
             [
              1,
              "#f0f921"
             ]
            ],
            "type": "histogram2d"
           }
          ],
          "histogram2dcontour": [
           {
            "colorbar": {
             "outlinewidth": 0,
             "ticks": ""
            },
            "colorscale": [
             [
              0,
              "#0d0887"
             ],
             [
              0.1111111111111111,
              "#46039f"
             ],
             [
              0.2222222222222222,
              "#7201a8"
             ],
             [
              0.3333333333333333,
              "#9c179e"
             ],
             [
              0.4444444444444444,
              "#bd3786"
             ],
             [
              0.5555555555555556,
              "#d8576b"
             ],
             [
              0.6666666666666666,
              "#ed7953"
             ],
             [
              0.7777777777777778,
              "#fb9f3a"
             ],
             [
              0.8888888888888888,
              "#fdca26"
             ],
             [
              1,
              "#f0f921"
             ]
            ],
            "type": "histogram2dcontour"
           }
          ],
          "mesh3d": [
           {
            "colorbar": {
             "outlinewidth": 0,
             "ticks": ""
            },
            "type": "mesh3d"
           }
          ],
          "parcoords": [
           {
            "line": {
             "colorbar": {
              "outlinewidth": 0,
              "ticks": ""
             }
            },
            "type": "parcoords"
           }
          ],
          "pie": [
           {
            "automargin": true,
            "type": "pie"
           }
          ],
          "scatter": [
           {
            "fillpattern": {
             "fillmode": "overlay",
             "size": 10,
             "solidity": 0.2
            },
            "type": "scatter"
           }
          ],
          "scatter3d": [
           {
            "line": {
             "colorbar": {
              "outlinewidth": 0,
              "ticks": ""
             }
            },
            "marker": {
             "colorbar": {
              "outlinewidth": 0,
              "ticks": ""
             }
            },
            "type": "scatter3d"
           }
          ],
          "scattercarpet": [
           {
            "marker": {
             "colorbar": {
              "outlinewidth": 0,
              "ticks": ""
             }
            },
            "type": "scattercarpet"
           }
          ],
          "scattergeo": [
           {
            "marker": {
             "colorbar": {
              "outlinewidth": 0,
              "ticks": ""
             }
            },
            "type": "scattergeo"
           }
          ],
          "scattergl": [
           {
            "marker": {
             "colorbar": {
              "outlinewidth": 0,
              "ticks": ""
             }
            },
            "type": "scattergl"
           }
          ],
          "scattermap": [
           {
            "marker": {
             "colorbar": {
              "outlinewidth": 0,
              "ticks": ""
             }
            },
            "type": "scattermap"
           }
          ],
          "scattermapbox": [
           {
            "marker": {
             "colorbar": {
              "outlinewidth": 0,
              "ticks": ""
             }
            },
            "type": "scattermapbox"
           }
          ],
          "scatterpolar": [
           {
            "marker": {
             "colorbar": {
              "outlinewidth": 0,
              "ticks": ""
             }
            },
            "type": "scatterpolar"
           }
          ],
          "scatterpolargl": [
           {
            "marker": {
             "colorbar": {
              "outlinewidth": 0,
              "ticks": ""
             }
            },
            "type": "scatterpolargl"
           }
          ],
          "scatterternary": [
           {
            "marker": {
             "colorbar": {
              "outlinewidth": 0,
              "ticks": ""
             }
            },
            "type": "scatterternary"
           }
          ],
          "surface": [
           {
            "colorbar": {
             "outlinewidth": 0,
             "ticks": ""
            },
            "colorscale": [
             [
              0,
              "#0d0887"
             ],
             [
              0.1111111111111111,
              "#46039f"
             ],
             [
              0.2222222222222222,
              "#7201a8"
             ],
             [
              0.3333333333333333,
              "#9c179e"
             ],
             [
              0.4444444444444444,
              "#bd3786"
             ],
             [
              0.5555555555555556,
              "#d8576b"
             ],
             [
              0.6666666666666666,
              "#ed7953"
             ],
             [
              0.7777777777777778,
              "#fb9f3a"
             ],
             [
              0.8888888888888888,
              "#fdca26"
             ],
             [
              1,
              "#f0f921"
             ]
            ],
            "type": "surface"
           }
          ],
          "table": [
           {
            "cells": {
             "fill": {
              "color": "#EBF0F8"
             },
             "line": {
              "color": "white"
             }
            },
            "header": {
             "fill": {
              "color": "#C8D4E3"
             },
             "line": {
              "color": "white"
             }
            },
            "type": "table"
           }
          ]
         },
         "layout": {
          "annotationdefaults": {
           "arrowcolor": "#2a3f5f",
           "arrowhead": 0,
           "arrowwidth": 1
          },
          "autotypenumbers": "strict",
          "coloraxis": {
           "colorbar": {
            "outlinewidth": 0,
            "ticks": ""
           }
          },
          "colorscale": {
           "diverging": [
            [
             0,
             "#8e0152"
            ],
            [
             0.1,
             "#c51b7d"
            ],
            [
             0.2,
             "#de77ae"
            ],
            [
             0.3,
             "#f1b6da"
            ],
            [
             0.4,
             "#fde0ef"
            ],
            [
             0.5,
             "#f7f7f7"
            ],
            [
             0.6,
             "#e6f5d0"
            ],
            [
             0.7,
             "#b8e186"
            ],
            [
             0.8,
             "#7fbc41"
            ],
            [
             0.9,
             "#4d9221"
            ],
            [
             1,
             "#276419"
            ]
           ],
           "sequential": [
            [
             0,
             "#0d0887"
            ],
            [
             0.1111111111111111,
             "#46039f"
            ],
            [
             0.2222222222222222,
             "#7201a8"
            ],
            [
             0.3333333333333333,
             "#9c179e"
            ],
            [
             0.4444444444444444,
             "#bd3786"
            ],
            [
             0.5555555555555556,
             "#d8576b"
            ],
            [
             0.6666666666666666,
             "#ed7953"
            ],
            [
             0.7777777777777778,
             "#fb9f3a"
            ],
            [
             0.8888888888888888,
             "#fdca26"
            ],
            [
             1,
             "#f0f921"
            ]
           ],
           "sequentialminus": [
            [
             0,
             "#0d0887"
            ],
            [
             0.1111111111111111,
             "#46039f"
            ],
            [
             0.2222222222222222,
             "#7201a8"
            ],
            [
             0.3333333333333333,
             "#9c179e"
            ],
            [
             0.4444444444444444,
             "#bd3786"
            ],
            [
             0.5555555555555556,
             "#d8576b"
            ],
            [
             0.6666666666666666,
             "#ed7953"
            ],
            [
             0.7777777777777778,
             "#fb9f3a"
            ],
            [
             0.8888888888888888,
             "#fdca26"
            ],
            [
             1,
             "#f0f921"
            ]
           ]
          },
          "colorway": [
           "#636efa",
           "#EF553B",
           "#00cc96",
           "#ab63fa",
           "#FFA15A",
           "#19d3f3",
           "#FF6692",
           "#B6E880",
           "#FF97FF",
           "#FECB52"
          ],
          "font": {
           "color": "#2a3f5f"
          },
          "geo": {
           "bgcolor": "white",
           "lakecolor": "white",
           "landcolor": "white",
           "showlakes": true,
           "showland": true,
           "subunitcolor": "#C8D4E3"
          },
          "hoverlabel": {
           "align": "left"
          },
          "hovermode": "closest",
          "mapbox": {
           "style": "light"
          },
          "paper_bgcolor": "white",
          "plot_bgcolor": "white",
          "polar": {
           "angularaxis": {
            "gridcolor": "#EBF0F8",
            "linecolor": "#EBF0F8",
            "ticks": ""
           },
           "bgcolor": "white",
           "radialaxis": {
            "gridcolor": "#EBF0F8",
            "linecolor": "#EBF0F8",
            "ticks": ""
           }
          },
          "scene": {
           "xaxis": {
            "backgroundcolor": "white",
            "gridcolor": "#DFE8F3",
            "gridwidth": 2,
            "linecolor": "#EBF0F8",
            "showbackground": true,
            "ticks": "",
            "zerolinecolor": "#EBF0F8"
           },
           "yaxis": {
            "backgroundcolor": "white",
            "gridcolor": "#DFE8F3",
            "gridwidth": 2,
            "linecolor": "#EBF0F8",
            "showbackground": true,
            "ticks": "",
            "zerolinecolor": "#EBF0F8"
           },
           "zaxis": {
            "backgroundcolor": "white",
            "gridcolor": "#DFE8F3",
            "gridwidth": 2,
            "linecolor": "#EBF0F8",
            "showbackground": true,
            "ticks": "",
            "zerolinecolor": "#EBF0F8"
           }
          },
          "shapedefaults": {
           "line": {
            "color": "#2a3f5f"
           }
          },
          "ternary": {
           "aaxis": {
            "gridcolor": "#DFE8F3",
            "linecolor": "#A2B1C6",
            "ticks": ""
           },
           "baxis": {
            "gridcolor": "#DFE8F3",
            "linecolor": "#A2B1C6",
            "ticks": ""
           },
           "bgcolor": "white",
           "caxis": {
            "gridcolor": "#DFE8F3",
            "linecolor": "#A2B1C6",
            "ticks": ""
           }
          },
          "title": {
           "x": 0.05
          },
          "xaxis": {
           "automargin": true,
           "gridcolor": "#EBF0F8",
           "linecolor": "#EBF0F8",
           "ticks": "",
           "title": {
            "standoff": 15
           },
           "zerolinecolor": "#EBF0F8",
           "zerolinewidth": 2
          },
          "yaxis": {
           "automargin": true,
           "gridcolor": "#EBF0F8",
           "linecolor": "#EBF0F8",
           "ticks": "",
           "title": {
            "standoff": 15
           },
           "zerolinecolor": "#EBF0F8",
           "zerolinewidth": 2
          }
         }
        },
        "title": {
         "text": "HFmax by CHD class"
        },
        "xaxis": {
         "anchor": "y",
         "categoryarray": [
          0,
          1
         ],
         "categoryorder": "array",
         "domain": [
          0,
          1
         ],
         "title": {
          "text": "CHD (0 = No, 1 = Yes)"
         }
        },
        "yaxis": {
         "anchor": "x",
         "domain": [
          0,
          1
         ],
         "title": {
          "text": "HFmax"
         }
        }
       }
      }
     },
     "metadata": {},
     "output_type": "display_data"
    },
    {
     "data": {
      "application/vnd.plotly.v1+json": {
       "config": {
        "plotlyServerURL": "https://plot.ly"
       },
       "data": [
        {
         "alignmentgroup": "True",
         "boxpoints": "all",
         "hovertemplate": "KHK=%{x}<br>RZ=%{y}<extra></extra>",
         "legendgroup": "0",
         "marker": {
          "color": "#636efa"
         },
         "name": "0",
         "notched": false,
         "offsetgroup": "0",
         "orientation": "v",
         "showlegend": true,
         "type": "box",
         "x": {
          "bdata": "AAAAAAAAAAAAAAAAAAAAAAAAAAAAAAAAAAAAAAAAAAAAAAAAAAAAAAAAAAAAAAAAAAAAAAAAAAAAAAAAAAAAAAAAAAAAAAAAAAAAAAAAAAAAAAAAAAAAAAAAAAAAAAAAAAAAAAAAAAAAAAAAAAAAAAAAAAAAAAAAAAAAAAAAAAAAAAAAAAAAAAAAAAAAAAAAAAAAAAAAAAAAAAAAAAAAAAAAAAAAAAAAAAAAAAAAAAAAAAAAAAAAAAAAAAAAAAAAAAAAAAAAAAAAAAAAAAAAAAAAAAAAAAAAAAAAAAAAAAAAAAAAAAAAAAAAAAAAAAAAAAAAAAAAAAAAAAAAAAAAAAAAAAAAAAAAAAAAAAAAAAAAAAAAAAAAAAAAAAAAAAAAAAAAAAAAAAAAAAAAAAAAAAAAAAAAAAAAAAAAAAAAAAAAAAAAAAAAAAAAAAAAAAAAAAAAAAAAAAAAAAAAAAAAAAAAAAAAAAAAAAAAAAAAAAAAAAAAAAAAAAAAAAAAAAAAAAAAAAAAAAAAAAAAAAAAAAAAAAAAAAAAAAA=",
          "dtype": "i1"
         },
         "x0": " ",
         "xaxis": "x",
         "y": {
          "bdata": "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",
          "dtype": "f8"
         },
         "y0": " ",
         "yaxis": "y"
        },
        {
         "alignmentgroup": "True",
         "boxpoints": "all",
         "hovertemplate": "KHK=%{x}<br>RZ=%{y}<extra></extra>",
         "legendgroup": "1",
         "marker": {
          "color": "#EF553B"
         },
         "name": "1",
         "notched": false,
         "offsetgroup": "1",
         "orientation": "v",
         "showlegend": true,
         "type": "box",
         "x": {
          "bdata": "AQEBAQEBAQEBAQEBAQEBAQEBAQEBAQEBAQEBAQEBAQEBAQEBAQEBAQEBAQEBAQEBAQEBAQEBAQEBAQEBAQEBAQEBAQEBAQEBAQEBAQEBAQEBAQEBAQEBAQEBAQEBAQEBAQEBAQEBAQEBAQEBAQEBAQEBAQEBAQEBAQEBAQEBAQEBAQEBAQEBAQEBAQEBAQEBAQEBAQEBAQEBAQEBAQEBAQEBAQEBAQEBAQEBAQEBAQEBAQEBAQEBAQEBAQEBAQEBAQEBAQEBAQEBAQEBAQEBAQEBAQEBAQEBAQEBAQEBAQEBAQEBAQEBAQEBAQEBAQEBAQEBAQEBAQEBAQEBAQEBAQEBAQEBAQEBAQEBAQEBAQEBAQEBAQEBAQEBAQEBAQEBAQEBAQEBAQEBAQEBAQEBAQEBAQEBAQEBAQEBAQEBAQEBAQEBAQEBAQEBAQEBAQEBAQEBAQEBAQEBAQEBAQEBAQEBAQEBAQEBAQEBAQEBAQEBAQEBAQEBAQEBAQEBAQEBAQEBAQEBAQEBAQEBAQEBAQEBAQEBAQEBAQEBAQEBAQEBAQEBAQEBAQEBAQEBAQEBAQEBAQEBAQEBAQEBAQEBAQEBAQEBAQEBAQEBAQEBAQEBAQEBAQEBAQEBAQEBAQEBAQEBAQEBAQEBAQEBAQEBAQEBAQEBAQEBAQEBAQ==",
          "dtype": "i1"
         },
         "x0": " ",
         "xaxis": "x",
         "y": {
          "bdata": "AAAAAAAA8D8AAAAAAAD4PwAAAAAAAPg/AAAAAAAAAEAAAAAAAADwPwAAAAAAAAAAAAAAAAAA8D8AAAAAAAAIQAAAAAAAAAhAAAAAAAAAAAAAAAAAAAAAQAAAAAAAAABAAAAAAAAA+D8AAAAAAAAAAAAAAAAAAPA/AAAAAAAAAAAAAAAAAAAAQAAAAAAAAABAAAAAAAAA+D8AAAAAAAAAAAAAAAAAAPA/AAAAAAAA8D8AAAAAAAAQQAAAAAAAAPA/AAAAAAAAAAAAAAAAAAD4PwAAAAAAAAAAAAAAAAAAAAAAAAAAAAAAAAAAAAAAAPA/AAAAAAAA8D8AAAAAAAAAQAAAAAAAAAAAAAAAAAAA+D8AAAAAAAAAQAAAAAAAAPA/AAAAAAAAAEAAAAAAAADwPwAAAAAAAAAAAAAAAAAACEAAAAAAAADwPwAAAAAAAAAAAAAAAAAA+D8AAAAAAAAAAAAAAAAAAAAAAAAAAAAA8D8AAAAAAAAAAAAAAAAAAABAAAAAAAAA+D8AAAAAAAAAAAAAAAAAAAAAAAAAAAAAAEAAAAAAAAAEQAAAAAAAAARAAAAAAAAACEAAAAAAAADwPwAAAAAAAPA/AAAAAAAACEAAAAAAAADwPwAAAAAAAABAAAAAAAAAAAAAAAAAAAAAAAAAAAAAAABAAAAAAAAAFEAAAAAAAAAAQAAAAAAAAABAAAAAAAAA+D8AAAAAAAAAQAAAAAAAAABAAAAAAAAAAAAAAAAAAADwPwAAAAAAAPg/AAAAAAAAAAAAAAAAAAAAAAAAAAAAAAAAAAAAAAAAAAAAAAAAAAAAAAAAAAAAAPg/AAAAAAAAAAAAAAAAAAAAAAAAAAAAAPA/AAAAAAAAAAAAAAAAAAAEQAAAAAAAAAhAAAAAAAAAAAAAAAAAAAAAQAAAAAAAAAhAAAAAAAAAAEAAAAAAAAAAQAAAAAAAAPA/AAAAAAAA+D8AAAAAAAAAQAAAAAAAAPA/AAAAAAAA8D8AAAAAAAAAAAAAAAAAAABAAAAAAAAAAEAAAAAAAAAAAAAAAAAAAAAAAAAAAAAA8D8AAAAAAADwPwAAAAAAAPA/AAAAAAAACEAAAAAAAAAAQAAAAAAAAPg/AAAAAAAAAEAAAAAAAAAAAGZmZmZmZuY/AAAAAAAA+D9mZmZmZmbmP2ZmZmZmZvY/AAAAAAAAAADNzMzMzMwAQJqZmZmZmdk/AAAAAAAA+D8zMzMzMzP7P5qZmZmZmQFAAAAAAAAA+D+amZmZmZm5PwAAAAAAAOA/ZmZmZmZm5j+amZmZmZm5P5qZmZmZmfk/mpmZmZmZyT/NzMzMzMz0PzMzMzMzM9M/zczMzMzM/D8AAAAAAAAEQM3MzMzMzPw/zczMzMzMBEDNzMzMzMzsv2ZmZmZmZgZAAAAAAAAABEDNzMzMzMwEwAAAAAAAAPi/zczMzMzM7D+amZmZmZnpP5qZmZmZmfE/MzMzMzMzA0AAAAAAAADwvwAAAAAAAAAAZmZmZmZm5r+amZmZmZnpv5qZmZmZmQ1AAAAAAAAAAECamZmZmZnxPwAAAAAAAPg/zczMzMzM9D9mZmZmZmb2PwAAAAAAAAAAAAAAAAAAAAAAAAAAAAAAAAAAAAAAAAAAAAAAAAAAAACamZmZmZn5PwAAAAAAAPA/AAAAAAAAAAAAAAAAAADgPwAAAAAAAPC/AAAAAAAA8D8zMzMzMzPTPwAAAAAAAAAAAAAAAAAA+D8AAAAAAAAAAAAAAAAAAAAAAAAAAAAAAAAAAAAAAAAAAAAAAAAAAAAAAAAAAAAAAAAAAAAAAAAAAAAAAAAAAPA/AAAAAAAAAEAAAAAAAAAAAAAAAAAAAABAAAAAAAAAAEAAAAAAAADgPwAAAAAAAABAAAAAAAAAAAAAAAAAAADwPwAAAAAAAAAAAAAAAAAAAAAAAAAAAADwPzMzMzMzM/M/AAAAAAAAAEAAAAAAAAAAAAAAAAAAAOA/AAAAAAAA4D8AAAAAAAAAQAAAAAAAAAAAAAAAAAAAAAAAAAAAAAAAAAAAAAAAAAAAAAAAAAAA8D8AAAAAAAAAAAAAAAAAAPA/AAAAAAAAAAAAAAAAAAAAAAAAAAAAAAAAZmZmZmZm5j8AAAAAAAAAQAAAAAAAAAAAAAAAAAAAAAAAAAAAAAAAAAAAAAAAAPA/AAAAAAAAAAAAAAAAAAAAAAAAAAAAAAAAZmZmZmZm5j8AAAAAAAAAQAAAAAAAAAAAMzMzMzMz8z8AAAAAAAAAAAAAAAAAAOC/AAAAAAAAAAAAAAAAAAAAAAAAAAAAAABAAAAAAAAA+D8AAAAAAADwPwAAAAAAAADAAAAAAAAACEAAAAAAAAAAAAAAAAAAAAhAAAAAAAAA+D8AAAAAAAAEQAAAAAAAAAAAAAAAAAAAAEAAAAAAAADgPwAAAAAAAPA/AAAAAAAA4D8AAAAAAADwPwAAAAAAAPA/AAAAAAAABEAAAAAAAAAAQAAAAAAAAPA/AAAAAAAAAEAAAAAAAAAAAAAAAAAAAAhAAAAAAAAA8D8zMzMzMzPzPwAAAAAAAOA/AAAAAAAA+D+amZmZmZn5P2ZmZmZmZvY/AAAAAAAAAEAAAAAAAADwPwAAAAAAAPg/AAAAAAAAAEAAAAAAAADwPwAAAAAAAPg/MzMzMzMz8z8AAAAAAAAAAAAAAAAAAAAAAAAAAAAA+D9mZmZmZmb+PwAAAAAAAAAAzczMzMzM9D8AAAAAAAAAQAAAAAAAAARAmpmZmZmZ+T8AAAAAAAAAAAAAAAAAAAhAAAAAAAAA+D8zMzMzMzP7PwAAAAAAAAAAAAAAAAAAAEAAAAAAAAAAQAAAAAAAAARAAAAAAAAAAEAAAAAAAAAEQAAAAAAAAARAAAAAAAAA+D+amZmZmZnxPzMzMzMzM/M/AAAAAAAAAEAAAAAAAAAIQAAAAAAAAPA/AAAAAAAAAAAAAAAAAAAIQDMzMzMzM/s/AAAAAAAABEAAAAAAAADwPwAAAAAAAAhAAAAAAAAAAAAAAAAAAADwPwAAAAAAABBAAAAAAAAAAEAAAAAAAAAAQAAAAAAAAAhAMzMzMzMz8z8AAAAAAAAIQAAAAAAAAPg/AAAAAAAAAAAAAAAAAAAAQM3MzMzMzPQ/AAAAAAAA4D8AAAAAAAAAAAAAAAAAAPg/AAAAAAAA8D8AAAAAAADwPwAAAAAAABBAAAAAAAAA8D8AAAAAAADwPzMzMzMzM/s/AAAAAAAA+D9mZmZmZmb2P5qZmZmZmfE/zczMzMzM/D8AAAAAAAAAAAAAAAAAAABAAAAAAAAABEAAAAAAAADwPzMzMzMzM/M/AAAAAAAAEEAAAAAAAAAAQDMzMzMzM/M/AAAAAAAADEAAAAAAAAD4PwAAAAAAAAhAAAAAAAAAAAAAAAAAAAD4PwAAAAAAAPg/AAAAAAAAAEDNzMzMzMz8P83MzMzMzPw/AAAAAAAAAADNzMzMzMz8P2ZmZmZmZvY/AAAAAAAAEECamZmZmZnxPwAAAAAAAABAMzMzMzMz+z8AAAAAAAAAAAAAAAAAAPg/AAAAAAAABEAAAAAAAAAAQAAAAAAAAPg/AAAAAAAA4D8AAAAAAAD4PwAAAAAAAPg/MzMzMzMz8z8AAAAAAAAIQGZmZmZmZv4/AAAAAAAACEDNzMzMzMz8PwAAAAAAAPA/AAAAAAAA+D8AAAAAAAAAAAAAAAAAAPg/mpmZmZmZ6T8AAAAAAAAAQAAAAAAAAABAAAAAAAAAAAAAAAAAAAAAQAAAAAAAAAAAAAAAAAAA8D8AAAAAAADgPwAAAAAAAAAAMzMzMzMz+z8AAAAAAAD4P83MzMzMzPQ/AAAAAAAAAAAAAAAAAAD4PwAAAAAAAAhAAAAAAAAA+D8AAAAAAAAAAAAAAAAAAAAAAAAAAAAAAAAAAAAAAAAAAAAAAAAAAAAAMzMzMzMzA0AzMzMzMzPTPzMzMzMzM+M/MzMzMzMz8z8zMzMzMzPzPwAAAAAAABBAzczMzMzMBEDNzMzMzMz8P83MzMzMzAhAzczMzMzMBEAAAAAAAAAEQJqZmZmZmdk/MzMzMzMzC0DNzMzMzMzsPwAAAAAAAAAAZmZmZmZm/j8AAAAAAAAAAAAAAAAAAAAAmpmZmZmZAUCamZmZmZnpPwAAAAAAAAAAAAAAAAAAAAAAAAAAAADwP83MzMzMzPw/zczMzMzMDEAAAAAAAAAAAGZmZmZmZvY/MzMzMzMz8z8zMzMzMzPjPwAAAAAAAAAAAAAAAAAAAADNzMzMzMwMQAAAAAAAAAAAAAAAAAAAAECamZmZmZn5P5qZmZmZmek/zczMzMzMBEAAAAAAAAAAAJqZmZmZmQFAAAAAAAAAAAAAAAAAAADwPwAAAAAAAPA/mpmZmZmZuT8AAAAAAADwPwAAAAAAAPA/ZmZmZmZm9j8AAAAAAADgP83MzMzMzARAAAAAAAAAAAAzMzMzMzMLQAAAAAAAAAAAmpmZmZmZ6T8AAAAAAAAQQJqZmZmZmfk/AAAAAAAAAECamZmZmZkJQDMzMzMzM/M/zczMzMzM/D9mZmZmZmb2P83MzMzMzPw/mpmZmZmZuT+amZmZmZkBQDMzMzMzM/M/AAAAAAAAAEAzMzMzMzPjPwAAAAAAAAAAAAAAAAAAAEAAAAAAAAAAAAAAAAAAAABAmpmZmZmZCUBmZmZmZmYWQAAAAAAAAPA/ZmZmZmZmDkBmZmZmZmb2PwAAAAAAAAhAZmZmZmZm9j8AAAAAAAAAQM3MzMzMzOw/ZmZmZmZm/j/NzMzMzMwQQM3MzMzMzAxAmpmZmZmZyT9mZmZmZmb+PwAAAAAAAAAAzczMzMzMAEAzMzMzMzMHQM3MzMzMzARAAAAAAAAAAAAAAAAAAAAAAAAAAAAAAAAAZmZmZmZmBkCamZmZmZn5P5qZmZmZmek/zczMzMzM/D+amZmZmZnJP5qZmZmZmQFAZmZmZmZmBkBmZmZmZmYGQM3MzMzMzPw/MzMzMzMz8z8AAAAAAAAIQAAAAAAAAPA/MzMzMzMz8z8AAAAAAAAAAM3MzMzMzBhAAAAAAAAABECamZmZmZn5P83MzMzMzAxAZmZmZmZm9j8zMzMzMzPjPwAAAAAAAAhAZmZmZmZmBkBmZmZmZmb2PwAAAAAAAAAAMzMzMzMz8z8AAAAAAAAAADMzMzMzMwNAzczMzMzM/D8AAAAAAADwPwAAAAAAAPg/mpmZmZmZuT8AAAAAAADwP5qZmZmZmek/AAAAAAAAAAAAAAAAAAAIQAAAAAAAAABAAAAAAAAAAACamZmZmZkRQGZmZmZmZgZAmpmZmZmZ6T9mZmZmZmYGQAAAAAAAABBAAAAAAAAAAAAAAAAAAADwP5qZmZmZmck/MzMzMzMz8z8zMzMzMzMLQDMzMzMzM/M/AAAAAAAAAAA=",
          "dtype": "f8"
         },
         "y0": " ",
         "yaxis": "y"
        }
       ],
       "layout": {
        "boxmode": "overlay",
        "legend": {
         "title": {
          "text": "KHK"
         },
         "tracegroupgap": 0
        },
        "template": {
         "data": {
          "bar": [
           {
            "error_x": {
             "color": "#2a3f5f"
            },
            "error_y": {
             "color": "#2a3f5f"
            },
            "marker": {
             "line": {
              "color": "white",
              "width": 0.5
             },
             "pattern": {
              "fillmode": "overlay",
              "size": 10,
              "solidity": 0.2
             }
            },
            "type": "bar"
           }
          ],
          "barpolar": [
           {
            "marker": {
             "line": {
              "color": "white",
              "width": 0.5
             },
             "pattern": {
              "fillmode": "overlay",
              "size": 10,
              "solidity": 0.2
             }
            },
            "type": "barpolar"
           }
          ],
          "carpet": [
           {
            "aaxis": {
             "endlinecolor": "#2a3f5f",
             "gridcolor": "#C8D4E3",
             "linecolor": "#C8D4E3",
             "minorgridcolor": "#C8D4E3",
             "startlinecolor": "#2a3f5f"
            },
            "baxis": {
             "endlinecolor": "#2a3f5f",
             "gridcolor": "#C8D4E3",
             "linecolor": "#C8D4E3",
             "minorgridcolor": "#C8D4E3",
             "startlinecolor": "#2a3f5f"
            },
            "type": "carpet"
           }
          ],
          "choropleth": [
           {
            "colorbar": {
             "outlinewidth": 0,
             "ticks": ""
            },
            "type": "choropleth"
           }
          ],
          "contour": [
           {
            "colorbar": {
             "outlinewidth": 0,
             "ticks": ""
            },
            "colorscale": [
             [
              0,
              "#0d0887"
             ],
             [
              0.1111111111111111,
              "#46039f"
             ],
             [
              0.2222222222222222,
              "#7201a8"
             ],
             [
              0.3333333333333333,
              "#9c179e"
             ],
             [
              0.4444444444444444,
              "#bd3786"
             ],
             [
              0.5555555555555556,
              "#d8576b"
             ],
             [
              0.6666666666666666,
              "#ed7953"
             ],
             [
              0.7777777777777778,
              "#fb9f3a"
             ],
             [
              0.8888888888888888,
              "#fdca26"
             ],
             [
              1,
              "#f0f921"
             ]
            ],
            "type": "contour"
           }
          ],
          "contourcarpet": [
           {
            "colorbar": {
             "outlinewidth": 0,
             "ticks": ""
            },
            "type": "contourcarpet"
           }
          ],
          "heatmap": [
           {
            "colorbar": {
             "outlinewidth": 0,
             "ticks": ""
            },
            "colorscale": [
             [
              0,
              "#0d0887"
             ],
             [
              0.1111111111111111,
              "#46039f"
             ],
             [
              0.2222222222222222,
              "#7201a8"
             ],
             [
              0.3333333333333333,
              "#9c179e"
             ],
             [
              0.4444444444444444,
              "#bd3786"
             ],
             [
              0.5555555555555556,
              "#d8576b"
             ],
             [
              0.6666666666666666,
              "#ed7953"
             ],
             [
              0.7777777777777778,
              "#fb9f3a"
             ],
             [
              0.8888888888888888,
              "#fdca26"
             ],
             [
              1,
              "#f0f921"
             ]
            ],
            "type": "heatmap"
           }
          ],
          "histogram": [
           {
            "marker": {
             "pattern": {
              "fillmode": "overlay",
              "size": 10,
              "solidity": 0.2
             }
            },
            "type": "histogram"
           }
          ],
          "histogram2d": [
           {
            "colorbar": {
             "outlinewidth": 0,
             "ticks": ""
            },
            "colorscale": [
             [
              0,
              "#0d0887"
             ],
             [
              0.1111111111111111,
              "#46039f"
             ],
             [
              0.2222222222222222,
              "#7201a8"
             ],
             [
              0.3333333333333333,
              "#9c179e"
             ],
             [
              0.4444444444444444,
              "#bd3786"
             ],
             [
              0.5555555555555556,
              "#d8576b"
             ],
             [
              0.6666666666666666,
              "#ed7953"
             ],
             [
              0.7777777777777778,
              "#fb9f3a"
             ],
             [
              0.8888888888888888,
              "#fdca26"
             ],
             [
              1,
              "#f0f921"
             ]
            ],
            "type": "histogram2d"
           }
          ],
          "histogram2dcontour": [
           {
            "colorbar": {
             "outlinewidth": 0,
             "ticks": ""
            },
            "colorscale": [
             [
              0,
              "#0d0887"
             ],
             [
              0.1111111111111111,
              "#46039f"
             ],
             [
              0.2222222222222222,
              "#7201a8"
             ],
             [
              0.3333333333333333,
              "#9c179e"
             ],
             [
              0.4444444444444444,
              "#bd3786"
             ],
             [
              0.5555555555555556,
              "#d8576b"
             ],
             [
              0.6666666666666666,
              "#ed7953"
             ],
             [
              0.7777777777777778,
              "#fb9f3a"
             ],
             [
              0.8888888888888888,
              "#fdca26"
             ],
             [
              1,
              "#f0f921"
             ]
            ],
            "type": "histogram2dcontour"
           }
          ],
          "mesh3d": [
           {
            "colorbar": {
             "outlinewidth": 0,
             "ticks": ""
            },
            "type": "mesh3d"
           }
          ],
          "parcoords": [
           {
            "line": {
             "colorbar": {
              "outlinewidth": 0,
              "ticks": ""
             }
            },
            "type": "parcoords"
           }
          ],
          "pie": [
           {
            "automargin": true,
            "type": "pie"
           }
          ],
          "scatter": [
           {
            "fillpattern": {
             "fillmode": "overlay",
             "size": 10,
             "solidity": 0.2
            },
            "type": "scatter"
           }
          ],
          "scatter3d": [
           {
            "line": {
             "colorbar": {
              "outlinewidth": 0,
              "ticks": ""
             }
            },
            "marker": {
             "colorbar": {
              "outlinewidth": 0,
              "ticks": ""
             }
            },
            "type": "scatter3d"
           }
          ],
          "scattercarpet": [
           {
            "marker": {
             "colorbar": {
              "outlinewidth": 0,
              "ticks": ""
             }
            },
            "type": "scattercarpet"
           }
          ],
          "scattergeo": [
           {
            "marker": {
             "colorbar": {
              "outlinewidth": 0,
              "ticks": ""
             }
            },
            "type": "scattergeo"
           }
          ],
          "scattergl": [
           {
            "marker": {
             "colorbar": {
              "outlinewidth": 0,
              "ticks": ""
             }
            },
            "type": "scattergl"
           }
          ],
          "scattermap": [
           {
            "marker": {
             "colorbar": {
              "outlinewidth": 0,
              "ticks": ""
             }
            },
            "type": "scattermap"
           }
          ],
          "scattermapbox": [
           {
            "marker": {
             "colorbar": {
              "outlinewidth": 0,
              "ticks": ""
             }
            },
            "type": "scattermapbox"
           }
          ],
          "scatterpolar": [
           {
            "marker": {
             "colorbar": {
              "outlinewidth": 0,
              "ticks": ""
             }
            },
            "type": "scatterpolar"
           }
          ],
          "scatterpolargl": [
           {
            "marker": {
             "colorbar": {
              "outlinewidth": 0,
              "ticks": ""
             }
            },
            "type": "scatterpolargl"
           }
          ],
          "scatterternary": [
           {
            "marker": {
             "colorbar": {
              "outlinewidth": 0,
              "ticks": ""
             }
            },
            "type": "scatterternary"
           }
          ],
          "surface": [
           {
            "colorbar": {
             "outlinewidth": 0,
             "ticks": ""
            },
            "colorscale": [
             [
              0,
              "#0d0887"
             ],
             [
              0.1111111111111111,
              "#46039f"
             ],
             [
              0.2222222222222222,
              "#7201a8"
             ],
             [
              0.3333333333333333,
              "#9c179e"
             ],
             [
              0.4444444444444444,
              "#bd3786"
             ],
             [
              0.5555555555555556,
              "#d8576b"
             ],
             [
              0.6666666666666666,
              "#ed7953"
             ],
             [
              0.7777777777777778,
              "#fb9f3a"
             ],
             [
              0.8888888888888888,
              "#fdca26"
             ],
             [
              1,
              "#f0f921"
             ]
            ],
            "type": "surface"
           }
          ],
          "table": [
           {
            "cells": {
             "fill": {
              "color": "#EBF0F8"
             },
             "line": {
              "color": "white"
             }
            },
            "header": {
             "fill": {
              "color": "#C8D4E3"
             },
             "line": {
              "color": "white"
             }
            },
            "type": "table"
           }
          ]
         },
         "layout": {
          "annotationdefaults": {
           "arrowcolor": "#2a3f5f",
           "arrowhead": 0,
           "arrowwidth": 1
          },
          "autotypenumbers": "strict",
          "coloraxis": {
           "colorbar": {
            "outlinewidth": 0,
            "ticks": ""
           }
          },
          "colorscale": {
           "diverging": [
            [
             0,
             "#8e0152"
            ],
            [
             0.1,
             "#c51b7d"
            ],
            [
             0.2,
             "#de77ae"
            ],
            [
             0.3,
             "#f1b6da"
            ],
            [
             0.4,
             "#fde0ef"
            ],
            [
             0.5,
             "#f7f7f7"
            ],
            [
             0.6,
             "#e6f5d0"
            ],
            [
             0.7,
             "#b8e186"
            ],
            [
             0.8,
             "#7fbc41"
            ],
            [
             0.9,
             "#4d9221"
            ],
            [
             1,
             "#276419"
            ]
           ],
           "sequential": [
            [
             0,
             "#0d0887"
            ],
            [
             0.1111111111111111,
             "#46039f"
            ],
            [
             0.2222222222222222,
             "#7201a8"
            ],
            [
             0.3333333333333333,
             "#9c179e"
            ],
            [
             0.4444444444444444,
             "#bd3786"
            ],
            [
             0.5555555555555556,
             "#d8576b"
            ],
            [
             0.6666666666666666,
             "#ed7953"
            ],
            [
             0.7777777777777778,
             "#fb9f3a"
            ],
            [
             0.8888888888888888,
             "#fdca26"
            ],
            [
             1,
             "#f0f921"
            ]
           ],
           "sequentialminus": [
            [
             0,
             "#0d0887"
            ],
            [
             0.1111111111111111,
             "#46039f"
            ],
            [
             0.2222222222222222,
             "#7201a8"
            ],
            [
             0.3333333333333333,
             "#9c179e"
            ],
            [
             0.4444444444444444,
             "#bd3786"
            ],
            [
             0.5555555555555556,
             "#d8576b"
            ],
            [
             0.6666666666666666,
             "#ed7953"
            ],
            [
             0.7777777777777778,
             "#fb9f3a"
            ],
            [
             0.8888888888888888,
             "#fdca26"
            ],
            [
             1,
             "#f0f921"
            ]
           ]
          },
          "colorway": [
           "#636efa",
           "#EF553B",
           "#00cc96",
           "#ab63fa",
           "#FFA15A",
           "#19d3f3",
           "#FF6692",
           "#B6E880",
           "#FF97FF",
           "#FECB52"
          ],
          "font": {
           "color": "#2a3f5f"
          },
          "geo": {
           "bgcolor": "white",
           "lakecolor": "white",
           "landcolor": "white",
           "showlakes": true,
           "showland": true,
           "subunitcolor": "#C8D4E3"
          },
          "hoverlabel": {
           "align": "left"
          },
          "hovermode": "closest",
          "mapbox": {
           "style": "light"
          },
          "paper_bgcolor": "white",
          "plot_bgcolor": "white",
          "polar": {
           "angularaxis": {
            "gridcolor": "#EBF0F8",
            "linecolor": "#EBF0F8",
            "ticks": ""
           },
           "bgcolor": "white",
           "radialaxis": {
            "gridcolor": "#EBF0F8",
            "linecolor": "#EBF0F8",
            "ticks": ""
           }
          },
          "scene": {
           "xaxis": {
            "backgroundcolor": "white",
            "gridcolor": "#DFE8F3",
            "gridwidth": 2,
            "linecolor": "#EBF0F8",
            "showbackground": true,
            "ticks": "",
            "zerolinecolor": "#EBF0F8"
           },
           "yaxis": {
            "backgroundcolor": "white",
            "gridcolor": "#DFE8F3",
            "gridwidth": 2,
            "linecolor": "#EBF0F8",
            "showbackground": true,
            "ticks": "",
            "zerolinecolor": "#EBF0F8"
           },
           "zaxis": {
            "backgroundcolor": "white",
            "gridcolor": "#DFE8F3",
            "gridwidth": 2,
            "linecolor": "#EBF0F8",
            "showbackground": true,
            "ticks": "",
            "zerolinecolor": "#EBF0F8"
           }
          },
          "shapedefaults": {
           "line": {
            "color": "#2a3f5f"
           }
          },
          "ternary": {
           "aaxis": {
            "gridcolor": "#DFE8F3",
            "linecolor": "#A2B1C6",
            "ticks": ""
           },
           "baxis": {
            "gridcolor": "#DFE8F3",
            "linecolor": "#A2B1C6",
            "ticks": ""
           },
           "bgcolor": "white",
           "caxis": {
            "gridcolor": "#DFE8F3",
            "linecolor": "#A2B1C6",
            "ticks": ""
           }
          },
          "title": {
           "x": 0.05
          },
          "xaxis": {
           "automargin": true,
           "gridcolor": "#EBF0F8",
           "linecolor": "#EBF0F8",
           "ticks": "",
           "title": {
            "standoff": 15
           },
           "zerolinecolor": "#EBF0F8",
           "zerolinewidth": 2
          },
          "yaxis": {
           "automargin": true,
           "gridcolor": "#EBF0F8",
           "linecolor": "#EBF0F8",
           "ticks": "",
           "title": {
            "standoff": 15
           },
           "zerolinecolor": "#EBF0F8",
           "zerolinewidth": 2
          }
         }
        },
        "title": {
         "text": "RZ by CHD class"
        },
        "xaxis": {
         "anchor": "y",
         "categoryarray": [
          0,
          1
         ],
         "categoryorder": "array",
         "domain": [
          0,
          1
         ],
         "title": {
          "text": "CHD (0 = No, 1 = Yes)"
         }
        },
        "yaxis": {
         "anchor": "x",
         "domain": [
          0,
          1
         ],
         "title": {
          "text": "RZ"
         }
        }
       }
      }
     },
     "metadata": {},
     "output_type": "display_data"
    }
   ],
   "source": [
    "numerical_cols_khk = [\n",
    "    col for col in numerical_cols\n",
    "    if df[col].nunique() > 2 and col != \"KHK\" and col != \"Blutzucker\"\n",
    "]\n",
    "\n",
    "for col in numerical_cols_khk:\n",
    "    df_plot = df.copy()\n",
    "\n",
    "    # For the Chol column: exclude values with 0\n",
    "    if col == \"Chol\":\n",
    "        df_plot = df_plot[df_plot[\"Chol\"] != 0]\n",
    "\n",
    "    fig = px.box(df_plot, x=\"KHK\", y=col, color=\"KHK\",\n",
    "                 title=f\"{col} by CHD class\", template=\"plotly_white\", points=\"all\")\n",
    "    fig.update_layout(xaxis_title=\"CHD (0 = No, 1 = Yes)\", yaxis_title=col)\n",
    "    fig.show()"
   ]
  },
  {
   "cell_type": "markdown",
   "metadata": {},
   "source": [
    "## 2. PCA-Dimensionsreduzierung zur Visualisierung und Analyse der Daten "
   ]
  },
  {
   "cell_type": "markdown",
   "metadata": {},
   "source": [
    "### Funktionsweise von PCA\n",
    "Die Hauptkomponentenanalyse (PCA) dient der Dimensionsreduktion eines Datensatzes. Dies ermöglicht beispielsweise verschiedene Analyse des gesamten Datensatzes (mit mehr als 3 Dimensionen), wobei die Ergebnisse durch die Dimensionsreduktion weiterhin visualisiert werden können.\n",
    "Das Verfahren der PCA läuft nach folgendem Schema ab:\n",
    "\n",
    "1. Berechnung des Mittelwerts und Zentrierung der Daten\n",
    "2. Berechnung der Kovarianzmatrix\n",
    "3. Berechnung der Eigenwerte und Eigenvektoren\n",
    "4. Transformation der Daten\n",
    "\n",
    "Damit die PCA korrekt funktioniert, muss zunächst von jeder Dimension der Mittelwert subtrahiert werden. Dieser Mittelwert entspricht dem Durchschnittswert jeder Dimension. Beispielsweise wird von allen $x$-Werten der Mittelwert $\\overline{x}$ subtrahiert. Entsprechendes gilt für die anderen Dimensionen der Daten. Dadurch entsteht ein Datensatz mit einem Mittelwert von null.\n",
    "\n",
    "Im nächsten Schritt wird die Kovarianzmatrix berechnet, welche die wechselseitigen Zusammenhänge zwischen den Merkmalen quantifiziert. Falls zwei Merkmale stark korrelieren, können diese in einer neuen Achse kombiniert werden.\n",
    "\n",
    "Anschließend werden die Eigenwerte und Eigenvektoren der Kovarianzmatrix bestimmt. Die Eigenvektoren definieren die Richtungen der Hauptkomponenten, während die zugehörigen Eigenwerte die Bedeutung bzw. die Varianz der jeweiligen Eigenvektoren widerspiegeln.\n",
    "\n",
    "Es folgt die eigentliche Dimensionsreduktion, indem nur diejenigen Eigenvektoren mit den größten Eigenwerten ausgewählt werden. Diese Eigenvektoren entsprechen den neuen Hauptachsen des Datensatzes.\n",
    "\n",
    "Schließlich werden die Daten transformiert, indem die ursprüngliche Datenmatrix mit der Matrix der Eigenvektoren multipliziert wird. In dieser Matrix repräsentiert jede Spalte einen Eigenvektor.\n",
    "\n"
   ]
  },
  {
   "cell_type": "code",
   "execution_count": 15,
   "metadata": {},
   "outputs": [
    {
     "name": "stdout",
     "output_type": "stream",
     "text": [
      "   Alter  Geschlecht  Blutdruck  Chol  Blutzucker  EKG  HFmax  AP   RZ  KHK\n",
      "0     40           1        140   289           0    1    172   0  0.0    0\n",
      "1     49           0        160   180           0    1    156   0  1.0    1\n",
      "2     37           1        130   283           0    2     98   0  0.0    0\n",
      "3     48           0        138   214           0    1    108   1  1.5    1\n",
      "4     54           1        150   195           0    1    122   0  0.0    0\n"
     ]
    }
   ],
   "source": [
    "label_encoder = LabelEncoder()\n",
    "categorical_columns = ['Geschlecht', 'EKG', 'AP']\n",
    "\n",
    "for col in categorical_columns:\n",
    "    # Encode categorical columns\n",
    "    data[col] = label_encoder.fit_transform(data[col])\n",
    "\n",
    "print(data.head())\n"
   ]
  },
  {
   "cell_type": "code",
   "execution_count": 16,
   "metadata": {},
   "outputs": [
    {
     "data": {
      "application/vnd.plotly.v1+json": {
       "config": {
        "plotlyServerURL": "https://plot.ly"
       },
       "data": [
        {
         "hovertemplate": "PC1=%{x}<br>PC2=%{y}<extra></extra>",
         "legendgroup": "",
         "marker": {
          "color": "#636efa",
          "opacity": 0.5,
          "symbol": "circle"
         },
         "mode": "markers",
         "name": "",
         "orientation": "v",
         "showlegend": false,
         "type": "scatter",
         "x": {
          "bdata": "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",
          "dtype": "f8"
         },
         "xaxis": "x",
         "y": {
          "bdata": "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",
          "dtype": "f8"
         },
         "yaxis": "y"
        }
       ],
       "layout": {
        "legend": {
         "tracegroupgap": 0
        },
        "template": {
         "data": {
          "bar": [
           {
            "error_x": {
             "color": "#2a3f5f"
            },
            "error_y": {
             "color": "#2a3f5f"
            },
            "marker": {
             "line": {
              "color": "#E5ECF6",
              "width": 0.5
             },
             "pattern": {
              "fillmode": "overlay",
              "size": 10,
              "solidity": 0.2
             }
            },
            "type": "bar"
           }
          ],
          "barpolar": [
           {
            "marker": {
             "line": {
              "color": "#E5ECF6",
              "width": 0.5
             },
             "pattern": {
              "fillmode": "overlay",
              "size": 10,
              "solidity": 0.2
             }
            },
            "type": "barpolar"
           }
          ],
          "carpet": [
           {
            "aaxis": {
             "endlinecolor": "#2a3f5f",
             "gridcolor": "white",
             "linecolor": "white",
             "minorgridcolor": "white",
             "startlinecolor": "#2a3f5f"
            },
            "baxis": {
             "endlinecolor": "#2a3f5f",
             "gridcolor": "white",
             "linecolor": "white",
             "minorgridcolor": "white",
             "startlinecolor": "#2a3f5f"
            },
            "type": "carpet"
           }
          ],
          "choropleth": [
           {
            "colorbar": {
             "outlinewidth": 0,
             "ticks": ""
            },
            "type": "choropleth"
           }
          ],
          "contour": [
           {
            "colorbar": {
             "outlinewidth": 0,
             "ticks": ""
            },
            "colorscale": [
             [
              0,
              "#0d0887"
             ],
             [
              0.1111111111111111,
              "#46039f"
             ],
             [
              0.2222222222222222,
              "#7201a8"
             ],
             [
              0.3333333333333333,
              "#9c179e"
             ],
             [
              0.4444444444444444,
              "#bd3786"
             ],
             [
              0.5555555555555556,
              "#d8576b"
             ],
             [
              0.6666666666666666,
              "#ed7953"
             ],
             [
              0.7777777777777778,
              "#fb9f3a"
             ],
             [
              0.8888888888888888,
              "#fdca26"
             ],
             [
              1,
              "#f0f921"
             ]
            ],
            "type": "contour"
           }
          ],
          "contourcarpet": [
           {
            "colorbar": {
             "outlinewidth": 0,
             "ticks": ""
            },
            "type": "contourcarpet"
           }
          ],
          "heatmap": [
           {
            "colorbar": {
             "outlinewidth": 0,
             "ticks": ""
            },
            "colorscale": [
             [
              0,
              "#0d0887"
             ],
             [
              0.1111111111111111,
              "#46039f"
             ],
             [
              0.2222222222222222,
              "#7201a8"
             ],
             [
              0.3333333333333333,
              "#9c179e"
             ],
             [
              0.4444444444444444,
              "#bd3786"
             ],
             [
              0.5555555555555556,
              "#d8576b"
             ],
             [
              0.6666666666666666,
              "#ed7953"
             ],
             [
              0.7777777777777778,
              "#fb9f3a"
             ],
             [
              0.8888888888888888,
              "#fdca26"
             ],
             [
              1,
              "#f0f921"
             ]
            ],
            "type": "heatmap"
           }
          ],
          "histogram": [
           {
            "marker": {
             "pattern": {
              "fillmode": "overlay",
              "size": 10,
              "solidity": 0.2
             }
            },
            "type": "histogram"
           }
          ],
          "histogram2d": [
           {
            "colorbar": {
             "outlinewidth": 0,
             "ticks": ""
            },
            "colorscale": [
             [
              0,
              "#0d0887"
             ],
             [
              0.1111111111111111,
              "#46039f"
             ],
             [
              0.2222222222222222,
              "#7201a8"
             ],
             [
              0.3333333333333333,
              "#9c179e"
             ],
             [
              0.4444444444444444,
              "#bd3786"
             ],
             [
              0.5555555555555556,
              "#d8576b"
             ],
             [
              0.6666666666666666,
              "#ed7953"
             ],
             [
              0.7777777777777778,
              "#fb9f3a"
             ],
             [
              0.8888888888888888,
              "#fdca26"
             ],
             [
              1,
              "#f0f921"
             ]
            ],
            "type": "histogram2d"
           }
          ],
          "histogram2dcontour": [
           {
            "colorbar": {
             "outlinewidth": 0,
             "ticks": ""
            },
            "colorscale": [
             [
              0,
              "#0d0887"
             ],
             [
              0.1111111111111111,
              "#46039f"
             ],
             [
              0.2222222222222222,
              "#7201a8"
             ],
             [
              0.3333333333333333,
              "#9c179e"
             ],
             [
              0.4444444444444444,
              "#bd3786"
             ],
             [
              0.5555555555555556,
              "#d8576b"
             ],
             [
              0.6666666666666666,
              "#ed7953"
             ],
             [
              0.7777777777777778,
              "#fb9f3a"
             ],
             [
              0.8888888888888888,
              "#fdca26"
             ],
             [
              1,
              "#f0f921"
             ]
            ],
            "type": "histogram2dcontour"
           }
          ],
          "mesh3d": [
           {
            "colorbar": {
             "outlinewidth": 0,
             "ticks": ""
            },
            "type": "mesh3d"
           }
          ],
          "parcoords": [
           {
            "line": {
             "colorbar": {
              "outlinewidth": 0,
              "ticks": ""
             }
            },
            "type": "parcoords"
           }
          ],
          "pie": [
           {
            "automargin": true,
            "type": "pie"
           }
          ],
          "scatter": [
           {
            "fillpattern": {
             "fillmode": "overlay",
             "size": 10,
             "solidity": 0.2
            },
            "type": "scatter"
           }
          ],
          "scatter3d": [
           {
            "line": {
             "colorbar": {
              "outlinewidth": 0,
              "ticks": ""
             }
            },
            "marker": {
             "colorbar": {
              "outlinewidth": 0,
              "ticks": ""
             }
            },
            "type": "scatter3d"
           }
          ],
          "scattercarpet": [
           {
            "marker": {
             "colorbar": {
              "outlinewidth": 0,
              "ticks": ""
             }
            },
            "type": "scattercarpet"
           }
          ],
          "scattergeo": [
           {
            "marker": {
             "colorbar": {
              "outlinewidth": 0,
              "ticks": ""
             }
            },
            "type": "scattergeo"
           }
          ],
          "scattergl": [
           {
            "marker": {
             "colorbar": {
              "outlinewidth": 0,
              "ticks": ""
             }
            },
            "type": "scattergl"
           }
          ],
          "scattermap": [
           {
            "marker": {
             "colorbar": {
              "outlinewidth": 0,
              "ticks": ""
             }
            },
            "type": "scattermap"
           }
          ],
          "scattermapbox": [
           {
            "marker": {
             "colorbar": {
              "outlinewidth": 0,
              "ticks": ""
             }
            },
            "type": "scattermapbox"
           }
          ],
          "scatterpolar": [
           {
            "marker": {
             "colorbar": {
              "outlinewidth": 0,
              "ticks": ""
             }
            },
            "type": "scatterpolar"
           }
          ],
          "scatterpolargl": [
           {
            "marker": {
             "colorbar": {
              "outlinewidth": 0,
              "ticks": ""
             }
            },
            "type": "scatterpolargl"
           }
          ],
          "scatterternary": [
           {
            "marker": {
             "colorbar": {
              "outlinewidth": 0,
              "ticks": ""
             }
            },
            "type": "scatterternary"
           }
          ],
          "surface": [
           {
            "colorbar": {
             "outlinewidth": 0,
             "ticks": ""
            },
            "colorscale": [
             [
              0,
              "#0d0887"
             ],
             [
              0.1111111111111111,
              "#46039f"
             ],
             [
              0.2222222222222222,
              "#7201a8"
             ],
             [
              0.3333333333333333,
              "#9c179e"
             ],
             [
              0.4444444444444444,
              "#bd3786"
             ],
             [
              0.5555555555555556,
              "#d8576b"
             ],
             [
              0.6666666666666666,
              "#ed7953"
             ],
             [
              0.7777777777777778,
              "#fb9f3a"
             ],
             [
              0.8888888888888888,
              "#fdca26"
             ],
             [
              1,
              "#f0f921"
             ]
            ],
            "type": "surface"
           }
          ],
          "table": [
           {
            "cells": {
             "fill": {
              "color": "#EBF0F8"
             },
             "line": {
              "color": "white"
             }
            },
            "header": {
             "fill": {
              "color": "#C8D4E3"
             },
             "line": {
              "color": "white"
             }
            },
            "type": "table"
           }
          ]
         },
         "layout": {
          "annotationdefaults": {
           "arrowcolor": "#2a3f5f",
           "arrowhead": 0,
           "arrowwidth": 1
          },
          "autotypenumbers": "strict",
          "coloraxis": {
           "colorbar": {
            "outlinewidth": 0,
            "ticks": ""
           }
          },
          "colorscale": {
           "diverging": [
            [
             0,
             "#8e0152"
            ],
            [
             0.1,
             "#c51b7d"
            ],
            [
             0.2,
             "#de77ae"
            ],
            [
             0.3,
             "#f1b6da"
            ],
            [
             0.4,
             "#fde0ef"
            ],
            [
             0.5,
             "#f7f7f7"
            ],
            [
             0.6,
             "#e6f5d0"
            ],
            [
             0.7,
             "#b8e186"
            ],
            [
             0.8,
             "#7fbc41"
            ],
            [
             0.9,
             "#4d9221"
            ],
            [
             1,
             "#276419"
            ]
           ],
           "sequential": [
            [
             0,
             "#0d0887"
            ],
            [
             0.1111111111111111,
             "#46039f"
            ],
            [
             0.2222222222222222,
             "#7201a8"
            ],
            [
             0.3333333333333333,
             "#9c179e"
            ],
            [
             0.4444444444444444,
             "#bd3786"
            ],
            [
             0.5555555555555556,
             "#d8576b"
            ],
            [
             0.6666666666666666,
             "#ed7953"
            ],
            [
             0.7777777777777778,
             "#fb9f3a"
            ],
            [
             0.8888888888888888,
             "#fdca26"
            ],
            [
             1,
             "#f0f921"
            ]
           ],
           "sequentialminus": [
            [
             0,
             "#0d0887"
            ],
            [
             0.1111111111111111,
             "#46039f"
            ],
            [
             0.2222222222222222,
             "#7201a8"
            ],
            [
             0.3333333333333333,
             "#9c179e"
            ],
            [
             0.4444444444444444,
             "#bd3786"
            ],
            [
             0.5555555555555556,
             "#d8576b"
            ],
            [
             0.6666666666666666,
             "#ed7953"
            ],
            [
             0.7777777777777778,
             "#fb9f3a"
            ],
            [
             0.8888888888888888,
             "#fdca26"
            ],
            [
             1,
             "#f0f921"
            ]
           ]
          },
          "colorway": [
           "#636efa",
           "#EF553B",
           "#00cc96",
           "#ab63fa",
           "#FFA15A",
           "#19d3f3",
           "#FF6692",
           "#B6E880",
           "#FF97FF",
           "#FECB52"
          ],
          "font": {
           "color": "#2a3f5f"
          },
          "geo": {
           "bgcolor": "white",
           "lakecolor": "white",
           "landcolor": "#E5ECF6",
           "showlakes": true,
           "showland": true,
           "subunitcolor": "white"
          },
          "hoverlabel": {
           "align": "left"
          },
          "hovermode": "closest",
          "mapbox": {
           "style": "light"
          },
          "paper_bgcolor": "white",
          "plot_bgcolor": "#E5ECF6",
          "polar": {
           "angularaxis": {
            "gridcolor": "white",
            "linecolor": "white",
            "ticks": ""
           },
           "bgcolor": "#E5ECF6",
           "radialaxis": {
            "gridcolor": "white",
            "linecolor": "white",
            "ticks": ""
           }
          },
          "scene": {
           "xaxis": {
            "backgroundcolor": "#E5ECF6",
            "gridcolor": "white",
            "gridwidth": 2,
            "linecolor": "white",
            "showbackground": true,
            "ticks": "",
            "zerolinecolor": "white"
           },
           "yaxis": {
            "backgroundcolor": "#E5ECF6",
            "gridcolor": "white",
            "gridwidth": 2,
            "linecolor": "white",
            "showbackground": true,
            "ticks": "",
            "zerolinecolor": "white"
           },
           "zaxis": {
            "backgroundcolor": "#E5ECF6",
            "gridcolor": "white",
            "gridwidth": 2,
            "linecolor": "white",
            "showbackground": true,
            "ticks": "",
            "zerolinecolor": "white"
           }
          },
          "shapedefaults": {
           "line": {
            "color": "#2a3f5f"
           }
          },
          "ternary": {
           "aaxis": {
            "gridcolor": "white",
            "linecolor": "white",
            "ticks": ""
           },
           "baxis": {
            "gridcolor": "white",
            "linecolor": "white",
            "ticks": ""
           },
           "bgcolor": "#E5ECF6",
           "caxis": {
            "gridcolor": "white",
            "linecolor": "white",
            "ticks": ""
           }
          },
          "title": {
           "x": 0.05
          },
          "xaxis": {
           "automargin": true,
           "gridcolor": "white",
           "linecolor": "white",
           "ticks": "",
           "title": {
            "standoff": 15
           },
           "zerolinecolor": "white",
           "zerolinewidth": 2
          },
          "yaxis": {
           "automargin": true,
           "gridcolor": "white",
           "linecolor": "white",
           "ticks": "",
           "title": {
            "standoff": 15
           },
           "zerolinecolor": "white",
           "zerolinewidth": 2
          }
         }
        },
        "title": {
         "text": "PCA Visualization of the Data"
        },
        "xaxis": {
         "anchor": "y",
         "domain": [
          0,
          1
         ],
         "title": {
          "text": "PC1"
         }
        },
        "yaxis": {
         "anchor": "x",
         "domain": [
          0,
          1
         ],
         "title": {
          "text": "PC2"
         }
        }
       }
      }
     },
     "metadata": {},
     "output_type": "display_data"
    }
   ],
   "source": [
    "# Remove the target variable \"KHK\" before scaling\n",
    "data_without_target = data.drop(columns=[\"KHK\"], errors=\"ignore\")\n",
    "\n",
    "# Scale the data\n",
    "scaler = StandardScaler()\n",
    "data_scaled = scaler.fit_transform(data_without_target)\n",
    "\n",
    "# PCA transformation with two principal components\n",
    "pca = PCA(n_components=2)\n",
    "pca_result = pca.fit_transform(data_scaled)\n",
    "\n",
    "# Convert the PCA results into a DataFrame\n",
    "df_pca = pd.DataFrame(pca_result, columns=['PC1', 'PC2'])\n",
    "\n",
    "# Interactive visualization\n",
    "fig = px.scatter(df_pca, x='PC1', y='PC2', title='PCA Visualization of the Data', opacity=0.5)\n",
    "fig.show()\n"
   ]
  },
  {
   "cell_type": "code",
   "execution_count": 17,
   "metadata": {},
   "outputs": [
    {
     "data": {
      "application/vnd.plotly.v1+json": {
       "config": {
        "plotlyServerURL": "https://plot.ly"
       },
       "data": [
        {
         "hovertemplate": "KHK=0<br>PC1=%{x}<br>PC2=%{y}<extra></extra>",
         "legendgroup": "0",
         "marker": {
          "color": "blue",
          "opacity": 0.5,
          "size": 5,
          "symbol": "circle"
         },
         "mode": "markers",
         "name": "0",
         "orientation": "v",
         "showlegend": true,
         "type": "scatter",
         "x": {
          "bdata": "eaiMwcYhAEBKyT7xy//jP+POfBJvkMA/xbXlMLUUA0CepGV/GW8DQKY+8R75qvA/KRckusRq+T88WgGWTbIBQFDz5tcIK/o/lQIGQMUw/T8WeRzFSq/1P9F+8Iem0wNAGLjmrhHQAkC4IDPXIljvP0ovN7hDHAFACsN+Qm2u9T8o6pJgcSUCQHS5mKvkQPu/8hk9/b7l5j+bzVKg4oX/P3U0hKwI9O8/hq0D9bRqtj/I2QOfCbn9P9IOIiSxawFAb1xiFyXeAEAZuKLXrjPwP72WX98MG6Q/gsi2QcMg8D8X/tZJQ8f/Pw789f611/E/Fhp4nM8367/22JxryY0BQM5kjf0YBvY/up/sj/pqBEAWF9fwvGa8P/4Qnx/NBQJAkKw6O4bIoj/HjD4s3Pb6PykcUymbcb0/OAaNRJuvAEBHw/kJ7CIDQMnErF5EIfI/OKMP8ay7/j9DSS0Kw8ABQAt0GDuCWwBAH74bxPHLBkBYm3sPdt/+P0MtpSbT6PE/ttkyC/tl9D/Y9aQf29XTPxykLh+q2AFAapGFJWD13L96JkIjGaP3P6vD50s8NfM/JmG/hp+m7D9xsT0AcFTIv4JVeuA1FvC/7oMTQ5wQAkA6ZapKQhb6PzuTkzYSafw/fIEu1VwdBkANHp7vHszwP1dSB+J5fuU/x8kWP13o4D+CTfY4FJf5P/asd7mSjrM/aKG24z6Wkb/ZjK0MGT3xP4xEmJKoofo/wMva2PVQ4T+WtK6myPi2P1sWiaZSMOA/KUF6lg7O5r/lMQLB9Wf7P11xdypXWvQ/Avu22tDnBkBso5TUasj6P+JiJ3xQtvI/bqMenkGk6T+dot46XWPZP4PQ6KnmGAlAZj5A+4yO/T/gcFTs1e7uP8zrTPBjGdI/+QF26f8+9D+bF/FnPhfjv03kzFHbdQNAhvO/Vhe26T/R+Nh+C0zwP/fKHpWBp/o/tg9t2QfL+j/npDNbNC4EQPBCFAo0hvU/khRvdIIH8T8hLsmkmrThP/jyiWvxRvs/BhUTrIzF7j/KHluMx/D7P7stb0gpiOM/BaGEhExx3L+EZ61eYNv2P4d5E4XiO/k/tyd6fTtu9j/4JjGkUF7hP2khITWoIsu/0NUZnHgW6D/JI+sFoZIDQIu5iBfGnAFAZvuJLsP49D/4JwCuql32P7B4K9Jy7+c/BqElWOS2+j8SAj/P7p7sP+lAuKRMp/E/6a2Uu3Aasb98vWihZdXwP6Z1aPLvcLk/D0vmpT0Rxj+QiJ1XbPuPv2wtNO0VoNK/PedUKhGA9z/BbxjEOLzfPyutEFOG/AVAnsz9cgRAxz+X3PwrOcbpP+L/rIZoVPE/JpMqIJU31z8fDV7wVXf5P5IYfE7Cf/c/SOqc2Gtn7D8pUdYjKCkGQDnWuOgipcG/DdZpBQsgy7+zTAEpi5UHQG4rgUMs3gZAiqhn/RXz5L8LLgwTEmD4PyBD17tOowJA4R2lWx7c6j+RxV0dnpPnP7zgLhQ3WgNAbkvsU5Hr9z/odJMet8kGQDE2GKnu69A/zit4+mWc7D8i64oUdp8BQNOJx+I5OwVAQ6fYfCOVAECStIWdlEYAQJiq1PD9fgFAZLnpBpcE+z9aUDLeVKDzPxdnd2h0l+U/FisHwTqf8D+2DwDoxs/7P3iV66Vmf7M/PQPmzvB77r+SI7QdQSXSPxhFKf8oePg/bqutCHeVAUDod8YTm8L8P3eHgKY4Qec/BLCgUU6g/z+sddi+tATmP48JELI1BvM/qs4HYhiI8z/yj2KwTyYCQFm7L01oPPM/uaO4WvoQ9T/LfLS+mUQJQD4qcXdsGvA/tAVF2obHAEABp5iLqkLrv6lXRWeki+i/VnGnORRF+D/jWGTymlvrP4faAgamzdc/6CYW1PgYAEBCSWjb4UUAQBI9D+2kJvY/x2uYeWYV1D/m5uCPbuXmPybz0WwJc/M/mSeBZim/AkCnY5iz2ePzP7ALmlCeRvQ/UJqHv3Bq7D+gVqOhiVFov5OjmA/xW+C/GH5ATCll4r8+bZ6uNJnhv6R47pdi/e4/SAnrk4wSBEBqdo13czT6v3hNxtRz7dy/iKhSLIlE5j+xnl4P5Ir/v9fre9BRKeK/J/R7iigRAsCmc004aQjXP8tisqeIQee/GHSwTZDR8r+KD7oeyvb8v1z/VgDCQvO/6CohRdRp+L/orpXcOGMAwC205GE5S9s/QcIuZSFTwr8yphUl/tP6P++zYCrWVtQ/hDf646gzvr/agxVzu/HRvxBAWaZ2ft4/9k2qAxbC5j/XGnDciK6ZP07eVErCOfO/NZrysiJ6tL/SaIcqUQHRv65kAMo+uYs/uUZLS0m4+T+Lw5x+6n35vylOfswrl9S/XrXEL3tg0T+qqG5jPQz0P4w6czVsGNI/B014FCku1z8vkH45VXXnv1HbA+1t9Og/D/TbECVh8b912VBegwjKv8XU2luaJsm/DSehpg6FCMDlVzhQlSzUP7SYuoKFFNk/Q+ywbCCl6L+UpEDu7fPjvxQUZ3dW3Ke//pOEHvsFAUAXwdDuhQ3Sv7+fPY8zLMI/d94k1y5fyz+ydFLoMj/7v97Ail+uQfK/bf6Gx7oR1j/P3O4vcibKv9Xxj+ACMtE/Rj2CdBLF/T97XTYtB9ryv/ss67kX/dK/Etz2OD+Axz8hZqg4wafnP055kSSDA+C/r9ONPOwSAUC0Cl+2X+IAQPRaIO2c9rC/HG2SPWg947+L8TnHfl7iP35yB6xUSwBAO/CkTZL7/z+p15+RVOz0P8xPtOhQ3eQ/DcO8r2ir+z/AbgI0kiX1P0uLhjAP1AFA7PZCgxir3j+Vo8CD+5vlv5iv3kwh9wZAmqJ39P2l9j/Yt2dZ5icCQDAegeeD1/g/NO733lJC7j92mCKvX0jyP4Lb813HA+I/R8TOubgP8T+E9PIT8nbtPyxiwd9ZJvk/iRCI7YKfBEAcKlxws3oGQKFKpYymy82/KhZjca1Rvz/UXHpBAHn+P+34++9OlfM/pu9qI4E7579+JY8RgGXxPwjZGKxaLAFAhuj747yL8D++zzecKXq3P6eSZ8tG+Om/sK6O5VqJ8T8d/nY6NVFhv2zV6rCj+wlAYeFKhaeDBUCcz6I38Zj0P2KYmRuoZvc//+XFYmjC6b95P0uL72L9PzaqVAvVcbA/YnigllIX8L+Bh0uta2UFQBg7dYEK7Jy/dFOEWXDF6z9VVYwdZjPrP63Hr1c2Tf0/e0yR56OUA0A+z7LQEn0BQInLQkWbkas/rqBFM4hr/j8XE9TQyjT+PzbIZGLQ1Pc/2zKco9gRAECMUDSsm/YAQHj3GuDzjea/2GReyKy48D9iqopNYkj0P9mbQjn88/Y/V77NpKRKAUCcNlWbL+3qP69twuYNgP4/HStHvpGY5z8xoMilNRDqP8YdtGv0evQ/sFMpiqqUCUCNn4dblMnKP48UtmVgk/k/CMkhAJ4/278oS5vED3ACQCdaLN6DBwNAVwz+hxCa+D+ZFGEmr5kEQF2oGZusccM/1aahHuZx/j85CAfwAGEFQH/or3xRrQFAmW2E8Qxm6T9HS7CIg4vxP7CfC6BdWf4/tvEZ5vbKs7+n3t/jBWwEQEjKC0ymN88/TxV0l2+Q9D/mDzFSEtDpv2KCgCiUN8o/j/Q1XzwjBUC36EVHMYT1P4JYrSPTyPk/GpIU8qguAUBuJp1cyjbyP6OCKxkZ6fM/Vgh7M0sM5T/ixZDxMcb3P4wItt4/EuU/8u+8jJ+l+D+ZbSZoPMDzP/OuOjCeH/k/Yoj4Yy+Q9D/vHDoX/Jr3Px7Z+3/3bdE/wOerxZuF0j/Ki+aYi1DcP4vmmW+ZxgBA4aqywdVO2D8B+WPPLvj0P2U/exhiBNc/S5el0URKA0BL0rSl70AKQF7sePMO+gJACUqlM64v/j/NSqUCneHnP3IKuJ8s2PM/NzcT2M6R/j/Tnzo9mvXXP2m2JdlmXANAWnBcXqS+8T9GRA4FgUnrP2Hl3haVHgFAilATRbtwBEDsI1oViRqqvzRIehADSgBAm7rPain6+T9+fmARX9/7Pz0paEdDnQRAI+Vzj6YE/D9c0kSGkrj2P5oCGhvzNuM/QX0W+N8FA0A9El2p+LHhP9e6QzPdquG/LM5xpulf5z9oCspMNmH6v5gj8ThzWfI/I6i767bPAUBrqms8m5H3P/7qsCoEI7a/ltWjXFR0AEBcQfUmBwH3P412AAgy8d0/jHa7iAyY9D8sbfYsiu70P40u/fqkh8U/c+ZG206u9D8KIBtkGc0BQEQIJosAreo/QYiLKl4o/j90Nrf1X3ECQPoBw1S3K+M/YHEwz+QF9j/Cl3OMEVD2P3IdWoMGM/s/n8ynVZgYAUBCtmiN8ZT+Pw==",
          "dtype": "f8"
         },
         "xaxis": "x",
         "y": {
          "bdata": "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",
          "dtype": "f8"
         },
         "yaxis": "y"
        },
        {
         "hovertemplate": "KHK=1<br>PC1=%{x}<br>PC2=%{y}<extra></extra>",
         "legendgroup": "1",
         "marker": {
          "color": "red",
          "opacity": 0.5,
          "size": 5,
          "symbol": "circle"
         },
         "mode": "markers",
         "name": "1",
         "orientation": "v",
         "showlegend": true,
         "type": "scatter",
         "x": {
          "bdata": "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",
          "dtype": "f8"
         },
         "xaxis": "x",
         "y": {
          "bdata": "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",
          "dtype": "f8"
         },
         "yaxis": "y"
        }
       ],
       "layout": {
        "legend": {
         "title": {
          "text": "KHK"
         },
         "tracegroupgap": 0
        },
        "showlegend": true,
        "template": {
         "data": {
          "bar": [
           {
            "error_x": {
             "color": "#2a3f5f"
            },
            "error_y": {
             "color": "#2a3f5f"
            },
            "marker": {
             "line": {
              "color": "#E5ECF6",
              "width": 0.5
             },
             "pattern": {
              "fillmode": "overlay",
              "size": 10,
              "solidity": 0.2
             }
            },
            "type": "bar"
           }
          ],
          "barpolar": [
           {
            "marker": {
             "line": {
              "color": "#E5ECF6",
              "width": 0.5
             },
             "pattern": {
              "fillmode": "overlay",
              "size": 10,
              "solidity": 0.2
             }
            },
            "type": "barpolar"
           }
          ],
          "carpet": [
           {
            "aaxis": {
             "endlinecolor": "#2a3f5f",
             "gridcolor": "white",
             "linecolor": "white",
             "minorgridcolor": "white",
             "startlinecolor": "#2a3f5f"
            },
            "baxis": {
             "endlinecolor": "#2a3f5f",
             "gridcolor": "white",
             "linecolor": "white",
             "minorgridcolor": "white",
             "startlinecolor": "#2a3f5f"
            },
            "type": "carpet"
           }
          ],
          "choropleth": [
           {
            "colorbar": {
             "outlinewidth": 0,
             "ticks": ""
            },
            "type": "choropleth"
           }
          ],
          "contour": [
           {
            "colorbar": {
             "outlinewidth": 0,
             "ticks": ""
            },
            "colorscale": [
             [
              0,
              "#0d0887"
             ],
             [
              0.1111111111111111,
              "#46039f"
             ],
             [
              0.2222222222222222,
              "#7201a8"
             ],
             [
              0.3333333333333333,
              "#9c179e"
             ],
             [
              0.4444444444444444,
              "#bd3786"
             ],
             [
              0.5555555555555556,
              "#d8576b"
             ],
             [
              0.6666666666666666,
              "#ed7953"
             ],
             [
              0.7777777777777778,
              "#fb9f3a"
             ],
             [
              0.8888888888888888,
              "#fdca26"
             ],
             [
              1,
              "#f0f921"
             ]
            ],
            "type": "contour"
           }
          ],
          "contourcarpet": [
           {
            "colorbar": {
             "outlinewidth": 0,
             "ticks": ""
            },
            "type": "contourcarpet"
           }
          ],
          "heatmap": [
           {
            "colorbar": {
             "outlinewidth": 0,
             "ticks": ""
            },
            "colorscale": [
             [
              0,
              "#0d0887"
             ],
             [
              0.1111111111111111,
              "#46039f"
             ],
             [
              0.2222222222222222,
              "#7201a8"
             ],
             [
              0.3333333333333333,
              "#9c179e"
             ],
             [
              0.4444444444444444,
              "#bd3786"
             ],
             [
              0.5555555555555556,
              "#d8576b"
             ],
             [
              0.6666666666666666,
              "#ed7953"
             ],
             [
              0.7777777777777778,
              "#fb9f3a"
             ],
             [
              0.8888888888888888,
              "#fdca26"
             ],
             [
              1,
              "#f0f921"
             ]
            ],
            "type": "heatmap"
           }
          ],
          "histogram": [
           {
            "marker": {
             "pattern": {
              "fillmode": "overlay",
              "size": 10,
              "solidity": 0.2
             }
            },
            "type": "histogram"
           }
          ],
          "histogram2d": [
           {
            "colorbar": {
             "outlinewidth": 0,
             "ticks": ""
            },
            "colorscale": [
             [
              0,
              "#0d0887"
             ],
             [
              0.1111111111111111,
              "#46039f"
             ],
             [
              0.2222222222222222,
              "#7201a8"
             ],
             [
              0.3333333333333333,
              "#9c179e"
             ],
             [
              0.4444444444444444,
              "#bd3786"
             ],
             [
              0.5555555555555556,
              "#d8576b"
             ],
             [
              0.6666666666666666,
              "#ed7953"
             ],
             [
              0.7777777777777778,
              "#fb9f3a"
             ],
             [
              0.8888888888888888,
              "#fdca26"
             ],
             [
              1,
              "#f0f921"
             ]
            ],
            "type": "histogram2d"
           }
          ],
          "histogram2dcontour": [
           {
            "colorbar": {
             "outlinewidth": 0,
             "ticks": ""
            },
            "colorscale": [
             [
              0,
              "#0d0887"
             ],
             [
              0.1111111111111111,
              "#46039f"
             ],
             [
              0.2222222222222222,
              "#7201a8"
             ],
             [
              0.3333333333333333,
              "#9c179e"
             ],
             [
              0.4444444444444444,
              "#bd3786"
             ],
             [
              0.5555555555555556,
              "#d8576b"
             ],
             [
              0.6666666666666666,
              "#ed7953"
             ],
             [
              0.7777777777777778,
              "#fb9f3a"
             ],
             [
              0.8888888888888888,
              "#fdca26"
             ],
             [
              1,
              "#f0f921"
             ]
            ],
            "type": "histogram2dcontour"
           }
          ],
          "mesh3d": [
           {
            "colorbar": {
             "outlinewidth": 0,
             "ticks": ""
            },
            "type": "mesh3d"
           }
          ],
          "parcoords": [
           {
            "line": {
             "colorbar": {
              "outlinewidth": 0,
              "ticks": ""
             }
            },
            "type": "parcoords"
           }
          ],
          "pie": [
           {
            "automargin": true,
            "type": "pie"
           }
          ],
          "scatter": [
           {
            "fillpattern": {
             "fillmode": "overlay",
             "size": 10,
             "solidity": 0.2
            },
            "type": "scatter"
           }
          ],
          "scatter3d": [
           {
            "line": {
             "colorbar": {
              "outlinewidth": 0,
              "ticks": ""
             }
            },
            "marker": {
             "colorbar": {
              "outlinewidth": 0,
              "ticks": ""
             }
            },
            "type": "scatter3d"
           }
          ],
          "scattercarpet": [
           {
            "marker": {
             "colorbar": {
              "outlinewidth": 0,
              "ticks": ""
             }
            },
            "type": "scattercarpet"
           }
          ],
          "scattergeo": [
           {
            "marker": {
             "colorbar": {
              "outlinewidth": 0,
              "ticks": ""
             }
            },
            "type": "scattergeo"
           }
          ],
          "scattergl": [
           {
            "marker": {
             "colorbar": {
              "outlinewidth": 0,
              "ticks": ""
             }
            },
            "type": "scattergl"
           }
          ],
          "scattermap": [
           {
            "marker": {
             "colorbar": {
              "outlinewidth": 0,
              "ticks": ""
             }
            },
            "type": "scattermap"
           }
          ],
          "scattermapbox": [
           {
            "marker": {
             "colorbar": {
              "outlinewidth": 0,
              "ticks": ""
             }
            },
            "type": "scattermapbox"
           }
          ],
          "scatterpolar": [
           {
            "marker": {
             "colorbar": {
              "outlinewidth": 0,
              "ticks": ""
             }
            },
            "type": "scatterpolar"
           }
          ],
          "scatterpolargl": [
           {
            "marker": {
             "colorbar": {
              "outlinewidth": 0,
              "ticks": ""
             }
            },
            "type": "scatterpolargl"
           }
          ],
          "scatterternary": [
           {
            "marker": {
             "colorbar": {
              "outlinewidth": 0,
              "ticks": ""
             }
            },
            "type": "scatterternary"
           }
          ],
          "surface": [
           {
            "colorbar": {
             "outlinewidth": 0,
             "ticks": ""
            },
            "colorscale": [
             [
              0,
              "#0d0887"
             ],
             [
              0.1111111111111111,
              "#46039f"
             ],
             [
              0.2222222222222222,
              "#7201a8"
             ],
             [
              0.3333333333333333,
              "#9c179e"
             ],
             [
              0.4444444444444444,
              "#bd3786"
             ],
             [
              0.5555555555555556,
              "#d8576b"
             ],
             [
              0.6666666666666666,
              "#ed7953"
             ],
             [
              0.7777777777777778,
              "#fb9f3a"
             ],
             [
              0.8888888888888888,
              "#fdca26"
             ],
             [
              1,
              "#f0f921"
             ]
            ],
            "type": "surface"
           }
          ],
          "table": [
           {
            "cells": {
             "fill": {
              "color": "#EBF0F8"
             },
             "line": {
              "color": "white"
             }
            },
            "header": {
             "fill": {
              "color": "#C8D4E3"
             },
             "line": {
              "color": "white"
             }
            },
            "type": "table"
           }
          ]
         },
         "layout": {
          "annotationdefaults": {
           "arrowcolor": "#2a3f5f",
           "arrowhead": 0,
           "arrowwidth": 1
          },
          "autotypenumbers": "strict",
          "coloraxis": {
           "colorbar": {
            "outlinewidth": 0,
            "ticks": ""
           }
          },
          "colorscale": {
           "diverging": [
            [
             0,
             "#8e0152"
            ],
            [
             0.1,
             "#c51b7d"
            ],
            [
             0.2,
             "#de77ae"
            ],
            [
             0.3,
             "#f1b6da"
            ],
            [
             0.4,
             "#fde0ef"
            ],
            [
             0.5,
             "#f7f7f7"
            ],
            [
             0.6,
             "#e6f5d0"
            ],
            [
             0.7,
             "#b8e186"
            ],
            [
             0.8,
             "#7fbc41"
            ],
            [
             0.9,
             "#4d9221"
            ],
            [
             1,
             "#276419"
            ]
           ],
           "sequential": [
            [
             0,
             "#0d0887"
            ],
            [
             0.1111111111111111,
             "#46039f"
            ],
            [
             0.2222222222222222,
             "#7201a8"
            ],
            [
             0.3333333333333333,
             "#9c179e"
            ],
            [
             0.4444444444444444,
             "#bd3786"
            ],
            [
             0.5555555555555556,
             "#d8576b"
            ],
            [
             0.6666666666666666,
             "#ed7953"
            ],
            [
             0.7777777777777778,
             "#fb9f3a"
            ],
            [
             0.8888888888888888,
             "#fdca26"
            ],
            [
             1,
             "#f0f921"
            ]
           ],
           "sequentialminus": [
            [
             0,
             "#0d0887"
            ],
            [
             0.1111111111111111,
             "#46039f"
            ],
            [
             0.2222222222222222,
             "#7201a8"
            ],
            [
             0.3333333333333333,
             "#9c179e"
            ],
            [
             0.4444444444444444,
             "#bd3786"
            ],
            [
             0.5555555555555556,
             "#d8576b"
            ],
            [
             0.6666666666666666,
             "#ed7953"
            ],
            [
             0.7777777777777778,
             "#fb9f3a"
            ],
            [
             0.8888888888888888,
             "#fdca26"
            ],
            [
             1,
             "#f0f921"
            ]
           ]
          },
          "colorway": [
           "#636efa",
           "#EF553B",
           "#00cc96",
           "#ab63fa",
           "#FFA15A",
           "#19d3f3",
           "#FF6692",
           "#B6E880",
           "#FF97FF",
           "#FECB52"
          ],
          "font": {
           "color": "#2a3f5f"
          },
          "geo": {
           "bgcolor": "white",
           "lakecolor": "white",
           "landcolor": "#E5ECF6",
           "showlakes": true,
           "showland": true,
           "subunitcolor": "white"
          },
          "hoverlabel": {
           "align": "left"
          },
          "hovermode": "closest",
          "mapbox": {
           "style": "light"
          },
          "paper_bgcolor": "white",
          "plot_bgcolor": "#E5ECF6",
          "polar": {
           "angularaxis": {
            "gridcolor": "white",
            "linecolor": "white",
            "ticks": ""
           },
           "bgcolor": "#E5ECF6",
           "radialaxis": {
            "gridcolor": "white",
            "linecolor": "white",
            "ticks": ""
           }
          },
          "scene": {
           "xaxis": {
            "backgroundcolor": "#E5ECF6",
            "gridcolor": "white",
            "gridwidth": 2,
            "linecolor": "white",
            "showbackground": true,
            "ticks": "",
            "zerolinecolor": "white"
           },
           "yaxis": {
            "backgroundcolor": "#E5ECF6",
            "gridcolor": "white",
            "gridwidth": 2,
            "linecolor": "white",
            "showbackground": true,
            "ticks": "",
            "zerolinecolor": "white"
           },
           "zaxis": {
            "backgroundcolor": "#E5ECF6",
            "gridcolor": "white",
            "gridwidth": 2,
            "linecolor": "white",
            "showbackground": true,
            "ticks": "",
            "zerolinecolor": "white"
           }
          },
          "shapedefaults": {
           "line": {
            "color": "#2a3f5f"
           }
          },
          "ternary": {
           "aaxis": {
            "gridcolor": "white",
            "linecolor": "white",
            "ticks": ""
           },
           "baxis": {
            "gridcolor": "white",
            "linecolor": "white",
            "ticks": ""
           },
           "bgcolor": "#E5ECF6",
           "caxis": {
            "gridcolor": "white",
            "linecolor": "white",
            "ticks": ""
           }
          },
          "title": {
           "x": 0.05
          },
          "xaxis": {
           "automargin": true,
           "gridcolor": "white",
           "linecolor": "white",
           "ticks": "",
           "title": {
            "standoff": 15
           },
           "zerolinecolor": "white",
           "zerolinewidth": 2
          },
          "yaxis": {
           "automargin": true,
           "gridcolor": "white",
           "linecolor": "white",
           "ticks": "",
           "title": {
            "standoff": 15
           },
           "zerolinecolor": "white",
           "zerolinewidth": 2
          }
         }
        },
        "title": {
         "text": "PCA visualization colored by KHK class"
        },
        "xaxis": {
         "anchor": "y",
         "domain": [
          0,
          1
         ],
         "title": {
          "text": "PC1"
         }
        },
        "yaxis": {
         "anchor": "x",
         "domain": [
          0,
          1
         ],
         "title": {
          "text": "PC2"
         }
        }
       }
      }
     },
     "metadata": {},
     "output_type": "display_data"
    }
   ],
   "source": [
    "target = data[\"KHK\"]\n",
    "df_pca['KHK'] = target\n",
    "\n",
    "df_pca['KHK'] = df_pca['KHK'].astype('category')\n",
    "\n",
    "# Interactive visualization with colors based on KHK (0 = blue, 1 = red)\n",
    "fig = px.scatter(\n",
    "    df_pca,\n",
    "    x='PC1',\n",
    "    y='PC2',\n",
    "    color='KHK',\n",
    "    color_discrete_map={0: 'blue', 1: 'red'},  # Discrete color mapping\n",
    "    title='PCA visualization colored by KHK class',\n",
    "    opacity=0.5\n",
    ")\n",
    "\n",
    "# Adjust marker size and legend settings\n",
    "fig.update_traces(marker=dict(size=5))\n",
    "fig.update_layout(\n",
    "    legend_title_text='KHK',  # Clearly label the legend\n",
    "    showlegend=True           # Ensure the legend is displayed\n",
    ")\n",
    "\n",
    "# Show the plot\n",
    "fig.show()"
   ]
  },
  {
   "cell_type": "markdown",
   "metadata": {},
   "source": [
    "### Lässt sich aus den PCA-Daten eine potentielle gute Separierbarkeit der Klassen ablesen?\n",
    "\n",
    "Die PCA-Darstellung zeigt eine gewisse Tendenz zur Trennung der Klassen:\n",
    "Fälle mit KHK (rot) häufen sich eher im linken Bereich, während Nicht-KHK-Fälle (blau) vermehrt im rechten Bereich liegen.\n",
    "Eine klare, saubere Trennung ist aber nicht möglich, aufgrund starken Überlappungen und Ausreißern.\n",
    "Dies liegt vor allem an der Reduktion der Vielzahl an Attributen auf nur 2 Hauptachsen, wobei dann doch zu viele Informationen bei der Darstellung verloren gehen.\n",
    "Sind die Zusammenhänge von Attributen nicht-linear (wovon man in diesem Datensatz erstmal ausgehen kann), so gehen wichtige Informationen bei der PCA verloren, da die Abbildung auf den niedrigdimensionalen Raum lediglich linear ist (vgl. Skript ML_10_Dimensionsreduktion S.16-17).\n"
   ]
  },
  {
   "cell_type": "markdown",
   "metadata": {},
   "source": [
    "## 3. Anwendung verschiedener vorgestellter Klassifikationsverfahren"
   ]
  },
  {
   "cell_type": "markdown",
   "metadata": {},
   "source": [
    "#### Definition und Datenvorbereitung\n",
    "\n",
    "Zunächst werden die kategorialen und numerischen Merkmale des Datensatzes definiert. Anschließend erfolgt die Vorbereitung der Daten für ein Machine-Learning-Modell. Dazu gehören die Auswahl und Umordnung der Merkmale, die Umwandlung kategorialer Variablen mittels Label-Encoding (vgl. https://kantschants.com/complete-guide-to-encoding-categorical-features), die Standardisierung der numerischen Variablen sowie die Aufteilung in Trainings- und Testdaten."
   ]
  },
  {
   "cell_type": "code",
   "execution_count": 18,
   "metadata": {},
   "outputs": [],
   "source": [
    "# Define categorical and numerical columns\n",
    "categorical_features = [\"Geschlecht\", \"EKG\", \"AP\"]\n",
    "numerical_features = [\"Alter\", \"Blutdruck\", \"Chol\", \"Blutzucker\", \"HFmax\", \"RZ\"]\n",
    "\n",
    "# Select target variable and features\n",
    "X = data[categorical_features + numerical_features].copy()\n",
    "y = data[\"KHK\"]\n",
    "\n",
    "# Reorder features to match the desired order\n",
    "desired_order = [\"Alter\", \"Geschlecht\", \"Blutdruck\", \"Chol\", \"Blutzucker\", \"EKG\", \"HFmax\", \"AP\", \"RZ\"]\n",
    "X = X[desired_order]\n",
    "\n",
    "# Apply Label Encoding to categorical features\n",
    "label_encoders = {}  # Store LabelEncoder objects\n",
    "for col in categorical_features:\n",
    "    label_encoders[col] = LabelEncoder()\n",
    "    X[col] = label_encoders[col].fit_transform(X[col])\n",
    "\n",
    "# Standardize numerical features\n",
    "scaler = StandardScaler()\n",
    "X[numerical_features] = scaler.fit_transform(X[numerical_features])\n",
    "\n",
    "# Train-test split\n",
    "X_train, X_test, y_train, y_test = train_test_split(X, y, test_size=0.3, random_state=42, stratify=y, shuffle=True)\n"
   ]
  },
  {
   "cell_type": "markdown",
   "metadata": {},
   "source": [
    "### 3.1 Logistische Regression\n",
    "Logistische Regression ist ein statistisches Modell, das den natürlichen Logarithmus der Chancen eines Ereignisses als lineare Kombination einer oder mehrerer unabhängiger Variablen modelliert.\n",
    "In der Regressionsanalyse schätzt die logistische Regression die Parameter dieses Modells, typischerweise in Szenarien mit einer binären Zielvariablen (z. B. 0 oder 1) (vgl. https://en.wikipedia.org/wiki/Logistic_regression).\n",
    "\n",
    "Logistische Regression passt gut zu dem Datensatz, da KHK binär ist, der Datensatz gemischte Merkmale enthält und das Modell Wahrscheinlichkeiten für KHK einfach und interpretierbar berechnet."
   ]
  },
  {
   "cell_type": "markdown",
   "metadata": {},
   "source": [
    "#### 3.1.1 Modell definieren und trainieren\n",
    "\n",
    "Das beschriebene logistische Regressionsmodell wird erstellt und mit den Trainingsdaten trainiert, um KHK als binäre Zielvariable vorherzusagen."
   ]
  },
  {
   "cell_type": "code",
   "execution_count": 19,
   "metadata": {},
   "outputs": [
    {
     "data": {
      "text/html": [
       "<style>#sk-container-id-1 {\n",
       "  /* Definition of color scheme common for light and dark mode */\n",
       "  --sklearn-color-text: #000;\n",
       "  --sklearn-color-text-muted: #666;\n",
       "  --sklearn-color-line: gray;\n",
       "  /* Definition of color scheme for unfitted estimators */\n",
       "  --sklearn-color-unfitted-level-0: #fff5e6;\n",
       "  --sklearn-color-unfitted-level-1: #f6e4d2;\n",
       "  --sklearn-color-unfitted-level-2: #ffe0b3;\n",
       "  --sklearn-color-unfitted-level-3: chocolate;\n",
       "  /* Definition of color scheme for fitted estimators */\n",
       "  --sklearn-color-fitted-level-0: #f0f8ff;\n",
       "  --sklearn-color-fitted-level-1: #d4ebff;\n",
       "  --sklearn-color-fitted-level-2: #b3dbfd;\n",
       "  --sklearn-color-fitted-level-3: cornflowerblue;\n",
       "\n",
       "  /* Specific color for light theme */\n",
       "  --sklearn-color-text-on-default-background: var(--sg-text-color, var(--theme-code-foreground, var(--jp-content-font-color1, black)));\n",
       "  --sklearn-color-background: var(--sg-background-color, var(--theme-background, var(--jp-layout-color0, white)));\n",
       "  --sklearn-color-border-box: var(--sg-text-color, var(--theme-code-foreground, var(--jp-content-font-color1, black)));\n",
       "  --sklearn-color-icon: #696969;\n",
       "\n",
       "  @media (prefers-color-scheme: dark) {\n",
       "    /* Redefinition of color scheme for dark theme */\n",
       "    --sklearn-color-text-on-default-background: var(--sg-text-color, var(--theme-code-foreground, var(--jp-content-font-color1, white)));\n",
       "    --sklearn-color-background: var(--sg-background-color, var(--theme-background, var(--jp-layout-color0, #111)));\n",
       "    --sklearn-color-border-box: var(--sg-text-color, var(--theme-code-foreground, var(--jp-content-font-color1, white)));\n",
       "    --sklearn-color-icon: #878787;\n",
       "  }\n",
       "}\n",
       "\n",
       "#sk-container-id-1 {\n",
       "  color: var(--sklearn-color-text);\n",
       "}\n",
       "\n",
       "#sk-container-id-1 pre {\n",
       "  padding: 0;\n",
       "}\n",
       "\n",
       "#sk-container-id-1 input.sk-hidden--visually {\n",
       "  border: 0;\n",
       "  clip: rect(1px 1px 1px 1px);\n",
       "  clip: rect(1px, 1px, 1px, 1px);\n",
       "  height: 1px;\n",
       "  margin: -1px;\n",
       "  overflow: hidden;\n",
       "  padding: 0;\n",
       "  position: absolute;\n",
       "  width: 1px;\n",
       "}\n",
       "\n",
       "#sk-container-id-1 div.sk-dashed-wrapped {\n",
       "  border: 1px dashed var(--sklearn-color-line);\n",
       "  margin: 0 0.4em 0.5em 0.4em;\n",
       "  box-sizing: border-box;\n",
       "  padding-bottom: 0.4em;\n",
       "  background-color: var(--sklearn-color-background);\n",
       "}\n",
       "\n",
       "#sk-container-id-1 div.sk-container {\n",
       "  /* jupyter's `normalize.less` sets `[hidden] { display: none; }`\n",
       "     but bootstrap.min.css set `[hidden] { display: none !important; }`\n",
       "     so we also need the `!important` here to be able to override the\n",
       "     default hidden behavior on the sphinx rendered scikit-learn.org.\n",
       "     See: https://github.com/scikit-learn/scikit-learn/issues/21755 */\n",
       "  display: inline-block !important;\n",
       "  position: relative;\n",
       "}\n",
       "\n",
       "#sk-container-id-1 div.sk-text-repr-fallback {\n",
       "  display: none;\n",
       "}\n",
       "\n",
       "div.sk-parallel-item,\n",
       "div.sk-serial,\n",
       "div.sk-item {\n",
       "  /* draw centered vertical line to link estimators */\n",
       "  background-image: linear-gradient(var(--sklearn-color-text-on-default-background), var(--sklearn-color-text-on-default-background));\n",
       "  background-size: 2px 100%;\n",
       "  background-repeat: no-repeat;\n",
       "  background-position: center center;\n",
       "}\n",
       "\n",
       "/* Parallel-specific style estimator block */\n",
       "\n",
       "#sk-container-id-1 div.sk-parallel-item::after {\n",
       "  content: \"\";\n",
       "  width: 100%;\n",
       "  border-bottom: 2px solid var(--sklearn-color-text-on-default-background);\n",
       "  flex-grow: 1;\n",
       "}\n",
       "\n",
       "#sk-container-id-1 div.sk-parallel {\n",
       "  display: flex;\n",
       "  align-items: stretch;\n",
       "  justify-content: center;\n",
       "  background-color: var(--sklearn-color-background);\n",
       "  position: relative;\n",
       "}\n",
       "\n",
       "#sk-container-id-1 div.sk-parallel-item {\n",
       "  display: flex;\n",
       "  flex-direction: column;\n",
       "}\n",
       "\n",
       "#sk-container-id-1 div.sk-parallel-item:first-child::after {\n",
       "  align-self: flex-end;\n",
       "  width: 50%;\n",
       "}\n",
       "\n",
       "#sk-container-id-1 div.sk-parallel-item:last-child::after {\n",
       "  align-self: flex-start;\n",
       "  width: 50%;\n",
       "}\n",
       "\n",
       "#sk-container-id-1 div.sk-parallel-item:only-child::after {\n",
       "  width: 0;\n",
       "}\n",
       "\n",
       "/* Serial-specific style estimator block */\n",
       "\n",
       "#sk-container-id-1 div.sk-serial {\n",
       "  display: flex;\n",
       "  flex-direction: column;\n",
       "  align-items: center;\n",
       "  background-color: var(--sklearn-color-background);\n",
       "  padding-right: 1em;\n",
       "  padding-left: 1em;\n",
       "}\n",
       "\n",
       "\n",
       "/* Toggleable style: style used for estimator/Pipeline/ColumnTransformer box that is\n",
       "clickable and can be expanded/collapsed.\n",
       "- Pipeline and ColumnTransformer use this feature and define the default style\n",
       "- Estimators will overwrite some part of the style using the `sk-estimator` class\n",
       "*/\n",
       "\n",
       "/* Pipeline and ColumnTransformer style (default) */\n",
       "\n",
       "#sk-container-id-1 div.sk-toggleable {\n",
       "  /* Default theme specific background. It is overwritten whether we have a\n",
       "  specific estimator or a Pipeline/ColumnTransformer */\n",
       "  background-color: var(--sklearn-color-background);\n",
       "}\n",
       "\n",
       "/* Toggleable label */\n",
       "#sk-container-id-1 label.sk-toggleable__label {\n",
       "  cursor: pointer;\n",
       "  display: flex;\n",
       "  width: 100%;\n",
       "  margin-bottom: 0;\n",
       "  padding: 0.5em;\n",
       "  box-sizing: border-box;\n",
       "  text-align: center;\n",
       "  align-items: start;\n",
       "  justify-content: space-between;\n",
       "  gap: 0.5em;\n",
       "}\n",
       "\n",
       "#sk-container-id-1 label.sk-toggleable__label .caption {\n",
       "  font-size: 0.6rem;\n",
       "  font-weight: lighter;\n",
       "  color: var(--sklearn-color-text-muted);\n",
       "}\n",
       "\n",
       "#sk-container-id-1 label.sk-toggleable__label-arrow:before {\n",
       "  /* Arrow on the left of the label */\n",
       "  content: \"▸\";\n",
       "  float: left;\n",
       "  margin-right: 0.25em;\n",
       "  color: var(--sklearn-color-icon);\n",
       "}\n",
       "\n",
       "#sk-container-id-1 label.sk-toggleable__label-arrow:hover:before {\n",
       "  color: var(--sklearn-color-text);\n",
       "}\n",
       "\n",
       "/* Toggleable content - dropdown */\n",
       "\n",
       "#sk-container-id-1 div.sk-toggleable__content {\n",
       "  max-height: 0;\n",
       "  max-width: 0;\n",
       "  overflow: hidden;\n",
       "  text-align: left;\n",
       "  /* unfitted */\n",
       "  background-color: var(--sklearn-color-unfitted-level-0);\n",
       "}\n",
       "\n",
       "#sk-container-id-1 div.sk-toggleable__content.fitted {\n",
       "  /* fitted */\n",
       "  background-color: var(--sklearn-color-fitted-level-0);\n",
       "}\n",
       "\n",
       "#sk-container-id-1 div.sk-toggleable__content pre {\n",
       "  margin: 0.2em;\n",
       "  border-radius: 0.25em;\n",
       "  color: var(--sklearn-color-text);\n",
       "  /* unfitted */\n",
       "  background-color: var(--sklearn-color-unfitted-level-0);\n",
       "}\n",
       "\n",
       "#sk-container-id-1 div.sk-toggleable__content.fitted pre {\n",
       "  /* unfitted */\n",
       "  background-color: var(--sklearn-color-fitted-level-0);\n",
       "}\n",
       "\n",
       "#sk-container-id-1 input.sk-toggleable__control:checked~div.sk-toggleable__content {\n",
       "  /* Expand drop-down */\n",
       "  max-height: 200px;\n",
       "  max-width: 100%;\n",
       "  overflow: auto;\n",
       "}\n",
       "\n",
       "#sk-container-id-1 input.sk-toggleable__control:checked~label.sk-toggleable__label-arrow:before {\n",
       "  content: \"▾\";\n",
       "}\n",
       "\n",
       "/* Pipeline/ColumnTransformer-specific style */\n",
       "\n",
       "#sk-container-id-1 div.sk-label input.sk-toggleable__control:checked~label.sk-toggleable__label {\n",
       "  color: var(--sklearn-color-text);\n",
       "  background-color: var(--sklearn-color-unfitted-level-2);\n",
       "}\n",
       "\n",
       "#sk-container-id-1 div.sk-label.fitted input.sk-toggleable__control:checked~label.sk-toggleable__label {\n",
       "  background-color: var(--sklearn-color-fitted-level-2);\n",
       "}\n",
       "\n",
       "/* Estimator-specific style */\n",
       "\n",
       "/* Colorize estimator box */\n",
       "#sk-container-id-1 div.sk-estimator input.sk-toggleable__control:checked~label.sk-toggleable__label {\n",
       "  /* unfitted */\n",
       "  background-color: var(--sklearn-color-unfitted-level-2);\n",
       "}\n",
       "\n",
       "#sk-container-id-1 div.sk-estimator.fitted input.sk-toggleable__control:checked~label.sk-toggleable__label {\n",
       "  /* fitted */\n",
       "  background-color: var(--sklearn-color-fitted-level-2);\n",
       "}\n",
       "\n",
       "#sk-container-id-1 div.sk-label label.sk-toggleable__label,\n",
       "#sk-container-id-1 div.sk-label label {\n",
       "  /* The background is the default theme color */\n",
       "  color: var(--sklearn-color-text-on-default-background);\n",
       "}\n",
       "\n",
       "/* On hover, darken the color of the background */\n",
       "#sk-container-id-1 div.sk-label:hover label.sk-toggleable__label {\n",
       "  color: var(--sklearn-color-text);\n",
       "  background-color: var(--sklearn-color-unfitted-level-2);\n",
       "}\n",
       "\n",
       "/* Label box, darken color on hover, fitted */\n",
       "#sk-container-id-1 div.sk-label.fitted:hover label.sk-toggleable__label.fitted {\n",
       "  color: var(--sklearn-color-text);\n",
       "  background-color: var(--sklearn-color-fitted-level-2);\n",
       "}\n",
       "\n",
       "/* Estimator label */\n",
       "\n",
       "#sk-container-id-1 div.sk-label label {\n",
       "  font-family: monospace;\n",
       "  font-weight: bold;\n",
       "  display: inline-block;\n",
       "  line-height: 1.2em;\n",
       "}\n",
       "\n",
       "#sk-container-id-1 div.sk-label-container {\n",
       "  text-align: center;\n",
       "}\n",
       "\n",
       "/* Estimator-specific */\n",
       "#sk-container-id-1 div.sk-estimator {\n",
       "  font-family: monospace;\n",
       "  border: 1px dotted var(--sklearn-color-border-box);\n",
       "  border-radius: 0.25em;\n",
       "  box-sizing: border-box;\n",
       "  margin-bottom: 0.5em;\n",
       "  /* unfitted */\n",
       "  background-color: var(--sklearn-color-unfitted-level-0);\n",
       "}\n",
       "\n",
       "#sk-container-id-1 div.sk-estimator.fitted {\n",
       "  /* fitted */\n",
       "  background-color: var(--sklearn-color-fitted-level-0);\n",
       "}\n",
       "\n",
       "/* on hover */\n",
       "#sk-container-id-1 div.sk-estimator:hover {\n",
       "  /* unfitted */\n",
       "  background-color: var(--sklearn-color-unfitted-level-2);\n",
       "}\n",
       "\n",
       "#sk-container-id-1 div.sk-estimator.fitted:hover {\n",
       "  /* fitted */\n",
       "  background-color: var(--sklearn-color-fitted-level-2);\n",
       "}\n",
       "\n",
       "/* Specification for estimator info (e.g. \"i\" and \"?\") */\n",
       "\n",
       "/* Common style for \"i\" and \"?\" */\n",
       "\n",
       ".sk-estimator-doc-link,\n",
       "a:link.sk-estimator-doc-link,\n",
       "a:visited.sk-estimator-doc-link {\n",
       "  float: right;\n",
       "  font-size: smaller;\n",
       "  line-height: 1em;\n",
       "  font-family: monospace;\n",
       "  background-color: var(--sklearn-color-background);\n",
       "  border-radius: 1em;\n",
       "  height: 1em;\n",
       "  width: 1em;\n",
       "  text-decoration: none !important;\n",
       "  margin-left: 0.5em;\n",
       "  text-align: center;\n",
       "  /* unfitted */\n",
       "  border: var(--sklearn-color-unfitted-level-1) 1pt solid;\n",
       "  color: var(--sklearn-color-unfitted-level-1);\n",
       "}\n",
       "\n",
       ".sk-estimator-doc-link.fitted,\n",
       "a:link.sk-estimator-doc-link.fitted,\n",
       "a:visited.sk-estimator-doc-link.fitted {\n",
       "  /* fitted */\n",
       "  border: var(--sklearn-color-fitted-level-1) 1pt solid;\n",
       "  color: var(--sklearn-color-fitted-level-1);\n",
       "}\n",
       "\n",
       "/* On hover */\n",
       "div.sk-estimator:hover .sk-estimator-doc-link:hover,\n",
       ".sk-estimator-doc-link:hover,\n",
       "div.sk-label-container:hover .sk-estimator-doc-link:hover,\n",
       ".sk-estimator-doc-link:hover {\n",
       "  /* unfitted */\n",
       "  background-color: var(--sklearn-color-unfitted-level-3);\n",
       "  color: var(--sklearn-color-background);\n",
       "  text-decoration: none;\n",
       "}\n",
       "\n",
       "div.sk-estimator.fitted:hover .sk-estimator-doc-link.fitted:hover,\n",
       ".sk-estimator-doc-link.fitted:hover,\n",
       "div.sk-label-container:hover .sk-estimator-doc-link.fitted:hover,\n",
       ".sk-estimator-doc-link.fitted:hover {\n",
       "  /* fitted */\n",
       "  background-color: var(--sklearn-color-fitted-level-3);\n",
       "  color: var(--sklearn-color-background);\n",
       "  text-decoration: none;\n",
       "}\n",
       "\n",
       "/* Span, style for the box shown on hovering the info icon */\n",
       ".sk-estimator-doc-link span {\n",
       "  display: none;\n",
       "  z-index: 9999;\n",
       "  position: relative;\n",
       "  font-weight: normal;\n",
       "  right: .2ex;\n",
       "  padding: .5ex;\n",
       "  margin: .5ex;\n",
       "  width: min-content;\n",
       "  min-width: 20ex;\n",
       "  max-width: 50ex;\n",
       "  color: var(--sklearn-color-text);\n",
       "  box-shadow: 2pt 2pt 4pt #999;\n",
       "  /* unfitted */\n",
       "  background: var(--sklearn-color-unfitted-level-0);\n",
       "  border: .5pt solid var(--sklearn-color-unfitted-level-3);\n",
       "}\n",
       "\n",
       ".sk-estimator-doc-link.fitted span {\n",
       "  /* fitted */\n",
       "  background: var(--sklearn-color-fitted-level-0);\n",
       "  border: var(--sklearn-color-fitted-level-3);\n",
       "}\n",
       "\n",
       ".sk-estimator-doc-link:hover span {\n",
       "  display: block;\n",
       "}\n",
       "\n",
       "/* \"?\"-specific style due to the `<a>` HTML tag */\n",
       "\n",
       "#sk-container-id-1 a.estimator_doc_link {\n",
       "  float: right;\n",
       "  font-size: 1rem;\n",
       "  line-height: 1em;\n",
       "  font-family: monospace;\n",
       "  background-color: var(--sklearn-color-background);\n",
       "  border-radius: 1rem;\n",
       "  height: 1rem;\n",
       "  width: 1rem;\n",
       "  text-decoration: none;\n",
       "  /* unfitted */\n",
       "  color: var(--sklearn-color-unfitted-level-1);\n",
       "  border: var(--sklearn-color-unfitted-level-1) 1pt solid;\n",
       "}\n",
       "\n",
       "#sk-container-id-1 a.estimator_doc_link.fitted {\n",
       "  /* fitted */\n",
       "  border: var(--sklearn-color-fitted-level-1) 1pt solid;\n",
       "  color: var(--sklearn-color-fitted-level-1);\n",
       "}\n",
       "\n",
       "/* On hover */\n",
       "#sk-container-id-1 a.estimator_doc_link:hover {\n",
       "  /* unfitted */\n",
       "  background-color: var(--sklearn-color-unfitted-level-3);\n",
       "  color: var(--sklearn-color-background);\n",
       "  text-decoration: none;\n",
       "}\n",
       "\n",
       "#sk-container-id-1 a.estimator_doc_link.fitted:hover {\n",
       "  /* fitted */\n",
       "  background-color: var(--sklearn-color-fitted-level-3);\n",
       "}\n",
       "</style><div id=\"sk-container-id-1\" class=\"sk-top-container\"><div class=\"sk-text-repr-fallback\"><pre>LogisticRegression()</pre><b>In a Jupyter environment, please rerun this cell to show the HTML representation or trust the notebook. <br />On GitHub, the HTML representation is unable to render, please try loading this page with nbviewer.org.</b></div><div class=\"sk-container\" hidden><div class=\"sk-item\"><div class=\"sk-estimator fitted sk-toggleable\"><input class=\"sk-toggleable__control sk-hidden--visually\" id=\"sk-estimator-id-1\" type=\"checkbox\" checked><label for=\"sk-estimator-id-1\" class=\"sk-toggleable__label fitted sk-toggleable__label-arrow\"><div><div>LogisticRegression</div></div><div><a class=\"sk-estimator-doc-link fitted\" rel=\"noreferrer\" target=\"_blank\" href=\"https://scikit-learn.org/1.6/modules/generated/sklearn.linear_model.LogisticRegression.html\">?<span>Documentation for LogisticRegression</span></a><span class=\"sk-estimator-doc-link fitted\">i<span>Fitted</span></span></div></label><div class=\"sk-toggleable__content fitted\"><pre>LogisticRegression()</pre></div> </div></div></div></div>"
      ],
      "text/plain": [
       "LogisticRegression()"
      ]
     },
     "execution_count": 19,
     "metadata": {},
     "output_type": "execute_result"
    }
   ],
   "source": [
    "# Logistic Regression for binary classification\n",
    "\n",
    "# Create pipeline with preprocessing and logistic regression\n",
    "model = LogisticRegression()\n",
    "\n",
    "# Train the model\n",
    "model.fit(X_train, y_train)\n"
   ]
  },
  {
   "cell_type": "markdown",
   "metadata": {},
   "source": [
    "#### 3.1.2 Modell testen\n",
    "\n",
    "Das trainierte Modell wird auf den Testdaten angewendet. Die Auswertung erfolgt anhand der **Genauigkeit (Accuracy)** und eines **Classification Reports**, der die wichtigsten Metriken zur Bewertung der Vorhersagequalität enthält:\n",
    "\n",
    "| **Metrik**     | **Beschreibung**                                                                 |\n",
    "|----------------|-----------------------------------------------------------------------------------|\n",
    "| **Accuracy**   | Anteil korrekt klassifizierter Beispiele an allen Beispielen                     |\n",
    "| **Precision**  | Anteil korrekt positiver Vorhersagen an allen als positiv vorhergesagten Fällen (vgl. https://www.v7labs.com/blog/precision-vs-recall-guide)  |\n",
    "| **Recall**     | Anteil korrekt erkannter positiver Fälle an allen tatsächlichen positiven Fällen (vgl. https://www.v7labs.com/blog/precision-vs-recall-guide) |\n",
    "| **F1-Score**   | Harmonisches Mittel aus Precision und Recall (balanciert beide Metriken) (vgl. https://www.v7labs.com/blog/f1-score-guide)       |\n",
    "\n",
    "Diese Metriken geben gemeinsam ein gutes Bild darüber, wie zuverlässig das Modell bei der KHK-Klassifikation arbeitet."
   ]
  },
  {
   "cell_type": "code",
   "execution_count": 20,
   "metadata": {},
   "outputs": [
    {
     "name": "stdout",
     "output_type": "stream",
     "text": [
      "Model accuracy: 0.837\n",
      "              precision    recall  f1-score   support\n",
      "\n",
      "           0      0.820     0.813     0.816       123\n",
      "           1      0.851     0.856     0.853       153\n",
      "\n",
      "    accuracy                          0.837       276\n",
      "   macro avg      0.835     0.835     0.835       276\n",
      "weighted avg      0.837     0.837     0.837       276\n",
      "\n"
     ]
    }
   ],
   "source": [
    "# Make predictions\n",
    "y_pred_log_reg = model.predict(X_test)\n",
    "\n",
    "# Save results using the helper function\n",
    "save_results(\"Logistische Regression\", y_test, y_pred_log_reg, results)"
   ]
  },
  {
   "cell_type": "markdown",
   "metadata": {},
   "source": [
    "Die logistische Regression erzielt eine Genauigkeit von 84 % und zeigt insgesamt eine ausgewogene Leistung.  \n",
    "Besonders bei der Erkennung von KHK-Fällen (Klasse 1) schneidet das Modell sehr gut ab, mit einer Präzision von 85 % und einem Recall von 86 %.  \n",
    "Die Klasse 0 (keine KHK) wird ebenfalls zuverlässig erkannt, mit einer Präzision von 82 %** und einem Recall von 81 %.  \n",
    "\n",
    "\n",
    "Insgesamt liefert das Modell stabile und gut ausbalancierte Vorhersagen und eignet sich als verlässlicher Basisansatz für die Klassifikation von KHK."
   ]
  },
  {
   "cell_type": "markdown",
   "metadata": {},
   "source": [
    "### 3.2 Entscheidungsbäume\n",
    "\n",
    "Ein Entscheidungsbaum ist ein geordneter, gerichteter Baum, der Entscheidungsregeln in einer hierarchischen Struktur darstellt\n",
    "Jeder Knoten repräsentiert eine Bedingung oder Entscheidungsregel basierend auf einem Merkmal des Datensatzes (vgl. https://de.wikipedia.org/wiki/Entscheidungsbaum).\n",
    "Die Blattknoten am Ende des Baums geben die Vorhersage oder Klassenzugehörigkeit aus (in unserem Fall KHK = 0 oder 1).\n",
    "Die Struktur ermöglicht es, Daten schrittweise entlang dieser Bedingungen aufzuteilen, um zu einer fundierten Entscheidung zu gelangen."
   ]
  },
  {
   "cell_type": "markdown",
   "metadata": {},
   "source": [
    "#### 3.2.1 Klassische Entscheidungsbäume\n",
    "\n",
    "Der klassische Entscheidungsbaum funktioniert wie in [3.2](#32-entscheidungsbäume) beschrieben. Es werden keine Ensemble-Methoden verwendet, sondern ein einzelner Baum erstellt, der rekursiv durch Splits an Knotenpunkten aufgebaut wird.\n",
    "\n",
    "Auch hier wird die Klassifikation wieder an den schon beschriebenen Metriken gemessen."
   ]
  },
  {
   "cell_type": "code",
   "execution_count": 21,
   "metadata": {},
   "outputs": [
    {
     "name": "stdout",
     "output_type": "stream",
     "text": [
      "Model accuracy: 0.703\n",
      "              precision    recall  f1-score   support\n",
      "\n",
      "           0      0.661     0.683     0.672       123\n",
      "           1      0.738     0.719     0.728       153\n",
      "\n",
      "    accuracy                          0.703       276\n",
      "   macro avg      0.700     0.701     0.700       276\n",
      "weighted avg      0.704     0.703     0.703       276\n",
      "\n"
     ]
    }
   ],
   "source": [
    "# Train a Decision Tree Classifier\n",
    "clf_tree = DecisionTreeClassifier(random_state=42)\n",
    "clf_tree.fit(X_train, y_train)\n",
    "\n",
    "# Make predictions\n",
    "y_pred_tree = clf_tree.predict(X_test)\n",
    "\n",
    "# Save results using the helper function\n",
    "save_results(\"Klassischer Entscheidungsbaum\", y_test, y_pred_tree, results)"
   ]
  },
  {
   "cell_type": "markdown",
   "metadata": {},
   "source": [
    "Der klassische Entscheidungsbaum erreicht eine Genauigkeit von 70 % und bleibt damit deutlich hinter der logistischen Regression zurück.  \n",
    "Während KHK-Fälle (Klasse 1) mit einer Präzision von 74 % und einem F1-Score von 0.73 gut erkannt werden, zeigt das Modell bei der Klasse 0 (keine KHK) leichte Schwächen, insbesondere bei der Präzision mit nur 66 %.  \n",
    "\n",
    "Für den vorliegenden Datensatz liefert der klassische Entscheidungsbaum somit eine solide, aber nicht überlegene Vorhersagequalität und generalisiert etwas schlechter als das lineare Modell."
   ]
  },
  {
   "cell_type": "markdown",
   "metadata": {},
   "source": [
    "#### 3.2.2 Bagging in Form von Random Forest\n",
    "Random Forest ist ein Modell, das viele Entscheidungsbäume kombiniert. Jeder Baum wird auf zufälligen Daten und Merkmalen trainiert.\n",
    "Die Vorhersagen der Bäume werden am Ende zusammengefasst (beispielsweise per Mehrheitsentscheid). Dadurch wird das Modell stabiler und genauer als ein einzelner Baum (vgl. https://www.ibm.com/de-de/think/topics/random-forest)."
   ]
  },
  {
   "cell_type": "code",
   "execution_count": 22,
   "metadata": {},
   "outputs": [
    {
     "name": "stdout",
     "output_type": "stream",
     "text": [
      "Model accuracy: 0.826\n",
      "              precision    recall  f1-score   support\n",
      "\n",
      "           0      0.791     0.829     0.810       123\n",
      "           1      0.857     0.824     0.840       153\n",
      "\n",
      "    accuracy                          0.826       276\n",
      "   macro avg      0.824     0.826     0.825       276\n",
      "weighted avg      0.828     0.826     0.826       276\n",
      "\n"
     ]
    }
   ],
   "source": [
    "# Train a Random Forest model\n",
    "clf = RandomForestClassifier(n_estimators=150, random_state=42)\n",
    "clf.fit(X_train, y_train)\n",
    "\n",
    "# Make predictions\n",
    "y_pred_random_forest = clf.predict(X_test)\n",
    "\n",
    "# Save results using the helper function\n",
    "save_results(\"Random Forest\", y_test, y_pred_random_forest, results)"
   ]
  },
  {
   "cell_type": "markdown",
   "metadata": {},
   "source": [
    "Der Random Forest erzielt eine Genauigkeit von 83 % und liegt damit leicht unterhalb der logistischen Regression, aber deutlich über dem einfachen Entscheidungsbaum.\n",
    "Die Klasse 1 (KHK) wird mit einer Präzision von 86 % und einem Recall von 82 % sehr zuverlässig erkannt. Auch Klasse 0 (keine KHK) erreicht solide Werte mit 79 % Präzision und 83 % Recall.\n",
    "Insgesamt zeigt das Modell eine ausgewogene Leistung mit guter Generalisierungsfähigkeit.\n",
    "\n",
    "Dadurch, dass viele Entscheidungsbäume kombiniert werden, kann Random Forest wohl komplexere Zusammenhänge gut erfassen."
   ]
  },
  {
   "cell_type": "markdown",
   "metadata": {},
   "source": [
    "#### 3.2.3 Boosting in Form von AdaBoost\n",
    "\n",
    "Adaptive Boosting ist einer der bekanntesten und breitesten Boosting Algorithmen.\n",
    "Mehrere schwache Modelle werden nacheinander trainiert, wobei jedes neue Modell gezielt die Fehler der vorherigen korrigiert, indem falsch klassifizierte Daten stärker gewichtet werden. Die endgültige Vorhersage entsteht durch ein gewichtetes Mehrheitsvotum(vgl. Skript ML_08_Modelle-V S.26-34).\n",
    "Die Anzahl der Einzelmodelle (n_estimators) bestimmt, wie viele Iterationen durchgeführt werden. Die Lernrate (learning_rate) steuert, wie stark sich jedes neue Modell auf das Gesamtergebnis auswirken soll.\n",
    "Eine zu hohe Lernrate kann zu Überanpassung führen, während eine zu niedrige Rate den Lernprozess verlangsamen kann."
   ]
  },
  {
   "cell_type": "code",
   "execution_count": 23,
   "metadata": {},
   "outputs": [
    {
     "name": "stdout",
     "output_type": "stream",
     "text": [
      "Model accuracy: 0.851\n",
      "              precision    recall  f1-score   support\n",
      "\n",
      "           0      0.815     0.862     0.838       123\n",
      "           1      0.884     0.843     0.863       153\n",
      "\n",
      "    accuracy                          0.851       276\n",
      "   macro avg      0.849     0.852     0.850       276\n",
      "weighted avg      0.853     0.851     0.852       276\n",
      "\n"
     ]
    }
   ],
   "source": [
    "# Define base estimator for AdaBoost\n",
    "base_estimator = DecisionTreeClassifier(max_depth=2)\n",
    "\n",
    "# Train AdaBoost model with specified parameters\n",
    "adaboost_model = AdaBoostClassifier(\n",
    "    estimator=base_estimator,\n",
    "    n_estimators=50,\n",
    "    learning_rate=0.3,\n",
    "    random_state=42\n",
    ")\n",
    "\n",
    "adaboost_model.fit(X_train, y_train)\n",
    "\n",
    "# Make predictions\n",
    "y_pred_ada = adaboost_model.predict(X_test)\n",
    "\n",
    "# Save results using the helper function\n",
    "save_results(\"AdaBoost\", y_test, y_pred_ada, results)"
   ]
  },
  {
   "cell_type": "markdown",
   "metadata": {},
   "source": [
    "Das AdaBoost-Modell erreicht eine Genauigkeit von 85 % und liefert damit das (in der chronologischen Reihenfolge des Notebooks) bislang beste Ergebnis unter den getesteten Verfahren.  \n",
    "Die Klasse 0 (keine KHK) wird mit einer Präzision von 82 % und einem Recall von 86 % solide erkannt, während die Klasse 1 (KHK) mit 88 % Präzision und 84 % Recall besonders zuverlässig vorhergesagt wird.\n",
    "\n",
    "Durch das schrittweise Lernen aus Fehlern früherer Modelle gelingt AdaBoost eine gut ausbalancierte Klassifikation, die sowohl Präzision als auch Sensitivität berücksichtigt. Im Vergleich zur logistischen Regression und zum Random Forest schneidet AdaBoost leicht besser ab."
   ]
  },
  {
   "cell_type": "markdown",
   "metadata": {},
   "source": [
    "#### 3.2.4 Stacking\n",
    "\n",
    "Stacking kombiniert verschiedene Modelle, die jeweils unterschiedliche Bereiche der Merkmalsverteilung gut abdecken, und nutzt deren Vorhersagen gemeinsam, um die Gesamtvorhersage zu verbessern (vgl. Skript ML_08_Modelle-V S.40-42).\n",
    "Es ist besondern gut anzuwenden, wenn die Einzelmodelle ausreichend verschieden sind."
   ]
  },
  {
   "cell_type": "code",
   "execution_count": 24,
   "metadata": {},
   "outputs": [
    {
     "name": "stdout",
     "output_type": "stream",
     "text": [
      "Model accuracy: 0.822\n",
      "              precision    recall  f1-score   support\n",
      "\n",
      "           0      0.819     0.772     0.795       123\n",
      "           1      0.825     0.863     0.843       153\n",
      "\n",
      "    accuracy                          0.822       276\n",
      "   macro avg      0.822     0.818     0.819       276\n",
      "weighted avg      0.822     0.822     0.822       276\n",
      "\n"
     ]
    }
   ],
   "source": [
    "# Base models: KNN, SVM, and Logistic Regression\n",
    "base_estimators = [\n",
    "    ('knn', KNeighborsClassifier(n_neighbors=35)),  # KNN with 5 neighbors\n",
    "    ('svc', SVC(kernel='linear', random_state=42)),  # SVM with a linear kernel\n",
    "    ('logreg', LogisticRegression(random_state=42))  # Logistic Regression\n",
    "]\n",
    "\n",
    "# Final model (meta-model)\n",
    "final_estimator = LogisticRegression()\n",
    "\n",
    "# Create StackingClassifier with base models and final estimator\n",
    "stacking_model = StackingClassifier(\n",
    "    estimators=base_estimators, final_estimator=final_estimator)\n",
    "\n",
    "# Train the stacking model\n",
    "stacking_model.fit(X_train, y_train)\n",
    "\n",
    "# Make predictions\n",
    "y_pred_stack = stacking_model.predict(X_test)\n",
    "\n",
    "# Save results using the helper function\n",
    "save_results(\"Stacking\", y_test, y_pred_stack, results)"
   ]
  },
  {
   "cell_type": "markdown",
   "metadata": {},
   "source": [
    "Das Stacking-Modell erreicht eine Genauigkeit von 82 % und liegt damit in etwa auf dem Niveau von Random Forest. Es kombiniert KNN, SVM und logistische Regression als Basis-Modelle und nutzt erneut eine logistische Regression als Meta-Modell, das aus den Vorhersagen der Basismodelle lernt.  \n",
    "Die Klasse 0 (keine KHK) wird mit 82 % Präzision und 77 % Recall erkannt, während Klasse 1 (KHK) mit 83 % Präzision und 86 % Recall klassifiziert wird.\n",
    "\n",
    "Das Modell ist insgesamt ausgewogen, profitiert wohl von der Vielfalt der Basismodelle und zeigt, dass sich durch geschickte Kombination unterschiedlicher Ansätze eine solide Vorhersagequalität erzielen lässt.  \n",
    "Trotzdem ist das Modell schlechter als das vorherige AdaBoost-Modell."
   ]
  },
  {
   "cell_type": "markdown",
   "metadata": {},
   "source": [
    "### 3.3 k-Nearest-Neighbor\n",
    "KNN ist ein einfacher Algorithmus, der neue Datenpunkte anhand der k ähnlichsten bekannten Punkte einordnet.\n",
    "Er speichert nur die Trainingsdaten und trifft Entscheidungen bei der Vorhersage, basierend auf dem Abstand zu den nächsten Nachbarn (vgl. https://www.ibm.com/de-de/think/topics/knn)."
   ]
  },
  {
   "cell_type": "markdown",
   "metadata": {},
   "source": [
    "#### 3.3.1 k-Nearest-Neighbor mit euklidischer Metrik\n",
    "\n",
    "Es wird der direkte Abstand zwischen zwei Punkten im Merkmalsraum gemessen."
   ]
  },
  {
   "cell_type": "code",
   "execution_count": 25,
   "metadata": {},
   "outputs": [
    {
     "name": "stdout",
     "output_type": "stream",
     "text": [
      "Model accuracy: 0.837\n",
      "              precision    recall  f1-score   support\n",
      "\n",
      "           0      0.791     0.862     0.825       123\n",
      "           1      0.880     0.817     0.847       153\n",
      "\n",
      "    accuracy                          0.837       276\n",
      "   macro avg      0.836     0.839     0.836       276\n",
      "weighted avg      0.841     0.837     0.837       276\n",
      "\n"
     ]
    }
   ],
   "source": [
    "# Create k-NN model with k=10 and Euclidean distance metric\n",
    "knn_model = KNeighborsClassifier(n_neighbors=25, metric='euclidean')\n",
    "\n",
    "# Train the model\n",
    "knn_model.fit(X_train, y_train)\n",
    "\n",
    "# Make predictions\n",
    "y_pred_knn = knn_model.predict(X_test)\n",
    "\n",
    "# Save results using the helper function\n",
    "save_results(\"k-NN (euklidisch)\", y_test, y_pred_knn, results)"
   ]
  },
  {
   "cell_type": "markdown",
   "metadata": {},
   "source": [
    "Das k-NN-Modell mit euklidischer Distanz erreicht eine Genauigkeit von 84 % und liegt damit unter dem AdaBoost-Modell, das eine Genauigkeit von 85 % erzielt jedoch auf einem Niveau mit der logistischen Regression. Besonders auffällig ist die Leistung bei Klasse 0 (keine KHK): Mit einem Recall von 86 % erkennt das Modell sehr zuverlässig gesunde Fälle, auch wenn die Präzision bei 79 % liegt. Für Klasse 1 (KHK) ist die Präzision mit 88 % sogar noch höher, aber der Recall etwas niedriger bei 82 %.\n",
    "\n",
    "Insgesamt zeigt sich ein leichtes Ungleichgewicht: Das Modell erkennt gesunde Patienten sehr sicher, neigt aber dazu, einige KHK-Fälle zu übersehen.  \n",
    "Dennoch ist die F1-Balance gut und das Modell profitiert offenbar davon, dass k-NN bei gut strukturierten Daten (StandardScaler()) effektiv trennen kann."
   ]
  },
  {
   "cell_type": "markdown",
   "metadata": {},
   "source": [
    "#### 3.3.2 k-Nearest-Neighbor mit manhattan Metrik\n",
    "\n",
    "Es wird der Abstand zwischen zwei Punkten als Summe der absoluten Differenzen der Merkmalswerte berechnet (Analogie zu rechteckigen Straßennetzen).\n",
    "Dies ermöglicht höhere Robustheit gegen Ausreißer."
   ]
  },
  {
   "cell_type": "code",
   "execution_count": 26,
   "metadata": {},
   "outputs": [
    {
     "name": "stdout",
     "output_type": "stream",
     "text": [
      "Model accuracy: 0.855\n",
      "              precision    recall  f1-score   support\n",
      "\n",
      "           0      0.803     0.894     0.846       123\n",
      "           1      0.906     0.824     0.863       153\n",
      "\n",
      "    accuracy                          0.855       276\n",
      "   macro avg      0.855     0.859     0.855       276\n",
      "weighted avg      0.860     0.855     0.856       276\n",
      "\n"
     ]
    }
   ],
   "source": [
    "# Create k-NN model with k=10 and Manhattan distance metric\n",
    "knn_model = KNeighborsClassifier(n_neighbors=30, metric='manhattan')\n",
    "\n",
    "# Train the model\n",
    "knn_model.fit(X_train, y_train)\n",
    "\n",
    "# Make predictions\n",
    "y_pred_knn = knn_model.predict(X_test)\n",
    "\n",
    "# Save results using the helper function\n",
    "save_results(\"k-NN (Manhattan)\", y_test, y_pred_knn, results)"
   ]
  },
  {
   "cell_type": "markdown",
   "metadata": {},
   "source": [
    "Das k-NN-Modell mit Manhattan-Distanz erreicht eine Genauigkeit von 86 % und liefert damit die bisher beste Gesamtleistung aller getesteten Modelle.  \n",
    "Für Klasse 0 (keine KHK) erzielt das Modell einen sehr hohen Recall von 89 %, was bedeutet, dass nahezu alle gesunden Fälle erkannt werden, während die Präzision bei 80 % liegt. Für Klasse 1 (KHK) wird eine Präzision von 91 % und ein Recall von 82 % erreicht.\n",
    "\n",
    "Die Verwendung der Manhattan-Metrik scheint hier besonders gut zu den strukturellen Eigenschaften des Datensatzes zu passen. Sie reagiert robuster auf einzelne Ausreißer in den Merkmalen und ermöglicht dadurch eine präzisere Trennung zwischen den Klassen. Insgesamt zeigt das Modell, dass eine gezielte Anpassung der Distanzmetrik zu einer verbesserten Vorhersagequalität führen kann."
   ]
  },
  {
   "cell_type": "markdown",
   "metadata": {},
   "source": [
    "#### 3.3.4 k-Nearest-Neighbor mit Minkowski Metrik und p = 3\n",
    "\n",
    "Die Minkowski Metrik kann über den Parameter p verschiedene Distanzen annehmen.\n",
    "p = 3 deutet den Übergang zwischen euklidischen und Tschebyscheff-Abständen an (vgl. https://www.datacamp.com/de/tutorial/minkowski-distance).\n",
    "Hierbei werden Abstände bei Größeren Unterschieden stärker betont."
   ]
  },
  {
   "cell_type": "code",
   "execution_count": 27,
   "metadata": {},
   "outputs": [
    {
     "name": "stdout",
     "output_type": "stream",
     "text": [
      "Model accuracy: 0.833\n",
      "              precision    recall  f1-score   support\n",
      "\n",
      "           0      0.803     0.829     0.816       123\n",
      "           1      0.859     0.837     0.848       153\n",
      "\n",
      "    accuracy                          0.833       276\n",
      "   macro avg      0.831     0.833     0.832       276\n",
      "weighted avg      0.834     0.833     0.834       276\n",
      "\n"
     ]
    }
   ],
   "source": [
    "# Create k-NN model with k=10 and Minkowski distance metric (p=3)\n",
    "knn_model = KNeighborsClassifier(n_neighbors=17, metric='minkowski', p=3)\n",
    "\n",
    "# Train the model\n",
    "knn_model.fit(X_train, y_train)\n",
    "\n",
    "# Make predictions\n",
    "y_pred_knn = knn_model.predict(X_test)\n",
    "\n",
    "# Save results using the helper function\n",
    "save_results(\"k-NN (Minkowski, p=3)\", y_test, y_pred_knn, results)"
   ]
  },
  {
   "cell_type": "markdown",
   "metadata": {},
   "source": [
    "Das k-NN-Modell mit Minkowski-Distanz erreicht eine Genauigkeit von 83 % und liegt damit im mittleren bis oberen Leistungsbereich der bisher getesteten Verfahren.  \n",
    "Für Klasse 0 (keine KHK) liegt die Präzision bei 80 % und der Recall bei 83 %, während Klasse 1 (KHK) mit 86 % Präzision und 84 % Recall solide vorhergesagt wird.\n",
    "\n",
    "Wie schon in der Beschreibung von [3.3.4](#334-k-nearest-neighbor-mit-minkowski-metrik-und-p-3) angesprochen, bewirkt die Wahl von p = 3 bei der Minkowski-Metrik, dass größere Unterschiede zwischen Merkmalswerten stärker ins Gewicht fallen als bei der euklidischen (p = 2) oder Manhattan-Distanz (p = 1). Dies kann dazu führen, dass das Modell besonders empfindlich auf markante Ausprägungen einzelner Merkmale reagiert – was hilfreich sein kann, wenn solche Ausreißer tatsächlich relevant sind. Allerdings kann diese erhöhte Sensitivität auch zu Fehleinschätzungen führen, wenn die betonten Unterschiede nicht entscheidend für die Klassifizierung sind.\n",
    "\n",
    "Geht p gegen unendlich, spricht man von der Tschebyscheff-Distanz, welche ausschließlich den größten Unterschied zwischen zwei Merkmalen misst. Aufgrund dieser Eigenschaft reagiert die Tschebyscheff-Metrik sehr empfindlich gegenüber einzelnen Ausreißern, was im medizinischen Kontext schnell zu Fehlentscheidungen führen kann.\n",
    "\n",
    "Insgesamt bietet das Modell mit p = 3 eine ausgewogene Performance, die in etwa mit den Varianten unter Verwendung der euklidischen oder Manhattan-Distanz vergleichbar ist."
   ]
  },
  {
   "cell_type": "markdown",
   "metadata": {},
   "source": [
    "### 3.4 Support Vector Machine\n",
    "\n",
    "SVM ist ein supervised Klassifikationsverfahren, das eine Hyperebene mit dem größtmöglichen Abstand zwischen zwei Klassen findet.\n",
    "Wichtig sind dabei die Support-Vektoren, die die Trennung bestimmen.\n",
    "SVMs sind leistungsstark, aber oft schwer interpretierbar und rechenintensiv. Mit Soft-Margin können auch nicht perfekt trennbare Daten verarbeitet werden (vgl. Skript ML_07_Modelle-IV S.41-49)."
   ]
  },
  {
   "cell_type": "code",
   "execution_count": 28,
   "metadata": {},
   "outputs": [
    {
     "name": "stdout",
     "output_type": "stream",
     "text": [
      "Model accuracy: 0.855\n",
      "              precision    recall  f1-score   support\n",
      "\n",
      "           0      0.822     0.862     0.841       123\n",
      "           1      0.884     0.850     0.867       153\n",
      "\n",
      "    accuracy                          0.855       276\n",
      "   macro avg      0.853     0.856     0.854       276\n",
      "weighted avg      0.856     0.855     0.855       276\n",
      "\n"
     ]
    }
   ],
   "source": [
    "# Create SVM model with a linear kernel\n",
    "svm_model = SVC(kernel='rbf', random_state=42)\n",
    "\n",
    "# Train the model\n",
    "svm_model.fit(X_train, y_train)\n",
    "\n",
    "# Make predictions\n",
    "y_pred_svm = svm_model.predict(X_test)\n",
    "\n",
    "# Save results using the helper function\n",
    "save_results(\"SVM (rbf)\", y_test, y_pred_svm, results)"
   ]
  },
  {
   "cell_type": "markdown",
   "metadata": {},
   "source": [
    "Das SVM-Modell erreicht eine Genauigkeit von 77 % und liefert damit ein gutes Ergebnis, vergleichbar mit AdaBoost und den besten k-NN-Varianten.\n",
    "Die Klasse 0 (keine KHK) wird mit 79 % Recall gut erkannt, allerdings liegt die Präzision bei 69 %, was auf einige falsch positive Vorhersagen hinweist.\n",
    "Klasse 1 (KHK) zeigt eine hohe Präzision von 83 % bei solidem Recall von 75 %. Das Modell identifiziert KHK-Fälle also sehr zuverlässig.\n",
    "\n",
    "Da ein linearer Kernel verwendet wird, zeigt das gute Ergebnis, dass sich die Daten offenbar weitgehend linear trennen lassen, was auch durch die gute Balance von Präzision und Recall unterstrichen wird.\n",
    "Gleichzeitig ist das Modell einfacher und weniger komplex zu trainieren als nichtlineare SVMs (vgl. https://www.ibm.com/think/topics/support-vector-machine)."
   ]
  },
  {
   "cell_type": "markdown",
   "metadata": {},
   "source": [
    "### 3.5 Neuronales Netz\n",
    "\n",
    "Ein neuronales Netz besteht aus mehreren Schichten künstlicher Neuronen, die über gewichtete Verbindungen Informationen weitergeben.\n",
    "Ein Neuron wird aktiviert, wenn sein Output einen Schwellenwert überschreitet. So lernt das Netz, Muster in Daten zu erkennen (vgl. https://www.ibm.com/de-de/topics/neural-networks).\n"
   ]
  },
  {
   "cell_type": "markdown",
   "metadata": {},
   "source": [
    "#### 3.5.1 Aktivierungsfunktionen\n",
    "ReLu (Rectified Linear Unit): gibt nur positive Werte weiter, negative werden zu null. Dadurch bleibt das Netzwerk recheneffizient, und nur wichtige Neuronen werden aktiviert. Das hilft dem Modell beim schnellen und stabilen Lernen (vgl. https://www.ultralytics.com/de/glossary/relu-rectified-linear-unit).\n",
    "\n",
    "Sigmoid: wandelt jeden beliebigen Wert in einen Bereich zwischen 0 und 1 um. Es ergibt sich eine S-Kurve. Sigmoid wird häufig genutzt um Ausgaben als Wahrscheinlichkeiten abzubilden (vgl. https://deepai.org/machine-learning-glossary-and-terms/sigmoid-function)."
   ]
  },
  {
   "cell_type": "code",
   "execution_count": 29,
   "metadata": {},
   "outputs": [],
   "source": [
    "def create_model(optimizer):\n",
    "    # Define the model architecture\n",
    "    model = Sequential([\n",
    "        Dense(64, activation='relu', input_shape=(X_train.shape[1],)),  # First hidden layer\n",
    "        Dense(32, activation='relu'),  # Second hidden layer\n",
    "        Dense(16, activation='relu'),  # Third hidden layer\n",
    "        Dense(1, activation='sigmoid')  # Output layer (binary classification)\n",
    "    ])\n",
    "\n",
    "    # Compile the model\n",
    "    model.compile(optimizer=optimizer,  # Set optimizer\n",
    "                  loss='binary_crossentropy',  # Loss function for binary classification\n",
    "                  metrics=['accuracy'])  # Metrics to track during training\n",
    "\n",
    "    # Display model summary\n",
    "    model.summary()\n",
    "    return model\n"
   ]
  },
  {
   "cell_type": "markdown",
   "metadata": {},
   "source": [
    "#### 3.5.2 Neuronales Netz mit SGD-Optimizer"
   ]
  },
  {
   "cell_type": "code",
   "execution_count": 30,
   "metadata": {},
   "outputs": [
    {
     "name": "stderr",
     "output_type": "stream",
     "text": [
      "/opt/anaconda3/envs/ML/lib/python3.12/site-packages/keras/src/layers/core/dense.py:87: UserWarning:\n",
      "\n",
      "Do not pass an `input_shape`/`input_dim` argument to a layer. When using Sequential models, prefer using an `Input(shape)` object as the first layer in the model instead.\n",
      "\n"
     ]
    },
    {
     "data": {
      "text/html": [
       "<pre style=\"white-space:pre;overflow-x:auto;line-height:normal;font-family:Menlo,'DejaVu Sans Mono',consolas,'Courier New',monospace\"><span style=\"font-weight: bold\">Model: \"sequential\"</span>\n",
       "</pre>\n"
      ],
      "text/plain": [
       "\u001b[1mModel: \"sequential\"\u001b[0m\n"
      ]
     },
     "metadata": {},
     "output_type": "display_data"
    },
    {
     "data": {
      "text/html": [
       "<pre style=\"white-space:pre;overflow-x:auto;line-height:normal;font-family:Menlo,'DejaVu Sans Mono',consolas,'Courier New',monospace\">┏━━━━━━━━━━━━━━━━━━━━━━━━━━━━━━━━━┳━━━━━━━━━━━━━━━━━━━━━━━━┳━━━━━━━━━━━━━━━┓\n",
       "┃<span style=\"font-weight: bold\"> Layer (type)                    </span>┃<span style=\"font-weight: bold\"> Output Shape           </span>┃<span style=\"font-weight: bold\">       Param # </span>┃\n",
       "┡━━━━━━━━━━━━━━━━━━━━━━━━━━━━━━━━━╇━━━━━━━━━━━━━━━━━━━━━━━━╇━━━━━━━━━━━━━━━┩\n",
       "│ dense (<span style=\"color: #0087ff; text-decoration-color: #0087ff\">Dense</span>)                   │ (<span style=\"color: #00d7ff; text-decoration-color: #00d7ff\">None</span>, <span style=\"color: #00af00; text-decoration-color: #00af00\">64</span>)             │           <span style=\"color: #00af00; text-decoration-color: #00af00\">640</span> │\n",
       "├─────────────────────────────────┼────────────────────────┼───────────────┤\n",
       "│ dense_1 (<span style=\"color: #0087ff; text-decoration-color: #0087ff\">Dense</span>)                 │ (<span style=\"color: #00d7ff; text-decoration-color: #00d7ff\">None</span>, <span style=\"color: #00af00; text-decoration-color: #00af00\">32</span>)             │         <span style=\"color: #00af00; text-decoration-color: #00af00\">2,080</span> │\n",
       "├─────────────────────────────────┼────────────────────────┼───────────────┤\n",
       "│ dense_2 (<span style=\"color: #0087ff; text-decoration-color: #0087ff\">Dense</span>)                 │ (<span style=\"color: #00d7ff; text-decoration-color: #00d7ff\">None</span>, <span style=\"color: #00af00; text-decoration-color: #00af00\">16</span>)             │           <span style=\"color: #00af00; text-decoration-color: #00af00\">528</span> │\n",
       "├─────────────────────────────────┼────────────────────────┼───────────────┤\n",
       "│ dense_3 (<span style=\"color: #0087ff; text-decoration-color: #0087ff\">Dense</span>)                 │ (<span style=\"color: #00d7ff; text-decoration-color: #00d7ff\">None</span>, <span style=\"color: #00af00; text-decoration-color: #00af00\">1</span>)              │            <span style=\"color: #00af00; text-decoration-color: #00af00\">17</span> │\n",
       "└─────────────────────────────────┴────────────────────────┴───────────────┘\n",
       "</pre>\n"
      ],
      "text/plain": [
       "┏━━━━━━━━━━━━━━━━━━━━━━━━━━━━━━━━━┳━━━━━━━━━━━━━━━━━━━━━━━━┳━━━━━━━━━━━━━━━┓\n",
       "┃\u001b[1m \u001b[0m\u001b[1mLayer (type)                   \u001b[0m\u001b[1m \u001b[0m┃\u001b[1m \u001b[0m\u001b[1mOutput Shape          \u001b[0m\u001b[1m \u001b[0m┃\u001b[1m \u001b[0m\u001b[1m      Param #\u001b[0m\u001b[1m \u001b[0m┃\n",
       "┡━━━━━━━━━━━━━━━━━━━━━━━━━━━━━━━━━╇━━━━━━━━━━━━━━━━━━━━━━━━╇━━━━━━━━━━━━━━━┩\n",
       "│ dense (\u001b[38;5;33mDense\u001b[0m)                   │ (\u001b[38;5;45mNone\u001b[0m, \u001b[38;5;34m64\u001b[0m)             │           \u001b[38;5;34m640\u001b[0m │\n",
       "├─────────────────────────────────┼────────────────────────┼───────────────┤\n",
       "│ dense_1 (\u001b[38;5;33mDense\u001b[0m)                 │ (\u001b[38;5;45mNone\u001b[0m, \u001b[38;5;34m32\u001b[0m)             │         \u001b[38;5;34m2,080\u001b[0m │\n",
       "├─────────────────────────────────┼────────────────────────┼───────────────┤\n",
       "│ dense_2 (\u001b[38;5;33mDense\u001b[0m)                 │ (\u001b[38;5;45mNone\u001b[0m, \u001b[38;5;34m16\u001b[0m)             │           \u001b[38;5;34m528\u001b[0m │\n",
       "├─────────────────────────────────┼────────────────────────┼───────────────┤\n",
       "│ dense_3 (\u001b[38;5;33mDense\u001b[0m)                 │ (\u001b[38;5;45mNone\u001b[0m, \u001b[38;5;34m1\u001b[0m)              │            \u001b[38;5;34m17\u001b[0m │\n",
       "└─────────────────────────────────┴────────────────────────┴───────────────┘\n"
      ]
     },
     "metadata": {},
     "output_type": "display_data"
    },
    {
     "data": {
      "text/html": [
       "<pre style=\"white-space:pre;overflow-x:auto;line-height:normal;font-family:Menlo,'DejaVu Sans Mono',consolas,'Courier New',monospace\"><span style=\"font-weight: bold\"> Total params: </span><span style=\"color: #00af00; text-decoration-color: #00af00\">3,265</span> (12.75 KB)\n",
       "</pre>\n"
      ],
      "text/plain": [
       "\u001b[1m Total params: \u001b[0m\u001b[38;5;34m3,265\u001b[0m (12.75 KB)\n"
      ]
     },
     "metadata": {},
     "output_type": "display_data"
    },
    {
     "data": {
      "text/html": [
       "<pre style=\"white-space:pre;overflow-x:auto;line-height:normal;font-family:Menlo,'DejaVu Sans Mono',consolas,'Courier New',monospace\"><span style=\"font-weight: bold\"> Trainable params: </span><span style=\"color: #00af00; text-decoration-color: #00af00\">3,265</span> (12.75 KB)\n",
       "</pre>\n"
      ],
      "text/plain": [
       "\u001b[1m Trainable params: \u001b[0m\u001b[38;5;34m3,265\u001b[0m (12.75 KB)\n"
      ]
     },
     "metadata": {},
     "output_type": "display_data"
    },
    {
     "data": {
      "text/html": [
       "<pre style=\"white-space:pre;overflow-x:auto;line-height:normal;font-family:Menlo,'DejaVu Sans Mono',consolas,'Courier New',monospace\"><span style=\"font-weight: bold\"> Non-trainable params: </span><span style=\"color: #00af00; text-decoration-color: #00af00\">0</span> (0.00 B)\n",
       "</pre>\n"
      ],
      "text/plain": [
       "\u001b[1m Non-trainable params: \u001b[0m\u001b[38;5;34m0\u001b[0m (0.00 B)\n"
      ]
     },
     "metadata": {},
     "output_type": "display_data"
    },
    {
     "name": "stdout",
     "output_type": "stream",
     "text": [
      "Epoch 1/50\n",
      "\u001b[1m17/17\u001b[0m \u001b[32m━━━━━━━━━━━━━━━━━━━━\u001b[0m\u001b[37m\u001b[0m \u001b[1m0s\u001b[0m 5ms/step - accuracy: 0.6462 - loss: 0.6406 - val_accuracy: 0.6667 - val_loss: 0.6322\n",
      "Epoch 2/50\n",
      "\u001b[1m17/17\u001b[0m \u001b[32m━━━━━━━━━━━━━━━━━━━━\u001b[0m\u001b[37m\u001b[0m \u001b[1m0s\u001b[0m 2ms/step - accuracy: 0.6699 - loss: 0.6252 - val_accuracy: 0.6744 - val_loss: 0.6188\n",
      "Epoch 3/50\n",
      "\u001b[1m17/17\u001b[0m \u001b[32m━━━━━━━━━━━━━━━━━━━━\u001b[0m\u001b[37m\u001b[0m \u001b[1m0s\u001b[0m 2ms/step - accuracy: 0.6870 - loss: 0.6146 - val_accuracy: 0.6822 - val_loss: 0.6069\n",
      "Epoch 4/50\n",
      "\u001b[1m17/17\u001b[0m \u001b[32m━━━━━━━━━━━━━━━━━━━━\u001b[0m\u001b[37m\u001b[0m \u001b[1m0s\u001b[0m 2ms/step - accuracy: 0.7138 - loss: 0.6030 - val_accuracy: 0.7287 - val_loss: 0.5957\n",
      "Epoch 5/50\n",
      "\u001b[1m17/17\u001b[0m \u001b[32m━━━━━━━━━━━━━━━━━━━━\u001b[0m\u001b[37m\u001b[0m \u001b[1m0s\u001b[0m 2ms/step - accuracy: 0.7190 - loss: 0.5789 - val_accuracy: 0.7287 - val_loss: 0.5861\n",
      "Epoch 6/50\n",
      "\u001b[1m17/17\u001b[0m \u001b[32m━━━━━━━━━━━━━━━━━━━━\u001b[0m\u001b[37m\u001b[0m \u001b[1m0s\u001b[0m 2ms/step - accuracy: 0.7444 - loss: 0.5658 - val_accuracy: 0.7442 - val_loss: 0.5791\n",
      "Epoch 7/50\n",
      "\u001b[1m17/17\u001b[0m \u001b[32m━━━━━━━━━━━━━━━━━━━━\u001b[0m\u001b[37m\u001b[0m \u001b[1m0s\u001b[0m 2ms/step - accuracy: 0.7527 - loss: 0.5590 - val_accuracy: 0.7519 - val_loss: 0.5709\n",
      "Epoch 8/50\n",
      "\u001b[1m17/17\u001b[0m \u001b[32m━━━━━━━━━━━━━━━━━━━━\u001b[0m\u001b[37m\u001b[0m \u001b[1m0s\u001b[0m 2ms/step - accuracy: 0.7692 - loss: 0.5324 - val_accuracy: 0.7674 - val_loss: 0.5667\n",
      "Epoch 9/50\n",
      "\u001b[1m17/17\u001b[0m \u001b[32m━━━━━━━━━━━━━━━━━━━━\u001b[0m\u001b[37m\u001b[0m \u001b[1m0s\u001b[0m 2ms/step - accuracy: 0.7724 - loss: 0.5374 - val_accuracy: 0.7597 - val_loss: 0.5594\n",
      "Epoch 10/50\n",
      "\u001b[1m17/17\u001b[0m \u001b[32m━━━━━━━━━━━━━━━━━━━━\u001b[0m\u001b[37m\u001b[0m \u001b[1m0s\u001b[0m 2ms/step - accuracy: 0.7671 - loss: 0.5250 - val_accuracy: 0.7597 - val_loss: 0.5533\n",
      "Epoch 11/50\n",
      "\u001b[1m17/17\u001b[0m \u001b[32m━━━━━━━━━━━━━━━━━━━━\u001b[0m\u001b[37m\u001b[0m \u001b[1m0s\u001b[0m 2ms/step - accuracy: 0.7531 - loss: 0.5199 - val_accuracy: 0.7519 - val_loss: 0.5474\n",
      "Epoch 12/50\n",
      "\u001b[1m17/17\u001b[0m \u001b[32m━━━━━━━━━━━━━━━━━━━━\u001b[0m\u001b[37m\u001b[0m \u001b[1m0s\u001b[0m 2ms/step - accuracy: 0.7724 - loss: 0.5008 - val_accuracy: 0.7519 - val_loss: 0.5434\n",
      "Epoch 13/50\n",
      "\u001b[1m17/17\u001b[0m \u001b[32m━━━━━━━━━━━━━━━━━━━━\u001b[0m\u001b[37m\u001b[0m \u001b[1m0s\u001b[0m 2ms/step - accuracy: 0.7657 - loss: 0.4887 - val_accuracy: 0.7674 - val_loss: 0.5438\n",
      "Epoch 14/50\n",
      "\u001b[1m17/17\u001b[0m \u001b[32m━━━━━━━━━━━━━━━━━━━━\u001b[0m\u001b[37m\u001b[0m \u001b[1m0s\u001b[0m 2ms/step - accuracy: 0.7560 - loss: 0.5033 - val_accuracy: 0.7364 - val_loss: 0.5403\n",
      "Epoch 15/50\n",
      "\u001b[1m17/17\u001b[0m \u001b[32m━━━━━━━━━━━━━━━━━━━━\u001b[0m\u001b[37m\u001b[0m \u001b[1m0s\u001b[0m 2ms/step - accuracy: 0.7730 - loss: 0.4745 - val_accuracy: 0.7364 - val_loss: 0.5384\n",
      "Epoch 16/50\n",
      "\u001b[1m17/17\u001b[0m \u001b[32m━━━━━━━━━━━━━━━━━━━━\u001b[0m\u001b[37m\u001b[0m \u001b[1m0s\u001b[0m 2ms/step - accuracy: 0.7819 - loss: 0.4619 - val_accuracy: 0.7519 - val_loss: 0.5391\n",
      "Epoch 17/50\n",
      "\u001b[1m17/17\u001b[0m \u001b[32m━━━━━━━━━━━━━━━━━━━━\u001b[0m\u001b[37m\u001b[0m \u001b[1m0s\u001b[0m 2ms/step - accuracy: 0.7547 - loss: 0.4923 - val_accuracy: 0.7519 - val_loss: 0.5386\n",
      "Epoch 18/50\n",
      "\u001b[1m17/17\u001b[0m \u001b[32m━━━━━━━━━━━━━━━━━━━━\u001b[0m\u001b[37m\u001b[0m \u001b[1m0s\u001b[0m 2ms/step - accuracy: 0.7855 - loss: 0.4628 - val_accuracy: 0.7287 - val_loss: 0.5348\n",
      "Epoch 19/50\n",
      "\u001b[1m17/17\u001b[0m \u001b[32m━━━━━━━━━━━━━━━━━━━━\u001b[0m\u001b[37m\u001b[0m \u001b[1m0s\u001b[0m 2ms/step - accuracy: 0.8087 - loss: 0.4586 - val_accuracy: 0.7209 - val_loss: 0.5358\n",
      "Epoch 20/50\n",
      "\u001b[1m17/17\u001b[0m \u001b[32m━━━━━━━━━━━━━━━━━━━━\u001b[0m\u001b[37m\u001b[0m \u001b[1m0s\u001b[0m 2ms/step - accuracy: 0.8006 - loss: 0.4546 - val_accuracy: 0.7209 - val_loss: 0.5366\n",
      "Epoch 21/50\n",
      "\u001b[1m17/17\u001b[0m \u001b[32m━━━━━━━━━━━━━━━━━━━━\u001b[0m\u001b[37m\u001b[0m \u001b[1m0s\u001b[0m 2ms/step - accuracy: 0.8196 - loss: 0.4147 - val_accuracy: 0.7287 - val_loss: 0.5372\n",
      "Epoch 22/50\n",
      "\u001b[1m17/17\u001b[0m \u001b[32m━━━━━━━━━━━━━━━━━━━━\u001b[0m\u001b[37m\u001b[0m \u001b[1m0s\u001b[0m 2ms/step - accuracy: 0.8000 - loss: 0.4374 - val_accuracy: 0.7287 - val_loss: 0.5380\n",
      "Epoch 23/50\n",
      "\u001b[1m17/17\u001b[0m \u001b[32m━━━━━━━━━━━━━━━━━━━━\u001b[0m\u001b[37m\u001b[0m \u001b[1m0s\u001b[0m 2ms/step - accuracy: 0.8069 - loss: 0.4412 - val_accuracy: 0.7287 - val_loss: 0.5378\n",
      "Epoch 24/50\n",
      "\u001b[1m17/17\u001b[0m \u001b[32m━━━━━━━━━━━━━━━━━━━━\u001b[0m\u001b[37m\u001b[0m \u001b[1m0s\u001b[0m 2ms/step - accuracy: 0.7862 - loss: 0.4610 - val_accuracy: 0.7287 - val_loss: 0.5377\n",
      "Epoch 25/50\n",
      "\u001b[1m17/17\u001b[0m \u001b[32m━━━━━━━━━━━━━━━━━━━━\u001b[0m\u001b[37m\u001b[0m \u001b[1m0s\u001b[0m 2ms/step - accuracy: 0.8235 - loss: 0.4161 - val_accuracy: 0.7287 - val_loss: 0.5384\n",
      "Epoch 26/50\n",
      "\u001b[1m17/17\u001b[0m \u001b[32m━━━━━━━━━━━━━━━━━━━━\u001b[0m\u001b[37m\u001b[0m \u001b[1m0s\u001b[0m 2ms/step - accuracy: 0.8203 - loss: 0.4213 - val_accuracy: 0.7364 - val_loss: 0.5394\n",
      "Epoch 27/50\n",
      "\u001b[1m17/17\u001b[0m \u001b[32m━━━━━━━━━━━━━━━━━━━━\u001b[0m\u001b[37m\u001b[0m \u001b[1m0s\u001b[0m 2ms/step - accuracy: 0.7843 - loss: 0.4439 - val_accuracy: 0.7442 - val_loss: 0.5408\n",
      "Epoch 28/50\n",
      "\u001b[1m17/17\u001b[0m \u001b[32m━━━━━━━━━━━━━━━━━━━━\u001b[0m\u001b[37m\u001b[0m \u001b[1m0s\u001b[0m 2ms/step - accuracy: 0.8037 - loss: 0.4237 - val_accuracy: 0.7364 - val_loss: 0.5414\n",
      "Epoch 29/50\n",
      "\u001b[1m17/17\u001b[0m \u001b[32m━━━━━━━━━━━━━━━━━━━━\u001b[0m\u001b[37m\u001b[0m \u001b[1m0s\u001b[0m 2ms/step - accuracy: 0.7826 - loss: 0.4454 - val_accuracy: 0.7364 - val_loss: 0.5425\n",
      "Epoch 30/50\n",
      "\u001b[1m17/17\u001b[0m \u001b[32m━━━━━━━━━━━━━━━━━━━━\u001b[0m\u001b[37m\u001b[0m \u001b[1m0s\u001b[0m 2ms/step - accuracy: 0.8072 - loss: 0.4201 - val_accuracy: 0.7442 - val_loss: 0.5435\n",
      "Epoch 31/50\n",
      "\u001b[1m17/17\u001b[0m \u001b[32m━━━━━━━━━━━━━━━━━━━━\u001b[0m\u001b[37m\u001b[0m \u001b[1m0s\u001b[0m 2ms/step - accuracy: 0.8078 - loss: 0.4068 - val_accuracy: 0.7442 - val_loss: 0.5437\n",
      "Epoch 32/50\n",
      "\u001b[1m17/17\u001b[0m \u001b[32m━━━━━━━━━━━━━━━━━━━━\u001b[0m\u001b[37m\u001b[0m \u001b[1m0s\u001b[0m 2ms/step - accuracy: 0.8147 - loss: 0.4212 - val_accuracy: 0.7442 - val_loss: 0.5450\n",
      "Epoch 33/50\n",
      "\u001b[1m17/17\u001b[0m \u001b[32m━━━━━━━━━━━━━━━━━━━━\u001b[0m\u001b[37m\u001b[0m \u001b[1m0s\u001b[0m 2ms/step - accuracy: 0.8060 - loss: 0.4232 - val_accuracy: 0.7519 - val_loss: 0.5469\n",
      "Epoch 34/50\n",
      "\u001b[1m17/17\u001b[0m \u001b[32m━━━━━━━━━━━━━━━━━━━━\u001b[0m\u001b[37m\u001b[0m \u001b[1m0s\u001b[0m 2ms/step - accuracy: 0.7878 - loss: 0.4360 - val_accuracy: 0.7519 - val_loss: 0.5480\n",
      "Epoch 35/50\n",
      "\u001b[1m17/17\u001b[0m \u001b[32m━━━━━━━━━━━━━━━━━━━━\u001b[0m\u001b[37m\u001b[0m \u001b[1m0s\u001b[0m 2ms/step - accuracy: 0.8331 - loss: 0.3963 - val_accuracy: 0.7519 - val_loss: 0.5506\n",
      "Epoch 36/50\n",
      "\u001b[1m17/17\u001b[0m \u001b[32m━━━━━━━━━━━━━━━━━━━━\u001b[0m\u001b[37m\u001b[0m \u001b[1m0s\u001b[0m 2ms/step - accuracy: 0.8095 - loss: 0.4152 - val_accuracy: 0.7364 - val_loss: 0.5516\n",
      "Epoch 37/50\n",
      "\u001b[1m17/17\u001b[0m \u001b[32m━━━━━━━━━━━━━━━━━━━━\u001b[0m\u001b[37m\u001b[0m \u001b[1m0s\u001b[0m 2ms/step - accuracy: 0.8018 - loss: 0.4155 - val_accuracy: 0.7597 - val_loss: 0.5522\n",
      "Epoch 38/50\n",
      "\u001b[1m17/17\u001b[0m \u001b[32m━━━━━━━━━━━━━━━━━━━━\u001b[0m\u001b[37m\u001b[0m \u001b[1m0s\u001b[0m 2ms/step - accuracy: 0.8318 - loss: 0.3950 - val_accuracy: 0.7519 - val_loss: 0.5533\n",
      "Epoch 39/50\n",
      "\u001b[1m17/17\u001b[0m \u001b[32m━━━━━━━━━━━━━━━━━━━━\u001b[0m\u001b[37m\u001b[0m \u001b[1m0s\u001b[0m 3ms/step - accuracy: 0.8261 - loss: 0.3908 - val_accuracy: 0.7519 - val_loss: 0.5550\n",
      "Epoch 40/50\n",
      "\u001b[1m17/17\u001b[0m \u001b[32m━━━━━━━━━━━━━━━━━━━━\u001b[0m\u001b[37m\u001b[0m \u001b[1m0s\u001b[0m 2ms/step - accuracy: 0.8185 - loss: 0.3952 - val_accuracy: 0.7519 - val_loss: 0.5562\n",
      "Epoch 41/50\n",
      "\u001b[1m17/17\u001b[0m \u001b[32m━━━━━━━━━━━━━━━━━━━━\u001b[0m\u001b[37m\u001b[0m \u001b[1m0s\u001b[0m 2ms/step - accuracy: 0.8389 - loss: 0.3685 - val_accuracy: 0.7442 - val_loss: 0.5575\n",
      "Epoch 42/50\n",
      "\u001b[1m17/17\u001b[0m \u001b[32m━━━━━━━━━━━━━━━━━━━━\u001b[0m\u001b[37m\u001b[0m \u001b[1m0s\u001b[0m 2ms/step - accuracy: 0.8074 - loss: 0.4104 - val_accuracy: 0.7364 - val_loss: 0.5611\n",
      "Epoch 43/50\n",
      "\u001b[1m17/17\u001b[0m \u001b[32m━━━━━━━━━━━━━━━━━━━━\u001b[0m\u001b[37m\u001b[0m \u001b[1m0s\u001b[0m 2ms/step - accuracy: 0.8256 - loss: 0.4049 - val_accuracy: 0.7519 - val_loss: 0.5583\n",
      "Epoch 44/50\n",
      "\u001b[1m17/17\u001b[0m \u001b[32m━━━━━━━━━━━━━━━━━━━━\u001b[0m\u001b[37m\u001b[0m \u001b[1m0s\u001b[0m 2ms/step - accuracy: 0.8246 - loss: 0.3879 - val_accuracy: 0.7364 - val_loss: 0.5577\n",
      "Epoch 45/50\n",
      "\u001b[1m17/17\u001b[0m \u001b[32m━━━━━━━━━━━━━━━━━━━━\u001b[0m\u001b[37m\u001b[0m \u001b[1m0s\u001b[0m 5ms/step - accuracy: 0.8331 - loss: 0.3962 - val_accuracy: 0.7364 - val_loss: 0.5596\n",
      "Epoch 46/50\n",
      "\u001b[1m17/17\u001b[0m \u001b[32m━━━━━━━━━━━━━━━━━━━━\u001b[0m\u001b[37m\u001b[0m \u001b[1m0s\u001b[0m 2ms/step - accuracy: 0.8339 - loss: 0.3840 - val_accuracy: 0.7209 - val_loss: 0.5656\n",
      "Epoch 47/50\n",
      "\u001b[1m17/17\u001b[0m \u001b[32m━━━━━━━━━━━━━━━━━━━━\u001b[0m\u001b[37m\u001b[0m \u001b[1m0s\u001b[0m 2ms/step - accuracy: 0.8160 - loss: 0.4084 - val_accuracy: 0.7287 - val_loss: 0.5661\n",
      "Epoch 48/50\n",
      "\u001b[1m17/17\u001b[0m \u001b[32m━━━━━━━━━━━━━━━━━━━━\u001b[0m\u001b[37m\u001b[0m \u001b[1m0s\u001b[0m 2ms/step - accuracy: 0.8424 - loss: 0.3660 - val_accuracy: 0.7287 - val_loss: 0.5673\n",
      "Epoch 49/50\n",
      "\u001b[1m17/17\u001b[0m \u001b[32m━━━━━━━━━━━━━━━━━━━━\u001b[0m\u001b[37m\u001b[0m \u001b[1m0s\u001b[0m 2ms/step - accuracy: 0.8711 - loss: 0.3482 - val_accuracy: 0.7287 - val_loss: 0.5683\n",
      "Epoch 50/50\n",
      "\u001b[1m17/17\u001b[0m \u001b[32m━━━━━━━━━━━━━━━━━━━━\u001b[0m\u001b[37m\u001b[0m \u001b[1m0s\u001b[0m 2ms/step - accuracy: 0.8311 - loss: 0.4023 - val_accuracy: 0.7364 - val_loss: 0.5694\n",
      "\u001b[1m9/9\u001b[0m \u001b[32m━━━━━━━━━━━━━━━━━━━━\u001b[0m\u001b[37m\u001b[0m \u001b[1m0s\u001b[0m 1ms/step - accuracy: 0.8307 - loss: 0.4126\n"
     ]
    },
    {
     "data": {
      "application/vnd.plotly.v1+json": {
       "config": {
        "plotlyServerURL": "https://plot.ly"
       },
       "data": [
        {
         "mode": "lines",
         "name": "Training Accuracy",
         "type": "scatter",
         "x": [
          1,
          2,
          3,
          4,
          5,
          6,
          7,
          8,
          9,
          10,
          11,
          12,
          13,
          14,
          15,
          16,
          17,
          18,
          19,
          20,
          21,
          22,
          23,
          24,
          25,
          26,
          27,
          28,
          29,
          30,
          31,
          32,
          33,
          34,
          35,
          36,
          37,
          38,
          39,
          40,
          41,
          42,
          43,
          44,
          45,
          46,
          47,
          48,
          49,
          50
         ],
         "y": [
          0.6549707651138306,
          0.6939570903778076,
          0.7115010023117065,
          0.7212475538253784,
          0.7329434752464294,
          0.7348927855491638,
          0.752436637878418,
          0.7582846283912659,
          0.7660818696022034,
          0.7621832489967346,
          0.7738791704177856,
          0.7680311799049377,
          0.7738791704177856,
          0.7680311799049377,
          0.7719298005104065,
          0.7816764116287231,
          0.7836257219314575,
          0.7875243425369263,
          0.7972709536552429,
          0.803118884563446,
          0.803118884563446,
          0.803118884563446,
          0.808966875076294,
          0.8070175647735596,
          0.808966875076294,
          0.8128654956817627,
          0.8109161853790283,
          0.8128654956817627,
          0.8128654956817627,
          0.8167641162872314,
          0.8167641162872314,
          0.8167641162872314,
          0.8187134265899658,
          0.8187134265899658,
          0.8226121068000793,
          0.8226121068000793,
          0.8226121068000793,
          0.8226121068000793,
          0.8226121068000793,
          0.8245614171028137,
          0.8245614171028137,
          0.8245614171028137,
          0.8245614171028137,
          0.8265107274055481,
          0.8245614171028137,
          0.8323586583137512,
          0.8304093480110168,
          0.8284600377082825,
          0.8304093480110168,
          0.8343079686164856
         ]
        },
        {
         "mode": "lines",
         "name": "Validation Accuracy",
         "type": "scatter",
         "x": [
          1,
          2,
          3,
          4,
          5,
          6,
          7,
          8,
          9,
          10,
          11,
          12,
          13,
          14,
          15,
          16,
          17,
          18,
          19,
          20,
          21,
          22,
          23,
          24,
          25,
          26,
          27,
          28,
          29,
          30,
          31,
          32,
          33,
          34,
          35,
          36,
          37,
          38,
          39,
          40,
          41,
          42,
          43,
          44,
          45,
          46,
          47,
          48,
          49,
          50
         ],
         "y": [
          0.6666666865348816,
          0.6744186282157898,
          0.682170569896698,
          0.7286821603775024,
          0.7286821603775024,
          0.7441860437393188,
          0.751937985420227,
          0.7674418687820435,
          0.7596899271011353,
          0.7596899271011353,
          0.751937985420227,
          0.751937985420227,
          0.7674418687820435,
          0.7364341020584106,
          0.7364341020584106,
          0.751937985420227,
          0.751937985420227,
          0.7286821603775024,
          0.7209302186965942,
          0.7209302186965942,
          0.7286821603775024,
          0.7286821603775024,
          0.7286821603775024,
          0.7286821603775024,
          0.7286821603775024,
          0.7364341020584106,
          0.7441860437393188,
          0.7364341020584106,
          0.7364341020584106,
          0.7441860437393188,
          0.7441860437393188,
          0.7441860437393188,
          0.751937985420227,
          0.751937985420227,
          0.751937985420227,
          0.7364341020584106,
          0.7596899271011353,
          0.751937985420227,
          0.751937985420227,
          0.751937985420227,
          0.7441860437393188,
          0.7364341020584106,
          0.751937985420227,
          0.7364341020584106,
          0.7364341020584106,
          0.7209302186965942,
          0.7286821603775024,
          0.7286821603775024,
          0.7286821603775024,
          0.7364341020584106
         ]
        }
       ],
       "layout": {
        "template": {
         "data": {
          "bar": [
           {
            "error_x": {
             "color": "#2a3f5f"
            },
            "error_y": {
             "color": "#2a3f5f"
            },
            "marker": {
             "line": {
              "color": "#E5ECF6",
              "width": 0.5
             },
             "pattern": {
              "fillmode": "overlay",
              "size": 10,
              "solidity": 0.2
             }
            },
            "type": "bar"
           }
          ],
          "barpolar": [
           {
            "marker": {
             "line": {
              "color": "#E5ECF6",
              "width": 0.5
             },
             "pattern": {
              "fillmode": "overlay",
              "size": 10,
              "solidity": 0.2
             }
            },
            "type": "barpolar"
           }
          ],
          "carpet": [
           {
            "aaxis": {
             "endlinecolor": "#2a3f5f",
             "gridcolor": "white",
             "linecolor": "white",
             "minorgridcolor": "white",
             "startlinecolor": "#2a3f5f"
            },
            "baxis": {
             "endlinecolor": "#2a3f5f",
             "gridcolor": "white",
             "linecolor": "white",
             "minorgridcolor": "white",
             "startlinecolor": "#2a3f5f"
            },
            "type": "carpet"
           }
          ],
          "choropleth": [
           {
            "colorbar": {
             "outlinewidth": 0,
             "ticks": ""
            },
            "type": "choropleth"
           }
          ],
          "contour": [
           {
            "colorbar": {
             "outlinewidth": 0,
             "ticks": ""
            },
            "colorscale": [
             [
              0,
              "#0d0887"
             ],
             [
              0.1111111111111111,
              "#46039f"
             ],
             [
              0.2222222222222222,
              "#7201a8"
             ],
             [
              0.3333333333333333,
              "#9c179e"
             ],
             [
              0.4444444444444444,
              "#bd3786"
             ],
             [
              0.5555555555555556,
              "#d8576b"
             ],
             [
              0.6666666666666666,
              "#ed7953"
             ],
             [
              0.7777777777777778,
              "#fb9f3a"
             ],
             [
              0.8888888888888888,
              "#fdca26"
             ],
             [
              1,
              "#f0f921"
             ]
            ],
            "type": "contour"
           }
          ],
          "contourcarpet": [
           {
            "colorbar": {
             "outlinewidth": 0,
             "ticks": ""
            },
            "type": "contourcarpet"
           }
          ],
          "heatmap": [
           {
            "colorbar": {
             "outlinewidth": 0,
             "ticks": ""
            },
            "colorscale": [
             [
              0,
              "#0d0887"
             ],
             [
              0.1111111111111111,
              "#46039f"
             ],
             [
              0.2222222222222222,
              "#7201a8"
             ],
             [
              0.3333333333333333,
              "#9c179e"
             ],
             [
              0.4444444444444444,
              "#bd3786"
             ],
             [
              0.5555555555555556,
              "#d8576b"
             ],
             [
              0.6666666666666666,
              "#ed7953"
             ],
             [
              0.7777777777777778,
              "#fb9f3a"
             ],
             [
              0.8888888888888888,
              "#fdca26"
             ],
             [
              1,
              "#f0f921"
             ]
            ],
            "type": "heatmap"
           }
          ],
          "histogram": [
           {
            "marker": {
             "pattern": {
              "fillmode": "overlay",
              "size": 10,
              "solidity": 0.2
             }
            },
            "type": "histogram"
           }
          ],
          "histogram2d": [
           {
            "colorbar": {
             "outlinewidth": 0,
             "ticks": ""
            },
            "colorscale": [
             [
              0,
              "#0d0887"
             ],
             [
              0.1111111111111111,
              "#46039f"
             ],
             [
              0.2222222222222222,
              "#7201a8"
             ],
             [
              0.3333333333333333,
              "#9c179e"
             ],
             [
              0.4444444444444444,
              "#bd3786"
             ],
             [
              0.5555555555555556,
              "#d8576b"
             ],
             [
              0.6666666666666666,
              "#ed7953"
             ],
             [
              0.7777777777777778,
              "#fb9f3a"
             ],
             [
              0.8888888888888888,
              "#fdca26"
             ],
             [
              1,
              "#f0f921"
             ]
            ],
            "type": "histogram2d"
           }
          ],
          "histogram2dcontour": [
           {
            "colorbar": {
             "outlinewidth": 0,
             "ticks": ""
            },
            "colorscale": [
             [
              0,
              "#0d0887"
             ],
             [
              0.1111111111111111,
              "#46039f"
             ],
             [
              0.2222222222222222,
              "#7201a8"
             ],
             [
              0.3333333333333333,
              "#9c179e"
             ],
             [
              0.4444444444444444,
              "#bd3786"
             ],
             [
              0.5555555555555556,
              "#d8576b"
             ],
             [
              0.6666666666666666,
              "#ed7953"
             ],
             [
              0.7777777777777778,
              "#fb9f3a"
             ],
             [
              0.8888888888888888,
              "#fdca26"
             ],
             [
              1,
              "#f0f921"
             ]
            ],
            "type": "histogram2dcontour"
           }
          ],
          "mesh3d": [
           {
            "colorbar": {
             "outlinewidth": 0,
             "ticks": ""
            },
            "type": "mesh3d"
           }
          ],
          "parcoords": [
           {
            "line": {
             "colorbar": {
              "outlinewidth": 0,
              "ticks": ""
             }
            },
            "type": "parcoords"
           }
          ],
          "pie": [
           {
            "automargin": true,
            "type": "pie"
           }
          ],
          "scatter": [
           {
            "fillpattern": {
             "fillmode": "overlay",
             "size": 10,
             "solidity": 0.2
            },
            "type": "scatter"
           }
          ],
          "scatter3d": [
           {
            "line": {
             "colorbar": {
              "outlinewidth": 0,
              "ticks": ""
             }
            },
            "marker": {
             "colorbar": {
              "outlinewidth": 0,
              "ticks": ""
             }
            },
            "type": "scatter3d"
           }
          ],
          "scattercarpet": [
           {
            "marker": {
             "colorbar": {
              "outlinewidth": 0,
              "ticks": ""
             }
            },
            "type": "scattercarpet"
           }
          ],
          "scattergeo": [
           {
            "marker": {
             "colorbar": {
              "outlinewidth": 0,
              "ticks": ""
             }
            },
            "type": "scattergeo"
           }
          ],
          "scattergl": [
           {
            "marker": {
             "colorbar": {
              "outlinewidth": 0,
              "ticks": ""
             }
            },
            "type": "scattergl"
           }
          ],
          "scattermap": [
           {
            "marker": {
             "colorbar": {
              "outlinewidth": 0,
              "ticks": ""
             }
            },
            "type": "scattermap"
           }
          ],
          "scattermapbox": [
           {
            "marker": {
             "colorbar": {
              "outlinewidth": 0,
              "ticks": ""
             }
            },
            "type": "scattermapbox"
           }
          ],
          "scatterpolar": [
           {
            "marker": {
             "colorbar": {
              "outlinewidth": 0,
              "ticks": ""
             }
            },
            "type": "scatterpolar"
           }
          ],
          "scatterpolargl": [
           {
            "marker": {
             "colorbar": {
              "outlinewidth": 0,
              "ticks": ""
             }
            },
            "type": "scatterpolargl"
           }
          ],
          "scatterternary": [
           {
            "marker": {
             "colorbar": {
              "outlinewidth": 0,
              "ticks": ""
             }
            },
            "type": "scatterternary"
           }
          ],
          "surface": [
           {
            "colorbar": {
             "outlinewidth": 0,
             "ticks": ""
            },
            "colorscale": [
             [
              0,
              "#0d0887"
             ],
             [
              0.1111111111111111,
              "#46039f"
             ],
             [
              0.2222222222222222,
              "#7201a8"
             ],
             [
              0.3333333333333333,
              "#9c179e"
             ],
             [
              0.4444444444444444,
              "#bd3786"
             ],
             [
              0.5555555555555556,
              "#d8576b"
             ],
             [
              0.6666666666666666,
              "#ed7953"
             ],
             [
              0.7777777777777778,
              "#fb9f3a"
             ],
             [
              0.8888888888888888,
              "#fdca26"
             ],
             [
              1,
              "#f0f921"
             ]
            ],
            "type": "surface"
           }
          ],
          "table": [
           {
            "cells": {
             "fill": {
              "color": "#EBF0F8"
             },
             "line": {
              "color": "white"
             }
            },
            "header": {
             "fill": {
              "color": "#C8D4E3"
             },
             "line": {
              "color": "white"
             }
            },
            "type": "table"
           }
          ]
         },
         "layout": {
          "annotationdefaults": {
           "arrowcolor": "#2a3f5f",
           "arrowhead": 0,
           "arrowwidth": 1
          },
          "autotypenumbers": "strict",
          "coloraxis": {
           "colorbar": {
            "outlinewidth": 0,
            "ticks": ""
           }
          },
          "colorscale": {
           "diverging": [
            [
             0,
             "#8e0152"
            ],
            [
             0.1,
             "#c51b7d"
            ],
            [
             0.2,
             "#de77ae"
            ],
            [
             0.3,
             "#f1b6da"
            ],
            [
             0.4,
             "#fde0ef"
            ],
            [
             0.5,
             "#f7f7f7"
            ],
            [
             0.6,
             "#e6f5d0"
            ],
            [
             0.7,
             "#b8e186"
            ],
            [
             0.8,
             "#7fbc41"
            ],
            [
             0.9,
             "#4d9221"
            ],
            [
             1,
             "#276419"
            ]
           ],
           "sequential": [
            [
             0,
             "#0d0887"
            ],
            [
             0.1111111111111111,
             "#46039f"
            ],
            [
             0.2222222222222222,
             "#7201a8"
            ],
            [
             0.3333333333333333,
             "#9c179e"
            ],
            [
             0.4444444444444444,
             "#bd3786"
            ],
            [
             0.5555555555555556,
             "#d8576b"
            ],
            [
             0.6666666666666666,
             "#ed7953"
            ],
            [
             0.7777777777777778,
             "#fb9f3a"
            ],
            [
             0.8888888888888888,
             "#fdca26"
            ],
            [
             1,
             "#f0f921"
            ]
           ],
           "sequentialminus": [
            [
             0,
             "#0d0887"
            ],
            [
             0.1111111111111111,
             "#46039f"
            ],
            [
             0.2222222222222222,
             "#7201a8"
            ],
            [
             0.3333333333333333,
             "#9c179e"
            ],
            [
             0.4444444444444444,
             "#bd3786"
            ],
            [
             0.5555555555555556,
             "#d8576b"
            ],
            [
             0.6666666666666666,
             "#ed7953"
            ],
            [
             0.7777777777777778,
             "#fb9f3a"
            ],
            [
             0.8888888888888888,
             "#fdca26"
            ],
            [
             1,
             "#f0f921"
            ]
           ]
          },
          "colorway": [
           "#636efa",
           "#EF553B",
           "#00cc96",
           "#ab63fa",
           "#FFA15A",
           "#19d3f3",
           "#FF6692",
           "#B6E880",
           "#FF97FF",
           "#FECB52"
          ],
          "font": {
           "color": "#2a3f5f"
          },
          "geo": {
           "bgcolor": "white",
           "lakecolor": "white",
           "landcolor": "#E5ECF6",
           "showlakes": true,
           "showland": true,
           "subunitcolor": "white"
          },
          "hoverlabel": {
           "align": "left"
          },
          "hovermode": "closest",
          "mapbox": {
           "style": "light"
          },
          "paper_bgcolor": "white",
          "plot_bgcolor": "#E5ECF6",
          "polar": {
           "angularaxis": {
            "gridcolor": "white",
            "linecolor": "white",
            "ticks": ""
           },
           "bgcolor": "#E5ECF6",
           "radialaxis": {
            "gridcolor": "white",
            "linecolor": "white",
            "ticks": ""
           }
          },
          "scene": {
           "xaxis": {
            "backgroundcolor": "#E5ECF6",
            "gridcolor": "white",
            "gridwidth": 2,
            "linecolor": "white",
            "showbackground": true,
            "ticks": "",
            "zerolinecolor": "white"
           },
           "yaxis": {
            "backgroundcolor": "#E5ECF6",
            "gridcolor": "white",
            "gridwidth": 2,
            "linecolor": "white",
            "showbackground": true,
            "ticks": "",
            "zerolinecolor": "white"
           },
           "zaxis": {
            "backgroundcolor": "#E5ECF6",
            "gridcolor": "white",
            "gridwidth": 2,
            "linecolor": "white",
            "showbackground": true,
            "ticks": "",
            "zerolinecolor": "white"
           }
          },
          "shapedefaults": {
           "line": {
            "color": "#2a3f5f"
           }
          },
          "ternary": {
           "aaxis": {
            "gridcolor": "white",
            "linecolor": "white",
            "ticks": ""
           },
           "baxis": {
            "gridcolor": "white",
            "linecolor": "white",
            "ticks": ""
           },
           "bgcolor": "#E5ECF6",
           "caxis": {
            "gridcolor": "white",
            "linecolor": "white",
            "ticks": ""
           }
          },
          "title": {
           "x": 0.05
          },
          "xaxis": {
           "automargin": true,
           "gridcolor": "white",
           "linecolor": "white",
           "ticks": "",
           "title": {
            "standoff": 15
           },
           "zerolinecolor": "white",
           "zerolinewidth": 2
          },
          "yaxis": {
           "automargin": true,
           "gridcolor": "white",
           "linecolor": "white",
           "ticks": "",
           "title": {
            "standoff": 15
           },
           "zerolinecolor": "white",
           "zerolinewidth": 2
          }
         }
        },
        "title": {
         "text": "Model Accuracy"
        },
        "xaxis": {
         "title": {
          "text": "Epoch"
         }
        },
        "yaxis": {
         "title": {
          "text": "Accuracy"
         }
        }
       }
      }
     },
     "metadata": {},
     "output_type": "display_data"
    },
    {
     "data": {
      "application/vnd.plotly.v1+json": {
       "config": {
        "plotlyServerURL": "https://plot.ly"
       },
       "data": [
        {
         "mode": "lines",
         "name": "Training Loss",
         "type": "scatter",
         "x": [
          1,
          2,
          3,
          4,
          5,
          6,
          7,
          8,
          9,
          10,
          11,
          12,
          13,
          14,
          15,
          16,
          17,
          18,
          19,
          20,
          21,
          22,
          23,
          24,
          25,
          26,
          27,
          28,
          29,
          30,
          31,
          32,
          33,
          34,
          35,
          36,
          37,
          38,
          39,
          40,
          41,
          42,
          43,
          44,
          45,
          46,
          47,
          48,
          49,
          50
         ],
         "y": [
          0.6389250755310059,
          0.621600329875946,
          0.6060957908630371,
          0.5912829637527466,
          0.5769598484039307,
          0.5638716220855713,
          0.5511596202850342,
          0.5387887954711914,
          0.5295365452766418,
          0.5181213617324829,
          0.508012592792511,
          0.49857082962989807,
          0.4901924431324005,
          0.48455703258514404,
          0.4762791693210602,
          0.4695611894130707,
          0.46474722027778625,
          0.45881232619285583,
          0.45145949721336365,
          0.44720879197120667,
          0.4424498975276947,
          0.438524454832077,
          0.43459272384643555,
          0.43304547667503357,
          0.4288593828678131,
          0.42544618248939514,
          0.4224380850791931,
          0.41953158378601074,
          0.4197286367416382,
          0.41763973236083984,
          0.4154088795185089,
          0.41230449080467224,
          0.41012799739837646,
          0.4081001281738281,
          0.40521305799484253,
          0.40397781133651733,
          0.4019871950149536,
          0.4001035690307617,
          0.3984483480453491,
          0.39731594920158386,
          0.395733118057251,
          0.3938646912574768,
          0.3952644169330597,
          0.3924565017223358,
          0.3903234899044037,
          0.3891304135322571,
          0.38842910528182983,
          0.38692834973335266,
          0.3851979374885559,
          0.3839070796966553
         ]
        },
        {
         "mode": "lines",
         "name": "Validation Loss",
         "type": "scatter",
         "x": [
          1,
          2,
          3,
          4,
          5,
          6,
          7,
          8,
          9,
          10,
          11,
          12,
          13,
          14,
          15,
          16,
          17,
          18,
          19,
          20,
          21,
          22,
          23,
          24,
          25,
          26,
          27,
          28,
          29,
          30,
          31,
          32,
          33,
          34,
          35,
          36,
          37,
          38,
          39,
          40,
          41,
          42,
          43,
          44,
          45,
          46,
          47,
          48,
          49,
          50
         ],
         "y": [
          0.6322153806686401,
          0.6188127994537354,
          0.606852114200592,
          0.5957164168357849,
          0.5861334800720215,
          0.579123854637146,
          0.5708877444267273,
          0.5667092800140381,
          0.5594037175178528,
          0.5532894730567932,
          0.5474355816841125,
          0.5434219837188721,
          0.5437575578689575,
          0.5402723550796509,
          0.5383626222610474,
          0.5390632152557373,
          0.5385630130767822,
          0.53484708070755,
          0.5358097553253174,
          0.536561131477356,
          0.5371652245521545,
          0.537955105304718,
          0.5377615094184875,
          0.5377235412597656,
          0.5383820533752441,
          0.539418637752533,
          0.5408180952072144,
          0.5413544774055481,
          0.542532205581665,
          0.5434510111808777,
          0.5437303185462952,
          0.5450215339660645,
          0.5469411611557007,
          0.5480256676673889,
          0.5505584478378296,
          0.5515939593315125,
          0.5521916151046753,
          0.5532673597335815,
          0.5549876093864441,
          0.556187093257904,
          0.5575097799301147,
          0.5611196160316467,
          0.558329701423645,
          0.5577110648155212,
          0.5596497058868408,
          0.565604567527771,
          0.5660758018493652,
          0.5673493146896362,
          0.5683051347732544,
          0.569399356842041
         ]
        }
       ],
       "layout": {
        "template": {
         "data": {
          "bar": [
           {
            "error_x": {
             "color": "#2a3f5f"
            },
            "error_y": {
             "color": "#2a3f5f"
            },
            "marker": {
             "line": {
              "color": "#E5ECF6",
              "width": 0.5
             },
             "pattern": {
              "fillmode": "overlay",
              "size": 10,
              "solidity": 0.2
             }
            },
            "type": "bar"
           }
          ],
          "barpolar": [
           {
            "marker": {
             "line": {
              "color": "#E5ECF6",
              "width": 0.5
             },
             "pattern": {
              "fillmode": "overlay",
              "size": 10,
              "solidity": 0.2
             }
            },
            "type": "barpolar"
           }
          ],
          "carpet": [
           {
            "aaxis": {
             "endlinecolor": "#2a3f5f",
             "gridcolor": "white",
             "linecolor": "white",
             "minorgridcolor": "white",
             "startlinecolor": "#2a3f5f"
            },
            "baxis": {
             "endlinecolor": "#2a3f5f",
             "gridcolor": "white",
             "linecolor": "white",
             "minorgridcolor": "white",
             "startlinecolor": "#2a3f5f"
            },
            "type": "carpet"
           }
          ],
          "choropleth": [
           {
            "colorbar": {
             "outlinewidth": 0,
             "ticks": ""
            },
            "type": "choropleth"
           }
          ],
          "contour": [
           {
            "colorbar": {
             "outlinewidth": 0,
             "ticks": ""
            },
            "colorscale": [
             [
              0,
              "#0d0887"
             ],
             [
              0.1111111111111111,
              "#46039f"
             ],
             [
              0.2222222222222222,
              "#7201a8"
             ],
             [
              0.3333333333333333,
              "#9c179e"
             ],
             [
              0.4444444444444444,
              "#bd3786"
             ],
             [
              0.5555555555555556,
              "#d8576b"
             ],
             [
              0.6666666666666666,
              "#ed7953"
             ],
             [
              0.7777777777777778,
              "#fb9f3a"
             ],
             [
              0.8888888888888888,
              "#fdca26"
             ],
             [
              1,
              "#f0f921"
             ]
            ],
            "type": "contour"
           }
          ],
          "contourcarpet": [
           {
            "colorbar": {
             "outlinewidth": 0,
             "ticks": ""
            },
            "type": "contourcarpet"
           }
          ],
          "heatmap": [
           {
            "colorbar": {
             "outlinewidth": 0,
             "ticks": ""
            },
            "colorscale": [
             [
              0,
              "#0d0887"
             ],
             [
              0.1111111111111111,
              "#46039f"
             ],
             [
              0.2222222222222222,
              "#7201a8"
             ],
             [
              0.3333333333333333,
              "#9c179e"
             ],
             [
              0.4444444444444444,
              "#bd3786"
             ],
             [
              0.5555555555555556,
              "#d8576b"
             ],
             [
              0.6666666666666666,
              "#ed7953"
             ],
             [
              0.7777777777777778,
              "#fb9f3a"
             ],
             [
              0.8888888888888888,
              "#fdca26"
             ],
             [
              1,
              "#f0f921"
             ]
            ],
            "type": "heatmap"
           }
          ],
          "histogram": [
           {
            "marker": {
             "pattern": {
              "fillmode": "overlay",
              "size": 10,
              "solidity": 0.2
             }
            },
            "type": "histogram"
           }
          ],
          "histogram2d": [
           {
            "colorbar": {
             "outlinewidth": 0,
             "ticks": ""
            },
            "colorscale": [
             [
              0,
              "#0d0887"
             ],
             [
              0.1111111111111111,
              "#46039f"
             ],
             [
              0.2222222222222222,
              "#7201a8"
             ],
             [
              0.3333333333333333,
              "#9c179e"
             ],
             [
              0.4444444444444444,
              "#bd3786"
             ],
             [
              0.5555555555555556,
              "#d8576b"
             ],
             [
              0.6666666666666666,
              "#ed7953"
             ],
             [
              0.7777777777777778,
              "#fb9f3a"
             ],
             [
              0.8888888888888888,
              "#fdca26"
             ],
             [
              1,
              "#f0f921"
             ]
            ],
            "type": "histogram2d"
           }
          ],
          "histogram2dcontour": [
           {
            "colorbar": {
             "outlinewidth": 0,
             "ticks": ""
            },
            "colorscale": [
             [
              0,
              "#0d0887"
             ],
             [
              0.1111111111111111,
              "#46039f"
             ],
             [
              0.2222222222222222,
              "#7201a8"
             ],
             [
              0.3333333333333333,
              "#9c179e"
             ],
             [
              0.4444444444444444,
              "#bd3786"
             ],
             [
              0.5555555555555556,
              "#d8576b"
             ],
             [
              0.6666666666666666,
              "#ed7953"
             ],
             [
              0.7777777777777778,
              "#fb9f3a"
             ],
             [
              0.8888888888888888,
              "#fdca26"
             ],
             [
              1,
              "#f0f921"
             ]
            ],
            "type": "histogram2dcontour"
           }
          ],
          "mesh3d": [
           {
            "colorbar": {
             "outlinewidth": 0,
             "ticks": ""
            },
            "type": "mesh3d"
           }
          ],
          "parcoords": [
           {
            "line": {
             "colorbar": {
              "outlinewidth": 0,
              "ticks": ""
             }
            },
            "type": "parcoords"
           }
          ],
          "pie": [
           {
            "automargin": true,
            "type": "pie"
           }
          ],
          "scatter": [
           {
            "fillpattern": {
             "fillmode": "overlay",
             "size": 10,
             "solidity": 0.2
            },
            "type": "scatter"
           }
          ],
          "scatter3d": [
           {
            "line": {
             "colorbar": {
              "outlinewidth": 0,
              "ticks": ""
             }
            },
            "marker": {
             "colorbar": {
              "outlinewidth": 0,
              "ticks": ""
             }
            },
            "type": "scatter3d"
           }
          ],
          "scattercarpet": [
           {
            "marker": {
             "colorbar": {
              "outlinewidth": 0,
              "ticks": ""
             }
            },
            "type": "scattercarpet"
           }
          ],
          "scattergeo": [
           {
            "marker": {
             "colorbar": {
              "outlinewidth": 0,
              "ticks": ""
             }
            },
            "type": "scattergeo"
           }
          ],
          "scattergl": [
           {
            "marker": {
             "colorbar": {
              "outlinewidth": 0,
              "ticks": ""
             }
            },
            "type": "scattergl"
           }
          ],
          "scattermap": [
           {
            "marker": {
             "colorbar": {
              "outlinewidth": 0,
              "ticks": ""
             }
            },
            "type": "scattermap"
           }
          ],
          "scattermapbox": [
           {
            "marker": {
             "colorbar": {
              "outlinewidth": 0,
              "ticks": ""
             }
            },
            "type": "scattermapbox"
           }
          ],
          "scatterpolar": [
           {
            "marker": {
             "colorbar": {
              "outlinewidth": 0,
              "ticks": ""
             }
            },
            "type": "scatterpolar"
           }
          ],
          "scatterpolargl": [
           {
            "marker": {
             "colorbar": {
              "outlinewidth": 0,
              "ticks": ""
             }
            },
            "type": "scatterpolargl"
           }
          ],
          "scatterternary": [
           {
            "marker": {
             "colorbar": {
              "outlinewidth": 0,
              "ticks": ""
             }
            },
            "type": "scatterternary"
           }
          ],
          "surface": [
           {
            "colorbar": {
             "outlinewidth": 0,
             "ticks": ""
            },
            "colorscale": [
             [
              0,
              "#0d0887"
             ],
             [
              0.1111111111111111,
              "#46039f"
             ],
             [
              0.2222222222222222,
              "#7201a8"
             ],
             [
              0.3333333333333333,
              "#9c179e"
             ],
             [
              0.4444444444444444,
              "#bd3786"
             ],
             [
              0.5555555555555556,
              "#d8576b"
             ],
             [
              0.6666666666666666,
              "#ed7953"
             ],
             [
              0.7777777777777778,
              "#fb9f3a"
             ],
             [
              0.8888888888888888,
              "#fdca26"
             ],
             [
              1,
              "#f0f921"
             ]
            ],
            "type": "surface"
           }
          ],
          "table": [
           {
            "cells": {
             "fill": {
              "color": "#EBF0F8"
             },
             "line": {
              "color": "white"
             }
            },
            "header": {
             "fill": {
              "color": "#C8D4E3"
             },
             "line": {
              "color": "white"
             }
            },
            "type": "table"
           }
          ]
         },
         "layout": {
          "annotationdefaults": {
           "arrowcolor": "#2a3f5f",
           "arrowhead": 0,
           "arrowwidth": 1
          },
          "autotypenumbers": "strict",
          "coloraxis": {
           "colorbar": {
            "outlinewidth": 0,
            "ticks": ""
           }
          },
          "colorscale": {
           "diverging": [
            [
             0,
             "#8e0152"
            ],
            [
             0.1,
             "#c51b7d"
            ],
            [
             0.2,
             "#de77ae"
            ],
            [
             0.3,
             "#f1b6da"
            ],
            [
             0.4,
             "#fde0ef"
            ],
            [
             0.5,
             "#f7f7f7"
            ],
            [
             0.6,
             "#e6f5d0"
            ],
            [
             0.7,
             "#b8e186"
            ],
            [
             0.8,
             "#7fbc41"
            ],
            [
             0.9,
             "#4d9221"
            ],
            [
             1,
             "#276419"
            ]
           ],
           "sequential": [
            [
             0,
             "#0d0887"
            ],
            [
             0.1111111111111111,
             "#46039f"
            ],
            [
             0.2222222222222222,
             "#7201a8"
            ],
            [
             0.3333333333333333,
             "#9c179e"
            ],
            [
             0.4444444444444444,
             "#bd3786"
            ],
            [
             0.5555555555555556,
             "#d8576b"
            ],
            [
             0.6666666666666666,
             "#ed7953"
            ],
            [
             0.7777777777777778,
             "#fb9f3a"
            ],
            [
             0.8888888888888888,
             "#fdca26"
            ],
            [
             1,
             "#f0f921"
            ]
           ],
           "sequentialminus": [
            [
             0,
             "#0d0887"
            ],
            [
             0.1111111111111111,
             "#46039f"
            ],
            [
             0.2222222222222222,
             "#7201a8"
            ],
            [
             0.3333333333333333,
             "#9c179e"
            ],
            [
             0.4444444444444444,
             "#bd3786"
            ],
            [
             0.5555555555555556,
             "#d8576b"
            ],
            [
             0.6666666666666666,
             "#ed7953"
            ],
            [
             0.7777777777777778,
             "#fb9f3a"
            ],
            [
             0.8888888888888888,
             "#fdca26"
            ],
            [
             1,
             "#f0f921"
            ]
           ]
          },
          "colorway": [
           "#636efa",
           "#EF553B",
           "#00cc96",
           "#ab63fa",
           "#FFA15A",
           "#19d3f3",
           "#FF6692",
           "#B6E880",
           "#FF97FF",
           "#FECB52"
          ],
          "font": {
           "color": "#2a3f5f"
          },
          "geo": {
           "bgcolor": "white",
           "lakecolor": "white",
           "landcolor": "#E5ECF6",
           "showlakes": true,
           "showland": true,
           "subunitcolor": "white"
          },
          "hoverlabel": {
           "align": "left"
          },
          "hovermode": "closest",
          "mapbox": {
           "style": "light"
          },
          "paper_bgcolor": "white",
          "plot_bgcolor": "#E5ECF6",
          "polar": {
           "angularaxis": {
            "gridcolor": "white",
            "linecolor": "white",
            "ticks": ""
           },
           "bgcolor": "#E5ECF6",
           "radialaxis": {
            "gridcolor": "white",
            "linecolor": "white",
            "ticks": ""
           }
          },
          "scene": {
           "xaxis": {
            "backgroundcolor": "#E5ECF6",
            "gridcolor": "white",
            "gridwidth": 2,
            "linecolor": "white",
            "showbackground": true,
            "ticks": "",
            "zerolinecolor": "white"
           },
           "yaxis": {
            "backgroundcolor": "#E5ECF6",
            "gridcolor": "white",
            "gridwidth": 2,
            "linecolor": "white",
            "showbackground": true,
            "ticks": "",
            "zerolinecolor": "white"
           },
           "zaxis": {
            "backgroundcolor": "#E5ECF6",
            "gridcolor": "white",
            "gridwidth": 2,
            "linecolor": "white",
            "showbackground": true,
            "ticks": "",
            "zerolinecolor": "white"
           }
          },
          "shapedefaults": {
           "line": {
            "color": "#2a3f5f"
           }
          },
          "ternary": {
           "aaxis": {
            "gridcolor": "white",
            "linecolor": "white",
            "ticks": ""
           },
           "baxis": {
            "gridcolor": "white",
            "linecolor": "white",
            "ticks": ""
           },
           "bgcolor": "#E5ECF6",
           "caxis": {
            "gridcolor": "white",
            "linecolor": "white",
            "ticks": ""
           }
          },
          "title": {
           "x": 0.05
          },
          "xaxis": {
           "automargin": true,
           "gridcolor": "white",
           "linecolor": "white",
           "ticks": "",
           "title": {
            "standoff": 15
           },
           "zerolinecolor": "white",
           "zerolinewidth": 2
          },
          "yaxis": {
           "automargin": true,
           "gridcolor": "white",
           "linecolor": "white",
           "ticks": "",
           "title": {
            "standoff": 15
           },
           "zerolinecolor": "white",
           "zerolinewidth": 2
          }
         }
        },
        "title": {
         "text": "Model Loss"
        },
        "xaxis": {
         "title": {
          "text": "Epoch"
         }
        },
        "yaxis": {
         "title": {
          "text": "Loss"
         }
        }
       }
      }
     },
     "metadata": {},
     "output_type": "display_data"
    },
    {
     "name": "stdout",
     "output_type": "stream",
     "text": [
      "\u001b[1m9/9\u001b[0m \u001b[32m━━━━━━━━━━━━━━━━━━━━\u001b[0m\u001b[37m\u001b[0m \u001b[1m0s\u001b[0m 3ms/step \n",
      "Model accuracy: 0.841\n",
      "              precision    recall  f1-score   support\n",
      "\n",
      "           0      0.797     0.862     0.828       123\n",
      "           1      0.881     0.824     0.851       153\n",
      "\n",
      "    accuracy                          0.841       276\n",
      "   macro avg      0.839     0.843     0.840       276\n",
      "weighted avg      0.844     0.841     0.841       276\n",
      "\n"
     ]
    }
   ],
   "source": [
    "# Create the model using the SGD optimizer\n",
    "sgd_model = create_model(optimizer='sgd')\n",
    "\n",
    "# Train the model\n",
    "history_sgd = sgd_model.fit(X_train, y_train,\n",
    "                            epochs=50,  # Number of epochs for training\n",
    "                            batch_size=32,  # Batch size for training\n",
    "                            validation_split=0.2,  # Split of training data for validation\n",
    "                            verbose=1)  # Display progress during training\n",
    "\n",
    "# Evaluate the model on the test set\n",
    "test_loss_sgd, test_accuracy_sgd = sgd_model.evaluate(X_test, y_test)\n",
    "\n",
    "# Visualize training history with Plotly\n",
    "\n",
    "# Plot Accuracy\n",
    "fig_accuracy = go.Figure()\n",
    "fig_accuracy.add_trace(go.Scatter(x=list(range(1, 51)), y=history_sgd.history['accuracy'],\n",
    "                                 mode='lines', name='Training Accuracy'))\n",
    "fig_accuracy.add_trace(go.Scatter(x=list(range(1, 51)), y=history_sgd.history['val_accuracy'],\n",
    "                                 mode='lines', name='Validation Accuracy'))\n",
    "\n",
    "fig_accuracy.update_layout(\n",
    "    title='Model Accuracy',\n",
    "    xaxis_title='Epoch',\n",
    "    yaxis_title='Accuracy'\n",
    ")\n",
    "\n",
    "# Plot Loss\n",
    "fig_loss = go.Figure()\n",
    "fig_loss.add_trace(go.Scatter(x=list(range(1, 51)), y=history_sgd.history['loss'],\n",
    "                             mode='lines', name='Training Loss'))\n",
    "fig_loss.add_trace(go.Scatter(x=list(range(1, 51)), y=history_sgd.history['val_loss'],\n",
    "                             mode='lines', name='Validation Loss'))\n",
    "\n",
    "fig_loss.update_layout(\n",
    "    title='Model Loss',\n",
    "    xaxis_title='Epoch',\n",
    "    yaxis_title='Loss'\n",
    ")\n",
    "\n",
    "# Show the figures\n",
    "fig_accuracy.show()\n",
    "fig_loss.show()\n",
    "\n",
    "# Make predictions\n",
    "y_pred_sgd = sgd_model.predict(X_test)\n",
    "y_pred_classes_sgd = (y_pred_sgd > 0.5).astype(int)  # Convert probabilities to binary classes\n",
    "\n",
    "# Save results using the helper function\n",
    "save_results(\"Neural Net (SGD)\", y_test, y_pred_classes_sgd, results)"
   ]
  },
  {
   "cell_type": "markdown",
   "metadata": {},
   "source": [
    "**Disclaimer:** Neuronale Netze liefern nicht immer identische Ergebnisse, da Gewichte zufällig initialisiert und Trainingsdaten zufällig gemischt werden. Die folgenden Werte und Erkenntnisse können bei erneuter Ausführung abweichen, liegen aber bestenfalls nahe an den hier gezeigten.\n",
    "\n",
    "**Grafische Analyse**\n",
    "\n",
    "Die beiden dargestellten Graphen zeigen den Verlauf von Genauigkeit (Accuracy) und Verlust (Loss) über 50 Trainings-Epochen. In der oberen Grafik ist zu erkennen, dass sowohl die Trainingsgenauigkeit als auch die Validierungsgenauigkeit kontinuierlich ansteigen und sich gegen Ende des Trainings auf einem hohen Niveau bei ca. 84 % einpendeln. Dabei verlaufen beide Linien sehr nah beieinander, was ein Hinweis darauf ist, dass das Modell nicht overfitted und gut verallgemeinert.\n",
    "\n",
    "In der unteren Grafik zum Loss zeigt sich ein analoges Bild: Sowohl der Trainings- als auch der Validierungsverlust sinken stetig, was auf eine stabile Optimierung des Modells hinweist. Auch hier verlaufen die Linien gleichmäßig und ohne plötzliche Ausschläge, was für ein ruhiges, zuverlässiges Lernverhalten spricht.\n",
    "\n",
    "**Statistische Analyse**\n",
    "\n",
    "Auf dem Testdatensatz erreicht das neuronale Netz eine Genauigkeit von 76,1 %, was mit den besten klassischen Verfahren wie SVM, AdaBoost oder k-NN vergleichbar ist.\n",
    "Die Klasse 1 (KHK) wird besonders zuverlässig erkannt, mit einer Präzision von 81 % und einem Recall von 78 %. Das bedeutet, dass wenige gesunde Patienten fälschlich als krank eingestuft und auch die meisten tatsächlichen KHK-Fälle korrekt erkannt werden.\n",
    "\n",
    "Die Klasse 0 (keine KHK) wird mit einer Präzision von 70 % und einem Recall von 74 % etwas schwächer, aber dennoch solide erfasst. Die F1-Scores von 72 % (Klasse 0) und 79 % (Klasse 1) deuten auf eine ausgewogene Gesamtleistung hin, ohne starke Verzerrung zugunsten einer Klasse."
   ]
  },
  {
   "cell_type": "markdown",
   "metadata": {},
   "source": [
    "#### 3.5.3 Neuronales Netz mit Adam-Optimizer"
   ]
  },
  {
   "cell_type": "code",
   "execution_count": 31,
   "metadata": {},
   "outputs": [
    {
     "name": "stderr",
     "output_type": "stream",
     "text": [
      "/opt/anaconda3/envs/ML/lib/python3.12/site-packages/keras/src/layers/core/dense.py:87: UserWarning:\n",
      "\n",
      "Do not pass an `input_shape`/`input_dim` argument to a layer. When using Sequential models, prefer using an `Input(shape)` object as the first layer in the model instead.\n",
      "\n"
     ]
    },
    {
     "data": {
      "text/html": [
       "<pre style=\"white-space:pre;overflow-x:auto;line-height:normal;font-family:Menlo,'DejaVu Sans Mono',consolas,'Courier New',monospace\"><span style=\"font-weight: bold\">Model: \"sequential_1\"</span>\n",
       "</pre>\n"
      ],
      "text/plain": [
       "\u001b[1mModel: \"sequential_1\"\u001b[0m\n"
      ]
     },
     "metadata": {},
     "output_type": "display_data"
    },
    {
     "data": {
      "text/html": [
       "<pre style=\"white-space:pre;overflow-x:auto;line-height:normal;font-family:Menlo,'DejaVu Sans Mono',consolas,'Courier New',monospace\">┏━━━━━━━━━━━━━━━━━━━━━━━━━━━━━━━━━┳━━━━━━━━━━━━━━━━━━━━━━━━┳━━━━━━━━━━━━━━━┓\n",
       "┃<span style=\"font-weight: bold\"> Layer (type)                    </span>┃<span style=\"font-weight: bold\"> Output Shape           </span>┃<span style=\"font-weight: bold\">       Param # </span>┃\n",
       "┡━━━━━━━━━━━━━━━━━━━━━━━━━━━━━━━━━╇━━━━━━━━━━━━━━━━━━━━━━━━╇━━━━━━━━━━━━━━━┩\n",
       "│ dense_4 (<span style=\"color: #0087ff; text-decoration-color: #0087ff\">Dense</span>)                 │ (<span style=\"color: #00d7ff; text-decoration-color: #00d7ff\">None</span>, <span style=\"color: #00af00; text-decoration-color: #00af00\">64</span>)             │           <span style=\"color: #00af00; text-decoration-color: #00af00\">640</span> │\n",
       "├─────────────────────────────────┼────────────────────────┼───────────────┤\n",
       "│ dense_5 (<span style=\"color: #0087ff; text-decoration-color: #0087ff\">Dense</span>)                 │ (<span style=\"color: #00d7ff; text-decoration-color: #00d7ff\">None</span>, <span style=\"color: #00af00; text-decoration-color: #00af00\">32</span>)             │         <span style=\"color: #00af00; text-decoration-color: #00af00\">2,080</span> │\n",
       "├─────────────────────────────────┼────────────────────────┼───────────────┤\n",
       "│ dense_6 (<span style=\"color: #0087ff; text-decoration-color: #0087ff\">Dense</span>)                 │ (<span style=\"color: #00d7ff; text-decoration-color: #00d7ff\">None</span>, <span style=\"color: #00af00; text-decoration-color: #00af00\">16</span>)             │           <span style=\"color: #00af00; text-decoration-color: #00af00\">528</span> │\n",
       "├─────────────────────────────────┼────────────────────────┼───────────────┤\n",
       "│ dense_7 (<span style=\"color: #0087ff; text-decoration-color: #0087ff\">Dense</span>)                 │ (<span style=\"color: #00d7ff; text-decoration-color: #00d7ff\">None</span>, <span style=\"color: #00af00; text-decoration-color: #00af00\">1</span>)              │            <span style=\"color: #00af00; text-decoration-color: #00af00\">17</span> │\n",
       "└─────────────────────────────────┴────────────────────────┴───────────────┘\n",
       "</pre>\n"
      ],
      "text/plain": [
       "┏━━━━━━━━━━━━━━━━━━━━━━━━━━━━━━━━━┳━━━━━━━━━━━━━━━━━━━━━━━━┳━━━━━━━━━━━━━━━┓\n",
       "┃\u001b[1m \u001b[0m\u001b[1mLayer (type)                   \u001b[0m\u001b[1m \u001b[0m┃\u001b[1m \u001b[0m\u001b[1mOutput Shape          \u001b[0m\u001b[1m \u001b[0m┃\u001b[1m \u001b[0m\u001b[1m      Param #\u001b[0m\u001b[1m \u001b[0m┃\n",
       "┡━━━━━━━━━━━━━━━━━━━━━━━━━━━━━━━━━╇━━━━━━━━━━━━━━━━━━━━━━━━╇━━━━━━━━━━━━━━━┩\n",
       "│ dense_4 (\u001b[38;5;33mDense\u001b[0m)                 │ (\u001b[38;5;45mNone\u001b[0m, \u001b[38;5;34m64\u001b[0m)             │           \u001b[38;5;34m640\u001b[0m │\n",
       "├─────────────────────────────────┼────────────────────────┼───────────────┤\n",
       "│ dense_5 (\u001b[38;5;33mDense\u001b[0m)                 │ (\u001b[38;5;45mNone\u001b[0m, \u001b[38;5;34m32\u001b[0m)             │         \u001b[38;5;34m2,080\u001b[0m │\n",
       "├─────────────────────────────────┼────────────────────────┼───────────────┤\n",
       "│ dense_6 (\u001b[38;5;33mDense\u001b[0m)                 │ (\u001b[38;5;45mNone\u001b[0m, \u001b[38;5;34m16\u001b[0m)             │           \u001b[38;5;34m528\u001b[0m │\n",
       "├─────────────────────────────────┼────────────────────────┼───────────────┤\n",
       "│ dense_7 (\u001b[38;5;33mDense\u001b[0m)                 │ (\u001b[38;5;45mNone\u001b[0m, \u001b[38;5;34m1\u001b[0m)              │            \u001b[38;5;34m17\u001b[0m │\n",
       "└─────────────────────────────────┴────────────────────────┴───────────────┘\n"
      ]
     },
     "metadata": {},
     "output_type": "display_data"
    },
    {
     "data": {
      "text/html": [
       "<pre style=\"white-space:pre;overflow-x:auto;line-height:normal;font-family:Menlo,'DejaVu Sans Mono',consolas,'Courier New',monospace\"><span style=\"font-weight: bold\"> Total params: </span><span style=\"color: #00af00; text-decoration-color: #00af00\">3,265</span> (12.75 KB)\n",
       "</pre>\n"
      ],
      "text/plain": [
       "\u001b[1m Total params: \u001b[0m\u001b[38;5;34m3,265\u001b[0m (12.75 KB)\n"
      ]
     },
     "metadata": {},
     "output_type": "display_data"
    },
    {
     "data": {
      "text/html": [
       "<pre style=\"white-space:pre;overflow-x:auto;line-height:normal;font-family:Menlo,'DejaVu Sans Mono',consolas,'Courier New',monospace\"><span style=\"font-weight: bold\"> Trainable params: </span><span style=\"color: #00af00; text-decoration-color: #00af00\">3,265</span> (12.75 KB)\n",
       "</pre>\n"
      ],
      "text/plain": [
       "\u001b[1m Trainable params: \u001b[0m\u001b[38;5;34m3,265\u001b[0m (12.75 KB)\n"
      ]
     },
     "metadata": {},
     "output_type": "display_data"
    },
    {
     "data": {
      "text/html": [
       "<pre style=\"white-space:pre;overflow-x:auto;line-height:normal;font-family:Menlo,'DejaVu Sans Mono',consolas,'Courier New',monospace\"><span style=\"font-weight: bold\"> Non-trainable params: </span><span style=\"color: #00af00; text-decoration-color: #00af00\">0</span> (0.00 B)\n",
       "</pre>\n"
      ],
      "text/plain": [
       "\u001b[1m Non-trainable params: \u001b[0m\u001b[38;5;34m0\u001b[0m (0.00 B)\n"
      ]
     },
     "metadata": {},
     "output_type": "display_data"
    },
    {
     "name": "stdout",
     "output_type": "stream",
     "text": [
      "Epoch 1/50\n",
      "\u001b[1m17/17\u001b[0m \u001b[32m━━━━━━━━━━━━━━━━━━━━\u001b[0m\u001b[37m\u001b[0m \u001b[1m0s\u001b[0m 5ms/step - accuracy: 0.6053 - loss: 0.6349 - val_accuracy: 0.7597 - val_loss: 0.5912\n",
      "Epoch 2/50\n",
      "\u001b[1m17/17\u001b[0m \u001b[32m━━━━━━━━━━━━━━━━━━━━\u001b[0m\u001b[37m\u001b[0m \u001b[1m0s\u001b[0m 2ms/step - accuracy: 0.8100 - loss: 0.5160 - val_accuracy: 0.7519 - val_loss: 0.5585\n",
      "Epoch 3/50\n",
      "\u001b[1m17/17\u001b[0m \u001b[32m━━━━━━━━━━━━━━━━━━━━\u001b[0m\u001b[37m\u001b[0m \u001b[1m0s\u001b[0m 2ms/step - accuracy: 0.8195 - loss: 0.4782 - val_accuracy: 0.7364 - val_loss: 0.5481\n",
      "Epoch 4/50\n",
      "\u001b[1m17/17\u001b[0m \u001b[32m━━━━━━━━━━━━━━━━━━━━\u001b[0m\u001b[37m\u001b[0m \u001b[1m0s\u001b[0m 2ms/step - accuracy: 0.8184 - loss: 0.4466 - val_accuracy: 0.7364 - val_loss: 0.5542\n",
      "Epoch 5/50\n",
      "\u001b[1m17/17\u001b[0m \u001b[32m━━━━━━━━━━━━━━━━━━━━\u001b[0m\u001b[37m\u001b[0m \u001b[1m0s\u001b[0m 2ms/step - accuracy: 0.8180 - loss: 0.4150 - val_accuracy: 0.7519 - val_loss: 0.5693\n",
      "Epoch 6/50\n",
      "\u001b[1m17/17\u001b[0m \u001b[32m━━━━━━━━━━━━━━━━━━━━\u001b[0m\u001b[37m\u001b[0m \u001b[1m0s\u001b[0m 2ms/step - accuracy: 0.8447 - loss: 0.3856 - val_accuracy: 0.7132 - val_loss: 0.5806\n",
      "Epoch 7/50\n",
      "\u001b[1m17/17\u001b[0m \u001b[32m━━━━━━━━━━━━━━━━━━━━\u001b[0m\u001b[37m\u001b[0m \u001b[1m0s\u001b[0m 2ms/step - accuracy: 0.8119 - loss: 0.4219 - val_accuracy: 0.7287 - val_loss: 0.5835\n",
      "Epoch 8/50\n",
      "\u001b[1m17/17\u001b[0m \u001b[32m━━━━━━━━━━━━━━━━━━━━\u001b[0m\u001b[37m\u001b[0m \u001b[1m0s\u001b[0m 2ms/step - accuracy: 0.8383 - loss: 0.3771 - val_accuracy: 0.7209 - val_loss: 0.5956\n",
      "Epoch 9/50\n",
      "\u001b[1m17/17\u001b[0m \u001b[32m━━━━━━━━━━━━━━━━━━━━\u001b[0m\u001b[37m\u001b[0m \u001b[1m0s\u001b[0m 2ms/step - accuracy: 0.8443 - loss: 0.3735 - val_accuracy: 0.7287 - val_loss: 0.5988\n",
      "Epoch 10/50\n",
      "\u001b[1m17/17\u001b[0m \u001b[32m━━━━━━━━━━━━━━━━━━━━\u001b[0m\u001b[37m\u001b[0m \u001b[1m0s\u001b[0m 2ms/step - accuracy: 0.8666 - loss: 0.3380 - val_accuracy: 0.7287 - val_loss: 0.5996\n",
      "Epoch 11/50\n",
      "\u001b[1m17/17\u001b[0m \u001b[32m━━━━━━━━━━━━━━━━━━━━\u001b[0m\u001b[37m\u001b[0m \u001b[1m0s\u001b[0m 2ms/step - accuracy: 0.8410 - loss: 0.3682 - val_accuracy: 0.7287 - val_loss: 0.6047\n",
      "Epoch 12/50\n",
      "\u001b[1m17/17\u001b[0m \u001b[32m━━━━━━━━━━━━━━━━━━━━\u001b[0m\u001b[37m\u001b[0m \u001b[1m0s\u001b[0m 2ms/step - accuracy: 0.8833 - loss: 0.3032 - val_accuracy: 0.7364 - val_loss: 0.5994\n",
      "Epoch 13/50\n",
      "\u001b[1m17/17\u001b[0m \u001b[32m━━━━━━━━━━━━━━━━━━━━\u001b[0m\u001b[37m\u001b[0m \u001b[1m0s\u001b[0m 2ms/step - accuracy: 0.8659 - loss: 0.3195 - val_accuracy: 0.7287 - val_loss: 0.5774\n",
      "Epoch 14/50\n",
      "\u001b[1m17/17\u001b[0m \u001b[32m━━━━━━━━━━━━━━━━━━━━\u001b[0m\u001b[37m\u001b[0m \u001b[1m0s\u001b[0m 2ms/step - accuracy: 0.8467 - loss: 0.3484 - val_accuracy: 0.7132 - val_loss: 0.5672\n",
      "Epoch 15/50\n",
      "\u001b[1m17/17\u001b[0m \u001b[32m━━━━━━━━━━━━━━━━━━━━\u001b[0m\u001b[37m\u001b[0m \u001b[1m0s\u001b[0m 2ms/step - accuracy: 0.8615 - loss: 0.3423 - val_accuracy: 0.7132 - val_loss: 0.5772\n",
      "Epoch 16/50\n",
      "\u001b[1m17/17\u001b[0m \u001b[32m━━━━━━━━━━━━━━━━━━━━\u001b[0m\u001b[37m\u001b[0m \u001b[1m0s\u001b[0m 3ms/step - accuracy: 0.8537 - loss: 0.3444 - val_accuracy: 0.7209 - val_loss: 0.5916\n",
      "Epoch 17/50\n",
      "\u001b[1m17/17\u001b[0m \u001b[32m━━━━━━━━━━━━━━━━━━━━\u001b[0m\u001b[37m\u001b[0m \u001b[1m0s\u001b[0m 2ms/step - accuracy: 0.8839 - loss: 0.2823 - val_accuracy: 0.7209 - val_loss: 0.6037\n",
      "Epoch 18/50\n",
      "\u001b[1m17/17\u001b[0m \u001b[32m━━━━━━━━━━━━━━━━━━━━\u001b[0m\u001b[37m\u001b[0m \u001b[1m0s\u001b[0m 2ms/step - accuracy: 0.8440 - loss: 0.3204 - val_accuracy: 0.7132 - val_loss: 0.5972\n",
      "Epoch 19/50\n",
      "\u001b[1m17/17\u001b[0m \u001b[32m━━━━━━━━━━━━━━━━━━━━\u001b[0m\u001b[37m\u001b[0m \u001b[1m0s\u001b[0m 2ms/step - accuracy: 0.8540 - loss: 0.3455 - val_accuracy: 0.7132 - val_loss: 0.5901\n",
      "Epoch 20/50\n",
      "\u001b[1m17/17\u001b[0m \u001b[32m━━━━━━━━━━━━━━━━━━━━\u001b[0m\u001b[37m\u001b[0m \u001b[1m0s\u001b[0m 2ms/step - accuracy: 0.8500 - loss: 0.3414 - val_accuracy: 0.7132 - val_loss: 0.6055\n",
      "Epoch 21/50\n",
      "\u001b[1m17/17\u001b[0m \u001b[32m━━━━━━━━━━━━━━━━━━━━\u001b[0m\u001b[37m\u001b[0m \u001b[1m0s\u001b[0m 2ms/step - accuracy: 0.8672 - loss: 0.3127 - val_accuracy: 0.7132 - val_loss: 0.6173\n",
      "Epoch 22/50\n",
      "\u001b[1m17/17\u001b[0m \u001b[32m━━━━━━━━━━━━━━━━━━━━\u001b[0m\u001b[37m\u001b[0m \u001b[1m0s\u001b[0m 2ms/step - accuracy: 0.8608 - loss: 0.3080 - val_accuracy: 0.7287 - val_loss: 0.6256\n",
      "Epoch 23/50\n",
      "\u001b[1m17/17\u001b[0m \u001b[32m━━━━━━━━━━━━━━━━━━━━\u001b[0m\u001b[37m\u001b[0m \u001b[1m0s\u001b[0m 2ms/step - accuracy: 0.8557 - loss: 0.3191 - val_accuracy: 0.7209 - val_loss: 0.6264\n",
      "Epoch 24/50\n",
      "\u001b[1m17/17\u001b[0m \u001b[32m━━━━━━━━━━━━━━━━━━━━\u001b[0m\u001b[37m\u001b[0m \u001b[1m0s\u001b[0m 2ms/step - accuracy: 0.8785 - loss: 0.2993 - val_accuracy: 0.7287 - val_loss: 0.6441\n",
      "Epoch 25/50\n",
      "\u001b[1m17/17\u001b[0m \u001b[32m━━━━━━━━━━━━━━━━━━━━\u001b[0m\u001b[37m\u001b[0m \u001b[1m0s\u001b[0m 2ms/step - accuracy: 0.8458 - loss: 0.3449 - val_accuracy: 0.7287 - val_loss: 0.6371\n",
      "Epoch 26/50\n",
      "\u001b[1m17/17\u001b[0m \u001b[32m━━━━━━━━━━━━━━━━━━━━\u001b[0m\u001b[37m\u001b[0m \u001b[1m0s\u001b[0m 5ms/step - accuracy: 0.8776 - loss: 0.3092 - val_accuracy: 0.7054 - val_loss: 0.6353\n",
      "Epoch 27/50\n",
      "\u001b[1m17/17\u001b[0m \u001b[32m━━━━━━━━━━━━━━━━━━━━\u001b[0m\u001b[37m\u001b[0m \u001b[1m0s\u001b[0m 2ms/step - accuracy: 0.8474 - loss: 0.3257 - val_accuracy: 0.7132 - val_loss: 0.6385\n",
      "Epoch 28/50\n",
      "\u001b[1m17/17\u001b[0m \u001b[32m━━━━━━━━━━━━━━━━━━━━\u001b[0m\u001b[37m\u001b[0m \u001b[1m0s\u001b[0m 2ms/step - accuracy: 0.8426 - loss: 0.3383 - val_accuracy: 0.7132 - val_loss: 0.6514\n",
      "Epoch 29/50\n",
      "\u001b[1m17/17\u001b[0m \u001b[32m━━━━━━━━━━━━━━━━━━━━\u001b[0m\u001b[37m\u001b[0m \u001b[1m0s\u001b[0m 2ms/step - accuracy: 0.8541 - loss: 0.3202 - val_accuracy: 0.7054 - val_loss: 0.6508\n",
      "Epoch 30/50\n",
      "\u001b[1m17/17\u001b[0m \u001b[32m━━━━━━━━━━━━━━━━━━━━\u001b[0m\u001b[37m\u001b[0m \u001b[1m0s\u001b[0m 2ms/step - accuracy: 0.8874 - loss: 0.2790 - val_accuracy: 0.7054 - val_loss: 0.6542\n",
      "Epoch 31/50\n",
      "\u001b[1m17/17\u001b[0m \u001b[32m━━━━━━━━━━━━━━━━━━━━\u001b[0m\u001b[37m\u001b[0m \u001b[1m0s\u001b[0m 2ms/step - accuracy: 0.8558 - loss: 0.3103 - val_accuracy: 0.7054 - val_loss: 0.6614\n",
      "Epoch 32/50\n",
      "\u001b[1m17/17\u001b[0m \u001b[32m━━━━━━━━━━━━━━━━━━━━\u001b[0m\u001b[37m\u001b[0m \u001b[1m0s\u001b[0m 4ms/step - accuracy: 0.8958 - loss: 0.2694 - val_accuracy: 0.7132 - val_loss: 0.6593\n",
      "Epoch 33/50\n",
      "\u001b[1m17/17\u001b[0m \u001b[32m━━━━━━━━━━━━━━━━━━━━\u001b[0m\u001b[37m\u001b[0m \u001b[1m0s\u001b[0m 2ms/step - accuracy: 0.8731 - loss: 0.3040 - val_accuracy: 0.7132 - val_loss: 0.6577\n",
      "Epoch 34/50\n",
      "\u001b[1m17/17\u001b[0m \u001b[32m━━━━━━━━━━━━━━━━━━━━\u001b[0m\u001b[37m\u001b[0m \u001b[1m0s\u001b[0m 2ms/step - accuracy: 0.8916 - loss: 0.2554 - val_accuracy: 0.7054 - val_loss: 0.6640\n",
      "Epoch 35/50\n",
      "\u001b[1m17/17\u001b[0m \u001b[32m━━━━━━━━━━━━━━━━━━━━\u001b[0m\u001b[37m\u001b[0m \u001b[1m0s\u001b[0m 2ms/step - accuracy: 0.8762 - loss: 0.2973 - val_accuracy: 0.6977 - val_loss: 0.6688\n",
      "Epoch 36/50\n",
      "\u001b[1m17/17\u001b[0m \u001b[32m━━━━━━━━━━━━━━━━━━━━\u001b[0m\u001b[37m\u001b[0m \u001b[1m0s\u001b[0m 2ms/step - accuracy: 0.8795 - loss: 0.2762 - val_accuracy: 0.7054 - val_loss: 0.6710\n",
      "Epoch 37/50\n",
      "\u001b[1m17/17\u001b[0m \u001b[32m━━━━━━━━━━━━━━━━━━━━\u001b[0m\u001b[37m\u001b[0m \u001b[1m0s\u001b[0m 4ms/step - accuracy: 0.8989 - loss: 0.2777 - val_accuracy: 0.7132 - val_loss: 0.6770\n",
      "Epoch 38/50\n",
      "\u001b[1m17/17\u001b[0m \u001b[32m━━━━━━━━━━━━━━━━━━━━\u001b[0m\u001b[37m\u001b[0m \u001b[1m0s\u001b[0m 2ms/step - accuracy: 0.8814 - loss: 0.2785 - val_accuracy: 0.6977 - val_loss: 0.6743\n",
      "Epoch 39/50\n",
      "\u001b[1m17/17\u001b[0m \u001b[32m━━━━━━━━━━━━━━━━━━━━\u001b[0m\u001b[37m\u001b[0m \u001b[1m0s\u001b[0m 2ms/step - accuracy: 0.8891 - loss: 0.2816 - val_accuracy: 0.6899 - val_loss: 0.6810\n",
      "Epoch 40/50\n",
      "\u001b[1m17/17\u001b[0m \u001b[32m━━━━━━━━━━━━━━━━━━━━\u001b[0m\u001b[37m\u001b[0m \u001b[1m0s\u001b[0m 2ms/step - accuracy: 0.8817 - loss: 0.2920 - val_accuracy: 0.6977 - val_loss: 0.6825\n",
      "Epoch 41/50\n",
      "\u001b[1m17/17\u001b[0m \u001b[32m━━━━━━━━━━━━━━━━━━━━\u001b[0m\u001b[37m\u001b[0m \u001b[1m0s\u001b[0m 2ms/step - accuracy: 0.8857 - loss: 0.2676 - val_accuracy: 0.6977 - val_loss: 0.6525\n",
      "Epoch 42/50\n",
      "\u001b[1m17/17\u001b[0m \u001b[32m━━━━━━━━━━━━━━━━━━━━\u001b[0m\u001b[37m\u001b[0m \u001b[1m0s\u001b[0m 2ms/step - accuracy: 0.8697 - loss: 0.2969 - val_accuracy: 0.6977 - val_loss: 0.6673\n",
      "Epoch 43/50\n",
      "\u001b[1m17/17\u001b[0m \u001b[32m━━━━━━━━━━━━━━━━━━━━\u001b[0m\u001b[37m\u001b[0m \u001b[1m0s\u001b[0m 4ms/step - accuracy: 0.9051 - loss: 0.2423 - val_accuracy: 0.7054 - val_loss: 0.6928\n",
      "Epoch 44/50\n",
      "\u001b[1m17/17\u001b[0m \u001b[32m━━━━━━━━━━━━━━━━━━━━\u001b[0m\u001b[37m\u001b[0m \u001b[1m0s\u001b[0m 2ms/step - accuracy: 0.9144 - loss: 0.2365 - val_accuracy: 0.6977 - val_loss: 0.7006\n",
      "Epoch 45/50\n",
      "\u001b[1m17/17\u001b[0m \u001b[32m━━━━━━━━━━━━━━━━━━━━\u001b[0m\u001b[37m\u001b[0m \u001b[1m0s\u001b[0m 2ms/step - accuracy: 0.8945 - loss: 0.2579 - val_accuracy: 0.7132 - val_loss: 0.7052\n",
      "Epoch 46/50\n",
      "\u001b[1m17/17\u001b[0m \u001b[32m━━━━━━━━━━━━━━━━━━━━\u001b[0m\u001b[37m\u001b[0m \u001b[1m0s\u001b[0m 2ms/step - accuracy: 0.8907 - loss: 0.2765 - val_accuracy: 0.6977 - val_loss: 0.7116\n",
      "Epoch 47/50\n",
      "\u001b[1m17/17\u001b[0m \u001b[32m━━━━━━━━━━━━━━━━━━━━\u001b[0m\u001b[37m\u001b[0m \u001b[1m0s\u001b[0m 2ms/step - accuracy: 0.8924 - loss: 0.2579 - val_accuracy: 0.6822 - val_loss: 0.6889\n",
      "Epoch 48/50\n",
      "\u001b[1m17/17\u001b[0m \u001b[32m━━━━━━━━━━━━━━━━━━━━\u001b[0m\u001b[37m\u001b[0m \u001b[1m0s\u001b[0m 2ms/step - accuracy: 0.8938 - loss: 0.2718 - val_accuracy: 0.6899 - val_loss: 0.7048\n",
      "Epoch 49/50\n",
      "\u001b[1m17/17\u001b[0m \u001b[32m━━━━━━━━━━━━━━━━━━━━\u001b[0m\u001b[37m\u001b[0m \u001b[1m0s\u001b[0m 2ms/step - accuracy: 0.8977 - loss: 0.2597 - val_accuracy: 0.6977 - val_loss: 0.7225\n",
      "Epoch 50/50\n",
      "\u001b[1m17/17\u001b[0m \u001b[32m━━━━━━━━━━━━━━━━━━━━\u001b[0m\u001b[37m\u001b[0m \u001b[1m0s\u001b[0m 2ms/step - accuracy: 0.8868 - loss: 0.2652 - val_accuracy: 0.6822 - val_loss: 0.7442\n",
      "\u001b[1m9/9\u001b[0m \u001b[32m━━━━━━━━━━━━━━━━━━━━\u001b[0m\u001b[37m\u001b[0m \u001b[1m0s\u001b[0m 1ms/step - accuracy: 0.8357 - loss: 0.4584\n"
     ]
    },
    {
     "data": {
      "application/vnd.plotly.v1+json": {
       "config": {
        "plotlyServerURL": "https://plot.ly"
       },
       "data": [
        {
         "mode": "lines",
         "name": "Training Accuracy",
         "type": "scatter",
         "x": [
          1,
          2,
          3,
          4,
          5,
          6,
          7,
          8,
          9,
          10,
          11,
          12,
          13,
          14,
          15,
          16,
          17,
          18,
          19,
          20,
          21,
          22,
          23,
          24,
          25,
          26,
          27,
          28,
          29,
          30,
          31,
          32,
          33,
          34,
          35,
          36,
          37,
          38,
          39,
          40,
          41,
          42,
          43,
          44,
          45,
          46,
          47,
          48,
          49,
          50
         ],
         "y": [
          0.6530214548110962,
          0.7914230227470398,
          0.8245614171028137,
          0.8245614171028137,
          0.820662796497345,
          0.8401559591293335,
          0.8401559591293335,
          0.8440545797348022,
          0.8499025106430054,
          0.8499025106430054,
          0.847953200340271,
          0.8499025106430054,
          0.8401559591293335,
          0.8518518805503845,
          0.8576998114585876,
          0.8557505011558533,
          0.847953200340271,
          0.8460038900375366,
          0.8538011908531189,
          0.8576998114585876,
          0.859649121761322,
          0.8576998114585876,
          0.8674464225769043,
          0.8654970526695251,
          0.8654970526695251,
          0.8752436637878418,
          0.8635477423667908,
          0.8674464225769043,
          0.8674464225769043,
          0.8674464225769043,
          0.8674464225769043,
          0.8752436637878418,
          0.8732943534851074,
          0.8732943534851074,
          0.8791422843933105,
          0.8830409646034241,
          0.8791422843933105,
          0.8849902749061584,
          0.8869395852088928,
          0.8869395852088928,
          0.8810915946960449,
          0.8830409646034241,
          0.8908382058143616,
          0.892787516117096,
          0.8908382058143616,
          0.8908382058143616,
          0.8810915946960449,
          0.892787516117096,
          0.9005848169326782,
          0.8888888955116272
         ]
        },
        {
         "mode": "lines",
         "name": "Validation Accuracy",
         "type": "scatter",
         "x": [
          1,
          2,
          3,
          4,
          5,
          6,
          7,
          8,
          9,
          10,
          11,
          12,
          13,
          14,
          15,
          16,
          17,
          18,
          19,
          20,
          21,
          22,
          23,
          24,
          25,
          26,
          27,
          28,
          29,
          30,
          31,
          32,
          33,
          34,
          35,
          36,
          37,
          38,
          39,
          40,
          41,
          42,
          43,
          44,
          45,
          46,
          47,
          48,
          49,
          50
         ],
         "y": [
          0.7596899271011353,
          0.751937985420227,
          0.7364341020584106,
          0.7364341020584106,
          0.751937985420227,
          0.713178277015686,
          0.7286821603775024,
          0.7209302186965942,
          0.7286821603775024,
          0.7286821603775024,
          0.7286821603775024,
          0.7364341020584106,
          0.7286821603775024,
          0.713178277015686,
          0.713178277015686,
          0.7209302186965942,
          0.7209302186965942,
          0.713178277015686,
          0.713178277015686,
          0.713178277015686,
          0.713178277015686,
          0.7286821603775024,
          0.7209302186965942,
          0.7286821603775024,
          0.7286821603775024,
          0.7054263353347778,
          0.713178277015686,
          0.713178277015686,
          0.7054263353347778,
          0.7054263353347778,
          0.7054263353347778,
          0.713178277015686,
          0.713178277015686,
          0.7054263353347778,
          0.6976743936538696,
          0.7054263353347778,
          0.713178277015686,
          0.6976743936538696,
          0.6899224519729614,
          0.6976743936538696,
          0.6976743936538696,
          0.6976743936538696,
          0.7054263353347778,
          0.6976743936538696,
          0.713178277015686,
          0.6976743936538696,
          0.682170569896698,
          0.6899224519729614,
          0.6976743936538696,
          0.682170569896698
         ]
        }
       ],
       "layout": {
        "template": {
         "data": {
          "bar": [
           {
            "error_x": {
             "color": "#2a3f5f"
            },
            "error_y": {
             "color": "#2a3f5f"
            },
            "marker": {
             "line": {
              "color": "#E5ECF6",
              "width": 0.5
             },
             "pattern": {
              "fillmode": "overlay",
              "size": 10,
              "solidity": 0.2
             }
            },
            "type": "bar"
           }
          ],
          "barpolar": [
           {
            "marker": {
             "line": {
              "color": "#E5ECF6",
              "width": 0.5
             },
             "pattern": {
              "fillmode": "overlay",
              "size": 10,
              "solidity": 0.2
             }
            },
            "type": "barpolar"
           }
          ],
          "carpet": [
           {
            "aaxis": {
             "endlinecolor": "#2a3f5f",
             "gridcolor": "white",
             "linecolor": "white",
             "minorgridcolor": "white",
             "startlinecolor": "#2a3f5f"
            },
            "baxis": {
             "endlinecolor": "#2a3f5f",
             "gridcolor": "white",
             "linecolor": "white",
             "minorgridcolor": "white",
             "startlinecolor": "#2a3f5f"
            },
            "type": "carpet"
           }
          ],
          "choropleth": [
           {
            "colorbar": {
             "outlinewidth": 0,
             "ticks": ""
            },
            "type": "choropleth"
           }
          ],
          "contour": [
           {
            "colorbar": {
             "outlinewidth": 0,
             "ticks": ""
            },
            "colorscale": [
             [
              0,
              "#0d0887"
             ],
             [
              0.1111111111111111,
              "#46039f"
             ],
             [
              0.2222222222222222,
              "#7201a8"
             ],
             [
              0.3333333333333333,
              "#9c179e"
             ],
             [
              0.4444444444444444,
              "#bd3786"
             ],
             [
              0.5555555555555556,
              "#d8576b"
             ],
             [
              0.6666666666666666,
              "#ed7953"
             ],
             [
              0.7777777777777778,
              "#fb9f3a"
             ],
             [
              0.8888888888888888,
              "#fdca26"
             ],
             [
              1,
              "#f0f921"
             ]
            ],
            "type": "contour"
           }
          ],
          "contourcarpet": [
           {
            "colorbar": {
             "outlinewidth": 0,
             "ticks": ""
            },
            "type": "contourcarpet"
           }
          ],
          "heatmap": [
           {
            "colorbar": {
             "outlinewidth": 0,
             "ticks": ""
            },
            "colorscale": [
             [
              0,
              "#0d0887"
             ],
             [
              0.1111111111111111,
              "#46039f"
             ],
             [
              0.2222222222222222,
              "#7201a8"
             ],
             [
              0.3333333333333333,
              "#9c179e"
             ],
             [
              0.4444444444444444,
              "#bd3786"
             ],
             [
              0.5555555555555556,
              "#d8576b"
             ],
             [
              0.6666666666666666,
              "#ed7953"
             ],
             [
              0.7777777777777778,
              "#fb9f3a"
             ],
             [
              0.8888888888888888,
              "#fdca26"
             ],
             [
              1,
              "#f0f921"
             ]
            ],
            "type": "heatmap"
           }
          ],
          "histogram": [
           {
            "marker": {
             "pattern": {
              "fillmode": "overlay",
              "size": 10,
              "solidity": 0.2
             }
            },
            "type": "histogram"
           }
          ],
          "histogram2d": [
           {
            "colorbar": {
             "outlinewidth": 0,
             "ticks": ""
            },
            "colorscale": [
             [
              0,
              "#0d0887"
             ],
             [
              0.1111111111111111,
              "#46039f"
             ],
             [
              0.2222222222222222,
              "#7201a8"
             ],
             [
              0.3333333333333333,
              "#9c179e"
             ],
             [
              0.4444444444444444,
              "#bd3786"
             ],
             [
              0.5555555555555556,
              "#d8576b"
             ],
             [
              0.6666666666666666,
              "#ed7953"
             ],
             [
              0.7777777777777778,
              "#fb9f3a"
             ],
             [
              0.8888888888888888,
              "#fdca26"
             ],
             [
              1,
              "#f0f921"
             ]
            ],
            "type": "histogram2d"
           }
          ],
          "histogram2dcontour": [
           {
            "colorbar": {
             "outlinewidth": 0,
             "ticks": ""
            },
            "colorscale": [
             [
              0,
              "#0d0887"
             ],
             [
              0.1111111111111111,
              "#46039f"
             ],
             [
              0.2222222222222222,
              "#7201a8"
             ],
             [
              0.3333333333333333,
              "#9c179e"
             ],
             [
              0.4444444444444444,
              "#bd3786"
             ],
             [
              0.5555555555555556,
              "#d8576b"
             ],
             [
              0.6666666666666666,
              "#ed7953"
             ],
             [
              0.7777777777777778,
              "#fb9f3a"
             ],
             [
              0.8888888888888888,
              "#fdca26"
             ],
             [
              1,
              "#f0f921"
             ]
            ],
            "type": "histogram2dcontour"
           }
          ],
          "mesh3d": [
           {
            "colorbar": {
             "outlinewidth": 0,
             "ticks": ""
            },
            "type": "mesh3d"
           }
          ],
          "parcoords": [
           {
            "line": {
             "colorbar": {
              "outlinewidth": 0,
              "ticks": ""
             }
            },
            "type": "parcoords"
           }
          ],
          "pie": [
           {
            "automargin": true,
            "type": "pie"
           }
          ],
          "scatter": [
           {
            "fillpattern": {
             "fillmode": "overlay",
             "size": 10,
             "solidity": 0.2
            },
            "type": "scatter"
           }
          ],
          "scatter3d": [
           {
            "line": {
             "colorbar": {
              "outlinewidth": 0,
              "ticks": ""
             }
            },
            "marker": {
             "colorbar": {
              "outlinewidth": 0,
              "ticks": ""
             }
            },
            "type": "scatter3d"
           }
          ],
          "scattercarpet": [
           {
            "marker": {
             "colorbar": {
              "outlinewidth": 0,
              "ticks": ""
             }
            },
            "type": "scattercarpet"
           }
          ],
          "scattergeo": [
           {
            "marker": {
             "colorbar": {
              "outlinewidth": 0,
              "ticks": ""
             }
            },
            "type": "scattergeo"
           }
          ],
          "scattergl": [
           {
            "marker": {
             "colorbar": {
              "outlinewidth": 0,
              "ticks": ""
             }
            },
            "type": "scattergl"
           }
          ],
          "scattermap": [
           {
            "marker": {
             "colorbar": {
              "outlinewidth": 0,
              "ticks": ""
             }
            },
            "type": "scattermap"
           }
          ],
          "scattermapbox": [
           {
            "marker": {
             "colorbar": {
              "outlinewidth": 0,
              "ticks": ""
             }
            },
            "type": "scattermapbox"
           }
          ],
          "scatterpolar": [
           {
            "marker": {
             "colorbar": {
              "outlinewidth": 0,
              "ticks": ""
             }
            },
            "type": "scatterpolar"
           }
          ],
          "scatterpolargl": [
           {
            "marker": {
             "colorbar": {
              "outlinewidth": 0,
              "ticks": ""
             }
            },
            "type": "scatterpolargl"
           }
          ],
          "scatterternary": [
           {
            "marker": {
             "colorbar": {
              "outlinewidth": 0,
              "ticks": ""
             }
            },
            "type": "scatterternary"
           }
          ],
          "surface": [
           {
            "colorbar": {
             "outlinewidth": 0,
             "ticks": ""
            },
            "colorscale": [
             [
              0,
              "#0d0887"
             ],
             [
              0.1111111111111111,
              "#46039f"
             ],
             [
              0.2222222222222222,
              "#7201a8"
             ],
             [
              0.3333333333333333,
              "#9c179e"
             ],
             [
              0.4444444444444444,
              "#bd3786"
             ],
             [
              0.5555555555555556,
              "#d8576b"
             ],
             [
              0.6666666666666666,
              "#ed7953"
             ],
             [
              0.7777777777777778,
              "#fb9f3a"
             ],
             [
              0.8888888888888888,
              "#fdca26"
             ],
             [
              1,
              "#f0f921"
             ]
            ],
            "type": "surface"
           }
          ],
          "table": [
           {
            "cells": {
             "fill": {
              "color": "#EBF0F8"
             },
             "line": {
              "color": "white"
             }
            },
            "header": {
             "fill": {
              "color": "#C8D4E3"
             },
             "line": {
              "color": "white"
             }
            },
            "type": "table"
           }
          ]
         },
         "layout": {
          "annotationdefaults": {
           "arrowcolor": "#2a3f5f",
           "arrowhead": 0,
           "arrowwidth": 1
          },
          "autotypenumbers": "strict",
          "coloraxis": {
           "colorbar": {
            "outlinewidth": 0,
            "ticks": ""
           }
          },
          "colorscale": {
           "diverging": [
            [
             0,
             "#8e0152"
            ],
            [
             0.1,
             "#c51b7d"
            ],
            [
             0.2,
             "#de77ae"
            ],
            [
             0.3,
             "#f1b6da"
            ],
            [
             0.4,
             "#fde0ef"
            ],
            [
             0.5,
             "#f7f7f7"
            ],
            [
             0.6,
             "#e6f5d0"
            ],
            [
             0.7,
             "#b8e186"
            ],
            [
             0.8,
             "#7fbc41"
            ],
            [
             0.9,
             "#4d9221"
            ],
            [
             1,
             "#276419"
            ]
           ],
           "sequential": [
            [
             0,
             "#0d0887"
            ],
            [
             0.1111111111111111,
             "#46039f"
            ],
            [
             0.2222222222222222,
             "#7201a8"
            ],
            [
             0.3333333333333333,
             "#9c179e"
            ],
            [
             0.4444444444444444,
             "#bd3786"
            ],
            [
             0.5555555555555556,
             "#d8576b"
            ],
            [
             0.6666666666666666,
             "#ed7953"
            ],
            [
             0.7777777777777778,
             "#fb9f3a"
            ],
            [
             0.8888888888888888,
             "#fdca26"
            ],
            [
             1,
             "#f0f921"
            ]
           ],
           "sequentialminus": [
            [
             0,
             "#0d0887"
            ],
            [
             0.1111111111111111,
             "#46039f"
            ],
            [
             0.2222222222222222,
             "#7201a8"
            ],
            [
             0.3333333333333333,
             "#9c179e"
            ],
            [
             0.4444444444444444,
             "#bd3786"
            ],
            [
             0.5555555555555556,
             "#d8576b"
            ],
            [
             0.6666666666666666,
             "#ed7953"
            ],
            [
             0.7777777777777778,
             "#fb9f3a"
            ],
            [
             0.8888888888888888,
             "#fdca26"
            ],
            [
             1,
             "#f0f921"
            ]
           ]
          },
          "colorway": [
           "#636efa",
           "#EF553B",
           "#00cc96",
           "#ab63fa",
           "#FFA15A",
           "#19d3f3",
           "#FF6692",
           "#B6E880",
           "#FF97FF",
           "#FECB52"
          ],
          "font": {
           "color": "#2a3f5f"
          },
          "geo": {
           "bgcolor": "white",
           "lakecolor": "white",
           "landcolor": "#E5ECF6",
           "showlakes": true,
           "showland": true,
           "subunitcolor": "white"
          },
          "hoverlabel": {
           "align": "left"
          },
          "hovermode": "closest",
          "mapbox": {
           "style": "light"
          },
          "paper_bgcolor": "white",
          "plot_bgcolor": "#E5ECF6",
          "polar": {
           "angularaxis": {
            "gridcolor": "white",
            "linecolor": "white",
            "ticks": ""
           },
           "bgcolor": "#E5ECF6",
           "radialaxis": {
            "gridcolor": "white",
            "linecolor": "white",
            "ticks": ""
           }
          },
          "scene": {
           "xaxis": {
            "backgroundcolor": "#E5ECF6",
            "gridcolor": "white",
            "gridwidth": 2,
            "linecolor": "white",
            "showbackground": true,
            "ticks": "",
            "zerolinecolor": "white"
           },
           "yaxis": {
            "backgroundcolor": "#E5ECF6",
            "gridcolor": "white",
            "gridwidth": 2,
            "linecolor": "white",
            "showbackground": true,
            "ticks": "",
            "zerolinecolor": "white"
           },
           "zaxis": {
            "backgroundcolor": "#E5ECF6",
            "gridcolor": "white",
            "gridwidth": 2,
            "linecolor": "white",
            "showbackground": true,
            "ticks": "",
            "zerolinecolor": "white"
           }
          },
          "shapedefaults": {
           "line": {
            "color": "#2a3f5f"
           }
          },
          "ternary": {
           "aaxis": {
            "gridcolor": "white",
            "linecolor": "white",
            "ticks": ""
           },
           "baxis": {
            "gridcolor": "white",
            "linecolor": "white",
            "ticks": ""
           },
           "bgcolor": "#E5ECF6",
           "caxis": {
            "gridcolor": "white",
            "linecolor": "white",
            "ticks": ""
           }
          },
          "title": {
           "x": 0.05
          },
          "xaxis": {
           "automargin": true,
           "gridcolor": "white",
           "linecolor": "white",
           "ticks": "",
           "title": {
            "standoff": 15
           },
           "zerolinecolor": "white",
           "zerolinewidth": 2
          },
          "yaxis": {
           "automargin": true,
           "gridcolor": "white",
           "linecolor": "white",
           "ticks": "",
           "title": {
            "standoff": 15
           },
           "zerolinecolor": "white",
           "zerolinewidth": 2
          }
         }
        },
        "title": {
         "text": "Model Accuracy"
        },
        "xaxis": {
         "title": {
          "text": "Epoch"
         }
        },
        "yaxis": {
         "title": {
          "text": "Accuracy"
         }
        }
       }
      }
     },
     "metadata": {},
     "output_type": "display_data"
    },
    {
     "data": {
      "application/vnd.plotly.v1+json": {
       "config": {
        "plotlyServerURL": "https://plot.ly"
       },
       "data": [
        {
         "mode": "lines",
         "name": "Training Loss",
         "type": "scatter",
         "x": [
          1,
          2,
          3,
          4,
          5,
          6,
          7,
          8,
          9,
          10,
          11,
          12,
          13,
          14,
          15,
          16,
          17,
          18,
          19,
          20,
          21,
          22,
          23,
          24,
          25,
          26,
          27,
          28,
          29,
          30,
          31,
          32,
          33,
          34,
          35,
          36,
          37,
          38,
          39,
          40,
          41,
          42,
          43,
          44,
          45,
          46,
          47,
          48,
          49,
          50
         ],
         "y": [
          0.6136770248413086,
          0.5151225924491882,
          0.4677966237068176,
          0.4278264045715332,
          0.4102834165096283,
          0.39161524176597595,
          0.38096630573272705,
          0.3754205107688904,
          0.36830127239227295,
          0.3638807237148285,
          0.35998982191085815,
          0.35691359639167786,
          0.3574296832084656,
          0.35192063450813293,
          0.3459318280220032,
          0.3396885395050049,
          0.3350639343261719,
          0.3325881361961365,
          0.33576664328575134,
          0.3301748037338257,
          0.3247121274471283,
          0.31926578283309937,
          0.31573981046676636,
          0.313398540019989,
          0.31064847111701965,
          0.3084476590156555,
          0.3057214915752411,
          0.3034834861755371,
          0.30407747626304626,
          0.2979607582092285,
          0.2971961796283722,
          0.2950630486011505,
          0.2929384112358093,
          0.2877940237522125,
          0.288311630487442,
          0.2830215096473694,
          0.28372788429260254,
          0.2765081226825714,
          0.2770799994468689,
          0.27132683992385864,
          0.2882450819015503,
          0.27642956376075745,
          0.26876360177993774,
          0.26579445600509644,
          0.26357874274253845,
          0.2612527310848236,
          0.27627891302108765,
          0.26824653148651123,
          0.2561390697956085,
          0.25995612144470215
         ]
        },
        {
         "mode": "lines",
         "name": "Validation Loss",
         "type": "scatter",
         "x": [
          1,
          2,
          3,
          4,
          5,
          6,
          7,
          8,
          9,
          10,
          11,
          12,
          13,
          14,
          15,
          16,
          17,
          18,
          19,
          20,
          21,
          22,
          23,
          24,
          25,
          26,
          27,
          28,
          29,
          30,
          31,
          32,
          33,
          34,
          35,
          36,
          37,
          38,
          39,
          40,
          41,
          42,
          43,
          44,
          45,
          46,
          47,
          48,
          49,
          50
         ],
         "y": [
          0.5912240147590637,
          0.5585145950317383,
          0.5480736494064331,
          0.5542015433311462,
          0.5692948698997498,
          0.5806022882461548,
          0.5835330486297607,
          0.5956404805183411,
          0.5987904667854309,
          0.5995547771453857,
          0.6046655774116516,
          0.5993695855140686,
          0.5774160623550415,
          0.567154586315155,
          0.5772362351417542,
          0.591611385345459,
          0.6037027835845947,
          0.5971834063529968,
          0.5900665521621704,
          0.605483889579773,
          0.6172872185707092,
          0.6256032586097717,
          0.6264145374298096,
          0.6441367268562317,
          0.6370530128479004,
          0.6352707147598267,
          0.6384536027908325,
          0.6513838768005371,
          0.6507807374000549,
          0.6541833281517029,
          0.6614157557487488,
          0.6592691540718079,
          0.6576653718948364,
          0.6639557480812073,
          0.6687963604927063,
          0.6710183620452881,
          0.6769887804985046,
          0.6742559671401978,
          0.6810154318809509,
          0.6825485229492188,
          0.6524839401245117,
          0.6673250794410706,
          0.6928370594978333,
          0.7006190419197083,
          0.7052366137504578,
          0.711603581905365,
          0.6888894438743591,
          0.7047986388206482,
          0.7225233912467957,
          0.7442460656166077
         ]
        }
       ],
       "layout": {
        "template": {
         "data": {
          "bar": [
           {
            "error_x": {
             "color": "#2a3f5f"
            },
            "error_y": {
             "color": "#2a3f5f"
            },
            "marker": {
             "line": {
              "color": "#E5ECF6",
              "width": 0.5
             },
             "pattern": {
              "fillmode": "overlay",
              "size": 10,
              "solidity": 0.2
             }
            },
            "type": "bar"
           }
          ],
          "barpolar": [
           {
            "marker": {
             "line": {
              "color": "#E5ECF6",
              "width": 0.5
             },
             "pattern": {
              "fillmode": "overlay",
              "size": 10,
              "solidity": 0.2
             }
            },
            "type": "barpolar"
           }
          ],
          "carpet": [
           {
            "aaxis": {
             "endlinecolor": "#2a3f5f",
             "gridcolor": "white",
             "linecolor": "white",
             "minorgridcolor": "white",
             "startlinecolor": "#2a3f5f"
            },
            "baxis": {
             "endlinecolor": "#2a3f5f",
             "gridcolor": "white",
             "linecolor": "white",
             "minorgridcolor": "white",
             "startlinecolor": "#2a3f5f"
            },
            "type": "carpet"
           }
          ],
          "choropleth": [
           {
            "colorbar": {
             "outlinewidth": 0,
             "ticks": ""
            },
            "type": "choropleth"
           }
          ],
          "contour": [
           {
            "colorbar": {
             "outlinewidth": 0,
             "ticks": ""
            },
            "colorscale": [
             [
              0,
              "#0d0887"
             ],
             [
              0.1111111111111111,
              "#46039f"
             ],
             [
              0.2222222222222222,
              "#7201a8"
             ],
             [
              0.3333333333333333,
              "#9c179e"
             ],
             [
              0.4444444444444444,
              "#bd3786"
             ],
             [
              0.5555555555555556,
              "#d8576b"
             ],
             [
              0.6666666666666666,
              "#ed7953"
             ],
             [
              0.7777777777777778,
              "#fb9f3a"
             ],
             [
              0.8888888888888888,
              "#fdca26"
             ],
             [
              1,
              "#f0f921"
             ]
            ],
            "type": "contour"
           }
          ],
          "contourcarpet": [
           {
            "colorbar": {
             "outlinewidth": 0,
             "ticks": ""
            },
            "type": "contourcarpet"
           }
          ],
          "heatmap": [
           {
            "colorbar": {
             "outlinewidth": 0,
             "ticks": ""
            },
            "colorscale": [
             [
              0,
              "#0d0887"
             ],
             [
              0.1111111111111111,
              "#46039f"
             ],
             [
              0.2222222222222222,
              "#7201a8"
             ],
             [
              0.3333333333333333,
              "#9c179e"
             ],
             [
              0.4444444444444444,
              "#bd3786"
             ],
             [
              0.5555555555555556,
              "#d8576b"
             ],
             [
              0.6666666666666666,
              "#ed7953"
             ],
             [
              0.7777777777777778,
              "#fb9f3a"
             ],
             [
              0.8888888888888888,
              "#fdca26"
             ],
             [
              1,
              "#f0f921"
             ]
            ],
            "type": "heatmap"
           }
          ],
          "histogram": [
           {
            "marker": {
             "pattern": {
              "fillmode": "overlay",
              "size": 10,
              "solidity": 0.2
             }
            },
            "type": "histogram"
           }
          ],
          "histogram2d": [
           {
            "colorbar": {
             "outlinewidth": 0,
             "ticks": ""
            },
            "colorscale": [
             [
              0,
              "#0d0887"
             ],
             [
              0.1111111111111111,
              "#46039f"
             ],
             [
              0.2222222222222222,
              "#7201a8"
             ],
             [
              0.3333333333333333,
              "#9c179e"
             ],
             [
              0.4444444444444444,
              "#bd3786"
             ],
             [
              0.5555555555555556,
              "#d8576b"
             ],
             [
              0.6666666666666666,
              "#ed7953"
             ],
             [
              0.7777777777777778,
              "#fb9f3a"
             ],
             [
              0.8888888888888888,
              "#fdca26"
             ],
             [
              1,
              "#f0f921"
             ]
            ],
            "type": "histogram2d"
           }
          ],
          "histogram2dcontour": [
           {
            "colorbar": {
             "outlinewidth": 0,
             "ticks": ""
            },
            "colorscale": [
             [
              0,
              "#0d0887"
             ],
             [
              0.1111111111111111,
              "#46039f"
             ],
             [
              0.2222222222222222,
              "#7201a8"
             ],
             [
              0.3333333333333333,
              "#9c179e"
             ],
             [
              0.4444444444444444,
              "#bd3786"
             ],
             [
              0.5555555555555556,
              "#d8576b"
             ],
             [
              0.6666666666666666,
              "#ed7953"
             ],
             [
              0.7777777777777778,
              "#fb9f3a"
             ],
             [
              0.8888888888888888,
              "#fdca26"
             ],
             [
              1,
              "#f0f921"
             ]
            ],
            "type": "histogram2dcontour"
           }
          ],
          "mesh3d": [
           {
            "colorbar": {
             "outlinewidth": 0,
             "ticks": ""
            },
            "type": "mesh3d"
           }
          ],
          "parcoords": [
           {
            "line": {
             "colorbar": {
              "outlinewidth": 0,
              "ticks": ""
             }
            },
            "type": "parcoords"
           }
          ],
          "pie": [
           {
            "automargin": true,
            "type": "pie"
           }
          ],
          "scatter": [
           {
            "fillpattern": {
             "fillmode": "overlay",
             "size": 10,
             "solidity": 0.2
            },
            "type": "scatter"
           }
          ],
          "scatter3d": [
           {
            "line": {
             "colorbar": {
              "outlinewidth": 0,
              "ticks": ""
             }
            },
            "marker": {
             "colorbar": {
              "outlinewidth": 0,
              "ticks": ""
             }
            },
            "type": "scatter3d"
           }
          ],
          "scattercarpet": [
           {
            "marker": {
             "colorbar": {
              "outlinewidth": 0,
              "ticks": ""
             }
            },
            "type": "scattercarpet"
           }
          ],
          "scattergeo": [
           {
            "marker": {
             "colorbar": {
              "outlinewidth": 0,
              "ticks": ""
             }
            },
            "type": "scattergeo"
           }
          ],
          "scattergl": [
           {
            "marker": {
             "colorbar": {
              "outlinewidth": 0,
              "ticks": ""
             }
            },
            "type": "scattergl"
           }
          ],
          "scattermap": [
           {
            "marker": {
             "colorbar": {
              "outlinewidth": 0,
              "ticks": ""
             }
            },
            "type": "scattermap"
           }
          ],
          "scattermapbox": [
           {
            "marker": {
             "colorbar": {
              "outlinewidth": 0,
              "ticks": ""
             }
            },
            "type": "scattermapbox"
           }
          ],
          "scatterpolar": [
           {
            "marker": {
             "colorbar": {
              "outlinewidth": 0,
              "ticks": ""
             }
            },
            "type": "scatterpolar"
           }
          ],
          "scatterpolargl": [
           {
            "marker": {
             "colorbar": {
              "outlinewidth": 0,
              "ticks": ""
             }
            },
            "type": "scatterpolargl"
           }
          ],
          "scatterternary": [
           {
            "marker": {
             "colorbar": {
              "outlinewidth": 0,
              "ticks": ""
             }
            },
            "type": "scatterternary"
           }
          ],
          "surface": [
           {
            "colorbar": {
             "outlinewidth": 0,
             "ticks": ""
            },
            "colorscale": [
             [
              0,
              "#0d0887"
             ],
             [
              0.1111111111111111,
              "#46039f"
             ],
             [
              0.2222222222222222,
              "#7201a8"
             ],
             [
              0.3333333333333333,
              "#9c179e"
             ],
             [
              0.4444444444444444,
              "#bd3786"
             ],
             [
              0.5555555555555556,
              "#d8576b"
             ],
             [
              0.6666666666666666,
              "#ed7953"
             ],
             [
              0.7777777777777778,
              "#fb9f3a"
             ],
             [
              0.8888888888888888,
              "#fdca26"
             ],
             [
              1,
              "#f0f921"
             ]
            ],
            "type": "surface"
           }
          ],
          "table": [
           {
            "cells": {
             "fill": {
              "color": "#EBF0F8"
             },
             "line": {
              "color": "white"
             }
            },
            "header": {
             "fill": {
              "color": "#C8D4E3"
             },
             "line": {
              "color": "white"
             }
            },
            "type": "table"
           }
          ]
         },
         "layout": {
          "annotationdefaults": {
           "arrowcolor": "#2a3f5f",
           "arrowhead": 0,
           "arrowwidth": 1
          },
          "autotypenumbers": "strict",
          "coloraxis": {
           "colorbar": {
            "outlinewidth": 0,
            "ticks": ""
           }
          },
          "colorscale": {
           "diverging": [
            [
             0,
             "#8e0152"
            ],
            [
             0.1,
             "#c51b7d"
            ],
            [
             0.2,
             "#de77ae"
            ],
            [
             0.3,
             "#f1b6da"
            ],
            [
             0.4,
             "#fde0ef"
            ],
            [
             0.5,
             "#f7f7f7"
            ],
            [
             0.6,
             "#e6f5d0"
            ],
            [
             0.7,
             "#b8e186"
            ],
            [
             0.8,
             "#7fbc41"
            ],
            [
             0.9,
             "#4d9221"
            ],
            [
             1,
             "#276419"
            ]
           ],
           "sequential": [
            [
             0,
             "#0d0887"
            ],
            [
             0.1111111111111111,
             "#46039f"
            ],
            [
             0.2222222222222222,
             "#7201a8"
            ],
            [
             0.3333333333333333,
             "#9c179e"
            ],
            [
             0.4444444444444444,
             "#bd3786"
            ],
            [
             0.5555555555555556,
             "#d8576b"
            ],
            [
             0.6666666666666666,
             "#ed7953"
            ],
            [
             0.7777777777777778,
             "#fb9f3a"
            ],
            [
             0.8888888888888888,
             "#fdca26"
            ],
            [
             1,
             "#f0f921"
            ]
           ],
           "sequentialminus": [
            [
             0,
             "#0d0887"
            ],
            [
             0.1111111111111111,
             "#46039f"
            ],
            [
             0.2222222222222222,
             "#7201a8"
            ],
            [
             0.3333333333333333,
             "#9c179e"
            ],
            [
             0.4444444444444444,
             "#bd3786"
            ],
            [
             0.5555555555555556,
             "#d8576b"
            ],
            [
             0.6666666666666666,
             "#ed7953"
            ],
            [
             0.7777777777777778,
             "#fb9f3a"
            ],
            [
             0.8888888888888888,
             "#fdca26"
            ],
            [
             1,
             "#f0f921"
            ]
           ]
          },
          "colorway": [
           "#636efa",
           "#EF553B",
           "#00cc96",
           "#ab63fa",
           "#FFA15A",
           "#19d3f3",
           "#FF6692",
           "#B6E880",
           "#FF97FF",
           "#FECB52"
          ],
          "font": {
           "color": "#2a3f5f"
          },
          "geo": {
           "bgcolor": "white",
           "lakecolor": "white",
           "landcolor": "#E5ECF6",
           "showlakes": true,
           "showland": true,
           "subunitcolor": "white"
          },
          "hoverlabel": {
           "align": "left"
          },
          "hovermode": "closest",
          "mapbox": {
           "style": "light"
          },
          "paper_bgcolor": "white",
          "plot_bgcolor": "#E5ECF6",
          "polar": {
           "angularaxis": {
            "gridcolor": "white",
            "linecolor": "white",
            "ticks": ""
           },
           "bgcolor": "#E5ECF6",
           "radialaxis": {
            "gridcolor": "white",
            "linecolor": "white",
            "ticks": ""
           }
          },
          "scene": {
           "xaxis": {
            "backgroundcolor": "#E5ECF6",
            "gridcolor": "white",
            "gridwidth": 2,
            "linecolor": "white",
            "showbackground": true,
            "ticks": "",
            "zerolinecolor": "white"
           },
           "yaxis": {
            "backgroundcolor": "#E5ECF6",
            "gridcolor": "white",
            "gridwidth": 2,
            "linecolor": "white",
            "showbackground": true,
            "ticks": "",
            "zerolinecolor": "white"
           },
           "zaxis": {
            "backgroundcolor": "#E5ECF6",
            "gridcolor": "white",
            "gridwidth": 2,
            "linecolor": "white",
            "showbackground": true,
            "ticks": "",
            "zerolinecolor": "white"
           }
          },
          "shapedefaults": {
           "line": {
            "color": "#2a3f5f"
           }
          },
          "ternary": {
           "aaxis": {
            "gridcolor": "white",
            "linecolor": "white",
            "ticks": ""
           },
           "baxis": {
            "gridcolor": "white",
            "linecolor": "white",
            "ticks": ""
           },
           "bgcolor": "#E5ECF6",
           "caxis": {
            "gridcolor": "white",
            "linecolor": "white",
            "ticks": ""
           }
          },
          "title": {
           "x": 0.05
          },
          "xaxis": {
           "automargin": true,
           "gridcolor": "white",
           "linecolor": "white",
           "ticks": "",
           "title": {
            "standoff": 15
           },
           "zerolinecolor": "white",
           "zerolinewidth": 2
          },
          "yaxis": {
           "automargin": true,
           "gridcolor": "white",
           "linecolor": "white",
           "ticks": "",
           "title": {
            "standoff": 15
           },
           "zerolinecolor": "white",
           "zerolinewidth": 2
          }
         }
        },
        "title": {
         "text": "Model Loss"
        },
        "xaxis": {
         "title": {
          "text": "Epoch"
         }
        },
        "yaxis": {
         "title": {
          "text": "Loss"
         }
        }
       }
      }
     },
     "metadata": {},
     "output_type": "display_data"
    },
    {
     "name": "stdout",
     "output_type": "stream",
     "text": [
      "\u001b[1m9/9\u001b[0m \u001b[32m━━━━━━━━━━━━━━━━━━━━\u001b[0m\u001b[37m\u001b[0m \u001b[1m0s\u001b[0m 2ms/step \n",
      "Model accuracy: 0.841\n",
      "              precision    recall  f1-score   support\n",
      "\n",
      "           0      0.784     0.886     0.832       123\n",
      "           1      0.898     0.804     0.848       153\n",
      "\n",
      "    accuracy                          0.841       276\n",
      "   macro avg      0.841     0.845     0.840       276\n",
      "weighted avg      0.847     0.841     0.841       276\n",
      "\n"
     ]
    }
   ],
   "source": [
    "# Create the model using the Adam optimizer\n",
    "adam_model = create_model(optimizer='adam')\n",
    "\n",
    "# Train the model\n",
    "history_adam = adam_model.fit(X_train, y_train,\n",
    "                              epochs=50,  # Number of epochs for training\n",
    "                              batch_size=32,  # Batch size for training\n",
    "                              validation_split=0.2,  # Split of training data for validation\n",
    "                              verbose=1)  # Display progress during training\n",
    "\n",
    "# Evaluate the model on the test set\n",
    "test_loss, test_accuracy_adam = adam_model.evaluate(X_test, y_test)\n",
    "\n",
    "# Visualize training history with Plotly\n",
    "\n",
    "# Plot Accuracy\n",
    "fig_accuracy_adam = go.Figure()\n",
    "fig_accuracy_adam.add_trace(go.Scatter(x=list(range(1, 51)), y=history_adam.history['accuracy'],\n",
    "                                      mode='lines', name='Training Accuracy'))\n",
    "fig_accuracy_adam.add_trace(go.Scatter(x=list(range(1, 51)), y=history_adam.history['val_accuracy'],\n",
    "                                      mode='lines', name='Validation Accuracy'))\n",
    "\n",
    "fig_accuracy_adam.update_layout(\n",
    "    title='Model Accuracy',\n",
    "    xaxis_title='Epoch',\n",
    "    yaxis_title='Accuracy'\n",
    ")\n",
    "\n",
    "# Plot Loss\n",
    "fig_loss_adam = go.Figure()\n",
    "fig_loss_adam.add_trace(go.Scatter(x=list(range(1, 51)), y=history_adam.history['loss'],\n",
    "                                  mode='lines', name='Training Loss'))\n",
    "fig_loss_adam.add_trace(go.Scatter(x=list(range(1, 51)), y=history_adam.history['val_loss'],\n",
    "                                  mode='lines', name='Validation Loss'))\n",
    "\n",
    "fig_loss_adam.update_layout(\n",
    "    title='Model Loss',\n",
    "    xaxis_title='Epoch',\n",
    "    yaxis_title='Loss'\n",
    ")\n",
    "\n",
    "# Show the figures\n",
    "fig_accuracy_adam.show()\n",
    "fig_loss_adam.show()\n",
    "\n",
    "# Make predictions\n",
    "y_pred_adam = adam_model.predict(X_test)\n",
    "y_pred_classes_adam = (y_pred_adam > 0.5).astype(int)  # Convert probabilities to binary classes\n",
    "\n",
    "# Save results using the helper function\n",
    "save_results(\"Neural Net (Adam)\", y_test, y_pred_classes_adam, results)"
   ]
  },
  {
   "cell_type": "markdown",
   "metadata": {},
   "source": [
    "**Disclaimer:** Neuronale Netze liefern nicht immer identische Ergebnisse, da Gewichte zufällig initialisiert und Trainingsdaten zufällig gemischt werden. Die folgenden Werte und Erkenntnisse können bei erneuter Ausführung abweichen, liegen aber bestenfalls nahe an den hier gezeigten.\n",
    "\n",
    "**Grafische Analyse**\n",
    "\n",
    "In der oberen Grafik ist der Verlauf der Trainings- und Validierungsgenauigkeit zu sehen. Das Modell erreicht bereits nach wenigen Epochen sehr gute Werte, wobei die Trainingsgenauigkeit weiter kontinuierlich ansteigt, während sich die Validierungsgenauigkeit ab etwa Epoche 10 auf einem Plateau bei ca. 84 % einpendelt. Die Kurven beginnen ab dann deutlich auseinanderzulaufen, was ein Hinweis auf Overfitting ist.\n",
    "\n",
    "In der unteren Grafik erkennt man, dass der Trainings-Loss stetig sinkt, der Validierungs-Loss jedoch ab etwa Epoche 10 nicht weiter fällt, sondern später sogar leicht ansteigt. Auch das deutet darauf hin, dass das Modell beginnt, sich zu stark auf die Trainingsdaten zu spezialisieren und die Generalisierung auf neue Daten nicht mehr im Fokus steht.\n",
    "\n",
    "Ein früheres Stoppen (Early Stopping) wäre sinnvoll, um das beginnende Overfitting zu verhindern.\n",
    "\n",
    "**Statistische Analyse**\n",
    "\n",
    "Das Modell erzielt genau wie das vorherige Modell auf den Testdaten eine Genauigkeit von 76,1 %, was ein solides Ergebnis darstellt. Die Leistung ist damit ebenfalls vergleichbar mit anderen starken Verfahren wie SVM oder AdaBoost.\n",
    "Klasse 0 (keine KHK) wird mit 71 % Präzision und Recall erkannt, Klasse 1 (KHK) mit jeweils 79 %. Das Modell erfasst KHK-Fälle somit zuverlässiger als gesunde."
   ]
  },
  {
   "cell_type": "markdown",
   "metadata": {},
   "source": [
    "## 4. Bedeutung der einzelnen Features"
   ]
  },
  {
   "cell_type": "markdown",
   "metadata": {},
   "source": [
    "### 4.1 Feature-Bedeutung von PCA"
   ]
  },
  {
   "cell_type": "code",
   "execution_count": 32,
   "metadata": {},
   "outputs": [
    {
     "data": {
      "application/vnd.plotly.v1+json": {
       "config": {
        "plotlyServerURL": "https://plot.ly"
       },
       "data": [
        {
         "hovertemplate": "Feature=%{x}<br>Feature Importance=%{y}<extra></extra>",
         "legendgroup": "",
         "marker": {
          "color": "#636efa",
          "pattern": {
           "shape": ""
          }
         },
         "name": "",
         "orientation": "v",
         "showlegend": false,
         "textposition": "auto",
         "type": "bar",
         "x": [
          "Alter",
          "Geschlecht",
          "Blutdruck",
          "Chol",
          "Blutzucker",
          "EKG",
          "HFmax",
          "AP",
          "RZ"
         ],
         "xaxis": "x",
         "y": {
          "bdata": "/xS/BlXG4j83QCCBOUvgP9/BUPj79uI/NqZ63u8m6j+IY1FTXz3iP0J+h0GgFeE/dAUF0ftu4j+AiIDZ6znlP1q+yJgcx+c/",
          "dtype": "f8"
         },
         "yaxis": "y"
        }
       ],
       "layout": {
        "barmode": "relative",
        "legend": {
         "tracegroupgap": 0
        },
        "template": {
         "data": {
          "bar": [
           {
            "error_x": {
             "color": "#2a3f5f"
            },
            "error_y": {
             "color": "#2a3f5f"
            },
            "marker": {
             "line": {
              "color": "#E5ECF6",
              "width": 0.5
             },
             "pattern": {
              "fillmode": "overlay",
              "size": 10,
              "solidity": 0.2
             }
            },
            "type": "bar"
           }
          ],
          "barpolar": [
           {
            "marker": {
             "line": {
              "color": "#E5ECF6",
              "width": 0.5
             },
             "pattern": {
              "fillmode": "overlay",
              "size": 10,
              "solidity": 0.2
             }
            },
            "type": "barpolar"
           }
          ],
          "carpet": [
           {
            "aaxis": {
             "endlinecolor": "#2a3f5f",
             "gridcolor": "white",
             "linecolor": "white",
             "minorgridcolor": "white",
             "startlinecolor": "#2a3f5f"
            },
            "baxis": {
             "endlinecolor": "#2a3f5f",
             "gridcolor": "white",
             "linecolor": "white",
             "minorgridcolor": "white",
             "startlinecolor": "#2a3f5f"
            },
            "type": "carpet"
           }
          ],
          "choropleth": [
           {
            "colorbar": {
             "outlinewidth": 0,
             "ticks": ""
            },
            "type": "choropleth"
           }
          ],
          "contour": [
           {
            "colorbar": {
             "outlinewidth": 0,
             "ticks": ""
            },
            "colorscale": [
             [
              0,
              "#0d0887"
             ],
             [
              0.1111111111111111,
              "#46039f"
             ],
             [
              0.2222222222222222,
              "#7201a8"
             ],
             [
              0.3333333333333333,
              "#9c179e"
             ],
             [
              0.4444444444444444,
              "#bd3786"
             ],
             [
              0.5555555555555556,
              "#d8576b"
             ],
             [
              0.6666666666666666,
              "#ed7953"
             ],
             [
              0.7777777777777778,
              "#fb9f3a"
             ],
             [
              0.8888888888888888,
              "#fdca26"
             ],
             [
              1,
              "#f0f921"
             ]
            ],
            "type": "contour"
           }
          ],
          "contourcarpet": [
           {
            "colorbar": {
             "outlinewidth": 0,
             "ticks": ""
            },
            "type": "contourcarpet"
           }
          ],
          "heatmap": [
           {
            "colorbar": {
             "outlinewidth": 0,
             "ticks": ""
            },
            "colorscale": [
             [
              0,
              "#0d0887"
             ],
             [
              0.1111111111111111,
              "#46039f"
             ],
             [
              0.2222222222222222,
              "#7201a8"
             ],
             [
              0.3333333333333333,
              "#9c179e"
             ],
             [
              0.4444444444444444,
              "#bd3786"
             ],
             [
              0.5555555555555556,
              "#d8576b"
             ],
             [
              0.6666666666666666,
              "#ed7953"
             ],
             [
              0.7777777777777778,
              "#fb9f3a"
             ],
             [
              0.8888888888888888,
              "#fdca26"
             ],
             [
              1,
              "#f0f921"
             ]
            ],
            "type": "heatmap"
           }
          ],
          "histogram": [
           {
            "marker": {
             "pattern": {
              "fillmode": "overlay",
              "size": 10,
              "solidity": 0.2
             }
            },
            "type": "histogram"
           }
          ],
          "histogram2d": [
           {
            "colorbar": {
             "outlinewidth": 0,
             "ticks": ""
            },
            "colorscale": [
             [
              0,
              "#0d0887"
             ],
             [
              0.1111111111111111,
              "#46039f"
             ],
             [
              0.2222222222222222,
              "#7201a8"
             ],
             [
              0.3333333333333333,
              "#9c179e"
             ],
             [
              0.4444444444444444,
              "#bd3786"
             ],
             [
              0.5555555555555556,
              "#d8576b"
             ],
             [
              0.6666666666666666,
              "#ed7953"
             ],
             [
              0.7777777777777778,
              "#fb9f3a"
             ],
             [
              0.8888888888888888,
              "#fdca26"
             ],
             [
              1,
              "#f0f921"
             ]
            ],
            "type": "histogram2d"
           }
          ],
          "histogram2dcontour": [
           {
            "colorbar": {
             "outlinewidth": 0,
             "ticks": ""
            },
            "colorscale": [
             [
              0,
              "#0d0887"
             ],
             [
              0.1111111111111111,
              "#46039f"
             ],
             [
              0.2222222222222222,
              "#7201a8"
             ],
             [
              0.3333333333333333,
              "#9c179e"
             ],
             [
              0.4444444444444444,
              "#bd3786"
             ],
             [
              0.5555555555555556,
              "#d8576b"
             ],
             [
              0.6666666666666666,
              "#ed7953"
             ],
             [
              0.7777777777777778,
              "#fb9f3a"
             ],
             [
              0.8888888888888888,
              "#fdca26"
             ],
             [
              1,
              "#f0f921"
             ]
            ],
            "type": "histogram2dcontour"
           }
          ],
          "mesh3d": [
           {
            "colorbar": {
             "outlinewidth": 0,
             "ticks": ""
            },
            "type": "mesh3d"
           }
          ],
          "parcoords": [
           {
            "line": {
             "colorbar": {
              "outlinewidth": 0,
              "ticks": ""
             }
            },
            "type": "parcoords"
           }
          ],
          "pie": [
           {
            "automargin": true,
            "type": "pie"
           }
          ],
          "scatter": [
           {
            "fillpattern": {
             "fillmode": "overlay",
             "size": 10,
             "solidity": 0.2
            },
            "type": "scatter"
           }
          ],
          "scatter3d": [
           {
            "line": {
             "colorbar": {
              "outlinewidth": 0,
              "ticks": ""
             }
            },
            "marker": {
             "colorbar": {
              "outlinewidth": 0,
              "ticks": ""
             }
            },
            "type": "scatter3d"
           }
          ],
          "scattercarpet": [
           {
            "marker": {
             "colorbar": {
              "outlinewidth": 0,
              "ticks": ""
             }
            },
            "type": "scattercarpet"
           }
          ],
          "scattergeo": [
           {
            "marker": {
             "colorbar": {
              "outlinewidth": 0,
              "ticks": ""
             }
            },
            "type": "scattergeo"
           }
          ],
          "scattergl": [
           {
            "marker": {
             "colorbar": {
              "outlinewidth": 0,
              "ticks": ""
             }
            },
            "type": "scattergl"
           }
          ],
          "scattermap": [
           {
            "marker": {
             "colorbar": {
              "outlinewidth": 0,
              "ticks": ""
             }
            },
            "type": "scattermap"
           }
          ],
          "scattermapbox": [
           {
            "marker": {
             "colorbar": {
              "outlinewidth": 0,
              "ticks": ""
             }
            },
            "type": "scattermapbox"
           }
          ],
          "scatterpolar": [
           {
            "marker": {
             "colorbar": {
              "outlinewidth": 0,
              "ticks": ""
             }
            },
            "type": "scatterpolar"
           }
          ],
          "scatterpolargl": [
           {
            "marker": {
             "colorbar": {
              "outlinewidth": 0,
              "ticks": ""
             }
            },
            "type": "scatterpolargl"
           }
          ],
          "scatterternary": [
           {
            "marker": {
             "colorbar": {
              "outlinewidth": 0,
              "ticks": ""
             }
            },
            "type": "scatterternary"
           }
          ],
          "surface": [
           {
            "colorbar": {
             "outlinewidth": 0,
             "ticks": ""
            },
            "colorscale": [
             [
              0,
              "#0d0887"
             ],
             [
              0.1111111111111111,
              "#46039f"
             ],
             [
              0.2222222222222222,
              "#7201a8"
             ],
             [
              0.3333333333333333,
              "#9c179e"
             ],
             [
              0.4444444444444444,
              "#bd3786"
             ],
             [
              0.5555555555555556,
              "#d8576b"
             ],
             [
              0.6666666666666666,
              "#ed7953"
             ],
             [
              0.7777777777777778,
              "#fb9f3a"
             ],
             [
              0.8888888888888888,
              "#fdca26"
             ],
             [
              1,
              "#f0f921"
             ]
            ],
            "type": "surface"
           }
          ],
          "table": [
           {
            "cells": {
             "fill": {
              "color": "#EBF0F8"
             },
             "line": {
              "color": "white"
             }
            },
            "header": {
             "fill": {
              "color": "#C8D4E3"
             },
             "line": {
              "color": "white"
             }
            },
            "type": "table"
           }
          ]
         },
         "layout": {
          "annotationdefaults": {
           "arrowcolor": "#2a3f5f",
           "arrowhead": 0,
           "arrowwidth": 1
          },
          "autotypenumbers": "strict",
          "coloraxis": {
           "colorbar": {
            "outlinewidth": 0,
            "ticks": ""
           }
          },
          "colorscale": {
           "diverging": [
            [
             0,
             "#8e0152"
            ],
            [
             0.1,
             "#c51b7d"
            ],
            [
             0.2,
             "#de77ae"
            ],
            [
             0.3,
             "#f1b6da"
            ],
            [
             0.4,
             "#fde0ef"
            ],
            [
             0.5,
             "#f7f7f7"
            ],
            [
             0.6,
             "#e6f5d0"
            ],
            [
             0.7,
             "#b8e186"
            ],
            [
             0.8,
             "#7fbc41"
            ],
            [
             0.9,
             "#4d9221"
            ],
            [
             1,
             "#276419"
            ]
           ],
           "sequential": [
            [
             0,
             "#0d0887"
            ],
            [
             0.1111111111111111,
             "#46039f"
            ],
            [
             0.2222222222222222,
             "#7201a8"
            ],
            [
             0.3333333333333333,
             "#9c179e"
            ],
            [
             0.4444444444444444,
             "#bd3786"
            ],
            [
             0.5555555555555556,
             "#d8576b"
            ],
            [
             0.6666666666666666,
             "#ed7953"
            ],
            [
             0.7777777777777778,
             "#fb9f3a"
            ],
            [
             0.8888888888888888,
             "#fdca26"
            ],
            [
             1,
             "#f0f921"
            ]
           ],
           "sequentialminus": [
            [
             0,
             "#0d0887"
            ],
            [
             0.1111111111111111,
             "#46039f"
            ],
            [
             0.2222222222222222,
             "#7201a8"
            ],
            [
             0.3333333333333333,
             "#9c179e"
            ],
            [
             0.4444444444444444,
             "#bd3786"
            ],
            [
             0.5555555555555556,
             "#d8576b"
            ],
            [
             0.6666666666666666,
             "#ed7953"
            ],
            [
             0.7777777777777778,
             "#fb9f3a"
            ],
            [
             0.8888888888888888,
             "#fdca26"
            ],
            [
             1,
             "#f0f921"
            ]
           ]
          },
          "colorway": [
           "#636efa",
           "#EF553B",
           "#00cc96",
           "#ab63fa",
           "#FFA15A",
           "#19d3f3",
           "#FF6692",
           "#B6E880",
           "#FF97FF",
           "#FECB52"
          ],
          "font": {
           "color": "#2a3f5f"
          },
          "geo": {
           "bgcolor": "white",
           "lakecolor": "white",
           "landcolor": "#E5ECF6",
           "showlakes": true,
           "showland": true,
           "subunitcolor": "white"
          },
          "hoverlabel": {
           "align": "left"
          },
          "hovermode": "closest",
          "mapbox": {
           "style": "light"
          },
          "paper_bgcolor": "white",
          "plot_bgcolor": "#E5ECF6",
          "polar": {
           "angularaxis": {
            "gridcolor": "white",
            "linecolor": "white",
            "ticks": ""
           },
           "bgcolor": "#E5ECF6",
           "radialaxis": {
            "gridcolor": "white",
            "linecolor": "white",
            "ticks": ""
           }
          },
          "scene": {
           "xaxis": {
            "backgroundcolor": "#E5ECF6",
            "gridcolor": "white",
            "gridwidth": 2,
            "linecolor": "white",
            "showbackground": true,
            "ticks": "",
            "zerolinecolor": "white"
           },
           "yaxis": {
            "backgroundcolor": "#E5ECF6",
            "gridcolor": "white",
            "gridwidth": 2,
            "linecolor": "white",
            "showbackground": true,
            "ticks": "",
            "zerolinecolor": "white"
           },
           "zaxis": {
            "backgroundcolor": "#E5ECF6",
            "gridcolor": "white",
            "gridwidth": 2,
            "linecolor": "white",
            "showbackground": true,
            "ticks": "",
            "zerolinecolor": "white"
           }
          },
          "shapedefaults": {
           "line": {
            "color": "#2a3f5f"
           }
          },
          "ternary": {
           "aaxis": {
            "gridcolor": "white",
            "linecolor": "white",
            "ticks": ""
           },
           "baxis": {
            "gridcolor": "white",
            "linecolor": "white",
            "ticks": ""
           },
           "bgcolor": "#E5ECF6",
           "caxis": {
            "gridcolor": "white",
            "linecolor": "white",
            "ticks": ""
           }
          },
          "title": {
           "x": 0.05
          },
          "xaxis": {
           "automargin": true,
           "gridcolor": "white",
           "linecolor": "white",
           "ticks": "",
           "title": {
            "standoff": 15
           },
           "zerolinecolor": "white",
           "zerolinewidth": 2
          },
          "yaxis": {
           "automargin": true,
           "gridcolor": "white",
           "linecolor": "white",
           "ticks": "",
           "title": {
            "standoff": 15
           },
           "zerolinecolor": "white",
           "zerolinewidth": 2
          }
         }
        },
        "title": {
         "text": "Feature Importance from PCA"
        },
        "xaxis": {
         "anchor": "y",
         "domain": [
          0,
          1
         ],
         "title": {
          "text": "Feature"
         }
        },
        "yaxis": {
         "anchor": "x",
         "domain": [
          0,
          1
         ],
         "title": {
          "text": "Feature Importance"
         }
        }
       }
      }
     },
     "metadata": {},
     "output_type": "display_data"
    }
   ],
   "source": [
    "# Get the feature names (excluding the target variable \"KHK\")\n",
    "feature_names = data.columns.tolist()\n",
    "feature_names.remove(\"KHK\")\n",
    "\n",
    "# Compute the importance of features from PCA components\n",
    "feature_importance = np.abs(pca.components_).sum(axis=0)\n",
    "\n",
    "# Create DataFrame for Plotly visualization\n",
    "df_plot = pd.DataFrame({\"Feature\": feature_names, \"Wichtigkeit\": feature_importance})\n",
    "\n",
    "# Create an interactive bar plot with Plotly\n",
    "fig = px.bar(df_plot, x=\"Feature\", y=\"Wichtigkeit\", title=\"Feature Importance from PCA\", labels={\"Feature\": \"Feature\", \"Wichtigkeit\": \"Feature Importance\"})\n",
    "fig.update_xaxes()  # Update x-axis for better readability\n",
    "fig.show()\n"
   ]
  },
  {
   "cell_type": "markdown",
   "metadata": {},
   "source": [
    "Die PCA-basierte Feature-Wichtigkeit zeigt, dass Chol, RZ und AP besonders stark zur Struktur der Hauptkomponenten beitragen. Diese Merkmale sind bereits in der explorativen Analyse aufgefallen. Weniger Einfluss auf die PCA haben dagegen EKG und Geschlecht. Dabei ist zu beachten, dass PCA nur die Varianz in den Daten abbildet. Die hier gezeigte Wichtigkeit bezieht sich also auf die Datenstruktur, nicht direkt auf die Relevanz für die KHK-Klassifikation."
   ]
  },
  {
   "cell_type": "markdown",
   "metadata": {},
   "source": [
    "### 4.2 Feature-Bedeutung für Random Forest"
   ]
  },
  {
   "cell_type": "code",
   "execution_count": 33,
   "metadata": {},
   "outputs": [
    {
     "data": {
      "application/vnd.plotly.v1+json": {
       "config": {
        "plotlyServerURL": "https://plot.ly"
       },
       "data": [
        {
         "hovertemplate": "Feature=%{x}<br>Feature Importance=%{y}<extra></extra>",
         "legendgroup": "",
         "marker": {
          "color": "#636efa",
          "pattern": {
           "shape": ""
          }
         },
         "name": "",
         "orientation": "v",
         "showlegend": false,
         "textposition": "auto",
         "type": "bar",
         "x": [
          "Alter",
          "Geschlecht",
          "Blutdruck",
          "Chol",
          "Blutzucker",
          "EKG",
          "HFmax",
          "AP",
          "RZ"
         ],
         "xaxis": "x",
         "y": {
          "bdata": "ymfX5to+vz9bvdtJOYWkPxZvSUdXS7k/O+G8pwhmxz/pqHoXZ0+kP6on76Q5rqA/3wS+09E8xj8b/8atXk/EP+FLHD73Z8M/",
          "dtype": "f8"
         },
         "yaxis": "y"
        }
       ],
       "layout": {
        "barmode": "relative",
        "legend": {
         "tracegroupgap": 0
        },
        "template": {
         "data": {
          "bar": [
           {
            "error_x": {
             "color": "#2a3f5f"
            },
            "error_y": {
             "color": "#2a3f5f"
            },
            "marker": {
             "line": {
              "color": "#E5ECF6",
              "width": 0.5
             },
             "pattern": {
              "fillmode": "overlay",
              "size": 10,
              "solidity": 0.2
             }
            },
            "type": "bar"
           }
          ],
          "barpolar": [
           {
            "marker": {
             "line": {
              "color": "#E5ECF6",
              "width": 0.5
             },
             "pattern": {
              "fillmode": "overlay",
              "size": 10,
              "solidity": 0.2
             }
            },
            "type": "barpolar"
           }
          ],
          "carpet": [
           {
            "aaxis": {
             "endlinecolor": "#2a3f5f",
             "gridcolor": "white",
             "linecolor": "white",
             "minorgridcolor": "white",
             "startlinecolor": "#2a3f5f"
            },
            "baxis": {
             "endlinecolor": "#2a3f5f",
             "gridcolor": "white",
             "linecolor": "white",
             "minorgridcolor": "white",
             "startlinecolor": "#2a3f5f"
            },
            "type": "carpet"
           }
          ],
          "choropleth": [
           {
            "colorbar": {
             "outlinewidth": 0,
             "ticks": ""
            },
            "type": "choropleth"
           }
          ],
          "contour": [
           {
            "colorbar": {
             "outlinewidth": 0,
             "ticks": ""
            },
            "colorscale": [
             [
              0,
              "#0d0887"
             ],
             [
              0.1111111111111111,
              "#46039f"
             ],
             [
              0.2222222222222222,
              "#7201a8"
             ],
             [
              0.3333333333333333,
              "#9c179e"
             ],
             [
              0.4444444444444444,
              "#bd3786"
             ],
             [
              0.5555555555555556,
              "#d8576b"
             ],
             [
              0.6666666666666666,
              "#ed7953"
             ],
             [
              0.7777777777777778,
              "#fb9f3a"
             ],
             [
              0.8888888888888888,
              "#fdca26"
             ],
             [
              1,
              "#f0f921"
             ]
            ],
            "type": "contour"
           }
          ],
          "contourcarpet": [
           {
            "colorbar": {
             "outlinewidth": 0,
             "ticks": ""
            },
            "type": "contourcarpet"
           }
          ],
          "heatmap": [
           {
            "colorbar": {
             "outlinewidth": 0,
             "ticks": ""
            },
            "colorscale": [
             [
              0,
              "#0d0887"
             ],
             [
              0.1111111111111111,
              "#46039f"
             ],
             [
              0.2222222222222222,
              "#7201a8"
             ],
             [
              0.3333333333333333,
              "#9c179e"
             ],
             [
              0.4444444444444444,
              "#bd3786"
             ],
             [
              0.5555555555555556,
              "#d8576b"
             ],
             [
              0.6666666666666666,
              "#ed7953"
             ],
             [
              0.7777777777777778,
              "#fb9f3a"
             ],
             [
              0.8888888888888888,
              "#fdca26"
             ],
             [
              1,
              "#f0f921"
             ]
            ],
            "type": "heatmap"
           }
          ],
          "histogram": [
           {
            "marker": {
             "pattern": {
              "fillmode": "overlay",
              "size": 10,
              "solidity": 0.2
             }
            },
            "type": "histogram"
           }
          ],
          "histogram2d": [
           {
            "colorbar": {
             "outlinewidth": 0,
             "ticks": ""
            },
            "colorscale": [
             [
              0,
              "#0d0887"
             ],
             [
              0.1111111111111111,
              "#46039f"
             ],
             [
              0.2222222222222222,
              "#7201a8"
             ],
             [
              0.3333333333333333,
              "#9c179e"
             ],
             [
              0.4444444444444444,
              "#bd3786"
             ],
             [
              0.5555555555555556,
              "#d8576b"
             ],
             [
              0.6666666666666666,
              "#ed7953"
             ],
             [
              0.7777777777777778,
              "#fb9f3a"
             ],
             [
              0.8888888888888888,
              "#fdca26"
             ],
             [
              1,
              "#f0f921"
             ]
            ],
            "type": "histogram2d"
           }
          ],
          "histogram2dcontour": [
           {
            "colorbar": {
             "outlinewidth": 0,
             "ticks": ""
            },
            "colorscale": [
             [
              0,
              "#0d0887"
             ],
             [
              0.1111111111111111,
              "#46039f"
             ],
             [
              0.2222222222222222,
              "#7201a8"
             ],
             [
              0.3333333333333333,
              "#9c179e"
             ],
             [
              0.4444444444444444,
              "#bd3786"
             ],
             [
              0.5555555555555556,
              "#d8576b"
             ],
             [
              0.6666666666666666,
              "#ed7953"
             ],
             [
              0.7777777777777778,
              "#fb9f3a"
             ],
             [
              0.8888888888888888,
              "#fdca26"
             ],
             [
              1,
              "#f0f921"
             ]
            ],
            "type": "histogram2dcontour"
           }
          ],
          "mesh3d": [
           {
            "colorbar": {
             "outlinewidth": 0,
             "ticks": ""
            },
            "type": "mesh3d"
           }
          ],
          "parcoords": [
           {
            "line": {
             "colorbar": {
              "outlinewidth": 0,
              "ticks": ""
             }
            },
            "type": "parcoords"
           }
          ],
          "pie": [
           {
            "automargin": true,
            "type": "pie"
           }
          ],
          "scatter": [
           {
            "fillpattern": {
             "fillmode": "overlay",
             "size": 10,
             "solidity": 0.2
            },
            "type": "scatter"
           }
          ],
          "scatter3d": [
           {
            "line": {
             "colorbar": {
              "outlinewidth": 0,
              "ticks": ""
             }
            },
            "marker": {
             "colorbar": {
              "outlinewidth": 0,
              "ticks": ""
             }
            },
            "type": "scatter3d"
           }
          ],
          "scattercarpet": [
           {
            "marker": {
             "colorbar": {
              "outlinewidth": 0,
              "ticks": ""
             }
            },
            "type": "scattercarpet"
           }
          ],
          "scattergeo": [
           {
            "marker": {
             "colorbar": {
              "outlinewidth": 0,
              "ticks": ""
             }
            },
            "type": "scattergeo"
           }
          ],
          "scattergl": [
           {
            "marker": {
             "colorbar": {
              "outlinewidth": 0,
              "ticks": ""
             }
            },
            "type": "scattergl"
           }
          ],
          "scattermap": [
           {
            "marker": {
             "colorbar": {
              "outlinewidth": 0,
              "ticks": ""
             }
            },
            "type": "scattermap"
           }
          ],
          "scattermapbox": [
           {
            "marker": {
             "colorbar": {
              "outlinewidth": 0,
              "ticks": ""
             }
            },
            "type": "scattermapbox"
           }
          ],
          "scatterpolar": [
           {
            "marker": {
             "colorbar": {
              "outlinewidth": 0,
              "ticks": ""
             }
            },
            "type": "scatterpolar"
           }
          ],
          "scatterpolargl": [
           {
            "marker": {
             "colorbar": {
              "outlinewidth": 0,
              "ticks": ""
             }
            },
            "type": "scatterpolargl"
           }
          ],
          "scatterternary": [
           {
            "marker": {
             "colorbar": {
              "outlinewidth": 0,
              "ticks": ""
             }
            },
            "type": "scatterternary"
           }
          ],
          "surface": [
           {
            "colorbar": {
             "outlinewidth": 0,
             "ticks": ""
            },
            "colorscale": [
             [
              0,
              "#0d0887"
             ],
             [
              0.1111111111111111,
              "#46039f"
             ],
             [
              0.2222222222222222,
              "#7201a8"
             ],
             [
              0.3333333333333333,
              "#9c179e"
             ],
             [
              0.4444444444444444,
              "#bd3786"
             ],
             [
              0.5555555555555556,
              "#d8576b"
             ],
             [
              0.6666666666666666,
              "#ed7953"
             ],
             [
              0.7777777777777778,
              "#fb9f3a"
             ],
             [
              0.8888888888888888,
              "#fdca26"
             ],
             [
              1,
              "#f0f921"
             ]
            ],
            "type": "surface"
           }
          ],
          "table": [
           {
            "cells": {
             "fill": {
              "color": "#EBF0F8"
             },
             "line": {
              "color": "white"
             }
            },
            "header": {
             "fill": {
              "color": "#C8D4E3"
             },
             "line": {
              "color": "white"
             }
            },
            "type": "table"
           }
          ]
         },
         "layout": {
          "annotationdefaults": {
           "arrowcolor": "#2a3f5f",
           "arrowhead": 0,
           "arrowwidth": 1
          },
          "autotypenumbers": "strict",
          "coloraxis": {
           "colorbar": {
            "outlinewidth": 0,
            "ticks": ""
           }
          },
          "colorscale": {
           "diverging": [
            [
             0,
             "#8e0152"
            ],
            [
             0.1,
             "#c51b7d"
            ],
            [
             0.2,
             "#de77ae"
            ],
            [
             0.3,
             "#f1b6da"
            ],
            [
             0.4,
             "#fde0ef"
            ],
            [
             0.5,
             "#f7f7f7"
            ],
            [
             0.6,
             "#e6f5d0"
            ],
            [
             0.7,
             "#b8e186"
            ],
            [
             0.8,
             "#7fbc41"
            ],
            [
             0.9,
             "#4d9221"
            ],
            [
             1,
             "#276419"
            ]
           ],
           "sequential": [
            [
             0,
             "#0d0887"
            ],
            [
             0.1111111111111111,
             "#46039f"
            ],
            [
             0.2222222222222222,
             "#7201a8"
            ],
            [
             0.3333333333333333,
             "#9c179e"
            ],
            [
             0.4444444444444444,
             "#bd3786"
            ],
            [
             0.5555555555555556,
             "#d8576b"
            ],
            [
             0.6666666666666666,
             "#ed7953"
            ],
            [
             0.7777777777777778,
             "#fb9f3a"
            ],
            [
             0.8888888888888888,
             "#fdca26"
            ],
            [
             1,
             "#f0f921"
            ]
           ],
           "sequentialminus": [
            [
             0,
             "#0d0887"
            ],
            [
             0.1111111111111111,
             "#46039f"
            ],
            [
             0.2222222222222222,
             "#7201a8"
            ],
            [
             0.3333333333333333,
             "#9c179e"
            ],
            [
             0.4444444444444444,
             "#bd3786"
            ],
            [
             0.5555555555555556,
             "#d8576b"
            ],
            [
             0.6666666666666666,
             "#ed7953"
            ],
            [
             0.7777777777777778,
             "#fb9f3a"
            ],
            [
             0.8888888888888888,
             "#fdca26"
            ],
            [
             1,
             "#f0f921"
            ]
           ]
          },
          "colorway": [
           "#636efa",
           "#EF553B",
           "#00cc96",
           "#ab63fa",
           "#FFA15A",
           "#19d3f3",
           "#FF6692",
           "#B6E880",
           "#FF97FF",
           "#FECB52"
          ],
          "font": {
           "color": "#2a3f5f"
          },
          "geo": {
           "bgcolor": "white",
           "lakecolor": "white",
           "landcolor": "#E5ECF6",
           "showlakes": true,
           "showland": true,
           "subunitcolor": "white"
          },
          "hoverlabel": {
           "align": "left"
          },
          "hovermode": "closest",
          "mapbox": {
           "style": "light"
          },
          "paper_bgcolor": "white",
          "plot_bgcolor": "#E5ECF6",
          "polar": {
           "angularaxis": {
            "gridcolor": "white",
            "linecolor": "white",
            "ticks": ""
           },
           "bgcolor": "#E5ECF6",
           "radialaxis": {
            "gridcolor": "white",
            "linecolor": "white",
            "ticks": ""
           }
          },
          "scene": {
           "xaxis": {
            "backgroundcolor": "#E5ECF6",
            "gridcolor": "white",
            "gridwidth": 2,
            "linecolor": "white",
            "showbackground": true,
            "ticks": "",
            "zerolinecolor": "white"
           },
           "yaxis": {
            "backgroundcolor": "#E5ECF6",
            "gridcolor": "white",
            "gridwidth": 2,
            "linecolor": "white",
            "showbackground": true,
            "ticks": "",
            "zerolinecolor": "white"
           },
           "zaxis": {
            "backgroundcolor": "#E5ECF6",
            "gridcolor": "white",
            "gridwidth": 2,
            "linecolor": "white",
            "showbackground": true,
            "ticks": "",
            "zerolinecolor": "white"
           }
          },
          "shapedefaults": {
           "line": {
            "color": "#2a3f5f"
           }
          },
          "ternary": {
           "aaxis": {
            "gridcolor": "white",
            "linecolor": "white",
            "ticks": ""
           },
           "baxis": {
            "gridcolor": "white",
            "linecolor": "white",
            "ticks": ""
           },
           "bgcolor": "#E5ECF6",
           "caxis": {
            "gridcolor": "white",
            "linecolor": "white",
            "ticks": ""
           }
          },
          "title": {
           "x": 0.05
          },
          "xaxis": {
           "automargin": true,
           "gridcolor": "white",
           "linecolor": "white",
           "ticks": "",
           "title": {
            "standoff": 15
           },
           "zerolinecolor": "white",
           "zerolinewidth": 2
          },
          "yaxis": {
           "automargin": true,
           "gridcolor": "white",
           "linecolor": "white",
           "ticks": "",
           "title": {
            "standoff": 15
           },
           "zerolinecolor": "white",
           "zerolinewidth": 2
          }
         }
        },
        "title": {
         "text": "Feature Importance from Random Forest"
        },
        "xaxis": {
         "anchor": "y",
         "domain": [
          0,
          1
         ],
         "title": {
          "text": "Feature"
         }
        },
        "yaxis": {
         "anchor": "x",
         "domain": [
          0,
          1
         ],
         "title": {
          "text": "Feature Importance"
         }
        }
       }
      }
     },
     "metadata": {},
     "output_type": "display_data"
    }
   ],
   "source": [
    "# Get the feature importance from the Random Forest model\n",
    "feature_importance = clf.feature_importances_\n",
    "\n",
    "# Create DataFrame for Plotly visualization\n",
    "df_plot = pd.DataFrame({\"Feature\": X.columns.tolist(), \"Wichtigkeit\": feature_importance})\n",
    "\n",
    "# Create an interactive bar plot with Plotly\n",
    "fig = px.bar(df_plot, x=\"Feature\", y=\"Wichtigkeit\", title=\"Feature Importance from Random Forest\", labels={\"Feature\": \"Feature\", \"Wichtigkeit\": \"Feature Importance\"})\n",
    "fig.update_xaxes()  # Update x-axis for better readability\n",
    "fig.show()\n"
   ]
  },
  {
   "cell_type": "markdown",
   "metadata": {},
   "source": [
    "Die Feature-Wichtigkeit des Random-Forest-Modells zeigt, dass Chol, AP, RZ und HFmax zu den wichtigsten Merkmalen für die Klassifikation von KHK gehören.\n",
    "Diese Merkmale erhalten vom Modell die höchste Gewichtung bei der Entscheidungsfindung. Alter und Blutdruck sind ebenfalls relevant, während Blutzucker, EKG und Geschlecht im Vergleich deutlich weniger Einfluss haben.\n",
    "Im Gegensatz zur vorherigen PCA basiert diese Bewertung direkt auf der Fähigkeit der Merkmale, zur Vorhersage der Zielvariable (KHK) beizutragen, und ist damit aussagekräftiger für die Modellinterpretation."
   ]
  },
  {
   "cell_type": "markdown",
   "metadata": {},
   "source": [
    "### 4.3 Feature Bedeutung SVM"
   ]
  },
  {
   "cell_type": "code",
   "execution_count": 34,
   "metadata": {},
   "outputs": [
    {
     "data": {
      "application/vnd.plotly.v1+json": {
       "config": {
        "plotlyServerURL": "https://plot.ly"
       },
       "data": [
        {
         "hovertemplate": "Feature=%{x}<br>Feature Importance=%{y}<extra></extra>",
         "legendgroup": "",
         "marker": {
          "color": "#636efa",
          "pattern": {
           "shape": ""
          }
         },
         "name": "",
         "orientation": "v",
         "showlegend": false,
         "textposition": "auto",
         "type": "bar",
         "x": [
          "Alter",
          "Geschlecht",
          "Blutdruck",
          "Chol",
          "Blutzucker",
          "EKG",
          "HFmax",
          "AP",
          "RZ"
         ],
         "xaxis": "x",
         "y": {
          "bdata": "ejGjv4b4hD/mottpTYZ0P81KLmf12IE/yKjhb1OMqj/aWDx1A+ePP82i22lNhnQ/wkouZ/XYoT/vXntCtNC3P0qADvIquaw/",
          "dtype": "f8"
         },
         "yaxis": "y"
        }
       ],
       "layout": {
        "barmode": "relative",
        "legend": {
         "tracegroupgap": 0
        },
        "template": {
         "data": {
          "bar": [
           {
            "error_x": {
             "color": "#2a3f5f"
            },
            "error_y": {
             "color": "#2a3f5f"
            },
            "marker": {
             "line": {
              "color": "#E5ECF6",
              "width": 0.5
             },
             "pattern": {
              "fillmode": "overlay",
              "size": 10,
              "solidity": 0.2
             }
            },
            "type": "bar"
           }
          ],
          "barpolar": [
           {
            "marker": {
             "line": {
              "color": "#E5ECF6",
              "width": 0.5
             },
             "pattern": {
              "fillmode": "overlay",
              "size": 10,
              "solidity": 0.2
             }
            },
            "type": "barpolar"
           }
          ],
          "carpet": [
           {
            "aaxis": {
             "endlinecolor": "#2a3f5f",
             "gridcolor": "white",
             "linecolor": "white",
             "minorgridcolor": "white",
             "startlinecolor": "#2a3f5f"
            },
            "baxis": {
             "endlinecolor": "#2a3f5f",
             "gridcolor": "white",
             "linecolor": "white",
             "minorgridcolor": "white",
             "startlinecolor": "#2a3f5f"
            },
            "type": "carpet"
           }
          ],
          "choropleth": [
           {
            "colorbar": {
             "outlinewidth": 0,
             "ticks": ""
            },
            "type": "choropleth"
           }
          ],
          "contour": [
           {
            "colorbar": {
             "outlinewidth": 0,
             "ticks": ""
            },
            "colorscale": [
             [
              0,
              "#0d0887"
             ],
             [
              0.1111111111111111,
              "#46039f"
             ],
             [
              0.2222222222222222,
              "#7201a8"
             ],
             [
              0.3333333333333333,
              "#9c179e"
             ],
             [
              0.4444444444444444,
              "#bd3786"
             ],
             [
              0.5555555555555556,
              "#d8576b"
             ],
             [
              0.6666666666666666,
              "#ed7953"
             ],
             [
              0.7777777777777778,
              "#fb9f3a"
             ],
             [
              0.8888888888888888,
              "#fdca26"
             ],
             [
              1,
              "#f0f921"
             ]
            ],
            "type": "contour"
           }
          ],
          "contourcarpet": [
           {
            "colorbar": {
             "outlinewidth": 0,
             "ticks": ""
            },
            "type": "contourcarpet"
           }
          ],
          "heatmap": [
           {
            "colorbar": {
             "outlinewidth": 0,
             "ticks": ""
            },
            "colorscale": [
             [
              0,
              "#0d0887"
             ],
             [
              0.1111111111111111,
              "#46039f"
             ],
             [
              0.2222222222222222,
              "#7201a8"
             ],
             [
              0.3333333333333333,
              "#9c179e"
             ],
             [
              0.4444444444444444,
              "#bd3786"
             ],
             [
              0.5555555555555556,
              "#d8576b"
             ],
             [
              0.6666666666666666,
              "#ed7953"
             ],
             [
              0.7777777777777778,
              "#fb9f3a"
             ],
             [
              0.8888888888888888,
              "#fdca26"
             ],
             [
              1,
              "#f0f921"
             ]
            ],
            "type": "heatmap"
           }
          ],
          "histogram": [
           {
            "marker": {
             "pattern": {
              "fillmode": "overlay",
              "size": 10,
              "solidity": 0.2
             }
            },
            "type": "histogram"
           }
          ],
          "histogram2d": [
           {
            "colorbar": {
             "outlinewidth": 0,
             "ticks": ""
            },
            "colorscale": [
             [
              0,
              "#0d0887"
             ],
             [
              0.1111111111111111,
              "#46039f"
             ],
             [
              0.2222222222222222,
              "#7201a8"
             ],
             [
              0.3333333333333333,
              "#9c179e"
             ],
             [
              0.4444444444444444,
              "#bd3786"
             ],
             [
              0.5555555555555556,
              "#d8576b"
             ],
             [
              0.6666666666666666,
              "#ed7953"
             ],
             [
              0.7777777777777778,
              "#fb9f3a"
             ],
             [
              0.8888888888888888,
              "#fdca26"
             ],
             [
              1,
              "#f0f921"
             ]
            ],
            "type": "histogram2d"
           }
          ],
          "histogram2dcontour": [
           {
            "colorbar": {
             "outlinewidth": 0,
             "ticks": ""
            },
            "colorscale": [
             [
              0,
              "#0d0887"
             ],
             [
              0.1111111111111111,
              "#46039f"
             ],
             [
              0.2222222222222222,
              "#7201a8"
             ],
             [
              0.3333333333333333,
              "#9c179e"
             ],
             [
              0.4444444444444444,
              "#bd3786"
             ],
             [
              0.5555555555555556,
              "#d8576b"
             ],
             [
              0.6666666666666666,
              "#ed7953"
             ],
             [
              0.7777777777777778,
              "#fb9f3a"
             ],
             [
              0.8888888888888888,
              "#fdca26"
             ],
             [
              1,
              "#f0f921"
             ]
            ],
            "type": "histogram2dcontour"
           }
          ],
          "mesh3d": [
           {
            "colorbar": {
             "outlinewidth": 0,
             "ticks": ""
            },
            "type": "mesh3d"
           }
          ],
          "parcoords": [
           {
            "line": {
             "colorbar": {
              "outlinewidth": 0,
              "ticks": ""
             }
            },
            "type": "parcoords"
           }
          ],
          "pie": [
           {
            "automargin": true,
            "type": "pie"
           }
          ],
          "scatter": [
           {
            "fillpattern": {
             "fillmode": "overlay",
             "size": 10,
             "solidity": 0.2
            },
            "type": "scatter"
           }
          ],
          "scatter3d": [
           {
            "line": {
             "colorbar": {
              "outlinewidth": 0,
              "ticks": ""
             }
            },
            "marker": {
             "colorbar": {
              "outlinewidth": 0,
              "ticks": ""
             }
            },
            "type": "scatter3d"
           }
          ],
          "scattercarpet": [
           {
            "marker": {
             "colorbar": {
              "outlinewidth": 0,
              "ticks": ""
             }
            },
            "type": "scattercarpet"
           }
          ],
          "scattergeo": [
           {
            "marker": {
             "colorbar": {
              "outlinewidth": 0,
              "ticks": ""
             }
            },
            "type": "scattergeo"
           }
          ],
          "scattergl": [
           {
            "marker": {
             "colorbar": {
              "outlinewidth": 0,
              "ticks": ""
             }
            },
            "type": "scattergl"
           }
          ],
          "scattermap": [
           {
            "marker": {
             "colorbar": {
              "outlinewidth": 0,
              "ticks": ""
             }
            },
            "type": "scattermap"
           }
          ],
          "scattermapbox": [
           {
            "marker": {
             "colorbar": {
              "outlinewidth": 0,
              "ticks": ""
             }
            },
            "type": "scattermapbox"
           }
          ],
          "scatterpolar": [
           {
            "marker": {
             "colorbar": {
              "outlinewidth": 0,
              "ticks": ""
             }
            },
            "type": "scatterpolar"
           }
          ],
          "scatterpolargl": [
           {
            "marker": {
             "colorbar": {
              "outlinewidth": 0,
              "ticks": ""
             }
            },
            "type": "scatterpolargl"
           }
          ],
          "scatterternary": [
           {
            "marker": {
             "colorbar": {
              "outlinewidth": 0,
              "ticks": ""
             }
            },
            "type": "scatterternary"
           }
          ],
          "surface": [
           {
            "colorbar": {
             "outlinewidth": 0,
             "ticks": ""
            },
            "colorscale": [
             [
              0,
              "#0d0887"
             ],
             [
              0.1111111111111111,
              "#46039f"
             ],
             [
              0.2222222222222222,
              "#7201a8"
             ],
             [
              0.3333333333333333,
              "#9c179e"
             ],
             [
              0.4444444444444444,
              "#bd3786"
             ],
             [
              0.5555555555555556,
              "#d8576b"
             ],
             [
              0.6666666666666666,
              "#ed7953"
             ],
             [
              0.7777777777777778,
              "#fb9f3a"
             ],
             [
              0.8888888888888888,
              "#fdca26"
             ],
             [
              1,
              "#f0f921"
             ]
            ],
            "type": "surface"
           }
          ],
          "table": [
           {
            "cells": {
             "fill": {
              "color": "#EBF0F8"
             },
             "line": {
              "color": "white"
             }
            },
            "header": {
             "fill": {
              "color": "#C8D4E3"
             },
             "line": {
              "color": "white"
             }
            },
            "type": "table"
           }
          ]
         },
         "layout": {
          "annotationdefaults": {
           "arrowcolor": "#2a3f5f",
           "arrowhead": 0,
           "arrowwidth": 1
          },
          "autotypenumbers": "strict",
          "coloraxis": {
           "colorbar": {
            "outlinewidth": 0,
            "ticks": ""
           }
          },
          "colorscale": {
           "diverging": [
            [
             0,
             "#8e0152"
            ],
            [
             0.1,
             "#c51b7d"
            ],
            [
             0.2,
             "#de77ae"
            ],
            [
             0.3,
             "#f1b6da"
            ],
            [
             0.4,
             "#fde0ef"
            ],
            [
             0.5,
             "#f7f7f7"
            ],
            [
             0.6,
             "#e6f5d0"
            ],
            [
             0.7,
             "#b8e186"
            ],
            [
             0.8,
             "#7fbc41"
            ],
            [
             0.9,
             "#4d9221"
            ],
            [
             1,
             "#276419"
            ]
           ],
           "sequential": [
            [
             0,
             "#0d0887"
            ],
            [
             0.1111111111111111,
             "#46039f"
            ],
            [
             0.2222222222222222,
             "#7201a8"
            ],
            [
             0.3333333333333333,
             "#9c179e"
            ],
            [
             0.4444444444444444,
             "#bd3786"
            ],
            [
             0.5555555555555556,
             "#d8576b"
            ],
            [
             0.6666666666666666,
             "#ed7953"
            ],
            [
             0.7777777777777778,
             "#fb9f3a"
            ],
            [
             0.8888888888888888,
             "#fdca26"
            ],
            [
             1,
             "#f0f921"
            ]
           ],
           "sequentialminus": [
            [
             0,
             "#0d0887"
            ],
            [
             0.1111111111111111,
             "#46039f"
            ],
            [
             0.2222222222222222,
             "#7201a8"
            ],
            [
             0.3333333333333333,
             "#9c179e"
            ],
            [
             0.4444444444444444,
             "#bd3786"
            ],
            [
             0.5555555555555556,
             "#d8576b"
            ],
            [
             0.6666666666666666,
             "#ed7953"
            ],
            [
             0.7777777777777778,
             "#fb9f3a"
            ],
            [
             0.8888888888888888,
             "#fdca26"
            ],
            [
             1,
             "#f0f921"
            ]
           ]
          },
          "colorway": [
           "#636efa",
           "#EF553B",
           "#00cc96",
           "#ab63fa",
           "#FFA15A",
           "#19d3f3",
           "#FF6692",
           "#B6E880",
           "#FF97FF",
           "#FECB52"
          ],
          "font": {
           "color": "#2a3f5f"
          },
          "geo": {
           "bgcolor": "white",
           "lakecolor": "white",
           "landcolor": "#E5ECF6",
           "showlakes": true,
           "showland": true,
           "subunitcolor": "white"
          },
          "hoverlabel": {
           "align": "left"
          },
          "hovermode": "closest",
          "mapbox": {
           "style": "light"
          },
          "paper_bgcolor": "white",
          "plot_bgcolor": "#E5ECF6",
          "polar": {
           "angularaxis": {
            "gridcolor": "white",
            "linecolor": "white",
            "ticks": ""
           },
           "bgcolor": "#E5ECF6",
           "radialaxis": {
            "gridcolor": "white",
            "linecolor": "white",
            "ticks": ""
           }
          },
          "scene": {
           "xaxis": {
            "backgroundcolor": "#E5ECF6",
            "gridcolor": "white",
            "gridwidth": 2,
            "linecolor": "white",
            "showbackground": true,
            "ticks": "",
            "zerolinecolor": "white"
           },
           "yaxis": {
            "backgroundcolor": "#E5ECF6",
            "gridcolor": "white",
            "gridwidth": 2,
            "linecolor": "white",
            "showbackground": true,
            "ticks": "",
            "zerolinecolor": "white"
           },
           "zaxis": {
            "backgroundcolor": "#E5ECF6",
            "gridcolor": "white",
            "gridwidth": 2,
            "linecolor": "white",
            "showbackground": true,
            "ticks": "",
            "zerolinecolor": "white"
           }
          },
          "shapedefaults": {
           "line": {
            "color": "#2a3f5f"
           }
          },
          "ternary": {
           "aaxis": {
            "gridcolor": "white",
            "linecolor": "white",
            "ticks": ""
           },
           "baxis": {
            "gridcolor": "white",
            "linecolor": "white",
            "ticks": ""
           },
           "bgcolor": "#E5ECF6",
           "caxis": {
            "gridcolor": "white",
            "linecolor": "white",
            "ticks": ""
           }
          },
          "title": {
           "x": 0.05
          },
          "xaxis": {
           "automargin": true,
           "gridcolor": "white",
           "linecolor": "white",
           "ticks": "",
           "title": {
            "standoff": 15
           },
           "zerolinecolor": "white",
           "zerolinewidth": 2
          },
          "yaxis": {
           "automargin": true,
           "gridcolor": "white",
           "linecolor": "white",
           "ticks": "",
           "title": {
            "standoff": 15
           },
           "zerolinecolor": "white",
           "zerolinewidth": 2
          }
         }
        },
        "title": {
         "text": "Feature Importance (Permutation, SVM-RBF)"
        },
        "xaxis": {
         "anchor": "y",
         "domain": [
          0,
          1
         ],
         "title": {
          "text": "Feature"
         }
        },
        "yaxis": {
         "anchor": "x",
         "domain": [
          0,
          1
         ],
         "title": {
          "text": "Feature Importance"
         }
        }
       }
      }
     },
     "metadata": {},
     "output_type": "display_data"
    }
   ],
   "source": [
    "# Berechne Permutations-Feature-Wichtigkeit\n",
    "result = permutation_importance(svm_model, X, y, n_repeats=10, random_state=42)\n",
    "\n",
    "# Feature-Wichtigkeiten extrahieren\n",
    "feature_importance = result.importances_mean\n",
    "\n",
    "# Erstelle DataFrame für die Visualisierung\n",
    "df_plot = pd.DataFrame({\n",
    "    \"Feature\": X.columns,\n",
    "    \"Wichtigkeit\": feature_importance\n",
    "})\n",
    "\n",
    "\n",
    "# Erstelle interaktives Bar-Plot mit Plotly\n",
    "fig = px.bar(df_plot, x=\"Feature\", y=\"Wichtigkeit\", title=\"Feature Importance (Permutation, SVM-RBF)\", labels={\"Feature\": \"Feature\", \"Wichtigkeit\": \"Feature Importance\"})\n",
    "fig.show()\n"
   ]
  },
  {
   "cell_type": "markdown",
   "metadata": {},
   "source": [
    "Die Feature-Wichtigkeit der linearen SVM zeigt, dass AP einen deutlich stärkeren Einfluss auf die Entscheidung des Modells hat als alle anderen Merkmale. Auch Geschlecht, RZ und Chol tragen spürbar zur Trennlinie bei. Merkmale wie Alter, Blutdruck und EKG haben hingegen nur einen sehr geringen Einfluss auf das Klassifikationsergebnis.\n",
    "Da bei der linearen SVM die Koeffizienten direkt interpretiert werden können, spiegelt die Gewichtung wider, wie stark sich Änderungen in einem Merkmal auf die Entscheidung für oder gegen KHK auswirken. Im Gegensatz zur PCA steht hier also die Beziehung zur Zielvariable im Vordergrund.\n",
    "\n",
    "Zusammenfassend lässt sich sagen, dass je nach gewähltem Verfahren andere Werte ausschlaggebend für die Klassifikation sind.\n",
    "Chol, sowie AP und RZ sind jedoch bei den drei gezeigten Graphen stets von hoher Relevanz."
   ]
  },
  {
   "cell_type": "markdown",
   "metadata": {},
   "source": [
    "## 5. Feature-Engineering\n",
    "\n",
    "Für das Feature Engineering wurden zwei Klassifikationsverfahren ausgewählt. Einmal wurde k-Nearest-Neighbor mit Manhattan Metrik genutzt und zusätzlich klassische Entscheidungsbäume. Diese beiden Klassifikationsverfahren wurden ausgewählt, dass k-Nearest-Neighbor mit Manhattan Metrik beim testen die höchste und klassische Entscheidungsbäume die schlechteste Genauigkeit hatten. "
   ]
  },
  {
   "cell_type": "markdown",
   "metadata": {},
   "source": [
    "### 5.1 Generieren der PCA-Hauptkomponenten Daten"
   ]
  },
  {
   "cell_type": "code",
   "execution_count": 35,
   "metadata": {},
   "outputs": [],
   "source": [
    "# Define the number of principal components to keep (can be adjusted)\n",
    "pca_components = 5\n",
    "\n",
    "# Perform PCA transformation with the specified number of components\n",
    "pca = PCA(n_components=pca_components)\n",
    "X_pca = pca.fit_transform(data_scaled)\n",
    "\n",
    "# Convert the PCA results into a DataFrame\n",
    "df_pca = pd.DataFrame(X_pca, columns=[f'PC{i+1}' for i in range(pca_components)])\n",
    "\n",
    "# Add the target variable \"KHK\" to the PCA DataFrame\n",
    "df_pca['KHK'] = data['KHK'].values\n",
    "\n",
    "# Split the data into training and test sets\n",
    "X_train_pca, X_test_pca, y_train_pca, y_test_pca = train_test_split(df_pca.drop(columns=[\"KHK\"]), df_pca[\"KHK\"], test_size=0.3, random_state=42, shuffle=True, stratify=df_pca[\"KHK\"])\n"
   ]
  },
  {
   "cell_type": "markdown",
   "metadata": {},
   "source": [
    "### 5.2 Testen des Feature-Engineering auf k-Nearest-Neighbor mit Manhattan Metrik"
   ]
  },
  {
   "cell_type": "code",
   "execution_count": 36,
   "metadata": {},
   "outputs": [
    {
     "name": "stdout",
     "output_type": "stream",
     "text": [
      "Model accuracy: 0.844\n",
      "              precision    recall  f1-score   support\n",
      "\n",
      "           0      0.794     0.878     0.834       123\n",
      "           1      0.893     0.817     0.853       153\n",
      "\n",
      "    accuracy                          0.844       276\n",
      "   macro avg      0.843     0.848     0.844       276\n",
      "weighted avg      0.849     0.844     0.845       276\n",
      "\n"
     ]
    }
   ],
   "source": [
    "# Create k-NN model with k=10 for PCA features using Manhattan distance\n",
    "knn_model_pca = KNeighborsClassifier(n_neighbors=34, metric='manhattan')\n",
    "\n",
    "# Train the model on PCA-transformed features\n",
    "knn_model_pca.fit(X_train_pca, y_train_pca)\n",
    "\n",
    "# Make predictions on the test set\n",
    "y_pred_knn_pca = knn_model_pca.predict(X_test_pca)\n",
    "\n",
    "# Save results using the helper function\n",
    "save_results(\"k-NN (PCA + Manhattan)\", y_test_pca, y_pred_knn_pca, results)"
   ]
  },
  {
   "cell_type": "markdown",
   "metadata": {},
   "source": [
    "Das k-NN-Modell mit Manhattan-Distanz und PCA-Reduktion auf zwei Komponenten erzielt eine Genauigkeit von 79 %, womit es mit den besten bisher getesteten Modellen mithalten kann.\n",
    "Besonders auffällig ist die Leistung bei Klasse 0 (keine KHK) mit einem Recall von 92 %, was bedeutet, dass fast alle gesunden Fälle korrekt erkannt werden. Die Präzision liegt bei 69 %, was auf einige falsch-positive Vorhersagen hinweist.\n",
    "Klasse 1 (KHK) wird mit einer sehr hohen Präzision von 93 % und einem Recall von 70 % vorhergesagt. Das Modell identifiziert also KHK-Fälle sehr zuverlässig, übersieht jedoch auch einen Teil davon.\n",
    "\n",
    "Durch die PCA wurde die Dimensionalität stark reduziert. Trotz dieser Vereinfachung bleibt die Leistung auf hohem Niveau, was zeigt, dass die wichtigsten Informationen im Datensatz gut durch die Hauptkomponenten abgebildet werden.\n",
    "Dies bestätigt die anfängliche Annahme, dass PCA zum Teil die Daten sinnvoll separieren kann."
   ]
  },
  {
   "cell_type": "markdown",
   "metadata": {},
   "source": [
    "### 5.3 Testen des Feature-Engineering auf einem klassischen Entscheidungsbaum "
   ]
  },
  {
   "cell_type": "code",
   "execution_count": 37,
   "metadata": {},
   "outputs": [
    {
     "name": "stdout",
     "output_type": "stream",
     "text": [
      "Model accuracy: 0.757\n",
      "              precision    recall  f1-score   support\n",
      "\n",
      "           0      0.730     0.724     0.727       123\n",
      "           1      0.779     0.784     0.782       153\n",
      "\n",
      "    accuracy                          0.757       276\n",
      "   macro avg      0.754     0.754     0.754       276\n",
      "weighted avg      0.757     0.757     0.757       276\n",
      "\n"
     ]
    }
   ],
   "source": [
    "# Create Decision Tree model for PCA features\n",
    "clf_tree_pca = DecisionTreeClassifier(random_state=42)\n",
    "\n",
    "# Train the model on PCA-transformed features\n",
    "clf_tree_pca.fit(X_train_pca, y_train_pca)\n",
    "\n",
    "# Make predictions on the test set\n",
    "y_pred_tree_pca = clf_tree_pca.predict(X_test_pca)\n",
    "\n",
    "# Save results using the helper function\n",
    "save_results(\"Klassischer Entscheidungsbaum (PCA)\", y_test_pca, y_pred_tree_pca, results)"
   ]
  },
  {
   "cell_type": "markdown",
   "metadata": {},
   "source": [
    "Das klassische Entscheidungsbaum-Modell auf den PCA-transformierten Daten erreicht eine Genauigkeit von 70 % und liegt damit deutlich überhalb des klassischen Entscheidungsbaumes ohne Feature-Engineering mit 64 %.\n",
    "\n",
    "Klasse 0 (keine KHK) wird mit 62 % Präzision und 71 % Recall erkannt – gesunde Fälle werden also mehrheitlich gefunden, aber mit vergleichsweise vielen Fehlalarmen.\n",
    "Klasse 1 (KHK) zeigt mit 77 % Präzision und 68 % Recall etwas bessere Balance, allerdings auf Kosten einer geringeren Sensitivität.\n",
    "\n",
    "Insgesamt wirkt das Modell instabiler, was bei Entscheidungsbäumen typisch ist, besonders bei reduzierter Datenkomplexität wie nach PCA:\n",
    "\n",
    "\"Unstable: Decision trees can be unstable, as small changes in the data can result in significant changes to the tree structure.\" (vgl. https://lazyprogrammer.me/mlcompendium/supervised/decision_trees.html)"
   ]
  },
  {
   "cell_type": "markdown",
   "metadata": {},
   "source": [
    "### 6. Zusammentragung der Ergebnisse"
   ]
  },
  {
   "cell_type": "code",
   "execution_count": 38,
   "metadata": {},
   "outputs": [
    {
     "data": {
      "application/vnd.plotly.v1+json": {
       "config": {
        "plotlyServerURL": "https://plot.ly"
       },
       "data": [
        {
         "cells": {
          "align": "left",
          "fill": {
           "color": "white"
          },
          "font": {
           "color": "black",
           "size": 11
          },
          "values": [
           [
            "k-NN (Manhattan)",
            "SVM (rbf)",
            "AdaBoost",
            "k-NN (PCA + Manhattan)",
            "Neural Net (SGD)",
            "Neural Net (Adam)",
            "Logistische Regression",
            "k-NN (euklidisch)",
            "k-NN (Minkowski, p=3)",
            "Random Forest",
            "Stacking",
            "Klassischer Entscheidungsbaum (PCA)",
            "Klassischer Entscheidungsbaum"
           ],
           [
            0.855,
            0.855,
            0.851,
            0.844,
            0.841,
            0.841,
            0.837,
            0.837,
            0.833,
            0.826,
            0.822,
            0.757,
            0.703
           ],
           [
            0.803,
            0.822,
            0.815,
            0.794,
            0.797,
            0.784,
            0.82,
            0.791,
            0.803,
            0.791,
            0.819,
            0.73,
            0.661
           ],
           [
            0.894,
            0.862,
            0.862,
            0.878,
            0.862,
            0.886,
            0.813,
            0.862,
            0.829,
            0.829,
            0.772,
            0.724,
            0.683
           ],
           [
            0.846,
            0.841,
            0.838,
            0.834,
            0.828,
            0.832,
            0.816,
            0.825,
            0.816,
            0.81,
            0.795,
            0.727,
            0.672
           ],
           [
            0.906,
            0.884,
            0.884,
            0.893,
            0.881,
            0.898,
            0.851,
            0.88,
            0.859,
            0.857,
            0.825,
            0.779,
            0.738
           ],
           [
            0.824,
            0.85,
            0.843,
            0.817,
            0.824,
            0.804,
            0.856,
            0.817,
            0.837,
            0.824,
            0.863,
            0.784,
            0.719
           ],
           [
            0.863,
            0.867,
            0.863,
            0.853,
            0.851,
            0.848,
            0.853,
            0.847,
            0.848,
            0.84,
            0.843,
            0.782,
            0.728
           ],
           [
            0.855,
            0.854,
            0.85,
            0.844,
            0.84,
            0.84,
            0.835,
            0.836,
            0.832,
            0.825,
            0.819,
            0.754,
            0.7
           ]
          ]
         },
         "header": {
          "align": "left",
          "fill": {
           "color": "lightblue"
          },
          "font": {
           "color": "black",
           "size": 12
          },
          "values": [
           "Model",
           "Accuracy",
           "Precision_0",
           "Recall_0",
           "F1_0",
           "Precision_1",
           "Recall_1",
           "F1_1",
           "Macro_F1"
          ]
         },
         "type": "table"
        }
       ],
       "layout": {
        "margin": {
         "b": 0,
         "l": 0,
         "r": 0,
         "t": 40
        },
        "template": {
         "data": {
          "bar": [
           {
            "error_x": {
             "color": "#2a3f5f"
            },
            "error_y": {
             "color": "#2a3f5f"
            },
            "marker": {
             "line": {
              "color": "#E5ECF6",
              "width": 0.5
             },
             "pattern": {
              "fillmode": "overlay",
              "size": 10,
              "solidity": 0.2
             }
            },
            "type": "bar"
           }
          ],
          "barpolar": [
           {
            "marker": {
             "line": {
              "color": "#E5ECF6",
              "width": 0.5
             },
             "pattern": {
              "fillmode": "overlay",
              "size": 10,
              "solidity": 0.2
             }
            },
            "type": "barpolar"
           }
          ],
          "carpet": [
           {
            "aaxis": {
             "endlinecolor": "#2a3f5f",
             "gridcolor": "white",
             "linecolor": "white",
             "minorgridcolor": "white",
             "startlinecolor": "#2a3f5f"
            },
            "baxis": {
             "endlinecolor": "#2a3f5f",
             "gridcolor": "white",
             "linecolor": "white",
             "minorgridcolor": "white",
             "startlinecolor": "#2a3f5f"
            },
            "type": "carpet"
           }
          ],
          "choropleth": [
           {
            "colorbar": {
             "outlinewidth": 0,
             "ticks": ""
            },
            "type": "choropleth"
           }
          ],
          "contour": [
           {
            "colorbar": {
             "outlinewidth": 0,
             "ticks": ""
            },
            "colorscale": [
             [
              0,
              "#0d0887"
             ],
             [
              0.1111111111111111,
              "#46039f"
             ],
             [
              0.2222222222222222,
              "#7201a8"
             ],
             [
              0.3333333333333333,
              "#9c179e"
             ],
             [
              0.4444444444444444,
              "#bd3786"
             ],
             [
              0.5555555555555556,
              "#d8576b"
             ],
             [
              0.6666666666666666,
              "#ed7953"
             ],
             [
              0.7777777777777778,
              "#fb9f3a"
             ],
             [
              0.8888888888888888,
              "#fdca26"
             ],
             [
              1,
              "#f0f921"
             ]
            ],
            "type": "contour"
           }
          ],
          "contourcarpet": [
           {
            "colorbar": {
             "outlinewidth": 0,
             "ticks": ""
            },
            "type": "contourcarpet"
           }
          ],
          "heatmap": [
           {
            "colorbar": {
             "outlinewidth": 0,
             "ticks": ""
            },
            "colorscale": [
             [
              0,
              "#0d0887"
             ],
             [
              0.1111111111111111,
              "#46039f"
             ],
             [
              0.2222222222222222,
              "#7201a8"
             ],
             [
              0.3333333333333333,
              "#9c179e"
             ],
             [
              0.4444444444444444,
              "#bd3786"
             ],
             [
              0.5555555555555556,
              "#d8576b"
             ],
             [
              0.6666666666666666,
              "#ed7953"
             ],
             [
              0.7777777777777778,
              "#fb9f3a"
             ],
             [
              0.8888888888888888,
              "#fdca26"
             ],
             [
              1,
              "#f0f921"
             ]
            ],
            "type": "heatmap"
           }
          ],
          "histogram": [
           {
            "marker": {
             "pattern": {
              "fillmode": "overlay",
              "size": 10,
              "solidity": 0.2
             }
            },
            "type": "histogram"
           }
          ],
          "histogram2d": [
           {
            "colorbar": {
             "outlinewidth": 0,
             "ticks": ""
            },
            "colorscale": [
             [
              0,
              "#0d0887"
             ],
             [
              0.1111111111111111,
              "#46039f"
             ],
             [
              0.2222222222222222,
              "#7201a8"
             ],
             [
              0.3333333333333333,
              "#9c179e"
             ],
             [
              0.4444444444444444,
              "#bd3786"
             ],
             [
              0.5555555555555556,
              "#d8576b"
             ],
             [
              0.6666666666666666,
              "#ed7953"
             ],
             [
              0.7777777777777778,
              "#fb9f3a"
             ],
             [
              0.8888888888888888,
              "#fdca26"
             ],
             [
              1,
              "#f0f921"
             ]
            ],
            "type": "histogram2d"
           }
          ],
          "histogram2dcontour": [
           {
            "colorbar": {
             "outlinewidth": 0,
             "ticks": ""
            },
            "colorscale": [
             [
              0,
              "#0d0887"
             ],
             [
              0.1111111111111111,
              "#46039f"
             ],
             [
              0.2222222222222222,
              "#7201a8"
             ],
             [
              0.3333333333333333,
              "#9c179e"
             ],
             [
              0.4444444444444444,
              "#bd3786"
             ],
             [
              0.5555555555555556,
              "#d8576b"
             ],
             [
              0.6666666666666666,
              "#ed7953"
             ],
             [
              0.7777777777777778,
              "#fb9f3a"
             ],
             [
              0.8888888888888888,
              "#fdca26"
             ],
             [
              1,
              "#f0f921"
             ]
            ],
            "type": "histogram2dcontour"
           }
          ],
          "mesh3d": [
           {
            "colorbar": {
             "outlinewidth": 0,
             "ticks": ""
            },
            "type": "mesh3d"
           }
          ],
          "parcoords": [
           {
            "line": {
             "colorbar": {
              "outlinewidth": 0,
              "ticks": ""
             }
            },
            "type": "parcoords"
           }
          ],
          "pie": [
           {
            "automargin": true,
            "type": "pie"
           }
          ],
          "scatter": [
           {
            "fillpattern": {
             "fillmode": "overlay",
             "size": 10,
             "solidity": 0.2
            },
            "type": "scatter"
           }
          ],
          "scatter3d": [
           {
            "line": {
             "colorbar": {
              "outlinewidth": 0,
              "ticks": ""
             }
            },
            "marker": {
             "colorbar": {
              "outlinewidth": 0,
              "ticks": ""
             }
            },
            "type": "scatter3d"
           }
          ],
          "scattercarpet": [
           {
            "marker": {
             "colorbar": {
              "outlinewidth": 0,
              "ticks": ""
             }
            },
            "type": "scattercarpet"
           }
          ],
          "scattergeo": [
           {
            "marker": {
             "colorbar": {
              "outlinewidth": 0,
              "ticks": ""
             }
            },
            "type": "scattergeo"
           }
          ],
          "scattergl": [
           {
            "marker": {
             "colorbar": {
              "outlinewidth": 0,
              "ticks": ""
             }
            },
            "type": "scattergl"
           }
          ],
          "scattermap": [
           {
            "marker": {
             "colorbar": {
              "outlinewidth": 0,
              "ticks": ""
             }
            },
            "type": "scattermap"
           }
          ],
          "scattermapbox": [
           {
            "marker": {
             "colorbar": {
              "outlinewidth": 0,
              "ticks": ""
             }
            },
            "type": "scattermapbox"
           }
          ],
          "scatterpolar": [
           {
            "marker": {
             "colorbar": {
              "outlinewidth": 0,
              "ticks": ""
             }
            },
            "type": "scatterpolar"
           }
          ],
          "scatterpolargl": [
           {
            "marker": {
             "colorbar": {
              "outlinewidth": 0,
              "ticks": ""
             }
            },
            "type": "scatterpolargl"
           }
          ],
          "scatterternary": [
           {
            "marker": {
             "colorbar": {
              "outlinewidth": 0,
              "ticks": ""
             }
            },
            "type": "scatterternary"
           }
          ],
          "surface": [
           {
            "colorbar": {
             "outlinewidth": 0,
             "ticks": ""
            },
            "colorscale": [
             [
              0,
              "#0d0887"
             ],
             [
              0.1111111111111111,
              "#46039f"
             ],
             [
              0.2222222222222222,
              "#7201a8"
             ],
             [
              0.3333333333333333,
              "#9c179e"
             ],
             [
              0.4444444444444444,
              "#bd3786"
             ],
             [
              0.5555555555555556,
              "#d8576b"
             ],
             [
              0.6666666666666666,
              "#ed7953"
             ],
             [
              0.7777777777777778,
              "#fb9f3a"
             ],
             [
              0.8888888888888888,
              "#fdca26"
             ],
             [
              1,
              "#f0f921"
             ]
            ],
            "type": "surface"
           }
          ],
          "table": [
           {
            "cells": {
             "fill": {
              "color": "#EBF0F8"
             },
             "line": {
              "color": "white"
             }
            },
            "header": {
             "fill": {
              "color": "#C8D4E3"
             },
             "line": {
              "color": "white"
             }
            },
            "type": "table"
           }
          ]
         },
         "layout": {
          "annotationdefaults": {
           "arrowcolor": "#2a3f5f",
           "arrowhead": 0,
           "arrowwidth": 1
          },
          "autotypenumbers": "strict",
          "coloraxis": {
           "colorbar": {
            "outlinewidth": 0,
            "ticks": ""
           }
          },
          "colorscale": {
           "diverging": [
            [
             0,
             "#8e0152"
            ],
            [
             0.1,
             "#c51b7d"
            ],
            [
             0.2,
             "#de77ae"
            ],
            [
             0.3,
             "#f1b6da"
            ],
            [
             0.4,
             "#fde0ef"
            ],
            [
             0.5,
             "#f7f7f7"
            ],
            [
             0.6,
             "#e6f5d0"
            ],
            [
             0.7,
             "#b8e186"
            ],
            [
             0.8,
             "#7fbc41"
            ],
            [
             0.9,
             "#4d9221"
            ],
            [
             1,
             "#276419"
            ]
           ],
           "sequential": [
            [
             0,
             "#0d0887"
            ],
            [
             0.1111111111111111,
             "#46039f"
            ],
            [
             0.2222222222222222,
             "#7201a8"
            ],
            [
             0.3333333333333333,
             "#9c179e"
            ],
            [
             0.4444444444444444,
             "#bd3786"
            ],
            [
             0.5555555555555556,
             "#d8576b"
            ],
            [
             0.6666666666666666,
             "#ed7953"
            ],
            [
             0.7777777777777778,
             "#fb9f3a"
            ],
            [
             0.8888888888888888,
             "#fdca26"
            ],
            [
             1,
             "#f0f921"
            ]
           ],
           "sequentialminus": [
            [
             0,
             "#0d0887"
            ],
            [
             0.1111111111111111,
             "#46039f"
            ],
            [
             0.2222222222222222,
             "#7201a8"
            ],
            [
             0.3333333333333333,
             "#9c179e"
            ],
            [
             0.4444444444444444,
             "#bd3786"
            ],
            [
             0.5555555555555556,
             "#d8576b"
            ],
            [
             0.6666666666666666,
             "#ed7953"
            ],
            [
             0.7777777777777778,
             "#fb9f3a"
            ],
            [
             0.8888888888888888,
             "#fdca26"
            ],
            [
             1,
             "#f0f921"
            ]
           ]
          },
          "colorway": [
           "#636efa",
           "#EF553B",
           "#00cc96",
           "#ab63fa",
           "#FFA15A",
           "#19d3f3",
           "#FF6692",
           "#B6E880",
           "#FF97FF",
           "#FECB52"
          ],
          "font": {
           "color": "#2a3f5f"
          },
          "geo": {
           "bgcolor": "white",
           "lakecolor": "white",
           "landcolor": "#E5ECF6",
           "showlakes": true,
           "showland": true,
           "subunitcolor": "white"
          },
          "hoverlabel": {
           "align": "left"
          },
          "hovermode": "closest",
          "mapbox": {
           "style": "light"
          },
          "paper_bgcolor": "white",
          "plot_bgcolor": "#E5ECF6",
          "polar": {
           "angularaxis": {
            "gridcolor": "white",
            "linecolor": "white",
            "ticks": ""
           },
           "bgcolor": "#E5ECF6",
           "radialaxis": {
            "gridcolor": "white",
            "linecolor": "white",
            "ticks": ""
           }
          },
          "scene": {
           "xaxis": {
            "backgroundcolor": "#E5ECF6",
            "gridcolor": "white",
            "gridwidth": 2,
            "linecolor": "white",
            "showbackground": true,
            "ticks": "",
            "zerolinecolor": "white"
           },
           "yaxis": {
            "backgroundcolor": "#E5ECF6",
            "gridcolor": "white",
            "gridwidth": 2,
            "linecolor": "white",
            "showbackground": true,
            "ticks": "",
            "zerolinecolor": "white"
           },
           "zaxis": {
            "backgroundcolor": "#E5ECF6",
            "gridcolor": "white",
            "gridwidth": 2,
            "linecolor": "white",
            "showbackground": true,
            "ticks": "",
            "zerolinecolor": "white"
           }
          },
          "shapedefaults": {
           "line": {
            "color": "#2a3f5f"
           }
          },
          "ternary": {
           "aaxis": {
            "gridcolor": "white",
            "linecolor": "white",
            "ticks": ""
           },
           "baxis": {
            "gridcolor": "white",
            "linecolor": "white",
            "ticks": ""
           },
           "bgcolor": "#E5ECF6",
           "caxis": {
            "gridcolor": "white",
            "linecolor": "white",
            "ticks": ""
           }
          },
          "title": {
           "x": 0.05
          },
          "xaxis": {
           "automargin": true,
           "gridcolor": "white",
           "linecolor": "white",
           "ticks": "",
           "title": {
            "standoff": 15
           },
           "zerolinecolor": "white",
           "zerolinewidth": 2
          },
          "yaxis": {
           "automargin": true,
           "gridcolor": "white",
           "linecolor": "white",
           "ticks": "",
           "title": {
            "standoff": 15
           },
           "zerolinecolor": "white",
           "zerolinewidth": 2
          }
         }
        },
        "title": {
         "text": "Modellvergleich"
        }
       }
      }
     },
     "metadata": {},
     "output_type": "display_data"
    }
   ],
   "source": [
    "# Convert the list of results to a DataFrame\n",
    "df_results = pd.DataFrame(results)\n",
    "\n",
    "# Sort the DataFrame by accuracy in descending order\n",
    "df_results = df_results.sort_values(by='Accuracy', ascending=False)\n",
    "\n",
    "# Optional: Export to Excel\n",
    "# Uncomment the lines below to enable Excel export\n",
    "# df_results.to_excel(\"Modellvergleich.xlsx\", index=False)\n",
    "# display(FileLink(\"Modellvergleich.xlsx\"))\n",
    "\n",
    "# Reorder columns to show 'Model' first\n",
    "df_display = df_results[['Model'] +\n",
    "                        [col for col in df_results.columns if col != 'Model']]\n",
    "\n",
    "# Create table\n",
    "fig = go.Figure(data=[go.Table(\n",
    "    header=dict(\n",
    "        values=list(df_display.columns),\n",
    "        fill_color='lightblue',\n",
    "        align='left',\n",
    "        font=dict(color='black', size=12)\n",
    "    ),\n",
    "    cells=dict(\n",
    "        values=[df_display[col] for col in df_display.columns],\n",
    "        fill_color='white',\n",
    "        align='left',\n",
    "        font=dict(color='black', size=11)\n",
    "    )\n",
    ")])\n",
    "\n",
    "fig.update_layout(\n",
    "    title=\"Modellvergleich\",\n",
    "    margin=dict(l=0, r=0, t=40, b=0)\n",
    ")\n",
    "\n",
    "fig.show()"
   ]
  },
  {
   "cell_type": "markdown",
   "metadata": {},
   "source": [
    "Die Tabelle zeigt, dass k-NN mit dem Feature-Engineering mit PCA und der Manhattan-Metrik mit einer Genauigkeit von 79,3 % am besten abschneidet.\n",
    "Nah daran ist jedoch ebenfalls k-NN ohne Feature-Engineering mit 78,8 %. Dies zeigt, dass das Feature-Engineering minimal die Genauigkeit erhöht, jedoch k-NN von sich aus schon sehr gute Ergebnisse zeigt. Diese These wird auch dadurch bekräftigt, dass alle vier k-NN-Modelle auf den vordersten vier Plätzen stehen hinsichtlich der Genauigkeit.\n",
    "\n",
    "Auch AdaBoost, die lineare SVM sowie das neuronale Netz mit SGD-Optimizer erreichen eine Genauigkeit von über 76 % und liegen damit im oberen Leistungsbereich. Dicht gefolgt davon sind logistische Regression, das Stacking-Modell sowie der Random Forest, die alle leicht darunter liegen.\n",
    "\n",
    "Auffällig ist, dass das neuronale Netz mit dem Adam-Optimizer in diesem Fall etwas schlechter abschneidet (72,2 %) als die Variante mit SGD.\n",
    "\n",
    "Die klassischen Entscheidungsbaum-Modelle, sowohl auf den Originaldaten (63,6 %) als auch auf den PCA-transformierten Daten (69,6 %), bilden das untere Ende des Vergleichs. Das zeigt, dass Entscheidungsbäume bei diesem Datensatz deutlich weniger leistungsfähig sind als andere Verfahren, vor allem, wenn keine Ensemble-Techniken wie Boosting oder Bagging eingesetzt werden.\n"
   ]
  }
 ],
 "metadata": {
  "kernelspec": {
   "display_name": "ML",
   "language": "python",
   "name": "python3"
  },
  "language_info": {
   "codemirror_mode": {
    "name": "ipython",
    "version": 3
   },
   "file_extension": ".py",
   "mimetype": "text/x-python",
   "name": "python",
   "nbconvert_exporter": "python",
   "pygments_lexer": "ipython3",
   "version": "3.12.9"
  }
 },
 "nbformat": 4,
 "nbformat_minor": 2
}
