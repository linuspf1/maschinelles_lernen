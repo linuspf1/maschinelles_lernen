{
 "cells": [
  {
   "cell_type": "markdown",
   "metadata": {},
   "source": [
    "# Anwendung von maschinellem Lernen auf den KHK_Klassifikation.csv Datensatz\n",
    "\n",
    "## Praktische Demonstration für verschiedene machine Learning Modelle\n",
    "\n",
    "### Tim Bleicher, Linus Pfeifer\n",
    "\n",
    "Dieses Jupyter Notebook demonstriert die Anwendung von verschiedenen Machine Learning Modellen auf den KHK_Klassifikation.csv Datensatz. \n",
    "\n",
    "**Inhaltsverzeichnis:**\n",
    "TODO"
   ]
  },
  {
   "cell_type": "markdown",
   "metadata": {},
   "source": [
    "## 1. Einbindung der Daten\n",
    "\n",
    "Zu beginn des Projekts werden die Daten zunächst geladen um diese im anschluss analysieren und nutzen zu können."
   ]
  },
  {
   "cell_type": "code",
   "execution_count": null,
   "metadata": {},
   "outputs": [],
   "source": [
    "pip install -r requirements.txt"
   ]
  },
  {
   "cell_type": "code",
   "execution_count": 6,
   "metadata": {},
   "outputs": [],
   "source": [
    "import pandas as pd\n",
    "import numpy as np\n",
    "import plotly.express as px\n",
    "import matplotlib.pyplot as plt\n",
    "from sklearn.preprocessing import LabelEncoder, StandardScaler, OneHotEncoder\n",
    "from sklearn.decomposition import PCA\n",
    "from sklearn.model_selection import train_test_split\n",
    "from sklearn.linear_model import LogisticRegression\n",
    "from sklearn.metrics import accuracy_score, classification_report\n",
    "from sklearn.compose import ColumnTransformer\n",
    "from sklearn.pipeline import Pipeline"
   ]
  },
  {
   "cell_type": "code",
   "execution_count": 3,
   "metadata": {},
   "outputs": [],
   "source": [
    "data = pd.read_csv('KHK_Klassifikation.csv', sep=',')"
   ]
  },
  {
   "cell_type": "code",
   "execution_count": 3,
   "metadata": {},
   "outputs": [
    {
     "name": "stdout",
     "output_type": "stream",
     "text": [
      "   Alter Geschlecht  Blutdruck  Chol  Blutzucker     EKG  HFmax AP   RZ  KHK\n",
      "0     40          M        140   289           0  Normal    172  N  0.0    0\n",
      "1     49          F        160   180           0  Normal    156  N  1.0    1\n",
      "2     37          M        130   283           0      ST     98  N  0.0    0\n",
      "3     48          F        138   214           0  Normal    108  Y  1.5    1\n",
      "4     54          M        150   195           0  Normal    122  N  0.0    0\n"
     ]
    }
   ],
   "source": [
    "print(data.head())"
   ]
  },
  {
   "cell_type": "markdown",
   "metadata": {},
   "source": [
    "## 1.1 explorative Analyse der Daten \n",
    "TODO"
   ]
  },
  {
   "cell_type": "markdown",
   "metadata": {},
   "source": [
    "## 2. PCA-Dimensionsreduzierung zur Visualisierung und Analyse der Daten "
   ]
  },
  {
   "cell_type": "markdown",
   "metadata": {},
   "source": [
    "### Funktionsweise von PCA\n",
    "Die Hauptkomponentenanalyse (PCA) dient der Dimensionsreduktion eines Datensatzes. Dies ermöglicht beispielsweise verschiedene Analyse des gesamten Datensatzes (mit mehr als 3 Dimensionen), wobei die Ergebnisse durch die Dimensionsreduktion weiterhin visualisiert werden können.\n",
    "Das Verfahren der PCA läuft nach folgendem Schema ab:\n",
    "\n",
    "1. Berechnung des Mittelwerts und Zentrierung der Daten\n",
    "2. Berechnung der Kovarianzmatrix\n",
    "3. Berechnung der Eigenwerte und Eigenvektoren\n",
    "4. Transformation der Daten\n",
    "\n",
    "Damit die PCA korrekt funktioniert, muss zunächst von jeder Dimension der Mittelwert subtrahiert werden. Dieser Mittelwert entspricht dem Durchschnittswert jeder Dimension. Beispielsweise wird von allen $x$-Werten der Mittelwert $\\overline{x}$ subtrahiert. Entsprechendes gilt für die anderen Dimensionen der Daten. Dadurch entsteht ein Datensatz mit einem Mittelwert von null.\n",
    "\n",
    "Im nächsten Schritt wird die Kovarianzmatrix berechnet, welche die wechselseitigen Zusammenhänge zwischen den Merkmalen quantifiziert. Falls zwei Merkmale stark korrelieren, können diese in einer neuen Achse kombiniert werden.\n",
    "\n",
    "Anschließend werden die Eigenwerte und Eigenvektoren der Kovarianzmatrix bestimmt. Die Eigenvektoren definieren die Richtungen der Hauptkomponenten, während die zugehörigen Eigenwerte die Bedeutung bzw. die Varianz der jeweiligen Eigenvektoren widerspiegeln.\n",
    "\n",
    "Es folgt die eigentliche Dimensionsreduktion, indem nur diejenigen Eigenvektoren mit den größten Eigenwerten ausgewählt werden. Diese Eigenvektoren entsprechen den neuen Hauptachsen des Datensatzes.\n",
    "\n",
    "Schließlich werden die Daten transformiert, indem die ursprüngliche Datenmatrix mit der Matrix der Eigenvektoren multipliziert wird. In dieser Matrix repräsentiert jede Spalte einen Eigenvektor.\n",
    "\n"
   ]
  },
  {
   "cell_type": "code",
   "execution_count": 5,
   "metadata": {},
   "outputs": [],
   "source": [
    "label_encoder = LabelEncoder()\n",
    "categorical_columns = ['Geschlecht', 'EKG', 'AP']\n",
    "for col in categorical_columns:\n",
    "    data[col] = label_encoder.fit_transform(data[col])"
   ]
  },
  {
   "cell_type": "code",
   "execution_count": 17,
   "metadata": {},
   "outputs": [
    {
     "data": {
      "application/vnd.plotly.v1+json": {
       "config": {
        "plotlyServerURL": "https://plot.ly"
       },
       "data": [
        {
         "hovertemplate": "PC1=%{x}<br>PC2=%{y}<extra></extra>",
         "legendgroup": "",
         "marker": {
          "color": "#636efa",
          "opacity": 0.5,
          "symbol": "circle"
         },
         "mode": "markers",
         "name": "",
         "orientation": "v",
         "showlegend": false,
         "type": "scatter",
         "x": {
          "bdata": "3o6IfBxiAsCbaE0b42Dlv8RP9O8/1vG/sM5KTPYa6T9g2IFyxbvmv1oYx2LUtQTATlsCVz+hBcB5LW9oyQT3v3XiemOA8eU/mJK55+Wj/7+q6I7xLPwDwDaSpDYfuwJAqcjE5Cfp/r8od/4oRzXoP6UzdCaCgAHAkzTa0xf6+78Jjzx3q932v/CTzGQaywXAn6zHaFhZwz8j0hq1qzDgv6ugofLCtQTAnma9ta+Z9b9k6Ea3f5oDwDL4ZcEZhvA/Bvy3AhZV+7+8A/hr398DwMzhuyNMJ/A/rd9GkBPP8r9GeweYiJUCwHOiXv9co/a/DUxDWUuK4r+g8o1Zxbfkv46K+mRJfeI/x4lFa9Hz0z+ZiB92bNsBwCrJjVtQKQPA3IqNFbgaBkBuAktSIGkDwO0vtCkar/e/RiSLldro4r+3m9FThHX4vzzjGq02AuQ/mdL/YgIwAsCotdwt9UP5v9DpcOVX5ug/7mqveeeTzT8KWtfQNUcDwIT/LinOL/y/Io/FkMCBBcBU/tjIsfX4v1ovng2bEfU/j1A4F6Ya7T/WJX/yt2zkv0VRDVNZWwTAQ0PcRMuf4b9vRpJHh+wAwG9LN7u+T8u/+HFWqKq6sT+3o8eXexTnv/NiDE/CofQ/60STG0SGAsBWLHLpBZUFwMErMqTcr/i/6QYjZxmn4z8fwDslUfYBwMC58bO/9APArb9sbqoNA8BWaBcqw5YHwApbXn8IwghAC0Jnob4OAsCz2h/qJZ7xP4Jf5pIBOfi/uyHQ8pY64b9COP6wXaP7v0+v6eoGKvQ/dpR9xgMT678HmaGk7Qb6vyt4IGmAKQTAm0+n9dH4vb9x922qEmTtvztUg9MDJf2/NUSzypV5+b8WJjcnRkzkPy7tGy0nEPa/m0Vf3mkM/z+8fbi6ol0CQC7gA5b3GQdAwp1NSKUv17+lI06qadTuv1+dKKG3mtY/EewKlu1EBMCd0D/LJTn/v5JklbMBHgHA5tM8AXaD+j8WpDp9G9YHwG8wKsFD9/M/F+LqzPB+97+IjfUkGhHyvzvr8YfVEfC/kZ/cQv2w/r8HFBVtGSj8P07FTCfCHeS/24BGvQR+6L9Hd5eVGOTDP82D+cLvide/xCJmkB3N4b+CLIn9vxv5v/idd7phMQDAsHDJ9cmR8L++9UnFnJ3mvxWP/YCBxvC/pMuJjdEABECCSSjQHzPAP7Y44XzHRADAj/y7at/5+79eFzfZz0rwv8BBVnVv+Pi/dxDcmc8+9D+oIsedN4wIwHyoYqN//Pa/DJOmdi+F8b8/O2WmbYUAwERYxePvGfm/0hJZggJj8D9W2yaUe1X0v1TgUNHv3ey/cbhExEJCCsC9HPLKZ/IAwLVak42Kyfa/460XEr6A5b9l8nhshH36v+GIFYlwKqu/e8TBskzN/D8TjsqfZYT7P68nqtz3NbW/wwGxYB4R9L9nUsc6i8IFwFR6FJuHN/O/dSWNADW68T+0nmv32k3xPxM4pjH0pABAxHFSnWvb9z8X/oNLjLn0P/71NY57Z/e/L8shkHJg7L/rWdnDEzT/v9Zz3m+7if+/ZaVYWXxnBsDt0fQ+oDr7v+s8E1Mw8+0/o0wKkhZN979hwaNswZrvv3Q6E8GcHQDAuN94HlVF9r/6PmGCCJYAwBY1AfD/gP8/BnX9EowPhL+/gECLf5Lxv8ly6nmyNvU/8lJsDz6Szr9FSQxCfjL3Pz3zJASVNfE/W4q7EaBU/b9C6ef46jH+v4rQ4SP1kv2/Z8dhnGSjpD9k+Guvde8BQOyKwS1QsPC/GSykrv4B2r+EalEVfNHzv0Ysh7Rs5QTAIGSMKISdA8ACFOTxdon7v19u/1uFZ/y/4fqmq2Vv8z+Yh2/pg33qP6y1br9ISOs/xBTO0Xry87+/PSwVE4f/v90T/AElMPa/c86Ndv289j9C8N8ITz/4v+LThax6z/E/mUSlscV32r8gsctdlGr5v6aGfzxQ6Po/kSWdKQZt5b8pnSSLOjrrP1+bVlCUouW/wqW4Fda2/T8XAG2Qquzkvx08m+gW5Nm/3rYSzGM0/b800MxhDobvvwA2bdQuqQfAiTKq2cMQ678K0aD1a4rzv2VqM3a2Mfi/zZtM3EBT6D/dFOpZQdftv8kv5Pkaaf6/rRooxAfj/L/ZLud+to31v+AtcsdHqAfAtapJaVwj3b8mhU+DwQ/Wv2zNYsxuOAjAsYwrEg7O878ETh49z3gHwD1wRnNMldS/QfxMD3BCzD8/sCawin7Pv10fbf8SpbI/Ap9wTKau/7+7jwXsBPz5P3EYrLj3bAXA9/BjaDm69L86musEQ3r0vzlU6/RkhvO/H7S/xDbzBMCDmqZCJ37Av/DXr1y+Nrs/CHzijoI4/r/dael4QsQHwOZmA/brfOi/fVTt8z3j4L+H5CUpCCr1v9+tRGL21eU/bjalEBR1A8CKb1rpBkQHwKMhUNFToALAS5588vxiAsDWBJNnUcMDwCF7vvTgl/+/KeAsWb3l+790xsnhbjbwv1LVVoEU7PA/swQLQ6AUzb8Olmnv6W76P9QRBtGNywFAOz1rSNv897+2oDk1XM/9P+GUp01K/f0/hBMlvszAAMCSD+NhOwr3P7YWJxfTIOK/JTnCNMCg5z+uJU8UfNn1P3KCHqPNnew/cK2G7/bn6D9A1o+VzIfwv9vi12O1rtY/g+W+Kzvi0D+eqKYe2mvqv72iroHKHwBAD4AcgdT5/r/q9v8wGQ0EwBywQAdQ1ADAqvLR2RM89L8h4nSOVqcCwPtbAJ3lnvG/rJuIeTfT+b9Ddu/Ny47hP3ATzQKpf9Q/yIGioeDK5T8fwkXWOcT6vxhHXRAJFPI/kzdQ6798A8Cu7sQJOtL5P50X2H+smfm/UGrl1GjB+r/igScXYR0KwH4nD4mtMv0/9/kVtEtF9r+JJpA/ZvYDwJUEdoS8AbQ/qQ1zpHFEzj9bLkmhTeL4P5dFoiK/4IO/jO1cjYyT/79hbBCRHGT0vz66MzKQa+Q/elTmEA956r/CeuOE0QwDwG5+Cf7KlgLAgGzLfj2Q/L+zwjeBz5nrv8q1hEz/r/K/jRAHiEmJ+r9l5jAAij4EwIcoItMomPm/Z2aHcRYu+78uq81iCkr1vzMFNae0yP8/o3MLVxmSmL8usgkn0/IDQAi/czIlJfw/gD3hORG/AUCfQ/vXMIDyP2nZjPCkO+4/gxX3BsTP8j8rG1kmlQjjv3BADA//TPY/G2jhKFzDAEB24EX5coDyP0WhnxyiAfY/yVmsO57N1z9q+CdynirAv4+TqKF5I+w/eqmB10CbgT9TrJIOmhi3v5VPVqfw8vU/4N5Ud5Sztj95i3FYWVDWvyWe91t+2bw/akz3feh3A0BaIRKxkMXgP2lgkRDzgQRAzlqmblLkBUCsL/uiQ4r/P+RewvQVN/E/oO9PsoQ+7j8XSUHZ+DbTv2tu7c4DNAVA680w0b+/2b8hZmPGC0fiP0irLznwcfW/NFQ/wCQ9AkD3DQzKHWMCQIOkushuiANA/9yKSit59z9SQlMuAs72P5FHM1xMTAXA+edYU5RnoL9UgQ/DoB+/v/128JqLROE/hIqlTxFA6z9br5/NJasCQGgGLBW9dfY/d/EH7Wj91j8/umCvzjboPwO4sCIEMgRASRN0E0z6+T8yD0ZAFvDtP3zxoDuJ9PA/hM+juXmR7D8b607W7fbjP8Q1NWXLjuA/q5rJdzTfBkCoxlumXK/zP2REOotAC+w/7a8L3do/8D9BHua8fYn3P12gAvDNIAJAnOMLFYMZ8j9EPrANX77pP1ua0BcWDfc/S2g91L8z5z9ZeKmOEAvcP1bhmO/5sdA/mGL7EX8nBUBO7LsKSDL0P+CNbcS+v/Q/pZ1ALfqPxj+SGoPHArHDv2U9R8OhMvs/o8Bv6HdVA0CYUzLLHV4AQJuj5oRUAwFAY+4nlePkB0D4Idf9dQ8FQOWmnFtc8wVA8v/WSiAHBEBKwkPpNbT+P3fS7xfv5fs/wmop0Zmu7z+wnx1CSvr5P/lI8mHE3AFAvw+WY9h8BEA98iPntljlPz/szBQp4wNA0uTBKHGW8j/Kb5DuzS/vP3CgqWNRVPi/SxFq2dKcyb9YXBHybLr/P5faYn5yYvU/Y7lQt+M98j88T7CFrenyP0pKF7rue/o/DLoD+5t49j/VhTbi2wIDQE5ThRqEQeM/iGez8VLD+j+TjaAxR8gJQKZ3CbuzMoO/bINfH1rm2T8TlVSNhnYGQL6zaOfvHgNAIMg28E1rB0CnGgV3cfblPzY5tfldptk/hxXNKZGDBkCmUDscxY4CQNgJAxQGZfY/2eOvtPFZ9D+80TPyPvwCQDrOMhQQ3wRA3Nzhvx2r9j/MbByI6f79P73UyEFE3QdA5AOnijqe9z+w5oxo0akDQHN4lvwvVug/VVp0rnqSB0BpUOVGrbT4PxB6kj5R4QNA2PEseK7u8r9UlVhVWVz3Pyev0EI6Xfg//z/Y4ZeU9D9Lii5+LlC/v14QG0+GZQNAAtNYMAoH9j8/eWyU/BQCQP7bQDR3bOg/hIvoqRUb7b9v4cciuwEBQNQ34tWx1/g/Jyzkuidm/D8b8rDeF+P/PymrQFNwvo8/vHEI8YI/CEBkk0XsUxjtP3W7jG9T5dw/3DbR2wW87z92Q3PiMvjmP+uIGEqXjwJAcvPScSBa/z8BxnCUb9PbP6Nunh19DOE/anKkiQus/j8khJmEc6MBQJ2eAPiF2fs/e3+Wa0DW+D+xeo6vTVn5P+XD8ds9j/8/s2p6fGjaBUBWeX6VBKUEQFM6Vq/S+eq/N/QrWVro/j/7dAmVeyICQPStARjmUPw/2jEzRyMo7D9FKxcqW+T/PzLoQxRwxPM/hXs+qZjFAEA3rwvXZG/Rv74h2Q11EQRAo2g8Uw5y7L+LB40+tK4CQCrwcAfTEQJAU7NnqfOg9j91fWt7O+fav7hWMvABxP8/xfRtUlTz/79s6xql/ggBQJ1m1xuc7+y/tCkuFWaMBEAjoleF09nYv4YHEbr9ZeM/Jh3BMLdMBUBzrhWXAQsDQChpEsaFGwJAjHbqf6Hp1L/Qs4nUbGMCQKijO3tbUu2/H5Ae1hLXBUCx8umZysL7P5qL9o2RWwJAXcx1+4HuBUCTnav52kQFQAq1I9VBoPw//LxbZqeT/T8xAPh2bKoBQE7gMY4mUAJA/G1Haw548r//k4zvU274P9ISdWWrDOS/qwW/y9Hb+D/9gmXmumwAQPvcl+46QwFAFANS7D4N8D+cykx7kXfwP7BwK+K3TAFAbs8GjPDd4z97e3vRZ6nePww2Bz0JzPs/9YpOp0WX/j86iwGunJjzP9wtmGP8uQFAO0rgBcEJ9j/mvEZcdlQAQGfVYvGmIOC/pIaptAOdCEDyjxc82N39P6ZX6blSFgZAnoQz02jTy7+ErJ7ULQj2P1deDIsYGMk/8qJ5E38M478dj3D8oEsKQEfnnpdu+/6//uBvSa2v8D+PbNCICjLBP/hlxKjW2Os/hFdFoJ5l8j/M3ExZtZn+P64EaZ8dMQBAahxzvgBU8z+HsmGj16HVv+6uXgDs+wBAIVSpOGjE5z+5B/ONDab3P2lIiGntr+u/tqPkDBkV+r//7KT/ihX7PwS9GEss6+q/5Tc2bjtb8z8ofuNGD1YCQAc+ZDOWXO8/mePRmQ67BEDd0YXTDZvwP7X8nBu3N/c/UBxS8u/Q+D9/ZROgu1T3P0VcU8U/AgZAGRMCtbqBDECInnE+0b4BQPEFEMPjbeq/8f2xAib9/D/DQlKW7Dz7P/DVMQeqBe4/I5Pz/AEUB0DrXyVigUarP2uvY1gkRvS/HOySb/VVt7+p8c2MOLP/P1XsX5foHtg/gTcSXKJ71D+KFczCCIH8P6fIPPK9dde/PtVKni8ZA0DuyHmX1IQHQH6TX04au9u/ozvyXxgM9z9ed+HpHuUAQLzb3ddKhQJAnhbGulYi+j/U3uEtKsYFQE7FgW9qAey/Co0O3x8X7r8uDb7sg9TGP+riS9ROvf8/QWzgHaUS/D9ahYCRz33+PzWBO43XUbI/r2+yh0BM/D88IlJbE8TlPxRft0okDAFAXQpSm1Ml/D8NiJ/crm0HQE91JODLffk/wmQrzJhs/T/dKzZSFDUHQLQinggctfs/tQY/j+rZA0CdOHe5baj/P0MAkiiLtwBA90KH+uo+B0A8bZhcq7n2P4SITlsn4eM/aGrMdKFcAkDKiiW2BGjhv0JAaB+ZowRA1TAK1UP39z/2VqawQVj1P9vEjmAlVALAE27mINTiAUAKVXdfj9j8P1aRfLxpZNi/iWQSa6Yy5r/QvF2Hr7IAQIoNUpC1EuE/mrSrY7E7AEAd68qambz1P9CvyamKUL4/WHTRvcY66b/t9hbqqZPwP2VWMaM4Tfg/0LRKaXM37j/CknbCMXj3P3zVlnFvsvI/m+w4+Bg0AkCvbSz4lpHdP+VZ5U+UJuq/QM5rMM0jCkAVAWQPO4b+P35lDGiv+PY/QX8g/8DX3r9BBJRUQyTkvwFH8lelSty/FBmmACPq8D+KsX8OfsPovxKe1xkOB/Q/Dw/JCIat8j9uPsGhq4sBwFcMcyNgT82/j8nTycZN3z+U4dUa53nTvyBe7ivYL+e/rSXMCGRC8T82G6LzTEflPyXw+0DqqNm/BENs/KL4uD9iOBYkzGvzv0UVqSmgCq6/zxCGSpLyAsC6qu3bPQvnP6NkpcNhZAPAAvvlOrwo4b8S/03ZuiXxP56yrpcV1fs/DXXNXuChuT8eYDuRyUruvy/zmdxagPs/OIKwG8AxAsD0TWFQOcgBwCK2FAkncfq/suUf10U58b9b89BvYNoAwD6qcHUAqPq/bPRZLDThA8Cfh7s81VnBvzRqMCPS2u+/0w62gvTF27+7KBceTmmhP8r12Qr6ZgjAbMPELNK4/D8GUGtVA7zsP9PGNX10Ft4/k3IvGqHo9T/FNtOjHZ3BPw8WosBgLfy/ov/gNXC6A8CSZSVlh+3zv7J9nYpilv+/UJ1K04mi9L8CUcMukID3vxO8Js8UQ/M/CbIgv8tL8L/j+12hBY3Ev/fGKqxsQ/m/Jc7FJO3e+D9ftkcfC+nLP/L1MAfBlOk/O4f+w3JH97+tV3R7rV/2v6fW1CxhHQDAlxOsaE1ABsAto1Kk2t0HwN9A/EgEWQFAV7JSzdin2b8klFvmJs/bP6ru0RnveuQ//JNZR0iG5b+2ljlJivV4P4kc3ph3ZwHA0sLYF2tC+7+Sq/d8dsDAP7ALGXqnKfM/gDFg4Wa29r9JutostA3nv50M878veQPAhwn2f2N877+wkmvPNUv8P8mVQjNxG/e/sAZFfL8X5r+oYsR/W9FjP++oPkbZ9Pi/Ozp2L/eIwL/OukI1xG7Vv+rv/WNTuArAUY1JF7I7B8DwncIBcWT6vzYFqfIfWPM/WwevPtcL3j+YZ9EYJzD1P+AMIkVDc/u/yjwR/LDXzz+GApey6ssAwF9143VJleK/dwGGSNCb1j98OiIJkkEHwH2AA0SQIuE/ALI3Yug84L/iqZqijDf4v5BXhczFgvY/VmmeHq7Z5j/Rx8ov37vgv1DbWX0st94/h19zyjuu9L/ppqryq5Hlv1uuVHl6bfa/eWXn50dCAcD5WPI8AUoFwDcFolfVwvc/v5ovAj4MBMC8HvBej9HuPzSL+qC9R74/60f3s1jK8b9GaXK/jT/ev4/xYlLxnsu/5nTjZagR4j+dU2gNjrwBwJGB5XG06v0/1FYjv/ghAcDdfhhKqLPxv7/dbVz2bf6/dYppVpIjAsAAa+pIv6QDwFtLlrzlVue/crRDqX4vAkCXqIKAWniIv3Nw/31Cc/8/RReSGGNKwj/imdRrgc/4P5930A8cv/8/APcug37f+L9wx1/XjM/5vxOgoRKKgv6/WL2VC30q/j9ZMIhCV6YDwOl5JoZlZfS/GisbuiPY9D/X8UrZk3ytP8mTR7cI1ek/BFGyeX6cAcCPHfYHn7D/P5nPrP6Ij/K/35jHNmMU878xHRqAr778v2lJm12xMvM/fUG6yd5sCsBi3eNBLDvmvzvxjQkqzuk/KPEvdvkH/7+AI4aQADLhv+0ZzzZ3tqy/ua/Kw3sn7L/vYlmkne76PwG8FOM/ueu/SeRilOjK6T9h+ms2r0DEP18uCpv9uQPAF29DJ4uKBMAPEr5PkTr+v/SJtnT6RwbAZGsTl6yj579HA0bWDb8BwND4n2QHAgfAe6pf+bdNB0CV3jPyYmYDwMSfn9Pch/K//+pVqzd/9D8FNRHydsrXP7DNerMiv+I/9VI3R8dX+L8KPddxLEz4P1cGg1WNNQHA0hIFGLZF478BsPaCLxMGwH1fbi3u9+W/Qf8U0fEG+r+ZlsgakWLVP42oKsI6nrs/N/woUaNk5D8+pBrKvKXtP34i45jU9+e/4cbBQ/r7BcDA1x2esT/wP2j3ieGU+f8/4WCUhkSR4z9zQDwp8vfUP73qUGo2ePu/nVsH+sv5/b98DosBqfqxvxHQYmYLY/W/PnIUaKryAsB87f65H973v3w7B7dzQPm/VKEoK7/r+z9Yby4LBDTxvxWtkAKCQv6/QbEgEG6LBUBULjd8Rfjxv8pbc7ZYawNA5eBDjk37/b/BVQZe+bbnv/DtGM8gcfm/RlZX+ybG/r/hWvm/UFL6v0Auwj3KRP2/bQ99IpC3679lGvt4P7bkP4yvcH0d/um/FtrXFcFc8L+l804SNjf1PwUHR+cUX9c/uguUgzdW5z/dByTAwcDtv+RRPW1zVQPAoE7jzmBC6L9pUAujzp72P3r4TpLZL/m/c6XdFS7C0b/gAhxxY+rnv6ud70VLUgXAmzoNZfJW9T9wFEXwwHMKwE4McWPvkwTAkyxhJlv+AcAbaDfa4Hbxv+Bdh/wFV/m/d+wo3vpwAcCAa2CdLOP2P8tx82GP8O8/IlUCmYA67L9MhLMO6677P1HOyqHVJwXABJXLdwYU+L8z8+tRa7zXP4TiSSXI6+U/DOr0XGUm9b8KlA7VvdQCwBZbu7noz8g/hoQp434m4r+GfXDeNJcFwI8lURcCp68/8hSk/l/u3795LI2rGzb3P3UUw9ON4ALA68PLZXDY8D+q/OaEg/X+vw6qPO1McwDAsfQQleQsAUBYcQ6u2PgFwInjjsCBwwDANmkBk3f/fj88waIORLz8v2E/eJ+caPE/a+E3V6iW2r/3DoAz9wzzv16l1WWoc+M/TMpQcG9L9z/+H+FXy7/hP6gUgoEdfwTAUXYJGQeg9b+HkXBM2snvv4eN1dt8ZrG/6nxsqq5e9b8yJGCykVztP+lIhVzZqOs/PZOSBkXn1L91RyxgXG/4v8ZVJTOqaQTAOy2s8nDd9z8heiogiznTv93dZQ+zEv2/rXON2ewK678wXAvKVmvgv4VK+zKMegLA7RBg3TM1/b96bvpPI2/vv5NlwlGCxv8/Recb0Pky+7/U+w2bbkf7v5tnrpiX490/xnOx0x+p8T/nFlW+vubAv54JL9xC4Oe/Sp61Je40/L9CGUC3wjQEwJbMRKc/SuG/jnhYQq5u9b8kmqQNxF7yP60C2NLicwHA+VACQa6d7j+V5Y5sRgIEwO9QTac6JMS/u84fOb+B8T8mWtTBb4P5P2k5DnwRQfG/37o2wBCf+787JuA9Yjb8v71twGRAatQ/HIPt+4OgAMDBOmSgzRPwP0aIbM4iVQBAOLBSMXgG1D/oNgwQxuYCwCQVF++Jk/w/Vr+pVNHJ2z+jc/VWPmvYv7E6hasvIQBAnHd38O3K+T8m01zGa/z4v21eCeP2hAHA",
          "dtype": "f8"
         },
         "xaxis": "x",
         "y": {
          "bdata": "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",
          "dtype": "f8"
         },
         "yaxis": "y"
        }
       ],
       "layout": {
        "legend": {
         "tracegroupgap": 0
        },
        "template": {
         "data": {
          "bar": [
           {
            "error_x": {
             "color": "#2a3f5f"
            },
            "error_y": {
             "color": "#2a3f5f"
            },
            "marker": {
             "line": {
              "color": "#E5ECF6",
              "width": 0.5
             },
             "pattern": {
              "fillmode": "overlay",
              "size": 10,
              "solidity": 0.2
             }
            },
            "type": "bar"
           }
          ],
          "barpolar": [
           {
            "marker": {
             "line": {
              "color": "#E5ECF6",
              "width": 0.5
             },
             "pattern": {
              "fillmode": "overlay",
              "size": 10,
              "solidity": 0.2
             }
            },
            "type": "barpolar"
           }
          ],
          "carpet": [
           {
            "aaxis": {
             "endlinecolor": "#2a3f5f",
             "gridcolor": "white",
             "linecolor": "white",
             "minorgridcolor": "white",
             "startlinecolor": "#2a3f5f"
            },
            "baxis": {
             "endlinecolor": "#2a3f5f",
             "gridcolor": "white",
             "linecolor": "white",
             "minorgridcolor": "white",
             "startlinecolor": "#2a3f5f"
            },
            "type": "carpet"
           }
          ],
          "choropleth": [
           {
            "colorbar": {
             "outlinewidth": 0,
             "ticks": ""
            },
            "type": "choropleth"
           }
          ],
          "contour": [
           {
            "colorbar": {
             "outlinewidth": 0,
             "ticks": ""
            },
            "colorscale": [
             [
              0,
              "#0d0887"
             ],
             [
              0.1111111111111111,
              "#46039f"
             ],
             [
              0.2222222222222222,
              "#7201a8"
             ],
             [
              0.3333333333333333,
              "#9c179e"
             ],
             [
              0.4444444444444444,
              "#bd3786"
             ],
             [
              0.5555555555555556,
              "#d8576b"
             ],
             [
              0.6666666666666666,
              "#ed7953"
             ],
             [
              0.7777777777777778,
              "#fb9f3a"
             ],
             [
              0.8888888888888888,
              "#fdca26"
             ],
             [
              1,
              "#f0f921"
             ]
            ],
            "type": "contour"
           }
          ],
          "contourcarpet": [
           {
            "colorbar": {
             "outlinewidth": 0,
             "ticks": ""
            },
            "type": "contourcarpet"
           }
          ],
          "heatmap": [
           {
            "colorbar": {
             "outlinewidth": 0,
             "ticks": ""
            },
            "colorscale": [
             [
              0,
              "#0d0887"
             ],
             [
              0.1111111111111111,
              "#46039f"
             ],
             [
              0.2222222222222222,
              "#7201a8"
             ],
             [
              0.3333333333333333,
              "#9c179e"
             ],
             [
              0.4444444444444444,
              "#bd3786"
             ],
             [
              0.5555555555555556,
              "#d8576b"
             ],
             [
              0.6666666666666666,
              "#ed7953"
             ],
             [
              0.7777777777777778,
              "#fb9f3a"
             ],
             [
              0.8888888888888888,
              "#fdca26"
             ],
             [
              1,
              "#f0f921"
             ]
            ],
            "type": "heatmap"
           }
          ],
          "histogram": [
           {
            "marker": {
             "pattern": {
              "fillmode": "overlay",
              "size": 10,
              "solidity": 0.2
             }
            },
            "type": "histogram"
           }
          ],
          "histogram2d": [
           {
            "colorbar": {
             "outlinewidth": 0,
             "ticks": ""
            },
            "colorscale": [
             [
              0,
              "#0d0887"
             ],
             [
              0.1111111111111111,
              "#46039f"
             ],
             [
              0.2222222222222222,
              "#7201a8"
             ],
             [
              0.3333333333333333,
              "#9c179e"
             ],
             [
              0.4444444444444444,
              "#bd3786"
             ],
             [
              0.5555555555555556,
              "#d8576b"
             ],
             [
              0.6666666666666666,
              "#ed7953"
             ],
             [
              0.7777777777777778,
              "#fb9f3a"
             ],
             [
              0.8888888888888888,
              "#fdca26"
             ],
             [
              1,
              "#f0f921"
             ]
            ],
            "type": "histogram2d"
           }
          ],
          "histogram2dcontour": [
           {
            "colorbar": {
             "outlinewidth": 0,
             "ticks": ""
            },
            "colorscale": [
             [
              0,
              "#0d0887"
             ],
             [
              0.1111111111111111,
              "#46039f"
             ],
             [
              0.2222222222222222,
              "#7201a8"
             ],
             [
              0.3333333333333333,
              "#9c179e"
             ],
             [
              0.4444444444444444,
              "#bd3786"
             ],
             [
              0.5555555555555556,
              "#d8576b"
             ],
             [
              0.6666666666666666,
              "#ed7953"
             ],
             [
              0.7777777777777778,
              "#fb9f3a"
             ],
             [
              0.8888888888888888,
              "#fdca26"
             ],
             [
              1,
              "#f0f921"
             ]
            ],
            "type": "histogram2dcontour"
           }
          ],
          "mesh3d": [
           {
            "colorbar": {
             "outlinewidth": 0,
             "ticks": ""
            },
            "type": "mesh3d"
           }
          ],
          "parcoords": [
           {
            "line": {
             "colorbar": {
              "outlinewidth": 0,
              "ticks": ""
             }
            },
            "type": "parcoords"
           }
          ],
          "pie": [
           {
            "automargin": true,
            "type": "pie"
           }
          ],
          "scatter": [
           {
            "fillpattern": {
             "fillmode": "overlay",
             "size": 10,
             "solidity": 0.2
            },
            "type": "scatter"
           }
          ],
          "scatter3d": [
           {
            "line": {
             "colorbar": {
              "outlinewidth": 0,
              "ticks": ""
             }
            },
            "marker": {
             "colorbar": {
              "outlinewidth": 0,
              "ticks": ""
             }
            },
            "type": "scatter3d"
           }
          ],
          "scattercarpet": [
           {
            "marker": {
             "colorbar": {
              "outlinewidth": 0,
              "ticks": ""
             }
            },
            "type": "scattercarpet"
           }
          ],
          "scattergeo": [
           {
            "marker": {
             "colorbar": {
              "outlinewidth": 0,
              "ticks": ""
             }
            },
            "type": "scattergeo"
           }
          ],
          "scattergl": [
           {
            "marker": {
             "colorbar": {
              "outlinewidth": 0,
              "ticks": ""
             }
            },
            "type": "scattergl"
           }
          ],
          "scattermap": [
           {
            "marker": {
             "colorbar": {
              "outlinewidth": 0,
              "ticks": ""
             }
            },
            "type": "scattermap"
           }
          ],
          "scattermapbox": [
           {
            "marker": {
             "colorbar": {
              "outlinewidth": 0,
              "ticks": ""
             }
            },
            "type": "scattermapbox"
           }
          ],
          "scatterpolar": [
           {
            "marker": {
             "colorbar": {
              "outlinewidth": 0,
              "ticks": ""
             }
            },
            "type": "scatterpolar"
           }
          ],
          "scatterpolargl": [
           {
            "marker": {
             "colorbar": {
              "outlinewidth": 0,
              "ticks": ""
             }
            },
            "type": "scatterpolargl"
           }
          ],
          "scatterternary": [
           {
            "marker": {
             "colorbar": {
              "outlinewidth": 0,
              "ticks": ""
             }
            },
            "type": "scatterternary"
           }
          ],
          "surface": [
           {
            "colorbar": {
             "outlinewidth": 0,
             "ticks": ""
            },
            "colorscale": [
             [
              0,
              "#0d0887"
             ],
             [
              0.1111111111111111,
              "#46039f"
             ],
             [
              0.2222222222222222,
              "#7201a8"
             ],
             [
              0.3333333333333333,
              "#9c179e"
             ],
             [
              0.4444444444444444,
              "#bd3786"
             ],
             [
              0.5555555555555556,
              "#d8576b"
             ],
             [
              0.6666666666666666,
              "#ed7953"
             ],
             [
              0.7777777777777778,
              "#fb9f3a"
             ],
             [
              0.8888888888888888,
              "#fdca26"
             ],
             [
              1,
              "#f0f921"
             ]
            ],
            "type": "surface"
           }
          ],
          "table": [
           {
            "cells": {
             "fill": {
              "color": "#EBF0F8"
             },
             "line": {
              "color": "white"
             }
            },
            "header": {
             "fill": {
              "color": "#C8D4E3"
             },
             "line": {
              "color": "white"
             }
            },
            "type": "table"
           }
          ]
         },
         "layout": {
          "annotationdefaults": {
           "arrowcolor": "#2a3f5f",
           "arrowhead": 0,
           "arrowwidth": 1
          },
          "autotypenumbers": "strict",
          "coloraxis": {
           "colorbar": {
            "outlinewidth": 0,
            "ticks": ""
           }
          },
          "colorscale": {
           "diverging": [
            [
             0,
             "#8e0152"
            ],
            [
             0.1,
             "#c51b7d"
            ],
            [
             0.2,
             "#de77ae"
            ],
            [
             0.3,
             "#f1b6da"
            ],
            [
             0.4,
             "#fde0ef"
            ],
            [
             0.5,
             "#f7f7f7"
            ],
            [
             0.6,
             "#e6f5d0"
            ],
            [
             0.7,
             "#b8e186"
            ],
            [
             0.8,
             "#7fbc41"
            ],
            [
             0.9,
             "#4d9221"
            ],
            [
             1,
             "#276419"
            ]
           ],
           "sequential": [
            [
             0,
             "#0d0887"
            ],
            [
             0.1111111111111111,
             "#46039f"
            ],
            [
             0.2222222222222222,
             "#7201a8"
            ],
            [
             0.3333333333333333,
             "#9c179e"
            ],
            [
             0.4444444444444444,
             "#bd3786"
            ],
            [
             0.5555555555555556,
             "#d8576b"
            ],
            [
             0.6666666666666666,
             "#ed7953"
            ],
            [
             0.7777777777777778,
             "#fb9f3a"
            ],
            [
             0.8888888888888888,
             "#fdca26"
            ],
            [
             1,
             "#f0f921"
            ]
           ],
           "sequentialminus": [
            [
             0,
             "#0d0887"
            ],
            [
             0.1111111111111111,
             "#46039f"
            ],
            [
             0.2222222222222222,
             "#7201a8"
            ],
            [
             0.3333333333333333,
             "#9c179e"
            ],
            [
             0.4444444444444444,
             "#bd3786"
            ],
            [
             0.5555555555555556,
             "#d8576b"
            ],
            [
             0.6666666666666666,
             "#ed7953"
            ],
            [
             0.7777777777777778,
             "#fb9f3a"
            ],
            [
             0.8888888888888888,
             "#fdca26"
            ],
            [
             1,
             "#f0f921"
            ]
           ]
          },
          "colorway": [
           "#636efa",
           "#EF553B",
           "#00cc96",
           "#ab63fa",
           "#FFA15A",
           "#19d3f3",
           "#FF6692",
           "#B6E880",
           "#FF97FF",
           "#FECB52"
          ],
          "font": {
           "color": "#2a3f5f"
          },
          "geo": {
           "bgcolor": "white",
           "lakecolor": "white",
           "landcolor": "#E5ECF6",
           "showlakes": true,
           "showland": true,
           "subunitcolor": "white"
          },
          "hoverlabel": {
           "align": "left"
          },
          "hovermode": "closest",
          "mapbox": {
           "style": "light"
          },
          "paper_bgcolor": "white",
          "plot_bgcolor": "#E5ECF6",
          "polar": {
           "angularaxis": {
            "gridcolor": "white",
            "linecolor": "white",
            "ticks": ""
           },
           "bgcolor": "#E5ECF6",
           "radialaxis": {
            "gridcolor": "white",
            "linecolor": "white",
            "ticks": ""
           }
          },
          "scene": {
           "xaxis": {
            "backgroundcolor": "#E5ECF6",
            "gridcolor": "white",
            "gridwidth": 2,
            "linecolor": "white",
            "showbackground": true,
            "ticks": "",
            "zerolinecolor": "white"
           },
           "yaxis": {
            "backgroundcolor": "#E5ECF6",
            "gridcolor": "white",
            "gridwidth": 2,
            "linecolor": "white",
            "showbackground": true,
            "ticks": "",
            "zerolinecolor": "white"
           },
           "zaxis": {
            "backgroundcolor": "#E5ECF6",
            "gridcolor": "white",
            "gridwidth": 2,
            "linecolor": "white",
            "showbackground": true,
            "ticks": "",
            "zerolinecolor": "white"
           }
          },
          "shapedefaults": {
           "line": {
            "color": "#2a3f5f"
           }
          },
          "ternary": {
           "aaxis": {
            "gridcolor": "white",
            "linecolor": "white",
            "ticks": ""
           },
           "baxis": {
            "gridcolor": "white",
            "linecolor": "white",
            "ticks": ""
           },
           "bgcolor": "#E5ECF6",
           "caxis": {
            "gridcolor": "white",
            "linecolor": "white",
            "ticks": ""
           }
          },
          "title": {
           "x": 0.05
          },
          "xaxis": {
           "automargin": true,
           "gridcolor": "white",
           "linecolor": "white",
           "ticks": "",
           "title": {
            "standoff": 15
           },
           "zerolinecolor": "white",
           "zerolinewidth": 2
          },
          "yaxis": {
           "automargin": true,
           "gridcolor": "white",
           "linecolor": "white",
           "ticks": "",
           "title": {
            "standoff": 15
           },
           "zerolinecolor": "white",
           "zerolinewidth": 2
          }
         }
        },
        "title": {
         "text": "PCA-Visualisierung der Daten"
        },
        "xaxis": {
         "anchor": "y",
         "domain": [
          0,
          1
         ],
         "title": {
          "text": "PC1"
         }
        },
        "yaxis": {
         "anchor": "x",
         "domain": [
          0,
          1
         ],
         "title": {
          "text": "PC2"
         }
        }
       }
      }
     },
     "metadata": {},
     "output_type": "display_data"
    }
   ],
   "source": [
    "# Skalierung der Daten\n",
    "scaler = StandardScaler()\n",
    "data_scaled = scaler.fit_transform(data)\n",
    "\n",
    "# PCA-Transformation mit zwei Hauptkomponenten\n",
    "pca = PCA(n_components=2)\n",
    "pca_result = pca.fit_transform(data_scaled)\n",
    "df_pca = pd.DataFrame(pca_result, columns=['PC1', 'PC2'])\n",
    "\n",
    "# Interaktive Visualisierung\n",
    "fig = px.scatter(df_pca, x='PC1', y='PC2', title='PCA-Visualisierung der Daten', opacity=0.5)\n",
    "fig.show()"
   ]
  },
  {
   "cell_type": "markdown",
   "metadata": {},
   "source": [
    "### Lässt sich aus den PCA-Daten eine potentielle gute Separierbarkeit der Klassen ablesen? \n",
    "TODO\n",
    "--> Ich würde sagen nein, lass aber mal drüber quatschen "
   ]
  },
  {
   "cell_type": "markdown",
   "metadata": {},
   "source": [
    "## 3. Anwendung verschiedener vorgestellter Klassifikationsverfahren"
   ]
  },
  {
   "cell_type": "markdown",
   "metadata": {},
   "source": [
    "### 3.1 logistische Regression "
   ]
  },
  {
   "cell_type": "markdown",
   "metadata": {},
   "source": [
    "#### Definition und Datenvorbereitung"
   ]
  },
  {
   "cell_type": "code",
   "execution_count": null,
   "metadata": {},
   "outputs": [],
   "source": [
    "# Kategorische und numerische Spalten definieren\n",
    "categorical_features = [\"Geschlecht\", \"EKG\", \"AP\"]\n",
    "numerical_features = [\"Alter\", \"Blutdruck\", \"Chol\", \"Blutzucker\", \"HFmax\", \"RZ\"]\n",
    "\n",
    "# Zielvariable und Features auswählen\n",
    "X = data[categorical_features + numerical_features]\n",
    "y = data[\"KHK\"]\n",
    "\n",
    "# One-Hot-Encoding für kategoriale Variablen, Standardisierung für numerische\n",
    "preprocessor = ColumnTransformer([\n",
    "    (\"num\", StandardScaler(), numerical_features),\n",
    "    (\"cat\", OneHotEncoder(drop=\"first\"), categorical_features)\n",
    "])"
   ]
  },
  {
   "cell_type": "markdown",
   "metadata": {},
   "source": [
    "#### Modell definieren und trainieren"
   ]
  },
  {
   "cell_type": "code",
   "execution_count": null,
   "metadata": {},
   "outputs": [],
   "source": [
    "# Logistic Regression für binäre Klassifikation\n",
    "\n",
    "# Pipeline mit Vorverarbeitung und logistische Regression\n",
    "model = Pipeline([\n",
    "    (\"preprocessor\", preprocessor),\n",
    "    (\"classifier\", LogisticRegression())\n",
    "])\n",
    "\n",
    "# Train-Test-Split\n",
    "X_train, X_test, y_train, y_test = train_test_split(X, y, test_size=0.2, random_state=42)\n",
    "\n",
    "# Modell trainieren\n",
    "model.fit(X_train, y_train)"
   ]
  },
  {
   "cell_type": "markdown",
   "metadata": {},
   "source": [
    "#### Modell testen"
   ]
  },
  {
   "cell_type": "code",
   "execution_count": null,
   "metadata": {},
   "outputs": [
    {
     "name": "stdout",
     "output_type": "stream",
     "text": [
      "Accuracy: 0.76\n",
      "              precision    recall  f1-score   support\n",
      "\n",
      "           0       0.69      0.77      0.73        77\n",
      "           1       0.82      0.76      0.79       107\n",
      "\n",
      "    accuracy                           0.76       184\n",
      "   macro avg       0.76      0.76      0.76       184\n",
      "weighted avg       0.77      0.76      0.76       184\n",
      "\n"
     ]
    }
   ],
   "source": [
    "# Vorhersagen treffen\n",
    "y_pred = model.predict(X_test)\n",
    "\n",
    "# Evaluierung\n",
    "accuracy = accuracy_score(y_test, y_pred)\n",
    "classification_rep = classification_report(y_test, y_pred)\n",
    "\n",
    "print(f\"Accuracy: {accuracy:.2f}\")\n",
    "print(classification_rep)"
   ]
  }
 ],
 "metadata": {
  "kernelspec": {
   "display_name": "ML",
   "language": "python",
   "name": "python3"
  },
  "language_info": {
   "codemirror_mode": {
    "name": "ipython",
    "version": 3
   },
   "file_extension": ".py",
   "mimetype": "text/x-python",
   "name": "python",
   "nbconvert_exporter": "python",
   "pygments_lexer": "ipython3",
   "version": "3.12.9"
  }
 },
 "nbformat": 4,
 "nbformat_minor": 2
}
